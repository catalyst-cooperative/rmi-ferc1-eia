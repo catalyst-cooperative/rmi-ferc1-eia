{
 "cells": [
  {
   "cell_type": "markdown",
   "metadata": {},
   "source": [
    "### Explore Overrides of EIA to FERC1 Connections"
   ]
  },
  {
   "cell_type": "code",
   "execution_count": null,
   "metadata": {},
   "outputs": [],
   "source": [
    "%load_ext autoreload\n",
    "%autoreload 2"
   ]
  },
  {
   "cell_type": "code",
   "execution_count": null,
   "metadata": {},
   "outputs": [],
   "source": [
    "import pandas as pd\n",
    "import numpy as np\n",
    "import pudl\n",
    "import pudl.constants as pc\n",
    "import sqlalchemy as sa\n",
    "import logging\n",
    "import sys\n",
    "import copy\n",
    "import pathlib\n",
    "pd.options.display.max_columns = None\n",
    "\n",
    "sys.path.append(\"../\")\n",
    "import connect_deprish_to_eia\n",
    "import make_plant_parts_eia\n",
    "import connect_deprish_to_ferc1"
   ]
  },
  {
   "cell_type": "code",
   "execution_count": null,
   "metadata": {},
   "outputs": [],
   "source": [
    "logger = logging.getLogger()\n",
    "logger.setLevel(logging.INFO)\n",
    "handler = logging.StreamHandler(stream=sys.stdout)\n",
    "formatter = logging.Formatter('%(message)s')\n",
    "handler.setFormatter(formatter)\n",
    "logger.handlers = [handler]"
   ]
  },
  {
   "cell_type": "code",
   "execution_count": null,
   "metadata": {},
   "outputs": [],
   "source": [
    "%%time\n",
    "file_path_mul = pathlib.Path().cwd().parent /'outputs' /'master_unit_list.pkl.gz'\n",
    "file_path_steam_ferc1 = pathlib.Path().cwd().parent / 'outputs' /'steam_ferc1.pkl.gz'\n",
    "file_path_ferc1_eia = pathlib.Path().cwd().parent / 'outputs' /'ferc1_to_eia.pkl.gz'\n",
    "file_path_deprish_eia = pathlib.Path().cwd().parent / 'outputs' /'deprish_to_eia.pkl.gz'\n",
    "\n",
    "inputs = connect_deprish_to_ferc1.InputsCompiler(\n",
    "    file_path_mul=file_path_mul,\n",
    "    file_path_steam_ferc1=file_path_steam_ferc1,\n",
    "    file_path_ferc1_eia=file_path_ferc1_eia,\n",
    "    file_path_deprish_eia=file_path_deprish_eia\n",
    ")\n",
    "\n",
    "inputs.prep_inputs()"
   ]
  },
  {
   "cell_type": "code",
   "execution_count": null,
   "metadata": {},
   "outputs": [],
   "source": [
    "# id to explore below\n",
    "plant_id_pudl = 517\n",
    "years = [2018]"
   ]
  },
  {
   "cell_type": "code",
   "execution_count": null,
   "metadata": {},
   "outputs": [],
   "source": [
    "plant_parts_eia = inputs.plant_parts_eia\n",
    "plant_parts_eia[(plant_parts_eia.plant_id_pudl == plant_id_pudl)\n",
    "                & (plant_parts_eia.report_year.isin(years))\n",
    "                #& (plant_parts_eia.plant_part.isin(['plant','plant_prime_mover']))\n",
    "                #& (plant_parts_eia.utility_id_pudl == 89)\n",
    "                #& (plant_parts_eia.plant_part.isin(['plant']))\n",
    "                #& (plant_parts_eia.utility_id_pudl ==31)\n",
    "                & (plant_parts_eia.true_gran)\n",
    "               ].sort_values('plant_part')"
   ]
  },
  {
   "cell_type": "code",
   "execution_count": null,
   "metadata": {},
   "outputs": [],
   "source": [
    "df = inputs.connects_ferc1_eia\n",
    "df[(df.plant_id_pudl == plant_id_pudl)\n",
    "   & (df.report_date.dt.year.isin(years))\n",
    "  ]"
   ]
  },
  {
   "cell_type": "code",
   "execution_count": null,
   "metadata": {},
   "outputs": [],
   "source": [
    "steam_df = inputs.steam_cleaned_ferc1\n",
    "steam_df[(steam_df.plant_id_pudl == plant_id_pudl)\n",
    "         & (steam_df.report_date.dt.year.isin(years))\n",
    "        ]"
   ]
  }
 ],
 "metadata": {
  "kernelspec": {
   "display_name": "Python 3",
   "language": "python",
   "name": "python3"
  },
  "language_info": {
   "codemirror_mode": {
    "name": "ipython",
    "version": 3
   },
   "file_extension": ".py",
   "mimetype": "text/x-python",
   "name": "python",
   "nbconvert_exporter": "python",
   "pygments_lexer": "ipython3",
   "version": "3.8.6"
  }
 },
 "nbformat": 4,
 "nbformat_minor": 4
}
