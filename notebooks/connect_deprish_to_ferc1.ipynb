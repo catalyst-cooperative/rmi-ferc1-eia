{
 "cells": [
  {
   "cell_type": "markdown",
   "metadata": {},
   "source": [
    "# Depreciation to FERC 1 Connection"
   ]
  },
  {
   "cell_type": "markdown",
   "metadata": {},
   "source": [
    "This stage in the connection process is very much under constuction"
   ]
  },
  {
   "cell_type": "code",
   "execution_count": null,
   "metadata": {},
   "outputs": [],
   "source": [
    "%load_ext autoreload\n",
    "%autoreload 2"
   ]
  },
  {
   "cell_type": "code",
   "execution_count": null,
   "metadata": {},
   "outputs": [],
   "source": [
    "import pandas as pd\n",
    "import numpy as np\n",
    "import pudl\n",
    "import pudl.constants as pc\n",
    "import sqlalchemy as sa\n",
    "import logging\n",
    "import sys\n",
    "import copy\n",
    "import pathlib\n",
    "import random\n",
    "import warnings\n",
    "from copy import deepcopy\n",
    "\n",
    "import pudl_rmi.connect_deprish_to_eia\n",
    "import pudl_rmi.make_plant_parts_eia\n",
    "import pudl_rmi.connect_deprish_to_ferc1\n",
    "import pudl_rmi.deprish\n",
    "import pudl_rmi.coordinate"
   ]
  },
  {
   "cell_type": "code",
   "execution_count": null,
   "metadata": {},
   "outputs": [],
   "source": [
    "logger = logging.getLogger()\n",
    "logger.setLevel(logging.INFO)\n",
    "handler = logging.StreamHandler(stream=sys.stdout)\n",
    "formatter = logging.Formatter('%(message)s')\n",
    "handler.setFormatter(formatter)\n",
    "logger.handlers = [handler]\n",
    "pd.options.display.max_columns = None\n",
    "pd.options.display.max_rows = 100"
   ]
  },
  {
   "cell_type": "markdown",
   "metadata": {
    "tags": []
   },
   "source": [
    "### Prepare the inputs"
   ]
  },
  {
   "cell_type": "code",
   "execution_count": null,
   "metadata": {},
   "outputs": [],
   "source": [
    "file_path_mul = pathlib.Path().cwd().parent / 'outputs'/ 'master_unit_list.pkl.gz'\n",
    "file_path_ferc1_eia = pathlib.Path().cwd().parent / 'outputs' /'ferc1_to_eia.pkl.gz'\n",
    "file_path_deprish_eia = pathlib.Path().cwd().parent / 'outputs' /'deprish_to_eia.pkl.gz'\n",
    "file_path_deprish = pathlib.Path().cwd().parent/'inputs'/'depreciation_rmi.xlsx'\n",
    "file_path_deprish_ferc1 = pathlib.Path().cwd().parent / 'outputs' /'deprish_to_ferc1.pkl.gz'\n",
    "file_path_training = pathlib.Path().cwd().parent /'inputs'/'train_ferc1_to_eia.csv'\n",
    "# pudl output object\n",
    "pudl_settings = pudl.workspace.setup.get_defaults()\n",
    "pudl_engine = sa.create_engine(pudl_settings[\"pudl_db\"])\n",
    "pudl_out = pudl.output.pudltabl.PudlTabl(\n",
    "    pudl_engine,freq='AS',\n",
    "    fill_fuel_cost=True,\n",
    "    roll_fuel_cost=True,\n",
    "    fill_net_gen=False\n",
    ")"
   ]
  },
  {
   "cell_type": "code",
   "execution_count": null,
   "metadata": {},
   "outputs": [],
   "source": [
    "rmi_out = pudl_rmi.coordinate.Output(\n",
    "    pudl_out,\n",
    "    file_path_mul,\n",
    "    file_path_deprish,\n",
    "    file_path_deprish_eia,\n",
    "    file_path_training,\n",
    "    file_path_ferc1_eia,\n",
    "    file_path_deprish_ferc1,\n",
    ")"
   ]
  },
  {
   "cell_type": "code",
   "execution_count": null,
   "metadata": {},
   "outputs": [],
   "source": [
    "clobber=False\n",
    "plant_parts_eia = rmi_out.get_plant_part_list()\n",
    "deprish_eia = rmi_out.get_deprish_to_eia()\n",
    "ferc1_to_eia=rmi_out.get_ferc1_to_eia()"
   ]
  },
  {
   "cell_type": "code",
   "execution_count": null,
   "metadata": {},
   "outputs": [],
   "source": [
    "inputs = InputsManager(\n",
    "    plant_parts_eia=plant_parts_eia,\n",
    "    deprish_eia=deprish_eia,\n",
    "    ferc1_to_eia=ferc1_to_eia,\n",
    "    clobber=clobber\n",
    ")\n",
    "\n",
    "scaler = Scaler(MatchMaker(inputs))\n",
    "scaled_df = scaler.scale()"
   ]
  },
  {
   "cell_type": "markdown",
   "metadata": {
    "jp-MarkdownHeadingCollapsed": true,
    "tags": []
   },
   "source": [
    "### Make Output in RMI Format"
   ]
  },
  {
   "cell_type": "code",
   "execution_count": null,
   "metadata": {
    "tags": []
   },
   "outputs": [],
   "source": [
    "file_path_deprish = pathlib.Path().cwd().parent/ 'inputs'/'depreciation_rmi.xlsx'\n",
    "sheet_name_deprish='Depreciation Studies Raw'\n",
    "transformer = pudl_rmi.deprish.Transformer(\n",
    "    pudl_rmi.deprish.Extractor(\n",
    "        file_path=file_path_deprish,\n",
    "        sheet_name=sheet_name_deprish\n",
    "    ).execute())\n",
    "deprish_df = transformer.execute()\n",
    "deprish_asset_df = pudl_rmi.deprish.agg_to_idx(\n",
    "    deprish_df,\n",
    "    idx_cols=[x for x in pudl_rmi.deprish.IDX_COLS_DEPRISH if x not in ['ferc_acct', 'note']])"
   ]
  },
  {
   "cell_type": "code",
   "execution_count": null,
   "metadata": {},
   "outputs": [],
   "source": [
    "connected_deprish = pudl_rmi.connect_deprish_to_ferc1.rmi_output_ify(scaled_df, deprish_df)"
   ]
  },
  {
   "cell_type": "markdown",
   "metadata": {},
   "source": [
    "### Export to output tables"
   ]
  },
  {
   "cell_type": "code",
   "execution_count": null,
   "metadata": {},
   "outputs": [],
   "source": [
    "file_path_dc = pathlib.Path().cwd().parent /'outputs' /'deprish_w_common.csv.gz'\n",
    "deprish_df.to_csv(file_path_dc)"
   ]
  },
  {
   "cell_type": "code",
   "execution_count": null,
   "metadata": {},
   "outputs": [],
   "source": [
    "file_path_cd = pathlib.Path().cwd().parent /'outputs' /'deprish_to_ferc.csv.gz'\n",
    "connected_deprish.to_csv(file_path_cd)"
   ]
  },
  {
   "cell_type": "code",
   "execution_count": null,
   "metadata": {},
   "outputs": [],
   "source": [
    "file_path_da = pathlib.Path().cwd().parent /'outputs' /'deprish_w_common_by_asset.csv.gz'\n",
    "deprish_asset_df.to_csv(file_path_da)"
   ]
  },
  {
   "cell_type": "code",
   "execution_count": null,
   "metadata": {},
   "outputs": [],
   "source": [
    "file_path_scaled = pathlib.Path().cwd().parent /'outputs' /'ferc_to_deprish_scaled.csv.gz'\n",
    "scaled_df.to_csv(file_path_scaled)"
   ]
  },
  {
   "cell_type": "code",
   "execution_count": null,
   "metadata": {},
   "outputs": [],
   "source": []
  }
 ],
 "metadata": {
  "kernelspec": {
   "display_name": "Python 3 (ipykernel)",
   "language": "python",
   "name": "python3"
  },
  "language_info": {
   "codemirror_mode": {
    "name": "ipython",
    "version": 3
   },
   "file_extension": ".py",
   "mimetype": "text/x-python",
   "name": "python",
   "nbconvert_exporter": "python",
   "pygments_lexer": "ipython3",
   "version": "3.9.7"
  }
 },
 "nbformat": 4,
 "nbformat_minor": 4
}
