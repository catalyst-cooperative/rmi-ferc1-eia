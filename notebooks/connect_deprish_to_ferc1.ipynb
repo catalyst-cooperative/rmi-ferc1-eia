{
 "cells": [
  {
   "cell_type": "markdown",
   "metadata": {},
   "source": [
    "# Depreciation to FERC 1 Connection"
   ]
  },
  {
   "cell_type": "code",
   "execution_count": null,
   "metadata": {},
   "outputs": [],
   "source": [
    "%load_ext autoreload\n",
    "%autoreload 2"
   ]
  },
  {
   "cell_type": "code",
   "execution_count": null,
   "metadata": {},
   "outputs": [],
   "source": [
    "import pandas as pd\n",
    "import numpy as np\n",
    "import pudl\n",
    "import pudl.constants as pc\n",
    "import sqlalchemy as sa\n",
    "import logging\n",
    "import sys\n",
    "import copy\n",
    "import pathlib\n",
    "import random\n",
    "import warnings\n",
    "from copy import deepcopy\n",
    "\n",
    "sys.path.append(\"../\")\n",
    "import connect_deprish_to_eia\n",
    "import make_plant_parts_eia\n",
    "import connect_deprish_to_ferc1"
   ]
  },
  {
   "cell_type": "code",
   "execution_count": null,
   "metadata": {},
   "outputs": [],
   "source": [
    "logger = logging.getLogger()\n",
    "logger.setLevel(logging.INFO)\n",
    "handler = logging.StreamHandler(stream=sys.stdout)\n",
    "formatter = logging.Formatter('%(message)s')\n",
    "handler.setFormatter(formatter)\n",
    "logger.handlers = [handler]\n",
    "pd.options.display.max_columns = None\n",
    "pd.options.display.max_rows = 100"
   ]
  },
  {
   "cell_type": "markdown",
   "metadata": {},
   "source": [
    "### Prepare the inputs"
   ]
  },
  {
   "cell_type": "code",
   "execution_count": null,
   "metadata": {},
   "outputs": [],
   "source": [
    "file_path_mul = pathlib.Path().cwd().parent / 'master_unit_list.pkl.gz'\n",
    "file_path_steam_ferc1 = pathlib.Path().cwd().parent / 'steam_ferc1.pkl.gz'\n",
    "file_path_ferc1_eia = pathlib.Path().cwd().parent / 'ferc1_to_eia.pkl.gz'\n",
    "file_path_deprish_eia = pathlib.Path().cwd().parent / 'deprish_to_eia.pkl.gz'"
   ]
  },
  {
   "cell_type": "code",
   "execution_count": null,
   "metadata": {},
   "outputs": [],
   "source": [
    "%%time\n",
    "inputs = connect_deprish_to_ferc1.InputsCompiler(\n",
    "    file_path_mul=file_path_mul,\n",
    "    file_path_steam_ferc1=file_path_steam_ferc1,\n",
    "    file_path_ferc1_eia=file_path_ferc1_eia,\n",
    "    file_path_deprish_eia=file_path_deprish_eia\n",
    ")"
   ]
  },
  {
   "cell_type": "markdown",
   "metadata": {},
   "source": [
    "### Generate the options and connections!"
   ]
  },
  {
   "cell_type": "code",
   "execution_count": null,
   "metadata": {},
   "outputs": [],
   "source": [
    "match_maker = connect_deprish_to_ferc1.MatchMaker(inputs)\n",
    "matches_df = match_maker.match()"
   ]
  },
  {
   "cell_type": "code",
   "execution_count": null,
   "metadata": {},
   "outputs": [],
   "source": [
    "scaler = connect_deprish_to_ferc1.Scaler(match_maker)\n",
    "scaled_df = scaler.scale()\n",
    "# this should be true\n",
    "len(scaled_df) == len(scaler.matches_df)"
   ]
  },
  {
   "cell_type": "code",
   "execution_count": null,
   "metadata": {},
   "outputs": [],
   "source": [
    "same_smol = scaler.split_ferc1_data_cols()\n",
    "same_beeg = scaler.agg_ferc_data_cols()\n",
    "\n",
    "first_cols = ['plant_part_deprish', 'plant_part_ferc1',\n",
    "              'record_id_eia_deprish', 'record_id_eia_ferc1',\n",
    "              'plant_name', 'plant_name_match', 'plant_name_ferc1', 'plant_name_new_ferc1',\n",
    "              'fraction_owned_deprish', 'fraction_owned_ferc1',\n",
    "              'record_count_deprish', 'record_count_ferc1',\n",
    "              'record_count_matches_deprish'\n",
    "              ]\n",
    "def reorder_cols(df, first_cols):\n",
    "    # reorder cols so they are easier to see, maybe remove later\n",
    "    df = df[\n",
    "        [x for x in first_cols if x in df.columns] \n",
    "        + [x for x in df.columns if x not in first_cols]]\n",
    "    return df\n",
    "matches_df = reorder_cols(matches_df, first_cols)\n",
    "same_smol = reorder_cols(same_smol, first_cols)\n",
    "same_beeg = reorder_cols(same_beeg, first_cols)"
   ]
  },
  {
   "cell_type": "code",
   "execution_count": null,
   "metadata": {},
   "outputs": [],
   "source": [
    "bad_ids = [309,660,596,414]\n",
    "idk_ids = [105,658, 646]\n",
    "same_smol[(same_smol.record_count_deprish > same_smol.record_count_matches_deprish)\n",
    "          #& (same_smol.plant_id_pudl == plant_id_pudl)\n",
    "          & (~same_smol.plant_id_pudl.isin(bad_ids + idk_ids))\n",
    "          & (same_smol.report_date.dt.year > 2015)\n",
    "         ].sort_values(by='record_id_eia_deprish')#.plant_id_pudl"
   ]
  },
  {
   "cell_type": "code",
   "execution_count": null,
   "metadata": {},
   "outputs": [],
   "source": [
    "plant_id_pudl = 381\n",
    "year = 2017\n",
    "df = matches_df\n",
    "(df[(df.plant_id_pudl == plant_id_pudl)\n",
    "    #& (df.report_date.dt.year == year)\n",
    "   ]\n",
    " .set_index(['record_id_eia_deprish','record_id_eia_ferc1'])\n",
    " #.filter(like='capacity_mw')\n",
    ")"
   ]
  },
  {
   "cell_type": "code",
   "execution_count": null,
   "metadata": {},
   "outputs": [],
   "source": [
    "df = inputs.plant_parts_eia\n",
    "(df[(df.plant_id_pudl == plant_id_pudl)\n",
    "   & (df.report_date.dt.year == year)\n",
    "   #& (df.true_gran)\n",
    "   & (df.ownership == 'owned')\n",
    "  ]\n",
    " .set_index(['plant_part','record_id_eia',])\n",
    " #.filter(like='capacity')\n",
    ")"
   ]
  },
  {
   "cell_type": "code",
   "execution_count": null,
   "metadata": {},
   "outputs": [],
   "source": []
  },
  {
   "cell_type": "code",
   "execution_count": null,
   "metadata": {},
   "outputs": [],
   "source": [
    "# sample test data for \n",
    "same_smol_test = pd.DataFrame(\n",
    "    {'plant_id_pudl':[1,1,1,\n",
    "                      2,2],\n",
    "     \"record_id_eia_ferc1\": [\"1_plant\",\"1_plant\",\"1_plant\",\n",
    "                             \"2_plant\",\"2_plant\"],\n",
    "     \"record_id_eia_deprish\": [\"1_plant_gen_a\",\"1_plant_gen_b\",\"1_plant_gen_c\",\n",
    "                               \"2_plant_gen_a\",\"2_plant_gen_b\"],\n",
    "     \"opex_nofuel\": [250,250,250,\n",
    "                     75,75], # data point to weight\n",
    "     \"net_generation_mwh_ferc1\": [62500,62500,62500,\n",
    "                                  11250,11250], \n",
    "     \"total_fuel_cost_deprish\": [100,200,200,\n",
    "                                 pd.NA, pd.NA\n",
    "                                ], # weight by option\n",
    "     \"net_generation_mwh_deprish\": [10000,15000,35000,\n",
    "                                    4500, 7500], # weight by option\n",
    "     \"capacity_mw_deprish\": [50,100,100,\n",
    "                             25,45], # weight by option\n",
    "    })\n",
    "\n",
    "\n",
    "opex_nofuel_ferc1_deprish = [\n",
    "    50.0,100.0,100.0,\n",
    "    28.125, 46.875]\n",
    "\n",
    "net_generation_mwh_ferc1_ferc1_deprish =  [\n",
    "    12500,\n",
    "    25000,\n",
    "    25000,\n",
    "    4017.857,\n",
    "    7232.142,]\n",
    "same_smol_test"
   ]
  }
 ],
 "metadata": {
  "kernelspec": {
   "display_name": "Python 3",
   "language": "python",
   "name": "python3"
  },
  "language_info": {
   "codemirror_mode": {
    "name": "ipython",
    "version": 3
   },
   "file_extension": ".py",
   "mimetype": "text/x-python",
   "name": "python",
   "nbconvert_exporter": "python",
   "pygments_lexer": "ipython3",
   "version": "3.8.2"
  }
 },
 "nbformat": 4,
 "nbformat_minor": 4
}
