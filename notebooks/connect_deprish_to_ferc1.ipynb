{
 "cells": [
  {
   "cell_type": "markdown",
   "metadata": {},
   "source": [
    "# Depreciation to FERC 1 Connection"
   ]
  },
  {
   "cell_type": "code",
   "execution_count": null,
   "metadata": {},
   "outputs": [],
   "source": [
    "%load_ext autoreload\n",
    "%autoreload 2"
   ]
  },
  {
   "cell_type": "code",
   "execution_count": null,
   "metadata": {},
   "outputs": [],
   "source": [
    "import pandas as pd\n",
    "import numpy as np\n",
    "import pudl\n",
    "import pudl.constants as pc\n",
    "import sqlalchemy as sa\n",
    "import logging\n",
    "import sys\n",
    "import copy\n",
    "import pathlib\n",
    "import random\n",
    "import warnings\n",
    "from copy import deepcopy\n",
    "\n",
    "sys.path.append(\"../\")\n",
    "import connect_deprish_to_eia\n",
    "import make_plant_parts_eia\n",
    "import connect_deprish_to_ferc1\n",
    "import deprish"
   ]
  },
  {
   "cell_type": "code",
   "execution_count": null,
   "metadata": {},
   "outputs": [],
   "source": [
    "logger = logging.getLogger()\n",
    "logger.setLevel(logging.INFO)\n",
    "handler = logging.StreamHandler(stream=sys.stdout)\n",
    "formatter = logging.Formatter('%(message)s')\n",
    "handler.setFormatter(formatter)\n",
    "logger.handlers = [handler]\n",
    "pd.options.display.max_columns = None\n",
    "pd.options.display.max_rows = 100"
   ]
  },
  {
   "cell_type": "markdown",
   "metadata": {},
   "source": [
    "### Prepare the inputs"
   ]
  },
  {
   "cell_type": "code",
   "execution_count": null,
   "metadata": {},
   "outputs": [],
   "source": [
    "file_path_mul = pathlib.Path().cwd().parent / 'outputs'/ 'master_unit_list.pkl.gz'\n",
    "file_path_steam_ferc1 = pathlib.Path().cwd().parent /'outputs' / 'steam_ferc1.pkl.gz'\n",
    "file_path_ferc1_eia = pathlib.Path().cwd().parent / 'outputs' /'ferc1_to_eia.pkl.gz'\n",
    "file_path_deprish_eia = pathlib.Path().cwd().parent / 'outputs' /'deprish_to_eia.pkl.gz'"
   ]
  },
  {
   "cell_type": "code",
   "execution_count": null,
   "metadata": {},
   "outputs": [],
   "source": [
    "%%time\n",
    "inputs = connect_deprish_to_ferc1.InputsCompiler(\n",
    "    file_path_mul=file_path_mul,\n",
    "    file_path_steam_ferc1=file_path_steam_ferc1,\n",
    "    file_path_ferc1_eia=file_path_ferc1_eia,\n",
    "    file_path_deprish_eia=file_path_deprish_eia\n",
    ")"
   ]
  },
  {
   "cell_type": "markdown",
   "metadata": {},
   "source": [
    "### Generate the options and connections!"
   ]
  },
  {
   "cell_type": "code",
   "execution_count": null,
   "metadata": {},
   "outputs": [],
   "source": [
    "match_maker = connect_deprish_to_ferc1.MatchMaker(inputs)\n",
    "matches_df = match_maker.match()"
   ]
  },
  {
   "cell_type": "code",
   "execution_count": null,
   "metadata": {},
   "outputs": [],
   "source": [
    "scaler = connect_deprish_to_ferc1.Scaler(match_maker)\n",
    "scaled_df = scaler.scale()\n",
    "# this should be true\n",
    "len(scaled_df) == len(scaler.matches_df)"
   ]
  },
  {
   "cell_type": "code",
   "execution_count": null,
   "metadata": {},
   "outputs": [],
   "source": [
    "# we should figure out a cleaner/automatic way to do this....\n",
    "# but for now I'm just enumerating the columns I want to keep\n",
    "cols_to_keep = [\n",
    "    \"plant_part_deprish\", \"plant_part_ferc1\", \"record_id_eia_deprish\", \n",
    "    \"record_id_eia_ferc1\", \"plant_part_name\", \"plant_name_match\", \n",
    "    \"fraction_owned_deprish\", \"fraction_owned_ferc1\", \n",
    "    \"record_count_deprish\", \"record_count_ferc1\", \"plant_part_name_match\", \n",
    "    \"state\", \"utility_name_ferc1_deprish\", \"plant_id_pudl\", \n",
    "    \"utility_id_ferc1_deprish\", \"true_gran_name_match\", \"report_date\", \n",
    "    \"plant_name_new_deprish\", \"report_year_deprish\", \"ownership_deprish\", \n",
    "    \"plant_name_eia_deprish\", \"plant_id_eia_deprish\", \n",
    "    \"generator_id_deprish\", \"unit_id_pudl_deprish\", \n",
    "    \"prime_mover_code_deprish\", \"energy_source_code_1_deprish\", \n",
    "    \"technology_description_deprish\", \"ferc_acct_name_deprish\", \n",
    "    \"utility_id_eia_deprish\", \"utility_id_pudl\", \"true_gran_deprish\", \n",
    "    \"appro_part_label_deprish\", \"appro_record_id_eia_deprish\", \n",
    "    \"ownership_dupe_deprish\", \"total_fuel_cost_deprish\", \n",
    "    \"net_generation_mwh_deprish\", \"capacity_mw_deprish\", \n",
    "    \"record_id_ferc1\", \"utility_id_ferc1_ferc1\", \n",
    "    \"utility_name_ferc1_ferc1\", \"plant_id_ferc1\", \"plant_name_ferc1\", \n",
    "    \"asset_retirement_cost\", \"avg_num_employees\", \"capacity_factor\", \n",
    "    \"capacity_mw_ferc1\", \"capex_equipment\", \"capex_land\", \"capex_per_mw\", \n",
    "    \"capex_structures\", \"capex_total\", \"construction_type\", \n",
    "    \"construction_year\", \"installation_year\", \"net_generation_mwh_ferc1\", \n",
    "    \"not_water_limited_capacity_mw\", \"opex_allowances\", \"opex_boiler\", \n",
    "    \"opex_coolants\", \"opex_electric\", \"opex_engineering\", \"opex_fuel\", \n",
    "    \"fuel_cost_per_mwh\", \"opex_misc_power\", \"opex_misc_steam\", \n",
    "    \"opex_nonfuel_per_mwh\", \"opex_operations\", \"opex_per_mwh\", \n",
    "    \"opex_plants\", \"opex_production_total\", \"opex_rents\", \"opex_steam\", \n",
    "    \"opex_steam_other\", \"opex_structures\", \"opex_transfer\", \"peak_demand_mw\", \n",
    "    \"plant_capability_mw\", \"plant_hours_connected_while_generating\", \n",
    "    \"plant_type\", \"water_limited_capacity_mw\", \"total_fuel_cost_ferc1\", \n",
    "    \"total_mmbtu\", \"fuel_type_code_pudl\", \"fuel_cost_per_mmbtu\", \n",
    "    \"heat_rate_mmbtu_mwh\", \"plant_id_report_year\", \n",
    "    \"plant_id_report_year_util_id\", \"opex_nonfuel\", \"opex_nonfuel_own_frac\", \n",
    "    \"net_generation_mwh_ferc1_own_frac\"]"
   ]
  },
  {
   "cell_type": "code",
   "execution_count": null,
   "metadata": {},
   "outputs": [],
   "source": [
    "# we want to grab the depreciation data so the scaled output can have\n",
    "# ALL OF THE DATA\n",
    "file_path_deprish = pathlib.Path().cwd().parent/'depreciation_rmi.xlsx'\n",
    "sheet_name_deprish=0\n",
    "deprish_df = (\n",
    "    deprish.Transformer(\n",
    "        deprish.Extractor(file_path=file_path_deprish,\n",
    "                          sheet_name=sheet_name_deprish).execute())\n",
    "    .execute()\n",
    "    .dropna(subset=connect_deprish_to_eia.RESTRICT_MATCH_COLS)\n",
    ")\n",
    "\n",
    "matches_df = pd.merge(\n",
    "    deprish_df,\n",
    "    scaler.matches_df[cols_to_keep],\n",
    "    how='outer'\n",
    ")"
   ]
  },
  {
   "cell_type": "code",
   "execution_count": null,
   "metadata": {},
   "outputs": [],
   "source": [
    "file_path_deprish_ferc = pathlib.Path().cwd().parent / 'outputs' /'deprish_to_ferc.csv.gz'\n",
    "matches_df.to_csv(file_path_deprish_ferc)"
   ]
  },
  {
   "cell_type": "code",
   "execution_count": null,
   "metadata": {},
   "outputs": [],
   "source": [
    "# testing the scaling\n",
    "same_smol = scaler.split_ferc1_data_cols()\n",
    "same_beeg = scaler.agg_ferc_data_cols()\n",
    "\n",
    "first_cols = ['plant_part_deprish', 'plant_part_ferc1',\n",
    "              'record_id_eia_deprish', 'record_id_eia_ferc1',\n",
    "              'plant_name', 'plant_name_match', 'plant_name_ferc1', 'plant_name_new_ferc1',\n",
    "              'fraction_owned_deprish', 'fraction_owned_ferc1',\n",
    "              'record_count_deprish', 'record_count_ferc1',\n",
    "              'record_count_matches_deprish'\n",
    "              ]\n",
    "def reorder_cols(df, first_cols):\n",
    "    # reorder cols so they are easier to see, maybe remove later\n",
    "    df = df[\n",
    "        [x for x in first_cols if x in df.columns] \n",
    "        + [x for x in df.columns if x not in first_cols]]\n",
    "    return df\n",
    "matches_df = reorder_cols(matches_df, first_cols)\n",
    "same_smol = reorder_cols(same_smol, first_cols)\n",
    "same_beeg = reorder_cols(same_beeg, first_cols)"
   ]
  }
 ],
 "metadata": {
  "kernelspec": {
   "display_name": "Python 3",
   "language": "python",
   "name": "python3"
  },
  "language_info": {
   "codemirror_mode": {
    "name": "ipython",
    "version": 3
   },
   "file_extension": ".py",
   "mimetype": "text/x-python",
   "name": "python",
   "nbconvert_exporter": "python",
   "pygments_lexer": "ipython3",
   "version": "3.8.6"
  }
 },
 "nbformat": 4,
 "nbformat_minor": 4
}
