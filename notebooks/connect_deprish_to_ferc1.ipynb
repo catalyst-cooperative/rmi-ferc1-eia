{
 "cells": [
  {
   "cell_type": "markdown",
   "metadata": {},
   "source": [
    "# Depreciation to FERC 1 Connection"
   ]
  },
  {
   "cell_type": "markdown",
   "metadata": {},
   "source": [
    "This stage in the connection process is very much under constuction"
   ]
  },
  {
   "cell_type": "code",
   "execution_count": null,
   "metadata": {},
   "outputs": [],
   "source": [
    "%load_ext autoreload\n",
    "%autoreload 2"
   ]
  },
  {
   "cell_type": "code",
   "execution_count": null,
   "metadata": {},
   "outputs": [],
   "source": [
    "import pandas as pd\n",
    "import numpy as np\n",
    "import pudl\n",
    "import sqlalchemy as sa\n",
    "import logging\n",
    "import sys\n",
    "\n",
    "from datetime import date\n",
    "\n",
    "import pudl_rmi\n",
    "from pudl_rmi.connect_deprish_to_ferc1 import *\n",
    "\n",
    "import pudl_rmi.model_inputs\n",
    "\n",
    "import warnings\n",
    "warnings.filterwarnings('ignore')"
   ]
  },
  {
   "cell_type": "code",
   "execution_count": null,
   "metadata": {},
   "outputs": [],
   "source": [
    "logger = logging.getLogger()\n",
    "logger.setLevel(logging.INFO)\n",
    "handler = logging.StreamHandler(stream=sys.stdout)\n",
    "formatter = logging.Formatter('%(message)s')\n",
    "handler.setFormatter(formatter)\n",
    "logger.handlers = [handler]\n",
    "\n",
    "pd.options.display.max_columns = None\n",
    "pd.options.display.max_rows = 60"
   ]
  },
  {
   "cell_type": "markdown",
   "metadata": {
    "tags": []
   },
   "source": [
    "## Make the output via rmi_out"
   ]
  },
  {
   "cell_type": "code",
   "execution_count": null,
   "metadata": {},
   "outputs": [],
   "source": [
    "# pudl output object\n",
    "pudl_settings = pudl.workspace.setup.get_defaults()\n",
    "pudl_engine = sa.create_engine(pudl_settings[\"pudl_db\"])\n",
    "pudl_out = pudl.output.pudltabl.PudlTabl(\n",
    "    pudl_engine,freq='AS',\n",
    "    fill_fuel_cost=True,\n",
    "    roll_fuel_cost=True,\n",
    "    fill_net_gen=True,\n",
    ")\n",
    "rmi_out = pudl_rmi.coordinate.Output(\n",
    "    pudl_out,\n",
    ")"
   ]
  },
  {
   "cell_type": "code",
   "execution_count": null,
   "metadata": {
    "tags": []
   },
   "outputs": [],
   "source": [
    "ppl, d, de, fe, scaled_df = rmi_out.grab_all(clobber_all=False)\n",
    "# temp-ish methods that I don't know where to put yet\n",
    "# i haven't checked all of them in but i need them for RMI's current\n",
    "# output\n",
    "de = pudl_rmi.make_plant_parts_eia.reassign_id_ownership_dupes(de)\n",
    "fe = pudl_rmi.connect_ferc1_to_eia.calc_annual_capital_addts_ferc1(fe)\n",
    "try:\n",
    "    de = pudl_rmi.model_inputs.fake_duke_deprish_eia_for_mod(de).pipe(pudl.helpers.convert_cols_dtypes, 'eia')\n",
    "except AttributeError:\n",
    "    logger.info(\"this is not checked in rn\")"
   ]
  },
  {
   "cell_type": "markdown",
   "metadata": {
    "jp-MarkdownHeadingCollapsed": true,
    "tags": []
   },
   "source": [
    "### Test"
   ]
  },
  {
   "cell_type": "code",
   "execution_count": null,
   "metadata": {},
   "outputs": [],
   "source": [
    "df_test = pd.DataFrame(\n",
    "    {\n",
    "        'record_id_test': [\n",
    "            'record_1', 'record_2', 'record_3',\n",
    "        ],\n",
    "        'plant_id_eia': [\n",
    "            1, 2, 3,\n",
    "        ],\n",
    "        'report_date': [\n",
    "            '2020-01-01', '2020-01-01', '2020-01-01',\n",
    "        ],\n",
    "        'plant_part': [\n",
    "            'plant', 'plant_prime_mover', 'plant_gen',\n",
    "        ],\n",
    "        'operational_status_pudl': [\n",
    "            'operating', 'operating', 'operating',\n",
    "        ],\n",
    "        'ferc_acct_name': [\n",
    "            pd.NA, pd.NA, pd.NA,\n",
    "        ],\n",
    "        'unit_id_pudl': [\n",
    "            pd.NA, pd.NA, pd.NA,\n",
    "        ],\n",
    "        'technology_description': [\n",
    "            pd.NA, pd.NA, 'Conventional Steam Coal',\n",
    "        ],\n",
    "        'generator_id': [\n",
    "            pd.NA, pd.NA, \"a\",\n",
    "        ],\n",
    "        'prime_mover_code': [\n",
    "            pd.NA, 'ST', 'ST',\n",
    "        ],\n",
    "        'energy_source_code_1': [\n",
    "            pd.NA, pd.NA, pd.NA,\n",
    "        ],\n",
    "        'data_col': [\n",
    "            300, 100, 10,\n",
    "        ],\n",
    "        'utility_id_eia': [\n",
    "            1, 1, 1,\n",
    "        ],\n",
    "        'ownership': [\n",
    "            'total', 'total', 'total',\n",
    "        ],\n",
    "        'record_id_eia': [\n",
    "            'record_id_1_1a_1b_1c', 'reocrd_id_2_2a_2b', 'record_id_3_a',\n",
    "        ],\n",
    "    }\n",
    ").pipe(pudl.helpers.convert_cols_dtypes, 'eia').assign(report_year=lambda x: x.report_date.dt.year)\n",
    "\n",
    "ppl_test = pd.DataFrame(\n",
    "    {\n",
    "        'plant_id_eia': [\n",
    "            1, 1, 1,\n",
    "            2, 2,\n",
    "            3,\n",
    "        ],\n",
    "        'report_date': [\n",
    "            '2020-01-01', '2020-01-01', '2020-01-01',\n",
    "            '2020-01-01', '2020-01-01',\n",
    "            '2020-01-01',\n",
    "        ],\n",
    "        'plant_part': [\n",
    "            'plant_gen', 'plant_gen', 'plant_gen',\n",
    "            'plant_gen', 'plant_gen',\n",
    "            'plant_gen',\n",
    "        ],\n",
    "        'operational_status_pudl': [\n",
    "            'operating', 'operating', 'operating',\n",
    "            'operating', 'operating',\n",
    "            'operating',\n",
    "        ],\n",
    "        'ferc_acct_name': [\n",
    "            'steam', 'steam', 'steam',\n",
    "            'steam', 'steam',\n",
    "            'steam',\n",
    "        ],\n",
    "        'unit_id_pudl': [\n",
    "            pd.NA, pd.NA, pd.NA,\n",
    "            pd.NA, pd.NA,\n",
    "            pd.NA,\n",
    "        ],\n",
    "        'technology_description': [\n",
    "            'Conventional Steam Coal', 'Conventional Steam Coal',\n",
    "            'Conventional Steam Coal',\n",
    "            'Conventional Steam Coal', 'Conventional Steam Coal',\n",
    "            'Conventional Steam Coal',\n",
    "        ],\n",
    "        'generator_id': [\n",
    "            \"1a\", \"1b\", \"1c\",\n",
    "            \"2a\", \"2b\",\n",
    "            \"a\",\n",
    "        ],\n",
    "        'prime_mover_code': [\n",
    "            'ST', 'ST', 'ST',\n",
    "            'ST', 'ST',\n",
    "            'ST',\n",
    "        ],\n",
    "        'energy_source_code_1': [\n",
    "            'BIT', 'BIT', 'BIT',\n",
    "            'BIT', 'BIT',\n",
    "            'BIT',\n",
    "        ],\n",
    "        'utility_id_eia': [\n",
    "            1, 1, 1,\n",
    "            1, 1,\n",
    "            1,\n",
    "        ],\n",
    "        'ownership': [\n",
    "            'total', 'total', 'total',\n",
    "            'total', 'total',\n",
    "            'total',\n",
    "        ],\n",
    "        'record_id_eia': [\n",
    "            'record_id_1_1a', 'record_id_1_1b', 'record_id_1_1c',\n",
    "            'record_id_2_2a', 'record_id_2_2b',\n",
    "            'record_id_3_a',\n",
    "        ],\n",
    "        'capacity_mw': [\n",
    "            50, 30, 20,\n",
    "            10, 10,\n",
    "            100,\n",
    "        ],\n",
    "        'net_generation_mwh': [\n",
    "            10000, 1000, 100,\n",
    "            250, 200,\n",
    "            5000,\n",
    "        ],\n",
    "        'total_fuel_cost': [\n",
    "            500, 100, 50,\n",
    "            250, 200,\n",
    "            300,\n",
    "        ],\n",
    "    }\n",
    ").pipe(pudl.helpers.convert_cols_dtypes, 'eia').assign(report_year=lambda x: x.report_date.dt.year)"
   ]
  },
  {
   "cell_type": "code",
   "execution_count": null,
   "metadata": {},
   "outputs": [],
   "source": [
    "# scale_to_plant_part(\n",
    "#     scale_part='plant_gen',\n",
    "#     df_to_scale=df_test,\n",
    "#     ppl=ppl_test,\n",
    "#     data_set_idx_cols=['record_id_test'],\n",
    "#     data_cols=['data_col'],\n",
    "#     other_cols_to_keep=[],\n",
    "# ).reset_index().to_dict()\n",
    "\n",
    "# scale_part='plant_gen'\n",
    "# df_to_scale=df_test.pipe(pudl.helpers.convert_cols_dtypes, 'eia')\n",
    "# ppl=ppl_test.pipe(pudl.helpers.convert_cols_dtypes, 'eia')\n",
    "# data_set_idx_cols=['record_id_test']\n",
    "# data_cols=['data_col']\n",
    "# other_cols_to_keep=[]"
   ]
  },
  {
   "cell_type": "markdown",
   "metadata": {
    "tags": []
   },
   "source": [
    "### Scale Everything to the Generator-level & Merge"
   ]
  },
  {
   "cell_type": "code",
   "execution_count": null,
   "metadata": {},
   "outputs": [],
   "source": [
    "ferc_deprish_eia = pudl_rmi.connect_deprish_to_ferc1.execute(\n",
    "    plant_parts_eia=ppl,\n",
    "    deprish_eia=de,\n",
    "    ferc1_to_eia=fe\n",
    ")"
   ]
  },
  {
   "cell_type": "markdown",
   "metadata": {
    "jp-MarkdownHeadingCollapsed": true,
    "tags": []
   },
   "source": [
    "#### Asset Retirement Cost stuff"
   ]
  },
  {
   "cell_type": "code",
   "execution_count": null,
   "metadata": {},
   "outputs": [],
   "source": [
    "# There are some temp functions re: Asset retirement cost I haven't\n",
    "# checked in yet and probably won't bc they are generally one-offs\n",
    "try:\n",
    "    arc = pudl_rmi.model_inputs.make_dep_arc(d)\n",
    "    scaled_arc = pudl_rmi.model_inputs.scale_arc(arc, ppl)\n",
    "except AttributeError:\n",
    "    logger.info(\"this is not checked in rn\")\n",
    "    scaled_arc = None\n",
    "        \n",
    "try:\n",
    "    ferc_deprish_eia = ferc_deprish_eia.merge(\n",
    "        scaled_arc[['arc_by_plant']],\n",
    "        right_index=True, left_index=True,\n",
    "        how='left',\n",
    "    )\n",
    "except TypeError:\n",
    "    logger.info(\"the ARC table isn't available rn bc the functions aren't checked in\")"
   ]
  },
  {
   "cell_type": "code",
   "execution_count": null,
   "metadata": {},
   "outputs": [],
   "source": [
    "# This (or a cleaned up version of it) should probably live in execute()\n",
    "\n",
    "# choose data for the following columns from either the depreciation data\n",
    "# or the ferc1 data.\n",
    "cols_to_choose = [\n",
    "    'plant_name_eia',\n",
    "    'fraction_owned',\n",
    "    'technology_description',\n",
    "    'operational_status',\n",
    "    'utility_id_pudl',\n",
    "    'plant_id_pudl',\n",
    "    'capacity_mw',\n",
    "    'report_year'\n",
    "]\n",
    "ferc_deprish_eia = ferc_deprish_eia.drop(\n",
    "    columns=[f\"{x}_deprish\" for x in cols_to_choose] + [f\"{x}_ferc1\" for x in cols_to_choose])\n",
    "# add some ppl columns back into the output\n",
    "ppl_cols_to_add = cols_to_choose + [\n",
    "    'total_fuel_cost', 'installation_year', 'net_generation_mwh',\n",
    "    'capacity_factor', \n",
    "]\n",
    "ferc_deprish_eia = (\n",
    "    ferc_deprish_eia# is there a better way to do this? record_id_eia is already in the previous index\n",
    "    .reset_index().set_index(['record_id_eia'])\n",
    "    .merge(\n",
    "        ppl[ppl_cols_to_add],\n",
    "        right_index=True, left_index=True,\n",
    "        how='left'\n",
    "    )\n",
    ")"
   ]
  },
  {
   "cell_type": "markdown",
   "metadata": {
    "tags": []
   },
   "source": [
    "### Export Duke Jawn"
   ]
  },
  {
   "cell_type": "code",
   "execution_count": null,
   "metadata": {},
   "outputs": [],
   "source": [
    "try:\n",
    "    ferc_deprish_eia = pudl_rmi.model_inputs.append_non_plant_deprish_records(d, ferc_deprish_eia)\n",
    "except AttributeError:\n",
    "    logger.info(\"This function isn't checked in rn. Don't know where it will end up living yet\")\n",
    "\n",
    "duke_out = pudl_rmi.model_inputs.convert_to_model_format(\n",
    "    ferc_deprish_eia.reset_index().assign(report_year=lambda x:  x.report_date.dt.year),\n",
    "    pudl_out,\n",
    "    util_ids_pudl=[90,97],\n",
    "    years=[2018,2019,2020]\n",
    ")\n",
    "duke_out = duke_out.replace(\n",
    "    {'Utility': {\n",
    "        'Duke Energy Progress - (NC)': 'Duke Energy Progress',\n",
    "        'Duke Energy Carolinas, LLC': 'Duke Energy Carolinas'},\n",
    "    }\n",
    ")\n",
    "duke_out['Asset Status'] = duke_out['Asset Status'].str.capitalize()\n",
    "\n",
    "duke_out.to_csv(pudl_rmi.OUTPUTS_DIR / f\"current_owned_duke_{date.today().strftime('%Y-%m-%d')}.csv\", index=False)"
   ]
  }
 ],
 "metadata": {
  "kernelspec": {
   "display_name": "Python 3 (ipykernel)",
   "language": "python",
   "name": "python3"
  },
  "language_info": {
   "codemirror_mode": {
    "name": "ipython",
    "version": 3
   },
   "file_extension": ".py",
   "mimetype": "text/x-python",
   "name": "python",
   "nbconvert_exporter": "python",
   "pygments_lexer": "ipython3",
   "version": "3.9.7"
  }
 },
 "nbformat": 4,
 "nbformat_minor": 4
}
