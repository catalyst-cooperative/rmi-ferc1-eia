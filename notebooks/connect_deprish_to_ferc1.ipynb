{
 "cells": [
  {
   "cell_type": "markdown",
   "metadata": {},
   "source": [
    "# Depreciation to FERC 1 Connection"
   ]
  },
  {
   "cell_type": "code",
   "execution_count": 1,
   "metadata": {},
   "outputs": [],
   "source": [
    "%load_ext autoreload\n",
    "%autoreload 2"
   ]
  },
  {
   "cell_type": "code",
   "execution_count": 2,
   "metadata": {},
   "outputs": [],
   "source": [
    "import pandas as pd\n",
    "import numpy as np\n",
    "import pudl\n",
    "import pudl.constants as pc\n",
    "import sqlalchemy as sa\n",
    "import logging\n",
    "import sys\n",
    "import copy\n",
    "import pathlib\n",
    "import random\n",
    "import warnings\n",
    "from copy import deepcopy\n",
    "\n",
    "sys.path.append(\"../\")\n",
    "import connect_deprish_to_eia\n",
    "import make_plant_parts_eia\n",
    "import connect_deprish_to_ferc1"
   ]
  },
  {
   "cell_type": "code",
   "execution_count": 3,
   "metadata": {},
   "outputs": [],
   "source": [
    "logger = logging.getLogger()\n",
    "logger.setLevel(logging.INFO)\n",
    "handler = logging.StreamHandler(stream=sys.stdout)\n",
    "formatter = logging.Formatter('%(message)s')\n",
    "handler.setFormatter(formatter)\n",
    "logger.handlers = [handler]\n",
    "pd.options.display.max_columns = None\n",
    "pd.options.display.max_rows = 100"
   ]
  },
  {
   "cell_type": "markdown",
   "metadata": {},
   "source": [
    "### Prepare the inputs"
   ]
  },
  {
   "cell_type": "code",
   "execution_count": 4,
   "metadata": {},
   "outputs": [],
   "source": [
    "file_path_mul = pathlib.Path().cwd().parent / 'master_unit_list.pkl.gz'\n",
    "file_path_steam_ferc1 = pathlib.Path().cwd().parent / 'steam_ferc1.pkl.gz'\n",
    "file_path_ferc1_eia = pathlib.Path().cwd().parent / 'ferc1_to_eia.pkl.gz'\n",
    "file_path_deprish_eia = pathlib.Path().cwd().parent / 'deprish_to_eia.pkl.gz'"
   ]
  },
  {
   "cell_type": "code",
   "execution_count": 5,
   "metadata": {},
   "outputs": [
    {
     "name": "stdout",
     "output_type": "stream",
     "text": [
      "Reading the master unit list from /Users/christinagosnell/code/rmi-ferc1-eia/master_unit_list.pkl.gz\n",
      "CPU times: user 1.87 s, sys: 461 ms, total: 2.33 s\n",
      "Wall time: 2.66 s\n"
     ]
    }
   ],
   "source": [
    "%%time\n",
    "inputs = connect_deprish_to_ferc1.InputsCompiler(\n",
    "    file_path_mul=file_path_mul,\n",
    "    file_path_steam_ferc1=file_path_steam_ferc1,\n",
    "    file_path_ferc1_eia=file_path_ferc1_eia,\n",
    "    file_path_deprish_eia=file_path_deprish_eia\n",
    ")"
   ]
  },
  {
   "cell_type": "markdown",
   "metadata": {},
   "source": [
    "### Generate the options and connections!"
   ]
  },
  {
   "cell_type": "code",
   "execution_count": 6,
   "metadata": {},
   "outputs": [
    {
     "name": "stdout",
     "output_type": "stream",
     "text": [
      "Matched plants:    120\n",
      "Not connected:       58\n",
      "Missing connections: 3\n",
      "Matches for same_true:   112\n",
      "Matches for same_diff_own:   7\n",
      "Matches for same_quals:   168\n",
      "Matches for one_ferc1_opt:   0\n",
      "Portion of unique depreciation records:\n",
      "    Matched:   87.98%\n",
      "    No link:   4.65%\n",
      "Connected:\n",
      "same_quals       168\n",
      "same_true        112\n",
      "same_diff_own      7\n",
      "Name: match_method, dtype: int64\n",
      "Connection Levels:\n",
      "smol        146\n",
      "samezies    119\n",
      "beeg         22\n",
      "Name: level_deprish, dtype: int64\n"
     ]
    }
   ],
   "source": [
    "match_maker = connect_deprish_to_ferc1.MatchMaker(inputs)\n",
    "matches_df = match_maker.match()"
   ]
  },
  {
   "cell_type": "code",
   "execution_count": 7,
   "metadata": {},
   "outputs": [],
   "source": [
    "scaler = connect_deprish_to_ferc1.Scaler(match_maker)"
   ]
  },
  {
   "cell_type": "code",
   "execution_count": 8,
   "metadata": {},
   "outputs": [],
   "source": [
    "scaled_df = scaler.scale()"
   ]
  },
  {
   "cell_type": "code",
   "execution_count": 9,
   "metadata": {},
   "outputs": [
    {
     "data": {
      "text/plain": [
       "True"
      ]
     },
     "execution_count": 9,
     "metadata": {},
     "output_type": "execute_result"
    }
   ],
   "source": [
    "# this should be true\n",
    "len(scaled_df) == len(scaler.matches_df)"
   ]
  },
  {
   "cell_type": "code",
   "execution_count": 10,
   "metadata": {},
   "outputs": [
    {
     "data": {
      "text/html": [
       "<div>\n",
       "<style scoped>\n",
       "    .dataframe tbody tr th:only-of-type {\n",
       "        vertical-align: middle;\n",
       "    }\n",
       "\n",
       "    .dataframe tbody tr th {\n",
       "        vertical-align: top;\n",
       "    }\n",
       "\n",
       "    .dataframe thead th {\n",
       "        text-align: right;\n",
       "    }\n",
       "</style>\n",
       "<table border=\"1\" class=\"dataframe\">\n",
       "  <thead>\n",
       "    <tr style=\"text-align: right;\">\n",
       "      <th></th>\n",
       "      <th>plant_id_pudl</th>\n",
       "      <th>record_id_eia_ferc1</th>\n",
       "      <th>record_id_eia_deprish</th>\n",
       "      <th>opex_nofuel</th>\n",
       "      <th>net_generation_mwh_ferc1</th>\n",
       "      <th>total_fuel_cost_deprish</th>\n",
       "      <th>net_generation_mwh_deprish</th>\n",
       "      <th>capacity_mw_deprish</th>\n",
       "    </tr>\n",
       "  </thead>\n",
       "  <tbody>\n",
       "    <tr>\n",
       "      <th>0</th>\n",
       "      <td>1</td>\n",
       "      <td>1_plant</td>\n",
       "      <td>1_plant_gen_a</td>\n",
       "      <td>250</td>\n",
       "      <td>62500</td>\n",
       "      <td>100</td>\n",
       "      <td>10000</td>\n",
       "      <td>50</td>\n",
       "    </tr>\n",
       "    <tr>\n",
       "      <th>1</th>\n",
       "      <td>1</td>\n",
       "      <td>1_plant</td>\n",
       "      <td>1_plant_gen_b</td>\n",
       "      <td>250</td>\n",
       "      <td>62500</td>\n",
       "      <td>200</td>\n",
       "      <td>15000</td>\n",
       "      <td>100</td>\n",
       "    </tr>\n",
       "    <tr>\n",
       "      <th>2</th>\n",
       "      <td>1</td>\n",
       "      <td>1_plant</td>\n",
       "      <td>1_plant_gen_c</td>\n",
       "      <td>250</td>\n",
       "      <td>62500</td>\n",
       "      <td>200</td>\n",
       "      <td>35000</td>\n",
       "      <td>100</td>\n",
       "    </tr>\n",
       "    <tr>\n",
       "      <th>3</th>\n",
       "      <td>2</td>\n",
       "      <td>2_plant</td>\n",
       "      <td>2_plant_gen_a</td>\n",
       "      <td>75</td>\n",
       "      <td>11250</td>\n",
       "      <td>&lt;NA&gt;</td>\n",
       "      <td>4500</td>\n",
       "      <td>25</td>\n",
       "    </tr>\n",
       "    <tr>\n",
       "      <th>4</th>\n",
       "      <td>2</td>\n",
       "      <td>2_plant</td>\n",
       "      <td>2_plant_gen_b</td>\n",
       "      <td>75</td>\n",
       "      <td>11250</td>\n",
       "      <td>&lt;NA&gt;</td>\n",
       "      <td>7500</td>\n",
       "      <td>45</td>\n",
       "    </tr>\n",
       "  </tbody>\n",
       "</table>\n",
       "</div>"
      ],
      "text/plain": [
       "   plant_id_pudl record_id_eia_ferc1 record_id_eia_deprish  opex_nofuel  \\\n",
       "0              1             1_plant         1_plant_gen_a          250   \n",
       "1              1             1_plant         1_plant_gen_b          250   \n",
       "2              1             1_plant         1_plant_gen_c          250   \n",
       "3              2             2_plant         2_plant_gen_a           75   \n",
       "4              2             2_plant         2_plant_gen_b           75   \n",
       "\n",
       "   net_generation_mwh_ferc1 total_fuel_cost_deprish  \\\n",
       "0                     62500                     100   \n",
       "1                     62500                     200   \n",
       "2                     62500                     200   \n",
       "3                     11250                    <NA>   \n",
       "4                     11250                    <NA>   \n",
       "\n",
       "   net_generation_mwh_deprish  capacity_mw_deprish  \n",
       "0                       10000                   50  \n",
       "1                       15000                  100  \n",
       "2                       35000                  100  \n",
       "3                        4500                   25  \n",
       "4                        7500                   45  "
      ]
     },
     "execution_count": 10,
     "metadata": {},
     "output_type": "execute_result"
    }
   ],
   "source": [
    "# sample test data for \n",
    "same_smol_test = pd.DataFrame(\n",
    "    {'plant_id_pudl':[1,1,1,\n",
    "                      2,2],\n",
    "     \"record_id_eia_ferc1\": [\"1_plant\",\"1_plant\",\"1_plant\",\n",
    "                             \"2_plant\",\"2_plant\"],\n",
    "     \"record_id_eia_deprish\": [\"1_plant_gen_a\",\"1_plant_gen_b\",\"1_plant_gen_c\",\n",
    "                               \"2_plant_gen_a\",\"2_plant_gen_b\"],\n",
    "     \"opex_nofuel\": [250,250,250,\n",
    "                     75,75], # data point to weight\n",
    "     \"net_generation_mwh_ferc1\": [62500,62500,62500,\n",
    "                                  11250,11250], \n",
    "     \"total_fuel_cost_deprish\": [100,200,200,\n",
    "                                 pd.NA, pd.NA\n",
    "                                ], # weight by option\n",
    "     \"net_generation_mwh_deprish\": [10000,15000,35000,\n",
    "                                    4500, 7500], # weight by option\n",
    "     \"capacity_mw_deprish\": [50,100,100,\n",
    "                             25,45], # weight by option\n",
    "    })\n",
    "\n",
    "\n",
    "opex_nofuel_ferc1_deprish = [\n",
    "    50.0,100.0,100.0,\n",
    "    28.125, 46.875]\n",
    "\n",
    "net_generation_mwh_ferc1_ferc1_deprish =  [\n",
    "    12500,\n",
    "    25000,\n",
    "    25000,\n",
    "    4017.857,\n",
    "    7232.142,]\n",
    "same_smol_test"
   ]
  }
 ],
 "metadata": {
  "kernelspec": {
   "display_name": "Python 3",
   "language": "python",
   "name": "python3"
  },
  "language_info": {
   "codemirror_mode": {
    "name": "ipython",
    "version": 3
   },
   "file_extension": ".py",
   "mimetype": "text/x-python",
   "name": "python",
   "nbconvert_exporter": "python",
   "pygments_lexer": "ipython3",
   "version": "3.8.2"
  }
 },
 "nbformat": 4,
 "nbformat_minor": 4
}
