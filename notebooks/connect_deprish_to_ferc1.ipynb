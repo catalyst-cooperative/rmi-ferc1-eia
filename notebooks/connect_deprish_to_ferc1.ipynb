{
 "cells": [
  {
   "cell_type": "markdown",
   "metadata": {},
   "source": [
    "# Depreciation to FERC 1 Connection"
   ]
  },
  {
   "cell_type": "markdown",
   "metadata": {},
   "source": [
    "This stage in the connection process is very much under constuction"
   ]
  },
  {
   "cell_type": "code",
   "execution_count": null,
   "metadata": {},
   "outputs": [],
   "source": [
    "%load_ext autoreload\n",
    "%autoreload 2"
   ]
  },
  {
   "cell_type": "code",
   "execution_count": null,
   "metadata": {},
   "outputs": [],
   "source": [
    "import pandas as pd\n",
    "import numpy as np\n",
    "import pudl\n",
    "import sqlalchemy as sa\n",
    "import logging\n",
    "import sys\n",
    "\n",
    "import pudl_rmi\n",
    "from pudl_rmi.connect_deprish_to_ferc1 import *\n",
    "\n",
    "import warnings\n",
    "warnings.filterwarnings('ignore')"
   ]
  },
  {
   "cell_type": "code",
   "execution_count": null,
   "metadata": {},
   "outputs": [],
   "source": [
    "logger = logging.getLogger()\n",
    "logger.setLevel(logging.INFO)\n",
    "handler = logging.StreamHandler(stream=sys.stdout)\n",
    "formatter = logging.Formatter('%(message)s')\n",
    "handler.setFormatter(formatter)\n",
    "logger.handlers = [handler]\n",
    "\n",
    "pd.options.display.max_columns = None\n",
    "pd.options.display.max_rows = 60"
   ]
  },
  {
   "cell_type": "markdown",
   "metadata": {
    "tags": []
   },
   "source": [
    "## Make the output via rmi_out"
   ]
  },
  {
   "cell_type": "code",
   "execution_count": null,
   "metadata": {},
   "outputs": [],
   "source": [
    "# pudl output object\n",
    "pudl_settings = pudl.workspace.setup.get_defaults()\n",
    "pudl_engine = sa.create_engine(pudl_settings[\"pudl_db\"])\n",
    "pudl_out = pudl.output.pudltabl.PudlTabl(\n",
    "    pudl_engine,freq='AS',\n",
    "    fill_fuel_cost=True,\n",
    "    roll_fuel_cost=True,\n",
    "    fill_net_gen=True,\n",
    ")\n",
    "rmi_out = pudl_rmi.coordinate.Output(\n",
    "    pudl_out,\n",
    ")"
   ]
  },
  {
   "cell_type": "code",
   "execution_count": null,
   "metadata": {},
   "outputs": [],
   "source": [
    "ppl = rmi_out.get_plant_part_list()\n",
    "d = rmi_out.get_deprish()"
   ]
  },
  {
   "cell_type": "code",
   "execution_count": null,
   "metadata": {
    "tags": []
   },
   "outputs": [],
   "source": [
    "scaled_df = rmi_out.get_deprish_to_ferc1(\n",
    "    clobber=False,\n",
    "    clobber_de=False,\n",
    "    clobber_fe=False\n",
    ")\n",
    "de = rmi_out.get_deprish_to_eia()\n",
    "d = rmi_out.get_deprish(clobber=False)"
   ]
  },
  {
   "cell_type": "code",
   "execution_count": null,
   "metadata": {},
   "outputs": [],
   "source": [
    "d[\n",
    "    d.utility_id_pudl.isin([90,97])\n",
    "    & (d.book_reserve_w_common < 0)\n",
    "    & (d.report_date.dt.year == 2018)\n",
    "]"
   ]
  },
  {
   "cell_type": "code",
   "execution_count": null,
   "metadata": {},
   "outputs": [],
   "source": [
    "scaled_df[\n",
    "    scaled_df.utility_id_pudl_deprish.isin([90,97])\n",
    "    & (scaled_df.book_reserve_w_common < 0)\n",
    "    & (scaled_df.report_year == 2018)\n",
    "]"
   ]
  },
  {
   "cell_type": "markdown",
   "metadata": {
    "jp-MarkdownHeadingCollapsed": true,
    "tags": []
   },
   "source": [
    "## Remap Duke Utilities"
   ]
  },
  {
   "cell_type": "code",
   "execution_count": null,
   "metadata": {},
   "outputs": [],
   "source": [
    "# template = pd.read_csv(pudl_rmi.inputs_dir / 'capex template.csv')\n",
    "ops_pro = pd.read_csv(pudl_rmi.inputs_dir / 'operation_projection.csv', encoding = \"ISO-8859-1\")"
   ]
  },
  {
   "cell_type": "code",
   "execution_count": null,
   "metadata": {},
   "outputs": [],
   "source": [
    "plants_e = ops_pro[['Unique_ID', 'Utility', 'Asset Status','Resource Type', 'Resource/Plant']].drop_duplicates()\n",
    "plants_e= plants_e[\n",
    "    (plants_e['Asset Status'] == 'Existing')\n",
    "    & (plants_e['Utility'] == 'Duke')\n",
    "]"
   ]
  },
  {
   "cell_type": "code",
   "execution_count": null,
   "metadata": {},
   "outputs": [],
   "source": [
    "plants_e.loc[:, 'plant_name_eia'] = plants_e['Resource/Plant'].str.split(\":\").str[0]"
   ]
  },
  {
   "cell_type": "code",
   "execution_count": null,
   "metadata": {},
   "outputs": [],
   "source": [
    "plants_eia = pudl_out.plants_eia860()\n",
    "plants_e = (\n",
    "    plants_e.merge(\n",
    "        plants_eia[['plant_name_eia', 'utility_name_eia', 'plant_id_eia']].drop_duplicates(),\n",
    "        on=['plant_name_eia'],\n",
    "        how='left'\n",
    "    )\n",
    ")"
   ]
  },
  {
   "cell_type": "code",
   "execution_count": null,
   "metadata": {},
   "outputs": [],
   "source": [
    "duke_rename = {'Duke Energy Carolinas, LLC': \"Duke Energy Carolinas\",'Duke Energy Progress - (NC)':\"Duke Energy Progress\"}"
   ]
  },
  {
   "cell_type": "code",
   "execution_count": null,
   "metadata": {},
   "outputs": [],
   "source": [
    "plants_e = plants_e.replace(duke_rename)"
   ]
  },
  {
   "cell_type": "code",
   "execution_count": null,
   "metadata": {},
   "outputs": [],
   "source": [
    "plants_e.drop_duplicates(subset=['plant_name_eia']).to_csv('duke ids.csv')"
   ]
  },
  {
   "cell_type": "code",
   "execution_count": null,
   "metadata": {},
   "outputs": [],
   "source": [
    "plants_e[plants_e.utility_name_eia.isnull()].drop_duplicates(subset=['plant_name_eia'])"
   ]
  },
  {
   "cell_type": "code",
   "execution_count": null,
   "metadata": {},
   "outputs": [],
   "source": [
    "plants_e.groupby(['utility_name_eia'])[['plant_name_eia']].nunique()"
   ]
  },
  {
   "cell_type": "code",
   "execution_count": null,
   "metadata": {},
   "outputs": [],
   "source": [
    "p = pudl_out.plants_eia860()"
   ]
  },
  {
   "cell_type": "code",
   "execution_count": null,
   "metadata": {},
   "outputs": [],
   "source": [
    "ppl[\n",
    "    (ppl.plant_name_eia.str.contains('Sherwood'))\n",
    "    #& (ppl.fuel_type_code_pudl == 'hydro')\n",
    "].utility_id_eia.unique()"
   ]
  },
  {
   "cell_type": "code",
   "execution_count": null,
   "metadata": {},
   "outputs": [],
   "source": [
    "utils[utils.utility_id_eia.isin([163, 5416, 14276, 14277, 59762, 63565, 63621])].utility_name_eia.unique()"
   ]
  },
  {
   "cell_type": "markdown",
   "metadata": {
    "tags": []
   },
   "source": [
    "## Make capex template for Duke"
   ]
  },
  {
   "cell_type": "code",
   "execution_count": null,
   "metadata": {},
   "outputs": [],
   "source": [
    "col_to_rename = {\n",
    "    \"auto_id\":\n",
    "        \"Unique_ID\",\n",
    "    \"utility_name_ferc1_deprish\":\n",
    "        \"Utility\",\n",
    "    \"scenario\":\n",
    "        \"Scenario\",\n",
    "    \"operational_status\":\n",
    "        \"Asset Status\",\n",
    "    \"plant_part_name\":  # plant_name_new_deprish\n",
    "        \"Plants\",\n",
    "    \"generator_id\":\n",
    "        \"Unit\",\n",
    "    \"resource_type\":\n",
    "        \"Resource Type\",  # TODO: Generator this column\n",
    "    \"state\":\n",
    "        \"State (Physical Location)\",\n",
    "    \"fraction_owned\":\n",
    "        \"Ownership Percentage (%)\",\n",
    "    \"capacity_mw\":\n",
    "        \"Net Capacity (MW)\",\n",
    "    \"capacity_factor_eia\":\n",
    "        \"Capacity Factor (%)\",\n",
    "    \"net_generation_mwh\":\n",
    "        \"Net Generation in 2019 (MWh)\",\n",
    "    \"co2_mass_tons\":\n",
    "        \"CO2 Emission (tons)\",\n",
    "    \"total_fuel_cost\":\n",
    "        \"Fuel Cost ($)\",\n",
    "    \"variable_om\":\n",
    "        \"Non-Fuel Variable O&M Costs ($)\",\n",
    "    \"fixed_om\":\n",
    "        \"Fixed O&M Costs ($)\",\n",
    "    \"opex_nonfuel\":\n",
    "        \"Total O&M Cost\",\n",
    "    \"installation_year_eia\":\n",
    "        \"Commission Year\",\n",
    "    \"remaining_life_avg\":\n",
    "        \"Current Remaining Accounting Life (Yrs from 2019)\",\n",
    "    \"plant_balance_w_common\":\n",
    "        \"Gross Plant Balance/Original Cost as of Dec 2019 ($)\",\n",
    "    \"book_reserve_w_common\":\n",
    "        \"Book Reserve/Accumulated Depreciation as of Dec 2019 ($)\",\n",
    "    \"unaccrued_balance_w_common\":\n",
    "        \"Current Net Plant Balance ($)\",\n",
    "    \"depreciation_annual_epxns_w_common\":\n",
    "        \"Annual Depreciation Expense ($)\",\n",
    "    \"depreciation_annual_rate\":\n",
    "        \"Depreciation Rate (%)\",\n",
    "    \"net_removal_rate\":\n",
    "        \"Decommissioning Cost ($)\",\n",
    "    \"line_id\":\n",
    "        \"Record ID Depreciation\",\n",
    "    \"record_id_eia_deprish\":\n",
    "        \"Record ID EIA (MUL)\",\n",
    "    \"record_id_ferc1\":\n",
    "        \"Record ID FERC 1\",\n",
    "}\n",
    "\n",
    "tech_descrpt_to_resource_type = {\n",
    "    'Conventional Steam Coal': 'Coal',\n",
    "    'Natural Gas Fired Combined Cycle': 'NaturalGasCC',\n",
    "    'Natural Gas Fired Combustion Turbine': 'NaturalGasCT',\n",
    "    'Natural Gas Steam Turbine': 'NaturalGasCT',  # MAYBE?!?\n",
    "    'Geothermal': 'Geothermal',\n",
    "    'Onshore Wind Turbine': 'LandbasedWind',\n",
    "    'Conventional Hydroelectric': 'Hydropower',\n",
    "    # pd.NA: 'Transmission',\n",
    "    # pd.NA: 'Distribution',\n",
    "    'Solar Photovoltaic': 'UtilityPV',\n",
    "    'Nuclear': 'Nuclear',\n",
    "    'Offshore Wind Turbine': 'OffshoreWind',  # THIS ONE IS A GUESS\n",
    "    'Solar Thermal with Energy Storage': 'SolarPlusBattery',\n",
    "    # pd.NA: 'EE',\n",
    "    # pd.NA: 'DR',\n",
    "    # pd.NA: 'Battery'\n",
    "}"
   ]
  },
  {
   "cell_type": "code",
   "execution_count": null,
   "metadata": {},
   "outputs": [],
   "source": [
    "def make_auto_id(scaled_df):\n",
    "    \"\"\"\n",
    "    Make the auto-incremented ID for RMI models.\n",
    "    \n",
    "    We need to first reset whatever index we had so we are sure\n",
    "    that the index is a clean 0+n index. Then we use that new index\n",
    "    to make the new ID. We add 1 so it starts with 1 instead of 0.\n",
    "    And we add 'E' to the begining to represent existing plants.\n",
    "    Then we use this column as the index.\n",
    "    \"\"\"\n",
    "    scaled_df1 = (\n",
    "        scaled_df.reset_index(drop=True)\n",
    "        .assign(auto_id=lambda x: \"E\" + (x.index + 1).map(str))\n",
    "    )\n",
    "    scaled_df1 = scaled_df1.set_index('auto_id')\n",
    "    return scaled_df1\n",
    "\n",
    "cols_to_choose = [\n",
    "    'plant_id_eia',\n",
    "    'utility_id_eia',\n",
    "    'plant_name_eia',\n",
    "    'generator_id',\n",
    "    'fraction_owned',\n",
    "    'technology_description',\n",
    "]\n",
    "for col in cols_to_choose:\n",
    "    scaled_df.loc[:,col] = scaled_df[f'{col}_deprish'].fillna(scaled_df[f'{col}_ferc1'])\n",
    "\n",
    "# # add utility name\n",
    "# scaled_df = scaled_df.merge(\n",
    "#     pudl_out.utils_eia860()[['utility_id_eia', 'utility_name_eia']].drop_duplicates(),\n",
    "#     on=['utility_id_eia'],\n",
    "#     validate='m:1',\n",
    "#     how='left'   \n",
    "# )\n",
    "# add plant state\n",
    "scaled_df = scaled_df.merge(\n",
    "    pudl_out.plants_eia860()[['plant_id_eia', 'state']].drop_duplicates(),\n",
    "    on=['plant_id_eia'],\n",
    "    validate='m:1',\n",
    "    how='left',\n",
    ")\n",
    "scaled_df = make_auto_id(scaled_df)\n",
    "\n",
    "scaled_df.loc[:,'scenario'] = pd.NA\n",
    "scaled_df.loc[:,'variable_om'] = pd.NA\n",
    "scaled_df.loc[:,'fixed_om'] = pd.NA\n",
    "scaled_df.loc[:,'co2_mass_tons'] = pd.NA\n",
    "scaled_df.loc[:,'resource_type'] = scaled_df.technology_description.replace(tech_descrpt_to_resource_type)"
   ]
  },
  {
   "cell_type": "code",
   "execution_count": null,
   "metadata": {},
   "outputs": [],
   "source": [
    "model_input_all = scaled_df.reset_index().rename(columns=col_to_rename,)[list(col_to_rename.values())]"
   ]
  },
  {
   "cell_type": "code",
   "execution_count": null,
   "metadata": {},
   "outputs": [],
   "source": [
    "duke_ids = [97, 90]\n",
    "# duke_de = de[(de.utility_id_pudl.isin(duke_ids)) & (de.report_year == 2018)]\n",
    "duke_s = scaled_df[\n",
    "    ((scaled_df.utility_id_pudl_deprish.isin(duke_ids)) | (scaled_df.utility_id_pudl_ferc1.isin(duke_ids)))\n",
    "    & (scaled_df.report_year == 2018)]\n",
    "duke_s = make_auto_id(duke_s)\n",
    "model_input_duke = duke_s.reset_index().rename(columns=col_to_rename,)[list(col_to_rename.values())]\n",
    "model_input_duke.to_csv(pudl_rmi.outputs_dir / \"capex template duke.csv\", index=False)\n",
    "model_input_all.to_csv(pudl_rmi.outputs_dir / \"capex template all.csv\", index=False)"
   ]
  },
  {
   "cell_type": "code",
   "execution_count": null,
   "metadata": {},
   "outputs": [],
   "source": [
    "model_input_duke"
   ]
  },
  {
   "cell_type": "code",
   "execution_count": null,
   "metadata": {},
   "outputs": [],
   "source": [
    "model_input_all.to_csv(pudl_rmi.outputs_dir / \"capex template all.csv\", index=False)\n",
    "duke_s.to_csv(pudl_rmi.outputs_dir / \"deprish_ferc_eia_duke.csv\", index=False)"
   ]
  },
  {
   "cell_type": "code",
   "execution_count": null,
   "metadata": {},
   "outputs": [],
   "source": [
    "model_input_duke"
   ]
  },
  {
   "cell_type": "markdown",
   "metadata": {
    "jp-MarkdownHeadingCollapsed": true,
    "tags": []
   },
   "source": [
    "## Make the output directly"
   ]
  },
  {
   "cell_type": "code",
   "execution_count": null,
   "metadata": {
    "tags": []
   },
   "outputs": [],
   "source": [
    "inputs = InputsManager(\n",
    "    plant_parts_eia=rmi_out.get_plant_part_list(),\n",
    "    deprish_eia=rmi_out.get_deprish_to_eia(clobber=False),\n",
    "    ferc1_to_eia=rmi_out.get_ferc1_to_eia(clobber=True),\n",
    ")\n",
    "matcher = MatchMaker(inputs)\n",
    "scaler = Scaler(matcher)\n",
    "scaled_df = scaler.scale()"
   ]
  },
  {
   "cell_type": "code",
   "execution_count": null,
   "metadata": {},
   "outputs": [],
   "source": [
    "scaled_df.operational_status"
   ]
  },
  {
   "cell_type": "markdown",
   "metadata": {},
   "source": [
    "## AhhhhhHHHHH"
   ]
  },
  {
   "cell_type": "code",
   "execution_count": null,
   "metadata": {},
   "outputs": [],
   "source": []
  },
  {
   "cell_type": "code",
   "execution_count": null,
   "metadata": {},
   "outputs": [],
   "source": []
  }
 ],
 "metadata": {
  "kernelspec": {
   "display_name": "Python 3 (ipykernel)",
   "language": "python",
   "name": "python3"
  },
  "language_info": {
   "codemirror_mode": {
    "name": "ipython",
    "version": 3
   },
   "file_extension": ".py",
   "mimetype": "text/x-python",
   "name": "python",
   "nbconvert_exporter": "python",
   "pygments_lexer": "ipython3",
   "version": "3.9.7"
  }
 },
 "nbformat": 4,
 "nbformat_minor": 4
}
