{
 "cells": [
  {
   "cell_type": "markdown",
   "metadata": {},
   "source": [
    "# Depreciation to FERC 1 Connection"
   ]
  },
  {
   "cell_type": "markdown",
   "metadata": {},
   "source": [
    "This stage in the connection process is very much under constuction"
   ]
  },
  {
   "cell_type": "code",
   "execution_count": null,
   "metadata": {},
   "outputs": [],
   "source": [
    "%load_ext autoreload\n",
    "%autoreload 2"
   ]
  },
  {
   "cell_type": "code",
   "execution_count": null,
   "metadata": {},
   "outputs": [],
   "source": [
    "import pandas as pd\n",
    "import numpy as np\n",
    "import pudl\n",
    "import sqlalchemy as sa\n",
    "import logging\n",
    "import sys\n",
    "\n",
    "from datetime import date\n",
    "\n",
    "import pudl_rmi\n",
    "from pudl_rmi.connect_deprish_to_ferc1 import *\n",
    "\n",
    "import pudl_rmi.model_inputs\n",
    "\n",
    "import warnings\n",
    "warnings.filterwarnings('ignore')"
   ]
  },
  {
   "cell_type": "code",
   "execution_count": null,
   "metadata": {},
   "outputs": [],
   "source": [
    "import matplotlib.pyplot as plt\n",
    "import matplotlib as mpl\n",
    "%matplotlib inline\n",
    "mpl.style.use('dark_background')\n",
    "figsize=(12,5)"
   ]
  },
  {
   "cell_type": "code",
   "execution_count": null,
   "metadata": {},
   "outputs": [],
   "source": [
    "logger = logging.getLogger()\n",
    "logger.setLevel(logging.INFO)\n",
    "handler = logging.StreamHandler(stream=sys.stdout)\n",
    "formatter = logging.Formatter('%(message)s')\n",
    "handler.setFormatter(formatter)\n",
    "logger.handlers = [handler]\n",
    "\n",
    "pd.options.display.max_columns = None\n",
    "pd.options.display.max_rows = 60"
   ]
  },
  {
   "cell_type": "markdown",
   "metadata": {
    "tags": []
   },
   "source": [
    "## Make the output via rmi_out"
   ]
  },
  {
   "cell_type": "code",
   "execution_count": null,
   "metadata": {},
   "outputs": [],
   "source": [
    "# pudl output object\n",
    "pudl_settings = pudl.workspace.setup.get_defaults()\n",
    "pudl_engine = sa.create_engine(pudl_settings[\"pudl_db\"])\n",
    "pudl_out = pudl.output.pudltabl.PudlTabl(\n",
    "    pudl_engine,freq='AS',\n",
    "    fill_fuel_cost=False,\n",
    "    roll_fuel_cost=True,\n",
    "    fill_net_gen=True,\n",
    ")\n",
    "rmi_out = pudl_rmi.coordinate.Output(\n",
    "    pudl_out,\n",
    ")"
   ]
  },
  {
   "cell_type": "code",
   "execution_count": null,
   "metadata": {},
   "outputs": [],
   "source": [
    "ppl, d, de_og, fe, scaled_df = rmi_out.grab_all(clobber_all=True)\n",
    "de = pudl_rmi.model_inputs.fake_duke_deprish_eia_for_mod(de_og, ppl).pipe(pudl.helpers.convert_cols_dtypes, 'eia')"
   ]
  },
  {
   "cell_type": "markdown",
   "metadata": {
    "tags": []
   },
   "source": [
    "### Scale Everything to the Generator-level & Merge"
   ]
  },
  {
   "cell_type": "code",
   "execution_count": null,
   "metadata": {},
   "outputs": [],
   "source": [
    "from pudl_rmi.connect_deprish_to_ferc1 import *\n",
    "from pudl_rmi.connect_deprish_to_ferc1 import _make_record_id_eia_wo_ownership"
   ]
  },
  {
   "cell_type": "code",
   "execution_count": null,
   "metadata": {
    "tags": []
   },
   "outputs": [],
   "source": [
    "ferc_deprish_eia = pudl_rmi.connect_deprish_to_ferc1.execute(\n",
    "    plant_parts_eia=ppl,\n",
    "    deprish_eia=de,\n",
    "    ferc1_to_eia=fe\n",
    ")"
   ]
  },
  {
   "cell_type": "markdown",
   "metadata": {
    "tags": []
   },
   "source": [
    "#### Asset Retirement Cost stuff"
   ]
  },
  {
   "cell_type": "code",
   "execution_count": null,
   "metadata": {},
   "outputs": [],
   "source": [
    "# There are some temp functions re: Asset retirement cost I haven't\n",
    "# checked in yet and probably won't bc they are generally one-offs\n",
    "try:\n",
    "    arc = pudl_rmi.model_inputs.make_dep_arc(d)\n",
    "    scaled_arc = pudl_rmi.model_inputs.scale_arc(arc, ppl)\n",
    "except AttributeError:\n",
    "    logger.info(\"this is not checked in rn\")\n",
    "    scaled_arc = None\n",
    "        \n",
    "try:\n",
    "    ferc_deprish_eia = ferc_deprish_eia.merge(\n",
    "        scaled_arc[['arc_by_plant']],\n",
    "        right_index=True, left_index=True,\n",
    "        how='left',\n",
    "    )\n",
    "except TypeError:\n",
    "    logger.info(\"the ARC table isn't available rn bc the functions aren't checked in\")"
   ]
  },
  {
   "cell_type": "markdown",
   "metadata": {
    "tags": []
   },
   "source": [
    "### Export Duke Jawn"
   ]
  },
  {
   "cell_type": "code",
   "execution_count": null,
   "metadata": {},
   "outputs": [],
   "source": [
    "ferc_deprish_eia1 = pudl_rmi.model_inputs.append_non_plant_deprish_records(d, ferc_deprish_eia, ppl)\n",
    "ferc_deprish_eia1.ferc_acct_name = ferc_deprish_eia1.ferc_acct_name.str.lower()"
   ]
  },
  {
   "cell_type": "code",
   "execution_count": null,
   "metadata": {},
   "outputs": [],
   "source": [
    "# try:\n",
    "#     ferc_deprish_eia1 = pudl_rmi.model_inputs.append_non_plant_deprish_records(de, ferc_deprish_eia, ppl)\n",
    "# except AttributeError:\n",
    "#     logger.info(\"This function isn't checked in rn. Don't know where it will end up living yet\")\n",
    "\n",
    "# ferc_deprish_eia1 = ferc_deprish_eia\n",
    "years=[2018,2019,2020]\n",
    "duke_all = ferc_deprish_eia1[\n",
    "    (\n",
    "        (ferc_deprish_eia1.report_year.isin(years))\n",
    "        & (ferc_deprish_eia1.utility_id_pudl.isin([90, 97]))\n",
    "    ) \n",
    "]\n",
    "\n",
    "duke_puc = duke_all[duke_all.data_source.isin(['PUC', pd.NA])]\n",
    "duke_ferc = duke_all[\n",
    "    ~duke_all.plant_id_eia.isin(duke_puc.plant_id_eia.unique())\n",
    "    & ~duke_all.plant_id_eia.isnull()\n",
    "]\n",
    "\n",
    "\n",
    "duke = (\n",
    "    pd.concat([duke_puc, duke_ferc])\n",
    "    .assign(data_source=lambda x: x.data_source.fillna('PUC'))\n",
    "    .sort_index()\n",
    ")\n"
   ]
  },
  {
   "cell_type": "code",
   "execution_count": null,
   "metadata": {},
   "outputs": [],
   "source": [
    "(\n",
    "    fe[\n",
    "        fe.utility_id_pudl.isin([90,97])\n",
    "        & fe.report_year.isin([2018,2019,2020])\n",
    "    ]\n",
    "    .groupby(\n",
    "        [ 'utility_id_pudl', 'ferc_acct_name', 'report_year',], \n",
    "        dropna=False\n",
    "    )\n",
    "    [['capex_annual_addition']]\n",
    "    .sum(min_count=1)\n",
    ")"
   ]
  },
  {
   "cell_type": "code",
   "execution_count": null,
   "metadata": {},
   "outputs": [],
   "source": [
    "(\n",
    "    duke.groupby(\n",
    "        [ 'data_source', 'utility_id_pudl', 'ferc_acct_name', 'report_year',] ,\n",
    "        dropna=False\n",
    "    )\n",
    "    [['plant_balance_w_common', 'capex_annual_addition']]\n",
    "    .sum(min_count=1)\n",
    ")"
   ]
  },
  {
   "cell_type": "code",
   "execution_count": null,
   "metadata": {},
   "outputs": [],
   "source": [
    "duke_out = pudl_rmi.model_inputs.convert_to_model_format(\n",
    "    duke.sort_index().reset_index(),\n",
    "    pudl_out,\n",
    "    util_ids_pudl=[90,97],\n",
    "    years=[2018,2019,2020]\n",
    ")\n",
    "\n",
    "duke_out.to_csv(pudl_rmi.OUTPUTS_DIR / f\"current_owned_duke_{date.today().strftime('%Y-%m-%d')}.csv\", index=False)"
   ]
  },
  {
   "cell_type": "markdown",
   "metadata": {},
   "source": [
    "# Validation"
   ]
  },
  {
   "cell_type": "code",
   "execution_count": null,
   "metadata": {},
   "outputs": [],
   "source": [
    "util_bad, plant_bad = data_col_test(ferc_deprish_eia1, d, 'plant_balance_w_common')"
   ]
  },
  {
   "cell_type": "code",
   "execution_count": null,
   "metadata": {},
   "outputs": [],
   "source": [
    "plant_pks = ['report_year', 'utility_id_pudl', 'plant_id_pudl']\n",
    "\n",
    "plants = pudl_out.plants_eia860()\n",
    "plant_compare = (\n",
    "    pd.merge(\n",
    "        group_sum_col(fe, 'capex_total', by=plant_pks).add_suffix('_steam'),\n",
    "        group_sum_col(ferc_deprish_eia1[ferc_deprish_eia1.data_source == 'PUC'], 'plant_balance_w_common', by=plant_pks).add_suffix('_puc'),\n",
    "        how='outer', right_index=True, left_index=True,\n",
    "    )\n",
    "    .merge(\n",
    "        group_sum_col(ferc_deprish_eia1[ferc_deprish_eia1.data_source == 'FERC'], 'plant_balance_w_common', by=plant_pks).add_suffix('_edcfu'),\n",
    "        how='outer', right_index=True, left_index=True,\n",
    "    )\n",
    "    .assign(\n",
    "        edcfu_to_steam_diff=lambda x: x.plant_balance_w_common_edcfu / x.capex_total_steam,\n",
    "        edcfu_to_puc_diff=lambda x: x.plant_balance_w_common_edcfu / x.plant_balance_w_common_puc,\n",
    "        puc_to_steam_diff=lambda x: x.plant_balance_w_common_puc / x.capex_total_steam,\n",
    "    )\n",
    "    .reset_index()\n",
    "    .merge(\n",
    "        plants[['plant_id_pudl','plant_name_eia']].drop_duplicates(),\n",
    "        on=['plant_id_pudl']\n",
    "    )\n",
    "    .pipe(pudl.helpers.organize_cols, plant_pks + ['plant_name_eia', 'capex_total_steam', 'plant_balance_w_common_edcfu', 'plant_balance_w_common_puc'])\n",
    ")"
   ]
  },
  {
   "cell_type": "code",
   "execution_count": null,
   "metadata": {},
   "outputs": [],
   "source": [
    "plant_compare[\n",
    "    plant_compare.report_year.isin([2018, 2019, 2020])\n",
    "    & plant_compare.utility_id_pudl.isin([90,97])\n",
    "].to_csv('duke_plant_compare.csv', index=False)"
   ]
  },
  {
   "cell_type": "code",
   "execution_count": null,
   "metadata": {},
   "outputs": [],
   "source": []
  }
 ],
 "metadata": {
  "kernelspec": {
   "display_name": "Python 3 (ipykernel)",
   "language": "python",
   "name": "python3"
  },
  "language_info": {
   "codemirror_mode": {
    "name": "ipython",
    "version": 3
   },
   "file_extension": ".py",
   "mimetype": "text/x-python",
   "name": "python",
   "nbconvert_exporter": "python",
   "pygments_lexer": "ipython3",
   "version": "3.10.2"
  }
 },
 "nbformat": 4,
 "nbformat_minor": 4
}
