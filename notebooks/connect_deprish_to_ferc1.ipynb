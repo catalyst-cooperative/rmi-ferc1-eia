{
 "cells": [
  {
   "cell_type": "markdown",
   "metadata": {},
   "source": [
    "# Depreciation to FERC 1 Connection"
   ]
  },
  {
   "cell_type": "markdown",
   "metadata": {},
   "source": [
    "This stage in the connection process is very much under constuction"
   ]
  },
  {
   "cell_type": "code",
   "execution_count": null,
   "metadata": {},
   "outputs": [],
   "source": [
    "%load_ext autoreload\n",
    "%autoreload 2"
   ]
  },
  {
   "cell_type": "code",
   "execution_count": null,
   "metadata": {},
   "outputs": [],
   "source": [
    "import pandas as pd\n",
    "import numpy as np\n",
    "import pudl\n",
    "import sqlalchemy as sa\n",
    "import logging\n",
    "import sys\n",
    "\n",
    "import pudl_rmi\n",
    "from pudl_rmi.connect_deprish_to_ferc1 import *\n",
    "\n",
    "import warnings\n",
    "warnings.filterwarnings('ignore')"
   ]
  },
  {
   "cell_type": "code",
   "execution_count": null,
   "metadata": {},
   "outputs": [],
   "source": [
    "logger = logging.getLogger()\n",
    "logger.setLevel(logging.INFO)\n",
    "handler = logging.StreamHandler(stream=sys.stdout)\n",
    "formatter = logging.Formatter('%(message)s')\n",
    "handler.setFormatter(formatter)\n",
    "logger.handlers = [handler]\n",
    "\n",
    "pd.options.display.max_columns = None\n",
    "pd.options.display.max_rows = 60"
   ]
  },
  {
   "cell_type": "markdown",
   "metadata": {
    "tags": []
   },
   "source": [
    "## Make the output via rmi_out"
   ]
  },
  {
   "cell_type": "code",
   "execution_count": null,
   "metadata": {},
   "outputs": [],
   "source": [
    "# pudl output object\n",
    "pudl_settings = pudl.workspace.setup.get_defaults()\n",
    "pudl_engine = sa.create_engine(pudl_settings[\"pudl_db\"])\n",
    "pudl_out = pudl.output.pudltabl.PudlTabl(\n",
    "    pudl_engine,freq='AS',\n",
    "    fill_fuel_cost=True,\n",
    "    roll_fuel_cost=True,\n",
    "    fill_net_gen=True,\n",
    ")\n",
    "rmi_out = pudl_rmi.coordinate.Output(\n",
    "    pudl_out,\n",
    ")"
   ]
  },
  {
   "cell_type": "code",
   "execution_count": null,
   "metadata": {
    "tags": []
   },
   "outputs": [],
   "source": [
    "ppl, d, de, fe, scaled_df = rmi_out.grab_all(clobber_all=False)"
   ]
  },
  {
   "cell_type": "markdown",
   "metadata": {
    "tags": []
   },
   "source": [
    "## Make the output directly"
   ]
  },
  {
   "cell_type": "code",
   "execution_count": null,
   "metadata": {
    "tags": []
   },
   "outputs": [],
   "source": [
    "inputs = InputsManager(\n",
    "    plant_parts_eia=rmi_out.get_plant_part_list(),\n",
    "    deprish_eia=rmi_out.get_deprish_to_eia(clobber=False),\n",
    "    ferc1_to_eia=rmi_out.get_ferc1_to_eia(clobber=True),\n",
    ")\n",
    "matcher = MatchMaker(inputs)\n",
    "scaler = Scaler(matcher)\n",
    "scaled_df = scaler.scale()"
   ]
  },
  {
   "cell_type": "markdown",
   "metadata": {},
   "source": [
    "### Modernize Duke (Temp)"
   ]
  },
  {
   "cell_type": "code",
   "execution_count": null,
   "metadata": {},
   "outputs": [],
   "source": [
    "def fake_duke_deprish_eia_for_mod(de):\n",
    "    \"\"\"Temp function to fake Duke's deprish records for modernization.\"\"\"\n",
    "    logger.info(\"Adding fake years of Duke data....\")\n",
    "    cols_to_keep = [\n",
    "        'plant_part_name', 'utility_name_ferc1', 'report_year', 'report_date',\n",
    "        'plant_name_match', 'record_id_eia', 'line_id', 'utility_id_pudl',\n",
    "        'data_source'\n",
    "    ]\n",
    "    fake_year_dfs = []\n",
    "    for fake_year in [2019, 2020]:\n",
    "        de_fake_new_year = (\n",
    "            de[\n",
    "                de.utility_id_pudl.isin([90, 97])\n",
    "                & (de.report_date.dt.year == 2018)\n",
    "            ]\n",
    "        )\n",
    "        de_fake_new_year = (\n",
    "            de_fake_new_year.copy()\n",
    "            .assign(\n",
    "                report_year=fake_year,\n",
    "                report_date=pd.to_datetime(fake_year, format=\"%Y\")\n",
    "            )\n",
    "            .replace(\n",
    "                {\"record_id_eia\": \"_2018_\",\n",
    "                 \"line_id\": \"2018_\",},\n",
    "                {\"record_id_eia\": f\"_{fake_year}_\",\n",
    "                 \"line_id\": f\"{fake_year}_\"},\n",
    "                regex=True\n",
    "            )\n",
    "            [cols_to_keep]\n",
    "        )\n",
    "        fake_year_dfs.append(de_fake_new_year)\n",
    "    de_faked = pd.concat([de] + fake_year_dfs)\n",
    "    assert (~de_faked[de_faked.report_date.dt.year == 2020].empty)\n",
    "    return de_faked"
   ]
  },
  {
   "cell_type": "code",
   "execution_count": null,
   "metadata": {},
   "outputs": [],
   "source": [
    "de = fake_duke_deprish_eia_for_mod(de)\n",
    "de.to_pickle(pudl_rmi.DEPRISH_EIA_PKL)\n",
    "scaled_df = rmi_out.grab_deprish_to_ferc1(clobber=True)\n",
    "\n",
    "cols = [\n",
    "    'utility_name_ferc1_deprish',\n",
    "    'report_year',\n",
    "    'data_source',\n",
    "    'utility_id_ferc1_deprish',\n",
    "    'plant_part_name',\n",
    "    'plant_id_pudl',\n",
    "    'plant_balance_w_common',\n",
    "    'book_reserve_w_common',\n",
    "    'unaccrued_balance_w_common',\n",
    "    'depreciation_annual_epxns_w_common',\n",
    "    'depreciation_annual_rate',\n",
    "    'record_id_ferc1',\n",
    "    'record_id_eia_deprish',\n",
    "    'plant_name_eia_deprish',\n",
    "    'plant_part_deprish',\n",
    "    'capex_total_ferc1_deprish',\n",
    "    'capex_annual_addt_ferc1_deprish',\n",
    "]\n",
    "\n",
    "duke_out = (\n",
    "    scaled_df[\n",
    "        scaled_df.utility_id_pudl_deprish.isin([90,97])\n",
    "        & (scaled_df.report_year.isin([2018, 2019, 2020]))\n",
    "    ]\n",
    "    .pipe(pudl.helpers.organize_cols, cols)\n",
    "    .drop_duplicates([x for x in cols if x != 'record_id_ferc1'])\n",
    "    .sort_values(['utility_name_ferc1_deprish','plant_part_name', 'plant_id_pudl', 'report_year', 'data_source'])\n",
    ")\n",
    "\n",
    "duke_out.to_csv('duke_for_modernization.csv', index=False)"
   ]
  }
 ],
 "metadata": {
  "kernelspec": {
   "display_name": "Python 3 (ipykernel)",
   "language": "python",
   "name": "python3"
  },
  "language_info": {
   "codemirror_mode": {
    "name": "ipython",
    "version": 3
   },
   "file_extension": ".py",
   "mimetype": "text/x-python",
   "name": "python",
   "nbconvert_exporter": "python",
   "pygments_lexer": "ipython3",
   "version": "3.9.7"
  }
 },
 "nbformat": 4,
 "nbformat_minor": 4
}
