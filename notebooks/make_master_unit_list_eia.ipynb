{
 "cells": [
  {
   "cell_type": "markdown",
   "metadata": {},
   "source": [
    "## Recreating the Master Unit List"
   ]
  },
  {
   "cell_type": "markdown",
   "metadata": {},
   "source": [
    "#### setup/imports"
   ]
  },
  {
   "cell_type": "code",
   "execution_count": 1,
   "metadata": {},
   "outputs": [],
   "source": [
    "%load_ext autoreload\n",
    "%autoreload 2"
   ]
  },
  {
   "cell_type": "code",
   "execution_count": 2,
   "metadata": {},
   "outputs": [],
   "source": [
    "import pandas as pd\n",
    "import numpy as np\n",
    "import pudl\n",
    "import pudl.constants as pc\n",
    "import pudl.extract.ferc1\n",
    "import sqlalchemy as sa\n",
    "import logging\n",
    "import sys\n",
    "import copy\n",
    "import pathlib\n",
    "from copy import deepcopy"
   ]
  },
  {
   "cell_type": "code",
   "execution_count": 3,
   "metadata": {},
   "outputs": [],
   "source": [
    "import matplotlib.pyplot as plt\n",
    "import matplotlib as mpl\n",
    "%matplotlib inline"
   ]
  },
  {
   "cell_type": "code",
   "execution_count": 113,
   "metadata": {},
   "outputs": [],
   "source": [
    "sys.path.append(\"../\") # go to parent dir\n",
    "from plant_part_agg_eia import *\n",
    "pd.options.display.max_columns = None"
   ]
  },
  {
   "cell_type": "code",
   "execution_count": 5,
   "metadata": {},
   "outputs": [],
   "source": [
    "logger = logging.getLogger()\n",
    "logger.setLevel(logging.INFO)\n",
    "handler = logging.StreamHandler(stream=sys.stdout)\n",
    "formatter = logging.Formatter('%(message)s')\n",
    "handler.setFormatter(formatter)\n",
    "logger.handlers = [handler]"
   ]
  },
  {
   "cell_type": "markdown",
   "metadata": {},
   "source": [
    "#### defining a table grabbing objectDEBUG"
   ]
  },
  {
   "cell_type": "code",
   "execution_count": 7,
   "metadata": {},
   "outputs": [],
   "source": [
    "pudl_settings = pudl.workspace.setup.get_defaults()\n",
    "pudl_engine = sa.create_engine(pudl_settings[\"pudl_db\"])\n",
    "freq='AS'\n",
    "pudl_out = pudl.output.pudltabl.PudlTabl(pudl_engine,freq=freq,roll=True,fill=True)"
   ]
  },
  {
   "cell_type": "code",
   "execution_count": 70,
   "metadata": {},
   "outputs": [],
   "source": [
    "table_compiler = CompileTables(pudl_engine, freq='AS', rolling=True)"
   ]
  },
  {
   "cell_type": "code",
   "execution_count": 84,
   "metadata": {},
   "outputs": [],
   "source": [
    "self = CompilePlantParts(table_compiler,clobber=True)"
   ]
  },
  {
   "cell_type": "code",
   "execution_count": 123,
   "metadata": {},
   "outputs": [
    {
     "name": "stdout",
     "output_type": "stream",
     "text": [
      "begin aggregation for: plant_ferc_acct\n",
      "begin aggregation for: plant_prime_fuel\n",
      "begin aggregation for: plant_technology\n",
      "begin aggregation for: plant_prime_mover\n",
      "begin aggregation for: plant_gen\n",
      "begin aggregation for: plant_unit\n",
      "begin aggregation for: plant\n",
      "grabbing utilities_eia from the sqlite db\n",
      "Converting the dtypes of: utilities_eia\n",
      "grabbing plants_eia from the sqlite db\n",
      "Converting the dtypes of: plants_eia\n",
      "CPU times: user 5min 26s, sys: 45.3 s, total: 6min 11s\n",
      "Wall time: 7min 47s\n"
     ]
    }
   ],
   "source": [
    "%%time\n",
    "plant_parts_df = self.generate_master_unit_list(qual_records=True)"
   ]
  },
  {
   "cell_type": "code",
   "execution_count": 125,
   "metadata": {},
   "outputs": [],
   "source": [
    "file_path_mul = pathlib.Path().cwd().parent /  'master_unit_list.csv.gz'\n",
    "plant_parts_df.to_csv(file_path_mul, compression='gzip')"
   ]
  },
  {
   "cell_type": "code",
   "execution_count": 126,
   "metadata": {},
   "outputs": [],
   "source": [
    "file_path_mul_p = pathlib.Path().cwd().parent /  'master_unit_list.pkl.gz'\n",
    "plant_parts_df.to_pickle(file_path_mul_p, compression='gzip')"
   ]
  },
  {
   "cell_type": "code",
   "execution_count": 127,
   "metadata": {},
   "outputs": [],
   "source": [
    "file_path_mul_p = pathlib.Path().cwd().parent /  'master_unit_list.pkl.gz'\n",
    "plant_parts_df_pkl = pd.read_pickle(file_path_mul_p, compression='gzip')"
   ]
  },
  {
   "cell_type": "code",
   "execution_count": null,
   "metadata": {},
   "outputs": [],
   "source": [
    "#plant_id = 57848 #solar lanfill gas simple case\n",
    "plant_id = 55433\n",
    "plant_part = 'plant'\n",
    "own = 'owned'\n",
    "year = 2018"
   ]
  },
  {
   "cell_type": "code",
   "execution_count": null,
   "metadata": {},
   "outputs": [],
   "source": [
    "df = self.plant_gen_df\n",
    "df[(df.plant_id_eia == plant_id)\n",
    "   & (df.report_date.dt.year == year)\n",
    "   & (df.ownership == own)\n",
    "]"
   ]
  },
  {
   "cell_type": "code",
   "execution_count": null,
   "metadata": {},
   "outputs": [],
   "source": [
    "df = plant_parts_df\n",
    "df[(df.plant_part == plant_part)\n",
    "   & (df.plant_id_eia == plant_id)\n",
    "   & (df.report_date.dt.year == year)\n",
    "][by_cols + ['capacity_mw','fraction_owned']]"
   ]
  },
  {
   "cell_type": "code",
   "execution_count": null,
   "metadata": {},
   "outputs": [],
   "source": [
    "plant_parts_test[\n",
    "    (~plant_parts_test.sum_frac_owned.between(.9,1.1))\n",
    "    & (plant_parts_test.plant_part == 'plant')\n",
    "    & (plant_parts_test.plant_id_eia == 55433)\n",
    "    & (plant_parts_test.report_date.dt.year == year)\n",
    "][by_cols + ['capacity_mw','fraction_owned','sum_frac_owned']]"
   ]
  },
  {
   "cell_type": "code",
   "execution_count": null,
   "metadata": {},
   "outputs": [],
   "source": [
    "df = plant_parts_test\n",
    "df[(df.plant_id_eia == plant_id)\n",
    "   & (df.plant_part == plant_part)\n",
    "   & (df.ownership == own)\n",
    "   & (df.report_date.dt.year == year)\n",
    "  ]"
   ]
  },
  {
   "cell_type": "code",
   "execution_count": null,
   "metadata": {},
   "outputs": [],
   "source": [
    "# run grouby tests.. we want only True's\n",
    "self.test_run_aggregations()"
   ]
  },
  {
   "cell_type": "code",
   "execution_count": null,
   "metadata": {},
   "outputs": [],
   "source": [
    "gb_df = (self.plant_gen_df[self.plant_gen_df['ownership'] == 'owned']\n",
    "         .groupby(by=['plant_id_eia','report_date'])\n",
    "         .agg({'generator_id': 'nunique',\n",
    "               'utility_id_eia':'nunique',})\n",
    "    .reset_index()\n",
    ")\n",
    "gb_df.mean()"
   ]
  },
  {
   "cell_type": "code",
   "execution_count": null,
   "metadata": {},
   "outputs": [],
   "source": [
    "logger.info(len(plant_parts_df[(plant_parts_df.ownership == 'owned')\n",
    "                               & plant_parts_df.true_gran]))\n",
    "logger.info(len(plant_parts_df[(plant_parts_df.ownership == 'total')\n",
    "                               & plant_parts_df.true_gran]))\n",
    "logger.info(len(plant_parts_df[plant_parts_df.true_gran]))"
   ]
  },
  {
   "cell_type": "markdown",
   "metadata": {},
   "source": [
    "### Investigate Full Cost Nulls"
   ]
  },
  {
   "cell_type": "code",
   "execution_count": null,
   "metadata": {},
   "outputs": [],
   "source": [
    "%%time\n",
    "table_compiler_no_freq = CompileTables(pudl_engine)\n",
    "# this cell takes a long time.. fyi\n",
    "frc = table_compiler_no_freq.grab_the_table('fuel_receipts_costs_eia923')\n",
    "mcoe = table_compiler.grab_the_table('mcoe')"
   ]
  },
  {
   "cell_type": "code",
   "execution_count": null,
   "metadata": {},
   "outputs": [],
   "source": [
    "def count_the_unique_plants(df, count_col):\n",
    "    df = df.astype({'report_date':'datetime64[ns]'})\n",
    "    df = df.assign(report_year=df.report_date.dt.year)\n",
    "    return (len(df[(df[count_col].notnull())\n",
    "                   & (df[count_col] != 0)].\n",
    "              drop_duplicates(subset=['plant_id_eia','report_year'])))"
   ]
  },
  {
   "cell_type": "code",
   "execution_count": null,
   "metadata": {},
   "outputs": [],
   "source": [
    "# these values should be more or less the same, assuming that there isn't a ton of lost records\n",
    "# we should expect that the number of records in the main fuel table to be the most complete\n",
    "logger.info('Fuel Table:          ' + str(count_the_unique_plants(frc,'fuel_cost_per_mmbtu')))\n",
    "logger.info('MCOE Table:          ' + str(count_the_unique_plants(mcoe,'fuel_cost_per_mmbtu')))\n",
    "logger.info('Master Unit List:    ' + str(count_the_unique_plants(plant_parts_df,'fuel_cost_per_mmbtu')))\n",
    "logger.info('Generators from MUL: ' + str(count_the_unique_plants(plant_parts_df[plant_parts_df['plant_part'] == 'plant_gen'],'fuel_cost_per_mmbtu')))"
   ]
  },
  {
   "cell_type": "code",
   "execution_count": null,
   "metadata": {},
   "outputs": [],
   "source": [
    "clobber = True\n",
    "file_pathz = pathlib.Path().cwd() / 'blajgvf'"
   ]
  },
  {
   "cell_type": "code",
   "execution_count": null,
   "metadata": {},
   "outputs": [],
   "source": [
    "plant_parts_df.to_csv('master_unit_list.csv')"
   ]
  },
  {
   "cell_type": "code",
   "execution_count": null,
   "metadata": {},
   "outputs": [],
   "source": [
    "plant_parts_df[((plant_parts_df['report_year'] == 2018) |(plant_parts_df['report_year'] == 2015))\n",
    "               & ((plant_parts_df['utility_id_pudl'] == 302) |(plant_parts_df['utility_id_pudl'] == 301))\n",
    "              ].to_csv('master_unit_list_2015_2018.csv')"
   ]
  },
  {
   "cell_type": "code",
   "execution_count": null,
   "metadata": {},
   "outputs": [],
   "source": [
    "compiled_plant_parts = {}\n",
    "compiled_plant_parts_true = {}\n",
    "true_parts_df = plant_parts_df[plant_parts_df.true_gran]\n",
    "for part in plant_parts.keys():\n",
    "    part_df = plant_parts_df[(plant_parts_df['plant_part'] == part)]\n",
    "    compiled_plant_parts_true[part] = true_parts_df[(true_parts_df['plant_part'] == part)]\n",
    "    compiled_plant_parts[part] = part_df"
   ]
  },
  {
   "cell_type": "code",
   "execution_count": null,
   "metadata": {},
   "outputs": [],
   "source": [
    "def plot_plant_vs_agg(compiled_plant_parts, field, xy_limits, scale):\n",
    "    \"\"\"\n",
    "    Make plots to compare FERC & EIA reported values for Coal & Gas plants.\n",
    "    \n",
    "    For each of the fields specified in fields_to_plot, create a pair of plots,\n",
    "    one for 'gas' and one for 'coal' in the same frame, showing the EIA quantity\n",
    "    vs. the FERC quantity in a scatter plot.\n",
    "    \"\"\"\n",
    "    for plant_gran, df in compiled_plant_parts.items():\n",
    "        if plant_gran != 'plant':\n",
    "            field_plant = field+'_plant'\n",
    "            field_gran = field+'_'+plant_gran\n",
    "            try:\n",
    "                merge_df = compiled_plant_parts['plant'].merge(df, on=['plant_id_eia', \n",
    "                                                                       'report_date',\n",
    "                                                                       'utility_id_eia',\n",
    "                                                                       'ownership'\n",
    "                                                                      ], suffixes=('_plant','_' + plant_gran))\n",
    "                # this is for the try\n",
    "                merge_df[field_gran]\n",
    "                #merge_df = merge_df[merge_df['plant_id_eia'] == 3]\n",
    "                fig, (ax) = plt.subplots(ncols=1, nrows=1, figsize=(5, 5))\n",
    "                ax.scatter(merge_df[field_plant],\n",
    "                           merge_df[field_gran],\n",
    "                           color='black', alpha='0.1', label=field)\n",
    "                ax.set_ylim(xy_limits[field][0],xy_limits[field][1])\n",
    "                ax.set_xlim(xy_limits[field][0],xy_limits[field][1])\n",
    "                ax.set_xscale(scale)\n",
    "                ax.set_yscale(scale)\n",
    "                ax.set_ylabel(f'{plant_gran} {field}')\n",
    "                ax.set_xlabel(f'Plant {field}')\n",
    "                ax.set_title(f\"Plant vs {plant_gran}: {field}\")\n",
    "            except KeyError:\n",
    "                pass"
   ]
  },
  {
   "cell_type": "code",
   "execution_count": null,
   "metadata": {},
   "outputs": [],
   "source": [
    "fields_to_plot = [\n",
    "    # Simple Quantities\n",
    "    'capacity_mw',\n",
    "    'net_generation_mwh',\n",
    "    'total_mmbtu',\n",
    "    # Derived values\n",
    "    #'capacity_factor',\n",
    "    'heat_rate_mmbtu_mwh',\n",
    "    'fuel_cost_per_mwh',\n",
    "    'fuel_cost_per_mmbtu',\n",
    "    'total_fuel_cost'\n",
    "]\n",
    "\n",
    "xy_limits = {\n",
    "    # Simple Quantities\n",
    "    'capacity_mw': (1e0, 1e4),\n",
    "    'net_generation_mwh': (1e3,1e8),\n",
    "    'total_mmbtu': (1e4,1e9),\n",
    "    # Derived values\n",
    "    'capacity_factor': (0,1.0),\n",
    "    'heat_rate_mmbtu_mwh': (6,16),\n",
    "    'fuel_cost_per_mwh': (10,80),\n",
    "    'fuel_cost_per_mmbtu': (1e0,1e1),\n",
    "    'total_fuel_cost': (1e7,1e9)\n",
    "}\n",
    "\n",
    "for field in fields_to_plot:\n",
    "    plot_plant_vs_agg(compiled_plant_parts,field, xy_limits, scale=\"log\")"
   ]
  },
  {
   "cell_type": "code",
   "execution_count": null,
   "metadata": {},
   "outputs": [],
   "source": [
    "def plot_gens_vs(compiled_plant_parts,part_name, data_col, weight_col, x_range):\n",
    "    gen_df = compiled_plant_parts['plant_gen'][compiled_plant_parts['plant_gen'][data_col] != 0]\n",
    "    part_df = compiled_plant_parts[part_name][compiled_plant_parts[part_name][data_col] != 0]\n",
    "    if weight_col:\n",
    "        weights_gen = gen_df[weight_col]\n",
    "        weights_part = part_df[weight_col]\n",
    "    else:\n",
    "        weights_gen = None\n",
    "        weights_part = None\n",
    "\n",
    "    plt.hist(gen_df[data_col], \n",
    "             weights=weights_gen,\n",
    "             range=x_range,\n",
    "             bins=100,\n",
    "             color=\"purple\", #alpha=test_alpha,\n",
    "             label=\"Generators\")\n",
    "\n",
    "    plt.hist(part_df[data_col], \n",
    "             weights=weights_part,\n",
    "             range=x_range,\n",
    "             bins=100,\n",
    "             color=\"black\",\n",
    "             label=f'{part_name}')\n",
    "\n",
    "    plt.title(f'Gens vs. {part_name}: {data_col}')\n",
    "    plt.xlabel(data_col)\n",
    "    plt.ylabel(None)\n",
    "    plt.legend()\n",
    "    plt.show()"
   ]
  },
  {
   "cell_type": "code",
   "execution_count": null,
   "metadata": {},
   "outputs": [],
   "source": [
    "x_ranges = {\n",
    "    'capacity_mw' : (0,400),\n",
    "    'net_generation_mwh': (0, 2500000),\n",
    "    'fuel_cost_per_mmbtu': (0, 5),\n",
    "    'fuel_cost_per_mwh': (0, 100),\n",
    "    'total_fuel_cost': (0,200000000)\n",
    "}"
   ]
  },
  {
   "cell_type": "code",
   "execution_count": null,
   "metadata": {},
   "outputs": [],
   "source": [
    "for part_name in compiled_plant_parts.keys():\n",
    "    data_col =  'net_generation_mwh'\n",
    "    weight_col = 'capacity_mw'\n",
    "    plot_gens_vs(compiled_plant_parts,\n",
    "                 part_name=part_name,\n",
    "                 data_col=data_col, \n",
    "                 weight_col=weight_col,\n",
    "                 x_range=x_ranges[data_col])"
   ]
  },
  {
   "cell_type": "code",
   "execution_count": null,
   "metadata": {},
   "outputs": [],
   "source": [
    "for part_name in compiled_plant_parts.keys():\n",
    "    data_col =  'total_fuel_cost'\n",
    "    weight_col = 'capacity_mw'\n",
    "    plot_gens_vs(compiled_plant_parts,\n",
    "                 part_name=part_name,\n",
    "                 data_col=data_col, \n",
    "                 weight_col=weight_col,\n",
    "                 x_range=x_ranges[data_col])"
   ]
  },
  {
   "cell_type": "code",
   "execution_count": null,
   "metadata": {
    "scrolled": true
   },
   "outputs": [],
   "source": [
    "for part_name in compiled_plant_parts.keys():\n",
    "    data_col =  'fuel_cost_per_mwh'\n",
    "    weight_col = 'capacity_mw'\n",
    "    plot_gens_vs(compiled_plant_parts,\n",
    "                 part_name=part_name,\n",
    "                 data_col=data_col, \n",
    "                 weight_col=weight_col,\n",
    "                 x_range=x_ranges[data_col])"
   ]
  },
  {
   "cell_type": "code",
   "execution_count": null,
   "metadata": {
    "scrolled": true,
    "slideshow": {
     "slide_type": "slide"
    }
   },
   "outputs": [],
   "source": [
    "for part_name in compiled_plant_parts.keys():\n",
    "    data_col =  'fuel_cost_per_mmbtu'\n",
    "    weight_col = 'capacity_mw'\n",
    "    plot_gens_vs(compiled_plant_parts,\n",
    "                 part_name=part_name,\n",
    "                 data_col=data_col, \n",
    "                 weight_col=weight_col,\n",
    "                 x_range=x_ranges[data_col])"
   ]
  },
  {
   "cell_type": "markdown",
   "metadata": {},
   "source": [
    "## Playing with the compiled outputs "
   ]
  },
  {
   "cell_type": "code",
   "execution_count": null,
   "metadata": {},
   "outputs": [],
   "source": [
    "null_zeros = {0:np.NaN}\n",
    "count_df = pd.DataFrame(index=list(compiled_plant_parts['plant'].columns))\n",
    "for k,cpp_df in compiled_plant_parts.items():\n",
    "    cpp_df = cpp_df.replace({\n",
    "        'net_generation_mwh':null_zeros,\n",
    "        'capacity_factor' : null_zeros,\n",
    "        'fuel_cost_per_mmbtu': null_zeros,\n",
    "        'fuel_cost_per_mwh': null_zeros,\n",
    "        'capacity_mw': null_zeros,\n",
    "                        })\n",
    "    count_df = count_df.merge(\n",
    "        pd.DataFrame(cpp_df[cpp_df['report_date'].dt.year == 2018]\n",
    "                     .count(), columns=[k]),\n",
    "        right_index=True, left_index=True)\n",
    "count_df = count_df.merge(pd.DataFrame(count_df.sum(axis=1),columns=['total']),\n",
    "                          right_index=True, left_index=True)\n",
    "count_df"
   ]
  },
  {
   "cell_type": "code",
   "execution_count": null,
   "metadata": {},
   "outputs": [],
   "source": [
    "mcoe = table_compiler._dfs['mcoe']\n",
    "gen_ent = table_compiler._dfs['generators_entity_eia']\n",
    "plants_eia = table_compiler._dfs['plants_eia']"
   ]
  },
  {
   "cell_type": "markdown",
   "metadata": {},
   "source": [
    "### Exploration of Colstrip...\n",
    "This next section is a temporary exploration of colstrip as an example of how ownership slicing now works and where the nulls in fuel cost data originates."
   ]
  },
  {
   "cell_type": "code",
   "execution_count": null,
   "metadata": {},
   "outputs": [],
   "source": [
    "plant_id = 6076 # colstrip"
   ]
  },
  {
   "cell_type": "code",
   "execution_count": null,
   "metadata": {},
   "outputs": [],
   "source": [
    "df = frc\n",
    "df[(df['plant_id_eia'] == plant_id)\n",
    "   & (df['report_date'].dt.year == 2016)\n",
    "#   & (df['utility_id_eia'] == 15298)\n",
    "  ].head(1)"
   ]
  },
  {
   "cell_type": "code",
   "execution_count": null,
   "metadata": {},
   "outputs": [],
   "source": [
    "df = mcoe\n",
    "df[(df['plant_id_eia'] == plant_id)\n",
    "   & (df['report_date'].dt.year == 2016)\n",
    "   & (df['utility_id_eia'] == 15298)\n",
    "  ]"
   ]
  },
  {
   "cell_type": "code",
   "execution_count": null,
   "metadata": {},
   "outputs": [],
   "source": [
    "df = plant_parts_df\n",
    "df[(df['plant_id_eia'] == plant_id)\n",
    "   & (df['report_date'].dt.year == 2016)\n",
    "   & (df['utility_id_eia'] == 15298)\n",
    "   & ((df['plant_part'] == 'plant') | (df['plant_part'] == 'plant_gen'))\n",
    "   #& (df['ownership'] == 'owned')\n",
    "  ].head()"
   ]
  },
  {
   "cell_type": "code",
   "execution_count": null,
   "metadata": {},
   "outputs": [],
   "source": [
    "df = self.plant_gen_df\n",
    "df[(df['plant_id_eia'] == plant_id)\n",
    "   & (df['report_date'].dt.year == 2016)\n",
    "   & (df['utility_id_eia'] == 15298)\n",
    "   #& ((df['plant_part'] == 'plant') | (df['plant_part'] == 'plant_gen'))\n",
    "   #& (df['ownership'] == 'owned')\n",
    "  ]"
   ]
  },
  {
   "cell_type": "code",
   "execution_count": null,
   "metadata": {},
   "outputs": [],
   "source": [
    "df = plant_parts_df\n",
    "df[(df['plant_id_eia'] == plant_id)\n",
    "   & (df['report_date'].dt.year == 2016)\n",
    "   & (df['plant_part'] == 'plant_gen')\n",
    "  ].head(2)"
   ]
  },
  {
   "cell_type": "code",
   "execution_count": null,
   "metadata": {},
   "outputs": [],
   "source": [
    "df = self.plant_gen_df\n",
    "df[(df['plant_id_eia'] == plant_id)\n",
    "   & (df['report_date'].dt.year == 2016)\n",
    "  ].head(2)"
   ]
  }
 ],
 "metadata": {
  "kernelspec": {
   "display_name": "Python 3",
   "language": "python",
   "name": "python3"
  },
  "language_info": {
   "codemirror_mode": {
    "name": "ipython",
    "version": 3
   },
   "file_extension": ".py",
   "mimetype": "text/x-python",
   "name": "python",
   "nbconvert_exporter": "python",
   "pygments_lexer": "ipython3",
   "version": "3.8.2"
  }
 },
 "nbformat": 4,
 "nbformat_minor": 4
}
