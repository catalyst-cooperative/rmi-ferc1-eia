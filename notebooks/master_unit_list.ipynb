{
 "cells": [
  {
   "cell_type": "markdown",
   "metadata": {},
   "source": [
    "## Recreating the Master Unit List"
   ]
  },
  {
   "cell_type": "markdown",
   "metadata": {},
   "source": [
    "#### setup/imports"
   ]
  },
  {
   "cell_type": "code",
   "execution_count": null,
   "metadata": {},
   "outputs": [],
   "source": [
    "%load_ext autoreload\n",
    "%autoreload 2"
   ]
  },
  {
   "cell_type": "code",
   "execution_count": null,
   "metadata": {},
   "outputs": [],
   "source": [
    "import pandas as pd\n",
    "import numpy as np\n",
    "import pudl\n",
    "import pudl.constants as pc\n",
    "import pudl.extract.ferc1\n",
    "import sqlalchemy as sa\n",
    "import logging\n",
    "import sys\n",
    "import copy\n",
    "from copy import deepcopy"
   ]
  },
  {
   "cell_type": "code",
   "execution_count": null,
   "metadata": {},
   "outputs": [],
   "source": [
    "import matplotlib.pyplot as plt\n",
    "import matplotlib as mpl\n",
    "%matplotlib inline"
   ]
  },
  {
   "cell_type": "code",
   "execution_count": null,
   "metadata": {},
   "outputs": [],
   "source": [
    "import sys\n",
    "sys.path.append(\"../\") # go to parent dir\n",
    "from plant_part_agg_eia import *\n",
    "from plant_parts import plant_parts"
   ]
  },
  {
   "cell_type": "code",
   "execution_count": null,
   "metadata": {},
   "outputs": [],
   "source": [
    "logger = logging.getLogger()\n",
    "logger.setLevel(logging.INFO)\n",
    "handler = logging.StreamHandler(stream=sys.stdout)\n",
    "formatter = logging.Formatter('%(message)s')\n",
    "handler.setFormatter(formatter)\n",
    "logger.handlers = [handler]"
   ]
  },
  {
   "cell_type": "markdown",
   "metadata": {},
   "source": [
    "#### defining a table grabbing object"
   ]
  },
  {
   "cell_type": "code",
   "execution_count": null,
   "metadata": {},
   "outputs": [],
   "source": [
    "pudl_settings = pudl.workspace.setup.get_defaults()\n",
    "pudl_engine = sa.create_engine(pudl_settings[\"pudl_db\"])\n",
    "pt = pudl.output.pudltabl.get_table_meta(pudl_engine)\n",
    "start_date=None\n",
    "end_date=None\n",
    "freq='AS'"
   ]
  },
  {
   "cell_type": "code",
   "execution_count": null,
   "metadata": {},
   "outputs": [],
   "source": [
    "from plant_parts import plant_parts"
   ]
  },
  {
   "cell_type": "code",
   "execution_count": null,
   "metadata": {},
   "outputs": [],
   "source": [
    "table_complier = CompileTables(pudl_engine, freq=freq, rolling=True)"
   ]
  },
  {
   "cell_type": "code",
   "execution_count": null,
   "metadata": {},
   "outputs": [],
   "source": [
    "self = CompilePlantParts(table_complier)"
   ]
  },
  {
   "cell_type": "code",
   "execution_count": null,
   "metadata": {
    "scrolled": true
   },
   "outputs": [],
   "source": [
    "compiled_plant_parts, parts_df = self.generate_master_unit_list(plant_parts)"
   ]
  },
  {
   "cell_type": "code",
   "execution_count": null,
   "metadata": {},
   "outputs": [],
   "source": [
    "# for non-plant plant parts, count if there are more than 1 plant_id_eia.\n",
    "# if only one, remove."
   ]
  },
  {
   "cell_type": "code",
   "execution_count": null,
   "metadata": {},
   "outputs": [],
   "source": [
    "def plot_plant_vs_agg(compiled_plant_parts, field, xy_limits, scale):\n",
    "    \"\"\"\n",
    "    Make plots to compare FERC & EIA reported values for Coal & Gas plants.\n",
    "    \n",
    "    For each of the fields specified in fields_to_plot, create a pair of plots,\n",
    "    one for 'gas' and one for 'coal' in the same frame, showing the EIA quantity\n",
    "    vs. the FERC quantity in a scatter plot.\n",
    "    \"\"\"\n",
    "    for plant_gran, df in compiled_plant_parts.items():\n",
    "        if plant_gran != 'plant':\n",
    "            field_plant = field+'_plant'\n",
    "            field_gran = field+'_'+plant_gran\n",
    "            try:\n",
    "                merge_df = compiled_plant_parts['plant'].merge(df, on=['plant_id_eia', \n",
    "                                                                       'report_date',\n",
    "                                                                       'utility_id_eia',\n",
    "                                                                       'fraction_owned'\n",
    "                                                                      ], suffixes=('_plant','_' + plant_gran))\n",
    "                # this is for the try\n",
    "                merge_df[field_gran]\n",
    "                #merge_df = merge_df[merge_df['plant_id_eia'] == 3]\n",
    "                fig, (ax) = plt.subplots(ncols=1, nrows=1, figsize=(5, 5))\n",
    "                ax.scatter(merge_df[field_plant],\n",
    "                           merge_df[field_gran],\n",
    "                           color='black', alpha='0.1', label=field)\n",
    "                ax.set_ylim(xy_limits[field][0],xy_limits[field][1])\n",
    "                ax.set_xlim(xy_limits[field][0],xy_limits[field][1])\n",
    "                ax.set_xscale(scale)\n",
    "                ax.set_yscale(scale)\n",
    "                ax.set_ylabel(f'{plant_gran} {field}')\n",
    "                ax.set_xlabel(f'Plant {field}')\n",
    "                ax.set_title(f\"Plant vs {plant_gran}: {field}\")\n",
    "            except KeyError:\n",
    "                pass"
   ]
  },
  {
   "cell_type": "code",
   "execution_count": null,
   "metadata": {
    "scrolled": true
   },
   "outputs": [],
   "source": [
    "fields_to_plot = [\n",
    "    # Simple Quantities\n",
    "    'capacity_mw',\n",
    "    #'opex_fuel',\n",
    "    'net_generation_mwh',\n",
    "    'total_mmbtu',\n",
    "    # Derived values\n",
    "    #'capacity_factor',\n",
    "    'heat_rate_mmbtu_mwh',\n",
    "    'fuel_cost_per_mwh',\n",
    "    'fuel_cost_per_mmbtu',\n",
    "    'total_fuel_cost'\n",
    "]\n",
    "\n",
    "xy_limits = {\n",
    "    # Simple Quantities\n",
    "    'capacity_mw': (1e0, 1e4),\n",
    "    'net_generation_mwh': (1e3,1e8),\n",
    "    'total_mmbtu': (1e4,1e9),\n",
    "    # Derived values\n",
    "    'capacity_factor': (0,1.0),\n",
    "    'heat_rate_mmbtu_mwh': (6,16),\n",
    "    'fuel_cost_per_mwh': (10,80),\n",
    "    'fuel_cost_per_mmbtu': (1e0,1e1),\n",
    "    'total_fuel_cost': (1e7,1e9)\n",
    "}\n",
    "\n",
    "for field in fields_to_plot:\n",
    "    plot_plant_vs_agg(compiled_plant_parts,field, xy_limits, scale=\"log\")"
   ]
  },
  {
   "cell_type": "code",
   "execution_count": null,
   "metadata": {},
   "outputs": [],
   "source": [
    "def plot_gens_vs(compiled_plant_parts,part_name, data_col, weight_col, x_range):\n",
    "    gen_df = compiled_plant_parts['plant_gen'][compiled_plant_parts['plant_gen'][data_col] != 0]\n",
    "    part_df = compiled_plant_parts[part_name][compiled_plant_parts[part_name][data_col] != 0]\n",
    "    if weight_col:\n",
    "        weights_gen = gen_df[weight_col]\n",
    "        weights_part = part_df[weight_col]\n",
    "    else:\n",
    "        weights_gen = None\n",
    "        weights_part = None\n",
    "\n",
    "    plt.hist(gen_df[data_col], \n",
    "             weights=weights_gen,\n",
    "             range=x_range,\n",
    "             bins=100,\n",
    "             color=\"purple\", #alpha=test_alpha,\n",
    "             label=\"Generators\")\n",
    "\n",
    "    plt.hist(part_df[data_col], \n",
    "             weights=weights_part,\n",
    "             range=x_range,\n",
    "             bins=100,\n",
    "             color=\"black\",\n",
    "             label=f'{part_name}')\n",
    "\n",
    "    plt.title(f'Gens vs. {part_name}: {data_col}')\n",
    "    plt.xlabel(data_col)\n",
    "    plt.ylabel(None)\n",
    "    plt.legend()\n",
    "    plt.show()"
   ]
  },
  {
   "cell_type": "code",
   "execution_count": null,
   "metadata": {},
   "outputs": [],
   "source": [
    "x_ranges = {\n",
    "    'capacity_mw' : (0,400),\n",
    "    'net_generation_mwh': (0, 2500000),\n",
    "    'fuel_cost_per_mmbtu': (0, 5),\n",
    "    'fuel_cost_per_mwh': (0, 100),\n",
    "    'total_fuel_cost': (0,200000000)\n",
    "}"
   ]
  },
  {
   "cell_type": "code",
   "execution_count": null,
   "metadata": {
    "scrolled": true
   },
   "outputs": [],
   "source": [
    "for part_name in compiled_plant_parts.keys():\n",
    "    data_col =  'net_generation_mwh'\n",
    "    weight_col = 'capacity_mw'\n",
    "    plot_gens_vs(compiled_plant_parts,\n",
    "                 part_name=part_name,\n",
    "                 data_col=data_col, \n",
    "                 weight_col=weight_col,\n",
    "                 x_range=x_ranges[data_col])"
   ]
  },
  {
   "cell_type": "code",
   "execution_count": null,
   "metadata": {
    "scrolled": true
   },
   "outputs": [],
   "source": [
    "for part_name in compiled_plant_parts.keys():\n",
    "    data_col =  'total_fuel_cost'\n",
    "    weight_col = 'capacity_mw'\n",
    "    plot_gens_vs(compiled_plant_parts,\n",
    "                 part_name=part_name,\n",
    "                 data_col=data_col, \n",
    "                 weight_col=weight_col,\n",
    "                 x_range=x_ranges[data_col])"
   ]
  },
  {
   "cell_type": "code",
   "execution_count": null,
   "metadata": {
    "scrolled": true
   },
   "outputs": [],
   "source": [
    "for part_name in compiled_plant_parts.keys():\n",
    "    data_col =  'fuel_cost_per_mwh'\n",
    "    weight_col = 'capacity_mw'\n",
    "    plot_gens_vs(compiled_plant_parts,\n",
    "                 part_name=part_name,\n",
    "                 data_col=data_col, \n",
    "                 weight_col=weight_col,\n",
    "                 x_range=x_ranges[data_col])"
   ]
  },
  {
   "cell_type": "code",
   "execution_count": null,
   "metadata": {
    "scrolled": true,
    "slideshow": {
     "slide_type": "slide"
    }
   },
   "outputs": [],
   "source": [
    "for part_name in compiled_plant_parts.keys():\n",
    "    data_col =  'fuel_cost_per_mmbtu'\n",
    "    weight_col = 'capacity_mw'\n",
    "    plot_gens_vs(compiled_plant_parts,\n",
    "                 part_name=part_name,\n",
    "                 data_col=data_col, \n",
    "                 weight_col=weight_col,\n",
    "                 x_range=x_ranges[data_col])"
   ]
  },
  {
   "cell_type": "markdown",
   "metadata": {},
   "source": [
    "## Playing with the compiled outputs "
   ]
  },
  {
   "cell_type": "code",
   "execution_count": null,
   "metadata": {},
   "outputs": [],
   "source": [
    "# various tables to poke at for debuging\n",
    "generat923 = self.grab_the_table('generation_eia923')\n",
    "gens860 = self.grab_the_table('generators_eia860')\n",
    "bga860 = self.grab_the_table('boiler_generator_assn_eia860')\n",
    "own860 = self.grab_the_table('ownership_eia860')\n",
    "plant = compiled_plant_parts['plant']\n",
    "plant_gen = compiled_plant_parts['plant_gen']\n",
    "plant_unit = compiled_plant_parts['plant_unit']\n",
    "plant_fuel = compiled_plant_parts['plant_prime_fuel']\n",
    "plant_tech = compiled_plant_parts['plant_technology']\n",
    "plant_pm = compiled_plant_parts['plant_prime_mover']"
   ]
  },
  {
   "cell_type": "code",
   "execution_count": null,
   "metadata": {},
   "outputs": [],
   "source": [
    "# this can be used to see if the aggregations generally worked properly\n",
    "plant_gen_agged = plant_gen.groupby(by=['utility_id_eia','plant_id_eia','fraction_owned','report_date']).sum().reset_index()\n",
    "merge = plant.merge(plant_gen_agged,\n",
    "                    on=['utility_id_eia','plant_id_eia','fraction_owned','report_date'],\n",
    "                    suffixes=('_plant','_gen')).drop(columns=['fuel_cost_per_mmbtu_plant','fuel_cost_per_mmbtu_gen',\n",
    "                                                              'heat_rate_mmbtu_mwh_plant', 'heat_rate_mmbtu_mwh_gen',\n",
    "                                                              'fuel_cost_per_mwh_plant','fuel_cost_per_mwh_gen',\n",
    "                                                             ])"
   ]
  },
  {
   "cell_type": "code",
   "execution_count": null,
   "metadata": {},
   "outputs": [],
   "source": [
    "count_df = pd.DataFrame(index=list(compiled_plant_parts['plant'].columns))\n",
    "for k,cpp_df in compiled_plant_parts.items():\n",
    "    count_df = count_df.merge(\n",
    "        pd.DataFrame(cpp_df[cpp_df['report_date'].dt.year == 2018]\n",
    "                     .count(), columns=[k]),\n",
    "        right_index=True, left_index=True)\n",
    "count_df = count_df.merge(pd.DataFrame(count_df.sum(axis=1),columns=['total']),\n",
    "                          right_index=True, left_index=True)"
   ]
  },
  {
   "cell_type": "code",
   "execution_count": null,
   "metadata": {},
   "outputs": [],
   "source": [
    "count_df"
   ]
  }
 ],
 "metadata": {
  "kernelspec": {
   "display_name": "Python 3",
   "language": "python",
   "name": "python3"
  },
  "language_info": {
   "codemirror_mode": {
    "name": "ipython",
    "version": 3
   },
   "file_extension": ".py",
   "mimetype": "text/x-python",
   "name": "python",
   "nbconvert_exporter": "python",
   "pygments_lexer": "ipython3",
   "version": "3.7.3"
  }
 },
 "nbformat": 4,
 "nbformat_minor": 4
}
