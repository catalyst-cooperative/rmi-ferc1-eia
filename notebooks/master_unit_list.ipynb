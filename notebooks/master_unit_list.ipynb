{
 "cells": [
  {
   "cell_type": "markdown",
   "metadata": {},
   "source": [
    "## Recreating the Master Unit List"
   ]
  },
  {
   "cell_type": "markdown",
   "metadata": {},
   "source": [
    "#### setup/imports"
   ]
  },
  {
   "cell_type": "code",
   "execution_count": null,
   "metadata": {},
   "outputs": [],
   "source": [
    "%load_ext autoreload\n",
    "%autoreload 2"
   ]
  },
  {
   "cell_type": "code",
   "execution_count": null,
   "metadata": {},
   "outputs": [],
   "source": [
    "import pandas as pd\n",
    "import numpy as np\n",
    "import pudl\n",
    "import pudl.constants as pc\n",
    "import pudl.extract.ferc1\n",
    "import sqlalchemy as sa\n",
    "import logging\n",
    "import sys\n",
    "import copy\n",
    "from copy import deepcopy"
   ]
  },
  {
   "cell_type": "code",
   "execution_count": null,
   "metadata": {},
   "outputs": [],
   "source": [
    "import matplotlib.pyplot as plt\n",
    "import matplotlib as mpl\n",
    "%matplotlib inline"
   ]
  },
  {
   "cell_type": "code",
   "execution_count": null,
   "metadata": {},
   "outputs": [],
   "source": [
    "import sys\n",
    "sys.path.append(\"../\") # go to parent dir\n",
    "from plant_part_agg_eia import *\n",
    "from plant_parts import plant_parts"
   ]
  },
  {
   "cell_type": "code",
   "execution_count": null,
   "metadata": {},
   "outputs": [],
   "source": [
    "logger = logging.getLogger()\n",
    "logger.setLevel(logging.INFO)\n",
    "handler = logging.StreamHandler(stream=sys.stdout)\n",
    "formatter = logging.Formatter('%(message)s')\n",
    "handler.setFormatter(formatter)\n",
    "logger.handlers = [handler]"
   ]
  },
  {
   "cell_type": "markdown",
   "metadata": {},
   "source": [
    "#### defining a table grabbing object"
   ]
  },
  {
   "cell_type": "code",
   "execution_count": null,
   "metadata": {},
   "outputs": [],
   "source": [
    "pudl_settings = pudl.workspace.setup.get_defaults()\n",
    "pudl_engine = sa.create_engine(pudl_settings[\"pudl_db\"])\n",
    "pt = pudl.output.pudltabl.get_table_meta(pudl_engine)\n",
    "start_date=None\n",
    "end_date=None\n",
    "freq='AS'"
   ]
  },
  {
   "cell_type": "code",
   "execution_count": null,
   "metadata": {},
   "outputs": [],
   "source": [
    "from plant_parts import plant_parts"
   ]
  },
  {
   "cell_type": "code",
   "execution_count": null,
   "metadata": {},
   "outputs": [],
   "source": [
    "self = CompileTables(pudl_engine, freq='AS')"
   ]
  },
  {
   "cell_type": "code",
   "execution_count": null,
   "metadata": {},
   "outputs": [],
   "source": [
    "compiled_plant_parts = self.generate_master_unit_list(plant_parts)"
   ]
  },
  {
   "cell_type": "code",
   "execution_count": null,
   "metadata": {},
   "outputs": [],
   "source": [
    "# 1) aggregate the data points by generator\n",
    "plant_gen_df = self.aggregate_plant_part(plant_parts['plant_gen'])\n",
    "# 2) generating proportional data by ownership %s\n",
    "plant_gen_df = self.slice_by_ownership(plant_gen_df)"
   ]
  },
  {
   "cell_type": "code",
   "execution_count": null,
   "metadata": {},
   "outputs": [],
   "source": [
    "# 3) aggreate everything by each plant part\n",
    "compiled_dfs = {}\n",
    "for part_name, plant_part in plant_parts.items():\n",
    "    logger.info(part_name)\n",
    "    if plant_part['denorm_table']:\n",
    "        logger.info('   denormiiee')\n",
    "        compiled_dfs[part_name] = self.agg_cols(\n",
    "            plant_part,\n",
    "            self.denoramlize_table(plant_gen_df,\n",
    "                                   plant_part['id_cols'],\n",
    "                                   plant_part['denorm_table'],\n",
    "                                   plant_part['denorm_cols'],\n",
    "                                   ))\n",
    "    else:\n",
    "        compiled_dfs[part_name] = self.agg_cols(\n",
    "            plant_part,\n",
    "            plant_gen_df)"
   ]
  },
  {
   "cell_type": "code",
   "execution_count": null,
   "metadata": {},
   "outputs": [],
   "source": [
    "def plot_plant_vs_agg(compiled_plant_parts, field, xy_limits, scale):\n",
    "    \"\"\"\n",
    "    Make plots to compare FERC & EIA reported values for Coal & Gas plants.\n",
    "    \n",
    "    For each of the fields specified in fields_to_plot, create a pair of plots,\n",
    "    one for 'gas' and one for 'coal' in the same frame, showing the EIA quantity\n",
    "    vs. the FERC quantity in a scatter plot.\n",
    "    \"\"\"\n",
    "    for plant_gran, df in compiled_plant_parts.items():\n",
    "        if plant_gran == 'plant':\n",
    "            pass\n",
    "        field_plant = field+'_plant'\n",
    "        field_gran = field+'_'+plant_gran\n",
    "        try:\n",
    "            merge_df = compiled_plant_parts['plant'].merge(df, on=['plant_id_eia', 'report_date'], suffixes=('_plant','_' + plant_gran))\n",
    "            # this is for the try\n",
    "            merge_df[field_gran]\n",
    "            fig, (ax) = plt.subplots(ncols=1, nrows=1, figsize=(8, 8))\n",
    "            ax.scatter(merge_df[field_plant],\n",
    "                       merge_df[field_gran],\n",
    "                       color='black', alpha='0.1', label=field)\n",
    "            ax.set_ylim(xy_limits[field][0],xy_limits[field][1])\n",
    "            ax.set_xlim(xy_limits[field][0],xy_limits[field][1])\n",
    "            ax.set_xscale(scale)\n",
    "            ax.set_yscale(scale)\n",
    "            ax.set_ylabel(f'{plant_gran} {field}')\n",
    "            ax.set_xlabel(f'Plant {field}')\n",
    "            ax.set_title(f\"Plant vs {plant_gran}: {field}\")\n",
    "        except KeyError:\n",
    "            pass"
   ]
  },
  {
   "cell_type": "code",
   "execution_count": null,
   "metadata": {},
   "outputs": [],
   "source": [
    "fields_to_plot = [\n",
    "    # Simple Quantities\n",
    "    'capacity_mw',\n",
    "    #'opex_fuel',\n",
    "    #'total_mmbtu',\n",
    "    'net_generation_mwh',\n",
    "    # Derived values\n",
    "    #'capacity_factor',\n",
    "    'heat_rate_mmbtu_mwh',\n",
    "    'fuel_cost_per_mwh',\n",
    "    'fuel_cost_per_mmbtu',\n",
    "    'total_fuel_cost'\n",
    "]\n",
    "\n",
    "xy_limits = {\n",
    "    # Simple Quantities\n",
    "    'capacity_mw': (1e0, 1e4),\n",
    "    'net_generation_mwh': (1e3,1e8),\n",
    "    # Derived values\n",
    "    'capacity_factor': (0,1.0),\n",
    "    'heat_rate_mmbtu_mwh': (6,16),\n",
    "    'fuel_cost_per_mwh': (10,80),\n",
    "    'fuel_cost_per_mmbtu': (1e0,1e1),\n",
    "    'total_fuel_cost': (1e7,1e10)\n",
    "}\n",
    "\n",
    "for field in fields_to_plot:\n",
    "    plot_plant_vs_agg(compiled_plant_parts,field, xy_limits, scale=\"log\")\n",
    "#plot_eia_v_ferc1(pudl_dude, fields_to_plot, xy_limits)"
   ]
  },
  {
   "cell_type": "markdown",
   "metadata": {},
   "source": [
    "## Playing with the compiled outputs "
   ]
  },
  {
   "cell_type": "code",
   "execution_count": null,
   "metadata": {},
   "outputs": [],
   "source": [
    "# printing out the keys of the dictionary so you can see\n",
    "compiled_plant_parts.keys()"
   ]
  },
  {
   "cell_type": "code",
   "execution_count": null,
   "metadata": {},
   "outputs": [],
   "source": [
    "# various tables to poke at for debuging\n",
    "generat860 = self.grab_the_table('generation_eia923')\n",
    "gens860 = self.grab_the_table('generators_eia860')\n",
    "bga860 = self.grab_the_table('boiler_generator_assn_eia860')\n",
    "own860 = self.grab_the_table('ownership_eia860')\n",
    "plant_unit = compiled_plant_parts['plant_unit']\n",
    "plant_gen = compiled_plant_parts['plant_gen']\n",
    "plant = compiled_plant_parts['plant']"
   ]
  },
  {
   "cell_type": "code",
   "execution_count": null,
   "metadata": {},
   "outputs": [],
   "source": [
    "# if you want to look at an individaul plant\n",
    "plant_unit[plant_unit['plant_id_eia'] ==6179]"
   ]
  },
  {
   "cell_type": "code",
   "execution_count": null,
   "metadata": {},
   "outputs": [],
   "source": [
    "# selecting on two criteria (plant_id_eia and report_date)\n",
    "plant_unit[(plant_unit['plant_id_eia'] == 260)]"
   ]
  },
  {
   "cell_type": "code",
   "execution_count": null,
   "metadata": {},
   "outputs": [],
   "source": [
    "# you can see where fields are empty\n",
    "plant_unit[plant_unit['capacity_mw'].isnull()]"
   ]
  },
  {
   "cell_type": "code",
   "execution_count": null,
   "metadata": {},
   "outputs": [],
   "source": [
    "# you can see where fields are not empty\n",
    "plant_unit[plant_unit['capacity_mw'].notnull()]"
   ]
  }
 ],
 "metadata": {
  "kernelspec": {
   "display_name": "Python 3",
   "language": "python",
   "name": "python3"
  },
  "language_info": {
   "codemirror_mode": {
    "name": "ipython",
    "version": 3
   },
   "file_extension": ".py",
   "mimetype": "text/x-python",
   "name": "python",
   "nbconvert_exporter": "python",
   "pygments_lexer": "ipython3",
   "version": "3.7.3"
  }
 },
 "nbformat": 4,
 "nbformat_minor": 4
}
