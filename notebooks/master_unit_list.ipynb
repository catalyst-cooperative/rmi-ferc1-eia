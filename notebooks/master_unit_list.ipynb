{
 "cells": [
  {
   "cell_type": "markdown",
   "metadata": {},
   "source": [
    "## Recreating the Master Unit List"
   ]
  },
  {
   "cell_type": "markdown",
   "metadata": {},
   "source": [
    "#### setup/imports"
   ]
  },
  {
   "cell_type": "code",
   "execution_count": null,
   "metadata": {},
   "outputs": [],
   "source": [
    "%load_ext autoreload\n",
    "%autoreload 2"
   ]
  },
  {
   "cell_type": "code",
   "execution_count": null,
   "metadata": {},
   "outputs": [],
   "source": [
    "import pandas as pd\n",
    "import pudl\n",
    "import pudl.constants as pc\n",
    "import pudl.extract.ferc1\n",
    "import sqlalchemy as sa\n",
    "import logging\n",
    "import sys"
   ]
  },
  {
   "cell_type": "code",
   "execution_count": null,
   "metadata": {},
   "outputs": [],
   "source": [
    "from copy import deepcopy"
   ]
  },
  {
   "cell_type": "code",
   "execution_count": null,
   "metadata": {},
   "outputs": [],
   "source": [
    "logger = logging.getLogger()\n",
    "logger.setLevel(logging.INFO)\n",
    "handler = logging.StreamHandler(stream=sys.stdout)\n",
    "formatter = logging.Formatter('%(message)s')\n",
    "handler.setFormatter(formatter)\n",
    "logger.handlers = [handler]"
   ]
  },
  {
   "cell_type": "markdown",
   "metadata": {},
   "source": [
    "#### defining a table grabbing object"
   ]
  },
  {
   "cell_type": "code",
   "execution_count": null,
   "metadata": {},
   "outputs": [],
   "source": [
    "class compile_tables(object):\n",
    "    \n",
    "    def __init__(self, pudl_engine, freq=None, start_date=None, end_date=None):\n",
    "        \"\"\"\n",
    "        initializing a table compiler\n",
    "        \"\"\"\n",
    "        self.pudl_engine = pudl_engine\n",
    "        self.freq = freq\n",
    "\n",
    "        if start_date is None:\n",
    "            self.start_date = \\\n",
    "                pd.to_datetime(\n",
    "                    '{}-01-01'.format(min(pc.working_years['eia923'])))\n",
    "        else:\n",
    "            # Make sure it's a date... and not a string.\n",
    "            self.start_date = pd.to_datetime(start_date)\n",
    "\n",
    "        if end_date is None:\n",
    "            self.end_date = \\\n",
    "                pd.to_datetime(\n",
    "                    '{}-12-31'.format(max(pc.working_years['eia923'])))\n",
    "        else:\n",
    "            # Make sure it's a date... and not a string.\n",
    "            self.end_date = pd.to_datetime(end_date)\n",
    "\n",
    "        if not pudl_engine:\n",
    "            raise AssertionError('PudlTabl object needs a pudl_engine')\n",
    "        self.pudl_engine = pudl_engine\n",
    "\n",
    "        # grabing the metadata object for the sqlite db\n",
    "        self.pt = pudl.output.pudltabl.get_table_meta(self.pudl_engine)\n",
    "        \n",
    "        self.pudl_out = pudl.output.pudltabl.PudlTabl(\n",
    "            pudl_engine=pudl_engine, freq=self.freq)\n",
    "        \n",
    "        self._dfs = {\n",
    "            'generation_fuel_eia923': None,\n",
    "            'fuel_receipts_costs_eia923': None,\n",
    "            'generators_eia860': None,\n",
    "            'boiler_generator_assn_eia860': None,\n",
    "            'generation_eia923': None,\n",
    "\n",
    "            'fuel_cost': None,\n",
    "        }\n",
    "\n",
    "    \n",
    "    def grab_the_table(self, table):\n",
    "        if table is None:\n",
    "            return \n",
    "\n",
    "        if self._dfs[table] is None:\n",
    "            # this is going to try to see if the table is in the db\n",
    "            # if pt[table] is not None:\n",
    "            try:\n",
    "                tbl = pt[table]\n",
    "                print(f'   grabbing {table} from the sqlite db')\n",
    "                select = sa.sql.select([tbl, ])\n",
    "                if self.start_date is not None:\n",
    "                    select = select.where(\n",
    "                        tbl.c.report_date >= self.start_date)\n",
    "                if self.end_date is not None:\n",
    "                    select = select.where(\n",
    "                        tbl.c.report_date <= self.end_date)\n",
    "                self._dfs[table] = pd.read_sql(select, self.pudl_engine, parse_dates=['report_date'], index_col=['id'])\n",
    "            # if is it not a database table, it is an output function\n",
    "            # elif hasattr(pudl_out_eia, table):\n",
    "            except KeyError:\n",
    "                # getattr turns the string of the table into an attribute\n",
    "                # of the object, so this runs the output function\n",
    "                print(f'   grabbing {table} from the output object')\n",
    "                self._dfs[table] = getattr(self.pudl_out, table)()\n",
    "        return self._dfs[table]"
   ]
  },
  {
   "cell_type": "code",
   "execution_count": null,
   "metadata": {},
   "outputs": [],
   "source": [
    "def grab_denormalize_table(table, denorm_table=None, denorm_cols=None, indicator=False):\n",
    "    \"\"\"\n",
    "    Grab and denormalize the table.\n",
    "    \n",
    "    Grab the table that you want, and merge it with another table based\n",
    "    on the 'denorm_cols'.\n",
    "    \n",
    "    Args:\n",
    "        table (string): a table name\n",
    "        denorm_table (string): the name of the table you want to merge in\n",
    "        denorm_cols (list): the columns to use to merge the tables\n",
    "        indicator (bool): True of False for whether or not you want to\n",
    "            include an indicator column in your merge that notes where\n",
    "            each row came from.\n",
    "    Returns:\n",
    "        pandas.Dataframe\n",
    "    \"\"\"\n",
    "    table_df = table_compiler.grab_the_table(table)\n",
    "    if denorm_table:\n",
    "        logger.info(f'   denormalizing {table}')\n",
    "        # denormalize the plant granularity\n",
    "        table_df = table_df.merge(table_compiler.grab_the_table(denorm_table),\n",
    "                                  on=denorm_cols,\n",
    "                                  how='outer',\n",
    "                                  indicator=indicator)\n",
    "    return table_df"
   ]
  },
  {
   "cell_type": "code",
   "execution_count": null,
   "metadata": {},
   "outputs": [],
   "source": [
    "plant_granularities = {\n",
    "    'plant': {\n",
    "        'id_cols': ['plant_id_eia'],\n",
    "        'ag_tables': {\n",
    "            'fuel_cost':{ \n",
    "                'denorm_table': None,\n",
    "                'denorm_cols': None,\n",
    "                'ag_cols':{\n",
    "                    'fuel_cost_per_mwh': 'mean',\n",
    "                    },\n",
    "            },\n",
    "            'generation_fuel_eia923': {\n",
    "                'denorm_table': None,\n",
    "                'denorm_cols': None,\n",
    "                'ag_cols': {\n",
    "                    'fuel_consumed_mmbtu': pudl.helpers.sum_na,\n",
    "                    'net_generation_mwh': pudl.helpers.sum_na,\n",
    "                    },\n",
    "            },\n",
    "            'fuel_receipts_costs_eia923': {\n",
    "                'denorm_table': None,\n",
    "                'denorm_cols': None,\n",
    "                'ag_cols': {\n",
    "                    'fuel_cost_per_mmbtu': pudl.helpers.sum_na,\n",
    "                    },\n",
    "            },\n",
    "            'generators_eia860': {\n",
    "                'denorm_table': None,\n",
    "                'denorm_cols': None,\n",
    "                'ag_cols': {            \n",
    "                    'capacity_mw': pudl.helpers.sum_na,\n",
    "                    },\n",
    "            },\n",
    "        }\n",
    "    },\n",
    "    'plant_unit': {\n",
    "        'id_cols': ['plant_id_eia','unit_id_pudl'],\n",
    "        # unit_id_pudl are associated with plant_id's and plant_id's/generator_id's\n",
    "        'ag_tables': {\n",
    "            'generators_eia860': {\n",
    "                'denorm_table': 'boiler_generator_assn_eia860',\n",
    "                'denorm_cols': ['plant_id_eia','generator_id', 'report_date'],\n",
    "                'ag_cols': {\n",
    "                    'capacity_mw': pudl.helpers.sum_na,\n",
    "                },\n",
    "            },\n",
    "            'generation_fuel_eia923': {\n",
    "                'denorm_table': 'boiler_generator_assn_eia860',\n",
    "                'denorm_cols': ['plant_id_eia', 'report_date'],\n",
    "                'ag_cols': {\n",
    "                    'fuel_consumed_mmbtu': pudl.helpers.sum_na,\n",
    "                    'net_generation_mwh': pudl.helpers.sum_na,\n",
    "                },\n",
    "            },\n",
    "            'fuel_cost': {\n",
    "                'denorm_table': 'boiler_generator_assn_eia860',\n",
    "                'denorm_cols': ['plant_id_eia','generator_id', 'report_date'],\n",
    "                'ag_cols': {\n",
    "                    'fuel_cost_per_mwh': pudl.helpers.sum_na,\n",
    "                },\n",
    "\n",
    "            }\n",
    "\n",
    "        },\n",
    "    },\n",
    "    'plant_prime_fuel': {\n",
    "        'id_cols': ['plant_id_eia','energy_source_code_1'],\n",
    "        'ag_tables': {\n",
    "            \n",
    "        }\n",
    "    }\n",
    "    \n",
    "}"
   ]
  },
  {
   "cell_type": "code",
   "execution_count": null,
   "metadata": {},
   "outputs": [],
   "source": [
    "pudl_settings = pudl.workspace.setup.get_defaults()\n",
    "pudl_engine = sa.create_engine(pudl_settings[\"pudl_db\"])\n",
    "pt = pudl.output.pudltabl.get_table_meta(pudl_engine)"
   ]
  },
  {
   "cell_type": "code",
   "execution_count": null,
   "metadata": {},
   "outputs": [],
   "source": [
    "table_compiler = compile_tables(pudl_engine, freq='AS')"
   ]
  },
  {
   "cell_type": "code",
   "execution_count": null,
   "metadata": {},
   "outputs": [],
   "source": [
    "compiled_dfs = {}\n",
    "for plant_gran in plant_granularities:\n",
    "    logger.info(f'compiling data for {plant_gran}')\n",
    "    cols_to_grab = plant_granularities[plant_gran]['id_cols'] + ['report_date']\n",
    "    all_the_stuff = pd.DataFrame(columns=cols_to_grab)\n",
    "    for table, table_details in plant_granularities[plant_gran]['ag_tables'].items():\n",
    "        # grab the table\n",
    "        logger.info(f'   aggregating {table}')\n",
    "        all_the_stuff = (\n",
    "            # grab the table\n",
    "            grab_denormalize_table(\n",
    "                table,\n",
    "                denorm_table=table_details['denorm_table'],\n",
    "                denorm_cols=table_details['denorm_cols']).\n",
    "            groupby(cols_to_grab).\n",
    "            # use the groupby object to aggregate on the ag_cols\n",
    "            # this runs whatever function we've defined in the \n",
    "            # ag_cols dictionary\n",
    "            agg(table_details['ag_cols']).\n",
    "            # reset the index because the output of the agg\n",
    "            reset_index().\n",
    "            # merge the new table into the compiled df\n",
    "            merge(all_the_stuff, how='outer', on=cols_to_grab)\n",
    "        ) \n",
    "    # add the df into a dictionary of dfs\n",
    "    compiled_dfs[plant_gran] = all_the_stuff"
   ]
  },
  {
   "cell_type": "markdown",
   "metadata": {},
   "source": [
    "## Playing with the table compiler"
   ]
  },
  {
   "cell_type": "code",
   "execution_count": null,
   "metadata": {},
   "outputs": [],
   "source": [
    "table_compiler.grab_the_table('generators_eia860')"
   ]
  },
  {
   "cell_type": "code",
   "execution_count": null,
   "metadata": {},
   "outputs": [],
   "source": [
    "grab_denormalize_table('generation_eia923',\n",
    "                       denorm_table='boiler_generator_assn_eia860',\n",
    "                       denorm_cols=['plant_id_eia','generator_id', 'report_date'],\n",
    "                       indicator=True)"
   ]
  },
  {
   "cell_type": "markdown",
   "metadata": {},
   "source": [
    "## Trying the grouby/aggregation"
   ]
  },
  {
   "cell_type": "code",
   "execution_count": null,
   "metadata": {},
   "outputs": [],
   "source": [
    "# you can change these inputs and run the following cell\n",
    "# to see what an aggregated dataframe with these inputs will\n",
    "# result in.\n",
    "table = 'generation_fuel_eia923'\n",
    "denorm_table = 'boiler_generator_assn_eia860'\n",
    "denorm_cols = ['plant_id_eia', 'report_date']\n",
    "# the id_cols + report_date\n",
    "cols_to_grab = ['plant_id_eia', 'report_date']\n",
    "ag_cols = {'fuel_consumed_mmbtu': pudl.helpers.sum_na,\n",
    "           'net_generation_mwh': pudl.helpers.sum_na,}"
   ]
  },
  {
   "cell_type": "code",
   "execution_count": null,
   "metadata": {},
   "outputs": [],
   "source": [
    "(grab_denormalize_table(\n",
    "    table,\n",
    "    denorm_table=denorm_table,\n",
    "    denorm_cols=denorm_cols).\n",
    " groupby(cols_to_grab).\n",
    " agg(ag_cols).reset_index())"
   ]
  },
  {
   "cell_type": "markdown",
   "metadata": {},
   "source": [
    "## Playing with the compiled outputs "
   ]
  },
  {
   "cell_type": "code",
   "execution_count": null,
   "metadata": {},
   "outputs": [],
   "source": [
    "# printing out the keys of the dictionary so you can see\n",
    "# which \n",
    "compiled_dfs.keys()"
   ]
  },
  {
   "cell_type": "code",
   "execution_count": null,
   "metadata": {},
   "outputs": [],
   "source": [
    "plant_unit = compiled_dfs['plant_unit']"
   ]
  },
  {
   "cell_type": "code",
   "execution_count": null,
   "metadata": {},
   "outputs": [],
   "source": [
    "# if you want to look at an individaul plant\n",
    "plant_unit[plant_unit['plant_id_eia'] == 3]"
   ]
  },
  {
   "cell_type": "code",
   "execution_count": null,
   "metadata": {},
   "outputs": [],
   "source": [
    "# selecting on two criteria (plant_id_eia and report_date)\n",
    "plant_unit[(plant_unit['plant_id_eia'] == 3) & (plant_unit['report_date'] == '2017-01-01')]"
   ]
  },
  {
   "cell_type": "code",
   "execution_count": null,
   "metadata": {},
   "outputs": [],
   "source": [
    "# you can see where fields are empty\n",
    "plant_unit[plant_unit['capacity_mw'].isnull()]"
   ]
  },
  {
   "cell_type": "code",
   "execution_count": null,
   "metadata": {},
   "outputs": [],
   "source": [
    "# you can see where fields are not empty\n",
    "plant_unit[plant_unit['capacity_mw'].notnull()]"
   ]
  }
 ],
 "metadata": {
  "kernelspec": {
   "display_name": "Python 3",
   "language": "python",
   "name": "python3"
  },
  "language_info": {
   "codemirror_mode": {
    "name": "ipython",
    "version": 3
   },
   "file_extension": ".py",
   "mimetype": "text/x-python",
   "name": "python",
   "nbconvert_exporter": "python",
   "pygments_lexer": "ipython3",
   "version": "3.7.3"
  }
 },
 "nbformat": 4,
 "nbformat_minor": 4
}
