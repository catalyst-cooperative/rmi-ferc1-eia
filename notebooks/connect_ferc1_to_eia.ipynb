{
 "cells": [
  {
   "cell_type": "markdown",
   "metadata": {},
   "source": [
    "# FERC <> EIA Granular Connections"
   ]
  },
  {
   "cell_type": "markdown",
   "metadata": {},
   "source": [
    "Notes on the type of problem we are trying to solve:\n",
    "- A classification problem\n",
    "    - A Multi-Class Classification problem*\n",
    "- A deterministic problem\n",
    "- A record linkage problem\n",
    "\n",
    "Right now, we are using the recordlinkage package. We're using logistic regression classifier because it fits all of the above.\n",
    "\n",
    "To consider:\n",
    "- Maybe we want to run the records with fuel cost data through a different matching model..."
   ]
  },
  {
   "cell_type": "code",
   "execution_count": null,
   "metadata": {},
   "outputs": [],
   "source": [
    "%load_ext autoreload\n",
    "%autoreload 2"
   ]
  },
  {
   "cell_type": "code",
   "execution_count": null,
   "metadata": {},
   "outputs": [],
   "source": [
    "import pandas as pd\n",
    "import numpy as np\n",
    "import pudl\n",
    "import sqlalchemy as sa\n",
    "import logging\n",
    "import sys\n",
    "\n",
    "import pudl_rmi\n",
    "from pudl_rmi.connect_ferc1_to_eia import *\n",
    "\n",
    "import recordlinkage as rl\n",
    "import warnings\n",
    "warnings.filterwarnings('ignore')\n",
    "\n",
    "import matplotlib.pyplot as plt\n",
    "import matplotlib as mpl\n",
    "%matplotlib inline"
   ]
  },
  {
   "cell_type": "code",
   "execution_count": null,
   "metadata": {},
   "outputs": [],
   "source": [
    "logger = logging.getLogger()\n",
    "logger.setLevel(logging.INFO)\n",
    "handler = logging.StreamHandler(stream=sys.stdout)\n",
    "formatter = logging.Formatter('%(message)s')\n",
    "handler.setFormatter(formatter)\n",
    "logger.handlers = [handler]"
   ]
  },
  {
   "cell_type": "code",
   "execution_count": null,
   "metadata": {},
   "outputs": [],
   "source": [
    "\n",
    "pudl_settings = pudl.workspace.setup.get_defaults()\n",
    "pudl_engine = sa.create_engine(pudl_settings[\"pudl_db\"])\n",
    "pd.options.display.max_columns = None"
   ]
  },
  {
   "cell_type": "markdown",
   "metadata": {},
   "source": [
    "## Make outputs via rmi_out"
   ]
  },
  {
   "cell_type": "code",
   "execution_count": null,
   "metadata": {},
   "outputs": [],
   "source": [
    "# pudl output object for ferc data\n",
    "pudl_out = pudl.output.pudltabl.PudlTabl(\n",
    "    pudl_engine,freq='AS',\n",
    "    fill_fuel_cost=True,\n",
    "    roll_fuel_cost=True,\n",
    "    fill_net_gen=True\n",
    ")"
   ]
  },
  {
   "cell_type": "code",
   "execution_count": null,
   "metadata": {},
   "outputs": [],
   "source": [
    "rmi_out = pudl_rmi.coordinate.Output(pudl_out)"
   ]
  },
  {
   "cell_type": "code",
   "execution_count": null,
   "metadata": {},
   "outputs": [],
   "source": [
    "connects_ferc1_eia = rmi_out.ferc1_to_eia(clobber=True)"
   ]
  },
  {
   "cell_type": "markdown",
   "metadata": {},
   "source": [
    "## Make outputs directly"
   ]
  },
  {
   "cell_type": "code",
   "execution_count": null,
   "metadata": {
    "tags": []
   },
   "outputs": [],
   "source": [
    "inputs = InputManager(pudl_rmi.TRAIN_FERC1_EIA_CSV, pudl_out, plant_parts_eia)\n",
    "features_all = Features(feature_type=\"all\", inputs=inputs).get_features(\n",
    "    clobber=False\n",
    ")\n",
    "features_train = Features(feature_type=\"training\", inputs=inputs).get_features(\n",
    "    clobber=False\n",
    ")\n",
    "tuner = ModelTuner(features_train, inputs.get_train_index(), n_splits=10)\n",
    "\n",
    "matcher = MatchManager(best=tuner.get_best_fit_model(), inputs=inputs)\n",
    "matches_best = matcher.get_best_matches(features_train, features_all)\n",
    "connects_ferc1_eia = prettyify_best_matches(\n",
    "    matches_best,\n",
    "    train_df=inputs.train_df,\n",
    "    plant_parts_true_df=inputs.plant_parts_true_df,\n",
    "    plants_ferc1_df=inputs.plants_ferc1_df,\n",
    ")\n",
    "# add capex (this should be moved into pudl_out.plants_steam_ferc1)\n",
    "connects_ferc1_eia = calc_annual_capital_additions_ferc1(connects_ferc1_eia)"
   ]
  },
  {
   "cell_type": "markdown",
   "metadata": {
    "tags": []
   },
   "source": [
    "### Explore Classificaiton Model"
   ]
  },
  {
   "cell_type": "code",
   "execution_count": null,
   "metadata": {},
   "outputs": [],
   "source": [
    "features_train.describe().T"
   ]
  },
  {
   "cell_type": "code",
   "execution_count": null,
   "metadata": {},
   "outputs": [],
   "source": [
    "features_all.describe().T"
   ]
  },
  {
   "cell_type": "code",
   "execution_count": null,
   "metadata": {},
   "outputs": [],
   "source": [
    "matcher.best"
   ]
  },
  {
   "cell_type": "code",
   "execution_count": null,
   "metadata": {},
   "outputs": [],
   "source": [
    "weights = pd.DataFrame(\n",
    "    data={'feature': features_all.columns,\n",
    "          'weight': matcher.coefs\n",
    "         })\n",
    "weights"
   ]
  },
  {
   "cell_type": "code",
   "execution_count": null,
   "metadata": {},
   "outputs": [],
   "source": [
    "def plot_all_hist(all_df,results_df,murk_df, matches_best_df, range):\n",
    "    if all_df is not None:\n",
    "        plt.hist(all_df['score'], \n",
    "                 range=range,\n",
    "                 bins=100,\n",
    "                 color=\"pink\",\n",
    "                 label='all options'\n",
    "                )\n",
    "    if results_df is not None:\n",
    "        plt.hist(results_df['score'], \n",
    "                 range=range,\n",
    "                 bins=100,\n",
    "                 color=\"purple\",\n",
    "                 label='all model matches'\n",
    "                )\n",
    "    if matches_best_df is not None:\n",
    "        plt.hist(matches_best_df['score'], \n",
    "                 range=range,\n",
    "                 bins=100,\n",
    "                 color=\"turquoise\",\n",
    "                 label='winning options'\n",
    "                )\n",
    "    if murk_df is not None:\n",
    "        plt.hist(murk_df['score'], \n",
    "                 range=range,\n",
    "                 bins=100,\n",
    "                 color=\"grey\",\n",
    "                 label='murky wins'\n",
    "                )\n",
    "\n",
    "    plt.title(f'weighted score of comparision features')\n",
    "    plt.xlabel('weighted sum')\n",
    "    plt.ylabel(None)\n",
    "    plt.legend()\n",
    "    plt.show()"
   ]
  },
  {
   "cell_type": "code",
   "execution_count": null,
   "metadata": {},
   "outputs": [],
   "source": [
    "plot_all_hist(matcher.calc_match_stats(features_all),\n",
    "              matcher.matches_model,\n",
    "              matcher.murk_df,\n",
    "              matches_best,\n",
    "              range=None)"
   ]
  },
  {
   "cell_type": "code",
   "execution_count": null,
   "metadata": {},
   "outputs": [],
   "source": [
    "wins = (matches_best.reset_index().merge(inputs.plant_parts_df.\n",
    "              reset_index()[['record_id_eia','plant_part','capacity_mw']],\n",
    "              on=['record_id_eia'],\n",
    "              how='left',\n",
    "              suffixes=('_feature','')\n",
    "             ).\n",
    "        groupby(['plant_part']).\n",
    "        agg({'capacity_mw':sum,\n",
    "             'score': 'count'}).\n",
    "        assign(count_w=lambda x: x.capacity_mw * x.score,\n",
    "               percent_w=lambda x: x.count_w/x.sum()['count_w'],\n",
    "               percent=lambda x: x.score/x.sum()['score'],\n",
    "              )\n",
    "       )\n",
    "\n",
    "wins.round(2)"
   ]
  },
  {
   "cell_type": "code",
   "execution_count": null,
   "metadata": {},
   "outputs": [],
   "source": []
  }
 ],
 "metadata": {
  "kernelspec": {
   "display_name": "Python 3 (ipykernel)",
   "language": "python",
   "name": "python3"
  },
  "language_info": {
   "codemirror_mode": {
    "name": "ipython",
    "version": 3
   },
   "file_extension": ".py",
   "mimetype": "text/x-python",
   "name": "python",
   "nbconvert_exporter": "python",
   "pygments_lexer": "ipython3",
   "version": "3.10.2"
  }
 },
 "nbformat": 4,
 "nbformat_minor": 4
}
