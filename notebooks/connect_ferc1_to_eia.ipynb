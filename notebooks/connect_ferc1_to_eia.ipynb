{
 "cells": [
  {
   "cell_type": "markdown",
   "metadata": {},
   "source": [
    "# FERC <> EIA Granular Connections"
   ]
  },
  {
   "cell_type": "markdown",
   "metadata": {},
   "source": [
    "Notes on the type of problem we are trying to solve:\n",
    "- A classification problem\n",
    "    - A Multi-Class Classification problem*\n",
    "- A deterministic problem\n",
    "- A record linkage problem\n",
    "\n",
    "Right now, we are using the recordlinkage package. We're using logistic regression classifier because it fits all of the above.\n",
    "\n",
    "To consider:\n",
    "- Maybe we want to run the records with fuel cost data through a different matching model..."
   ]
  },
  {
   "cell_type": "code",
   "execution_count": null,
   "metadata": {},
   "outputs": [],
   "source": [
    "%load_ext autoreload\n",
    "%autoreload 2"
   ]
  },
  {
   "cell_type": "code",
   "execution_count": null,
   "metadata": {},
   "outputs": [],
   "source": [
    "import pandas as pd\n",
    "import numpy as np\n",
    "import pudl\n",
    "import pudl.constants as pc\n",
    "import pudl.extract.ferc1\n",
    "import sqlalchemy as sa\n",
    "import logging\n",
    "import sys\n",
    "import copy\n",
    "from copy import deepcopy\n",
    "import scipy\n",
    "import statistics\n",
    "import yaml\n",
    "import pathlib\n",
    "\n",
    "import recordlinkage as rl\n",
    "import warnings\n",
    "warnings.filterwarnings('ignore')\n",
    "\n",
    "import matplotlib.pyplot as plt\n",
    "import matplotlib as mpl\n",
    "%matplotlib inline"
   ]
  },
  {
   "cell_type": "code",
   "execution_count": null,
   "metadata": {},
   "outputs": [],
   "source": [
    "import pudl.helpers"
   ]
  },
  {
   "cell_type": "code",
   "execution_count": null,
   "metadata": {},
   "outputs": [],
   "source": [
    "logger = logging.getLogger()\n",
    "logger.setLevel(logging.INFO)\n",
    "handler = logging.StreamHandler(stream=sys.stdout)\n",
    "formatter = logging.Formatter('%(message)s')\n",
    "handler.setFormatter(formatter)\n",
    "logger.handlers = [handler]"
   ]
  },
  {
   "cell_type": "code",
   "execution_count": null,
   "metadata": {},
   "outputs": [],
   "source": [
    "sys.path.append(\"../\")\n",
    "from pudl.output.ferc1 import *\n",
    "from pudl_rmi.connect_ferc1_to_eia import *\n",
    "from pudl_rmi.make_plant_parts_eia import *\n",
    "import pudl_rmi.connect_ferc1_to_eia\n",
    "pudl_settings = pudl.workspace.setup.get_defaults()\n",
    "pudl_engine = sa.create_engine(pudl_settings[\"pudl_db\"])\n",
    "pd.options.display.max_columns = None"
   ]
  },
  {
   "cell_type": "markdown",
   "metadata": {},
   "source": [
    "### Pull in data (EIA, FERC and training)"
   ]
  },
  {
   "cell_type": "code",
   "execution_count": null,
   "metadata": {},
   "outputs": [],
   "source": [
    "file_path_training = pathlib.Path().cwd().parent /'inputs'/'train_ferc1_to_eia.csv'\n",
    "file_path_mul = pathlib.Path().cwd().parent /'outputs' /'master_unit_list.pkl.gz'\n",
    "file_path_deprish = pathlib.Path().cwd().parent/'inputs'/'depreciation_rmi.xlsx'\n",
    "file_path_deprish_eia = pathlib.Path().cwd().parent/'outputs' / 'deprish_to_eia.pkl.gz'\n",
    "file_path_ferc1_eia = pathlib.Path().cwd().parent/'outputs' / 'ferc1_to_eia.pkl.gz'\n",
    "file_path_deprish_ferc1 = pathlib.Path().cwd().parent/'outputs' / 'deprish_ferc1.pkl.gz'\n",
    "\n",
    "# pudl output object for ferc data\n",
    "pudl_out = pudl.output.pudltabl.PudlTabl(\n",
    "    pudl_engine,freq='AS',\n",
    "    fill_fuel_cost=True,\n",
    "    roll_fuel_cost=True,\n",
    "    fill_net_gen=False\n",
    ")"
   ]
  },
  {
   "cell_type": "code",
   "execution_count": null,
   "metadata": {},
   "outputs": [],
   "source": [
    "rmi_out = pudl_rmi.coordinate.Output(\n",
    "    pudl_out=pudl_out,\n",
    "    file_path_mul=file_path_mul,\n",
    "    file_path_deprish=file_path_deprish,\n",
    "    file_path_deprish_eia=file_path_deprish_eia,\n",
    "    file_path_training=file_path_training,\n",
    "    file_path_ferc1_eia=file_path_ferc1_eia,\n",
    "    file_path_deprish_ferc1=file_path_deprish_ferc1,\n",
    ")"
   ]
  },
  {
   "cell_type": "code",
   "execution_count": null,
   "metadata": {
    "tags": []
   },
   "outputs": [],
   "source": [
    "inputs = InputManager(file_path_training=file_path_training, pudl_out=pudl_out, plant_parts_df=rmi_out.get_plant_part_list())\n",
    "features_all = (Features(feature_type='all', inputs=inputs)\n",
    "                .get_features(clobber=False))\n",
    "features_train = (Features(feature_type='training', inputs=inputs)\n",
    "                  .get_features(clobber=False))\n",
    "tuner = ModelTuner(features_train, inputs.get_train_index(), n_splits=10)\n",
    "\n",
    "matcher = MatchManager(best=tuner.get_best_fit_model(), inputs=inputs)\n",
    "matches_best = matcher.get_best_matches(features_train, features_all)\n",
    "\n",
    "connects_ferc1_eia = prettyify_best_matches(\n",
    "    matches_best,\n",
    "    plant_parts_true_df=inputs.plant_parts_true_df,\n",
    "    steam_df=inputs.steam_df,\n",
    ")"
   ]
  },
  {
   "cell_type": "code",
   "execution_count": null,
   "metadata": {},
   "outputs": [],
   "source": [
    "file_path_ferc1_eia = pathlib.Path().cwd().parent / 'outputs' /'ferc1_to_eia.pkl.gz'\n",
    "connects_ferc1_eia.to_pickle(file_path_ferc1_eia)"
   ]
  },
  {
   "cell_type": "markdown",
   "metadata": {
    "jp-MarkdownHeadingCollapsed": true,
    "tags": []
   },
   "source": [
    "### Dominion Exploration"
   ]
  },
  {
   "cell_type": "code",
   "execution_count": null,
   "metadata": {
    "tags": []
   },
   "outputs": [],
   "source": [
    "steam = pudl_out.plants_steam_ferc1()\n",
    "ppe = pudl_out.plant_parts_eia()"
   ]
  },
  {
   "cell_type": "code",
   "execution_count": null,
   "metadata": {
    "tags": []
   },
   "outputs": [],
   "source": [
    "#pudl 349\n",
    "#ferc 186\n",
    "dom_years = [2015,2016,2017,2018,2019, 2020]\n",
    "dom_plants = [\n",
    "   943,  1052,  1169,  1053,    74,   111,   715,   339,   430,   106,   494,\n",
    "   574,   661,   429,   424,   235,   148,   118,  1201,   489,   313,  1148,\n",
    "    15,   549,   517,    45,   365,   177,   454,   230,   618,    37,   610,\n",
    "  8454, 10701, 10784,  9457, 10616,  9448, 10496,  9913,  9956,  9955,   397,\n",
    " 10856, 11108]\n",
    "# [514, 9997, 15, 658, 147, 1049, 1050, 546, 37, 421, 426, 427, 940, 45, 176, 947, 311, 571, 452, 712, 73, 337, 9946, 9948, 607, 228, 486, 615, 105, 233, 362, 491, 110, 117, 1147]\n",
    "util_col = 'utility_id_ferc1'\n",
    "weight_col = 'capex_total'\n",
    "idx_plant = ['plant_id_pudl', 'report_year']\n",
    "idx_util = ['report_year', util_col]\n",
    "\n",
    "dom_ferc_eia_cols = idx_plant + [util_col] + [\n",
    "    'record_id_ferc1',\n",
    "    'record_id_eia',\n",
    "    'plant_name_new',\n",
    "    'plant_part',\n",
    "    'capex_total',\n",
    "    'capex_annual_addt',\n",
    "    'single_plant_part',\n",
    "    f'{weight_col}_util',\n",
    "    'weight',\n",
    "    f'retirements_util_{data_col}_from_steam',\n",
    "]\n",
    "\n",
    "dom_ferc_eia = (\n",
    "    connects_ferc1_eia[\n",
    "        connects_ferc1_eia.plant_id_pudl.isin(dom_plants)\n",
    "        # & (connects_ferc1_eia.utility_id_pudl == 349)\n",
    "        # & (connects_ferc1_eia.utility_id_ferc1 == 186)\n",
    "        & (connects_ferc1_eia.report_date.dt.year.isin(dom_years))\n",
    "    ]\n",
    "    .rename(columns={\n",
    "        'net_generation_mwh_ferc1': 'net_generation_mwh',\n",
    "        'capacity_mw_ferc1': 'capacity_mw',\n",
    "    })\n",
    "    .pipe(pudl.analysis.mcoe.calc_annual_capital_addts_ferc1)\n",
    "    .set_index(['record_id_ferc1', 'report_year', util_col, 'record_id_eia','plant_name_new','plant_part', 'plant_id_pudl'])\n",
    "    .filter(like='capex')\n",
    "    .reset_index()\n",
    ")\n",
    "\n",
    "test = (\n",
    "    dom_ferc_eia.assign(single_plant_part=1)\n",
    "    .groupby(idx_plant)\n",
    "    [['single_plant_part']].count()\n",
    "    .assign(\n",
    "        single_plant_part=lambda x: \n",
    "        np.where(x.single_plant_part == 1, True, False))\n",
    "    .reset_index()\n",
    ")\n",
    "\n",
    "dom_ferc_eia = pd.merge(\n",
    "    dom_ferc_eia, test,\n",
    "    on=idx_plant,\n",
    "    how='left'\n",
    "    \n",
    ")\n",
    "\n",
    "dom_ferc_eia.loc[:, f'{weight_col}_util'] = dom_ferc_eia.groupby(idx_util)[[weight_col]].transform(sum)\n",
    "dom_ferc_eia.loc[:, 'weight'] = dom_ferc_eia.loc[:, weight_col] / dom_ferc_eia.loc[:,f'{weight_col}_util']\n",
    "dom_ferc_eia.loc[:, f'retirements_util_{data_col}_from_steam'] =  dom_ferc_eia[dom_ferc_eia['capex_annual_addt'] < 0 ].groupby(idx_util)[['capex_annual_addt']].transform(sum)\n",
    "# dom_ferc_eia.to_csv('dominion.csv')\n",
    "\n",
    "dom_deprish = pd.read_excel(\n",
    "    pathlib.Path().cwd().parent /'inputs'/\"Dominion Depreciation Plant Balances.xlsx\",\n",
    "    sheet_name=\"dom_only\"\n",
    ")\n",
    "\n",
    "dom_squish = (\n",
    "    pd.merge(\n",
    "        dom_deprish, \n",
    "        dom_ferc_eia[dom_ferc_eia_cols],\n",
    "        on=idx_plant + [util_col],\n",
    "        how='outer'\n",
    "    )\n",
    "    .merge(\n",
    "        pis_out,\n",
    "        on=idx_util,\n",
    "        how='left'\n",
    "    )\n",
    "    .sort_values(idx_plant)\n",
    "    .assign(plant_name_deprish=lambda x: x.plant_name_deprish.fillna(x.plant_name_new))\n",
    ")\n",
    "dom_squish.to_csv('dom_squish.csv', index=False)"
   ]
  },
  {
   "cell_type": "markdown",
   "metadata": {
    "jp-MarkdownHeadingCollapsed": true,
    "tags": []
   },
   "source": [
    "### Explore Classificaiton Model"
   ]
  },
  {
   "cell_type": "code",
   "execution_count": null,
   "metadata": {},
   "outputs": [],
   "source": [
    "features_train.describe().T"
   ]
  },
  {
   "cell_type": "code",
   "execution_count": null,
   "metadata": {},
   "outputs": [],
   "source": [
    "features_all.describe().T"
   ]
  },
  {
   "cell_type": "code",
   "execution_count": null,
   "metadata": {},
   "outputs": [],
   "source": [
    "matcher.best"
   ]
  },
  {
   "cell_type": "code",
   "execution_count": null,
   "metadata": {},
   "outputs": [],
   "source": [
    "weights = pd.DataFrame(\n",
    "    data={'feature': features_all.columns,\n",
    "          'weight': matcher.coefs\n",
    "         })\n",
    "weights"
   ]
  },
  {
   "cell_type": "code",
   "execution_count": null,
   "metadata": {},
   "outputs": [],
   "source": [
    "def plot_all_hist(all_df,results_df,murk_df, matches_best_df, range):\n",
    "    if all_df is not None:\n",
    "        plt.hist(all_df['score'], \n",
    "                 range=range,\n",
    "                 bins=100,\n",
    "                 color=\"pink\",\n",
    "                 label='all options'\n",
    "                )\n",
    "    if results_df is not None:\n",
    "        plt.hist(results_df['score'], \n",
    "                 range=range,\n",
    "                 bins=100,\n",
    "                 color=\"purple\",\n",
    "                 label='all model matches'\n",
    "                )\n",
    "    if matches_best_df is not None:\n",
    "        plt.hist(matches_best_df['score'], \n",
    "                 range=range,\n",
    "                 bins=100,\n",
    "                 color=\"turquoise\",\n",
    "                 label='winning options'\n",
    "                )\n",
    "    if murk_df is not None:\n",
    "        plt.hist(murk_df['score'], \n",
    "                 range=range,\n",
    "                 bins=100,\n",
    "                 color=\"grey\",\n",
    "                 label='murky wins'\n",
    "                )\n",
    "\n",
    "    plt.title(f'weighted score of comparision features')\n",
    "    plt.xlabel('weighted sum')\n",
    "    plt.ylabel(None)\n",
    "    plt.legend()\n",
    "    plt.show()"
   ]
  },
  {
   "cell_type": "code",
   "execution_count": null,
   "metadata": {},
   "outputs": [],
   "source": [
    "plot_all_hist(matcher.calc_match_stats(features_all),\n",
    "              matcher.matches_model,\n",
    "              matcher.murk_df,\n",
    "              matches_best,\n",
    "              range=None)"
   ]
  },
  {
   "cell_type": "code",
   "execution_count": null,
   "metadata": {},
   "outputs": [],
   "source": [
    "wins = (matches_best.reset_index().merge(inputs.plant_parts_df.\n",
    "              reset_index()[['record_id_eia','plant_part','capacity_mw']],\n",
    "              on=['record_id_eia'],\n",
    "              how='left',\n",
    "              suffixes=('_feature','')\n",
    "             ).\n",
    "        groupby(['plant_part']).\n",
    "        agg({'capacity_mw':sum,\n",
    "             'score': 'count'}).\n",
    "        assign(count_w=lambda x: x.capacity_mw * x.score,\n",
    "               percent_w=lambda x: x.count_w/x.sum()['count_w'],\n",
    "               percent=lambda x: x.score/x.sum()['score'],\n",
    "              )\n",
    "       )\n",
    "\n",
    "wins.round(2)"
   ]
  }
 ],
 "metadata": {
  "kernelspec": {
   "display_name": "Python 3 (ipykernel)",
   "language": "python",
   "name": "python3"
  },
  "language_info": {
   "codemirror_mode": {
    "name": "ipython",
    "version": 3
   },
   "file_extension": ".py",
   "mimetype": "text/x-python",
   "name": "python",
   "nbconvert_exporter": "python",
   "pygments_lexer": "ipython3",
   "version": "3.9.7"
  }
 },
 "nbformat": 4,
 "nbformat_minor": 4
}
