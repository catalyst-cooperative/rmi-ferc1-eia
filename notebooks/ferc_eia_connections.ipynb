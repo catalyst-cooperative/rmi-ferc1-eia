{
 "cells": [
  {
   "cell_type": "markdown",
   "metadata": {},
   "source": [
    "## FERC <> EIA Granular Connections"
   ]
  },
  {
   "cell_type": "markdown",
   "metadata": {},
   "source": [
    "Notes on the type of problem we are trying to solve:\n",
    "- A classification problem\n",
    "    - A Multi-Class Classification problem*\n",
    "- A deterministic problem\n",
    "- A record linkage problem\n",
    "\n",
    "Right now, we are using the recordlinkage package. We're using logistic regression classifier because it fits all of the above.\n",
    "\n",
    "What we still need:\n",
    "- determine how to restrict the results to one eia record per ferc record! - DONE (with more fine tuning to come)\n",
    "- Remove false granularities in the MUL - DONE\n",
    "    - Partent/Child granularities - DONE\n",
    "    - Peer/peer granularities - DONE\n",
    "- fine tune the comparison metric for heat rate and total fuel cost. (Issue #22)\n",
    "- add in additional FERC tabels (Issue #21)\n",
    "- more test data!\n",
    "- so, so much more.\n",
    "\n",
    "To consider:\n",
    "- Maybe we want to run the records with fuel cost data through a different matching model..."
   ]
  },
  {
   "cell_type": "code",
   "execution_count": 1,
   "metadata": {},
   "outputs": [],
   "source": [
    "%load_ext autoreload\n",
    "%autoreload 2"
   ]
  },
  {
   "cell_type": "code",
   "execution_count": 2,
   "metadata": {},
   "outputs": [],
   "source": [
    "import pandas as pd\n",
    "import numpy as np\n",
    "import pudl\n",
    "import pudl.constants as pc\n",
    "import pudl.extract.ferc1\n",
    "import sqlalchemy as sa\n",
    "import logging\n",
    "import sys\n",
    "import copy\n",
    "from copy import deepcopy\n",
    "import scipy\n",
    "\n",
    "import yaml\n",
    "\n",
    "import matplotlib.pyplot as plt\n",
    "import matplotlib as mpl\n",
    "%matplotlib inline"
   ]
  },
  {
   "cell_type": "code",
   "execution_count": 3,
   "metadata": {},
   "outputs": [],
   "source": [
    "logger = logging.getLogger()\n",
    "logger.setLevel(logging.INFO)\n",
    "handler = logging.StreamHandler(stream=sys.stdout)\n",
    "formatter = logging.Formatter('%(message)s')\n",
    "handler.setFormatter(formatter)\n",
    "logger.handlers = [handler]"
   ]
  },
  {
   "cell_type": "code",
   "execution_count": 4,
   "metadata": {},
   "outputs": [],
   "source": [
    "sys.path.append(\"../\")\n",
    "from pudl.output.ferc1 import *\n",
    "from ferc_eia_connections import *\n",
    "from plant_part_agg_eia import *\n",
    "from plant_parts import plant_parts\n",
    "import ferc_eia_connections\n",
    "pudl_settings = pudl.workspace.setup.get_defaults()\n",
    "pudl_engine = sa.create_engine(pudl_settings[\"pudl_db\"])"
   ]
  },
  {
   "cell_type": "markdown",
   "metadata": {},
   "source": [
    "### Pull in data (EIA, FERC and training)"
   ]
  },
  {
   "cell_type": "code",
   "execution_count": 5,
   "metadata": {},
   "outputs": [],
   "source": [
    "table_compiler = CompileTables(pudl_engine, freq='AS', rolling=True)"
   ]
  },
  {
   "cell_type": "code",
   "execution_count": 6,
   "metadata": {},
   "outputs": [],
   "source": [
    "parts_compilers = CompilePlantParts(table_compiler, plant_parts, clobber=True)"
   ]
  },
  {
   "cell_type": "code",
   "execution_count": 7,
   "metadata": {},
   "outputs": [
    {
     "name": "stdout",
     "output_type": "stream",
     "text": [
      "beginning the aggregation for generators_eia860\n",
      "grabbing generators_eia860 from the sqlite db\n",
      "Converting the dtypes of: generators_eia860\n",
      "beginning the aggregation for generation_eia923\n",
      "grabbing generation_eia923 from the sqlite db\n",
      "Converting the dtypes of: generation_eia923\n",
      "beginning the aggregation for mcoe\n",
      "grabbing mcoe from the output object\n",
      "filling in fuel cost NaNs with rolling averages\n",
      "Converting the dtypes of: mcoe\n",
      "grabbing ownership_eia860 from the sqlite db\n",
      "Converting the dtypes of: ownership_eia860\n",
      "grabbing boiler_generator_assn_eia860 from the sqlite db\n",
      "Converting the dtypes of: boiler_generator_assn_eia860\n",
      "grabbing generators_entity_eia from the sqlite db\n",
      "Converting the dtypes of: generators_entity_eia\n",
      "begin aggregation for: plant_prime_fuel\n",
      "proportion of trues: 0.00084\n",
      "proportion of trues: 0.00033\n",
      "begin aggregation for: plant_technology\n",
      "proportion of trues: 0.0017\n",
      "proportion of trues: 0.001\n",
      "begin aggregation for: plant_prime_mover\n",
      "proportion of trues: 0.069\n",
      "proportion of trues: 0.077\n",
      "begin aggregation for: plant_gen\n",
      "proportion of trues: 0.05\n",
      "proportion of trues: 0.052\n",
      "begin aggregation for: plant_unit\n",
      "proportion of trues: 0.19\n",
      "proportion of trues: 0.64\n",
      "begin aggregation for: plant\n",
      "proportion of trues: 1.0\n",
      "proportion of trues: 1.0\n",
      "grabbing utilities_eia from the sqlite db\n",
      "Converting the dtypes of: utilities_eia\n",
      "grabbing plants_eia from the sqlite db\n",
      "Converting the dtypes of: plants_eia\n"
     ]
    }
   ],
   "source": [
    "plant_parts_df = parts_compilers.generate_master_unit_list()\n",
    "plant_parts_df = plant_parts_df[plant_parts_df['true_gran']]"
   ]
  },
  {
   "cell_type": "code",
   "execution_count": 8,
   "metadata": {},
   "outputs": [],
   "source": [
    "# compliers for training data\n",
    "compiler_train = ferc_eia_connections.TrainXlxsCompiler()"
   ]
  },
  {
   "cell_type": "code",
   "execution_count": 9,
   "metadata": {},
   "outputs": [
    {
     "name": "stdout",
     "output_type": "stream",
     "text": [
      "grabbing xlxs file.\n"
     ]
    }
   ],
   "source": [
    "train_df_ids = ferc_eia_connections.prep_train_connections(parts_compilers,compiler_train)"
   ]
  },
  {
   "cell_type": "code",
   "execution_count": 10,
   "metadata": {},
   "outputs": [],
   "source": [
    "# pudl output object for ferc data\n",
    "pudl_out = pudl.output.pudltabl.PudlTabl(pudl_engine,freq='AS')"
   ]
  },
  {
   "cell_type": "code",
   "execution_count": 11,
   "metadata": {},
   "outputs": [
    {
     "name": "stdout",
     "output_type": "stream",
     "text": [
      "Converting the dtypes of: ferc1 plant records\n"
     ]
    }
   ],
   "source": [
    "steam_cleaned = ferc_eia_connections.prep_ferc_data(pudl_out)"
   ]
  },
  {
   "cell_type": "markdown",
   "metadata": {},
   "source": [
    "### Generate known test datasets"
   ]
  },
  {
   "cell_type": "code",
   "execution_count": 12,
   "metadata": {},
   "outputs": [],
   "source": [
    "# generate the list of the records in the EIA and FERC records that exist\n",
    "# in the training data\n",
    "eia_known = (plant_parts_df.merge(train_df_ids.reset_index().drop(columns=['record_id_ferc'])[['record_id_eia']],\n",
    "                          left_index=True,\n",
    "                          right_on=['record_id_eia']).\n",
    "            drop_duplicates(subset=['record_id_eia']).\n",
    "            set_index('record_id_eia').\n",
    "            astype({'total_fuel_cost':float,\n",
    "                    'total_mmbtu':float}))\n",
    "\n",
    "ferc_known = (steam_cleaned.merge(train_df_ids.reset_index().drop(columns=['record_id_eia'])[['record_id_ferc']],\n",
    "                          left_index=True,\n",
    "                          right_on=['record_id_ferc']).\n",
    "             drop_duplicates(subset=['record_id_ferc']).\n",
    "             set_index('record_id_ferc').\n",
    "             astype({'total_fuel_cost':float,\n",
    "                     'total_mmbtu':float}))"
   ]
  },
  {
   "cell_type": "markdown",
   "metadata": {},
   "source": [
    "# Omigosh the actual Matching"
   ]
  },
  {
   "cell_type": "code",
   "execution_count": 13,
   "metadata": {},
   "outputs": [],
   "source": [
    "import statistics"
   ]
  },
  {
   "cell_type": "code",
   "execution_count": 14,
   "metadata": {},
   "outputs": [],
   "source": [
    "dfA_known = ferc_known\n",
    "dfB_known = eia_known\n",
    "dfA = steam_cleaned[steam_cleaned['report_year'] == 2018]\n",
    "dfB = plant_parts_df[plant_parts_df['report_year'] == 2018]"
   ]
  },
  {
   "cell_type": "code",
   "execution_count": 15,
   "metadata": {},
   "outputs": [
    {
     "name": "stdout",
     "output_type": "stream",
     "text": [
      "(193, 20)\n",
      "(233, 30)\n",
      "(640, 20)\n",
      "(18965, 30)\n"
     ]
    }
   ],
   "source": [
    "print(dfA_known.shape)\n",
    "print(dfB_known.shape)\n",
    "print(dfA.shape)\n",
    "print(dfB.shape)"
   ]
  },
  {
   "cell_type": "markdown",
   "metadata": {},
   "source": [
    "#### Making Comparison Feature Vectors"
   ]
  },
  {
   "cell_type": "code",
   "execution_count": 16,
   "metadata": {},
   "outputs": [],
   "source": [
    "features_all = ferc_eia_connections.make_features(dfA, dfB, block_col='plant_id_report_year')\n",
    "features_known = ferc_eia_connections.make_features(dfA_known, dfB_known, block_col='plant_id_report_year')"
   ]
  },
  {
   "cell_type": "code",
   "execution_count": 17,
   "metadata": {},
   "outputs": [
    {
     "data": {
      "text/html": [
       "<div>\n",
       "<style scoped>\n",
       "    .dataframe tbody tr th:only-of-type {\n",
       "        vertical-align: middle;\n",
       "    }\n",
       "\n",
       "    .dataframe tbody tr th {\n",
       "        vertical-align: top;\n",
       "    }\n",
       "\n",
       "    .dataframe thead th {\n",
       "        text-align: right;\n",
       "    }\n",
       "</style>\n",
       "<table border=\"1\" class=\"dataframe\">\n",
       "  <thead>\n",
       "    <tr style=\"text-align: right;\">\n",
       "      <th></th>\n",
       "      <th>count</th>\n",
       "      <th>mean</th>\n",
       "      <th>std</th>\n",
       "      <th>min</th>\n",
       "      <th>25%</th>\n",
       "      <th>50%</th>\n",
       "      <th>75%</th>\n",
       "      <th>max</th>\n",
       "    </tr>\n",
       "  </thead>\n",
       "  <tbody>\n",
       "    <tr>\n",
       "      <th>net_generation_mwh</th>\n",
       "      <td>5045.0</td>\n",
       "      <td>0.048700</td>\n",
       "      <td>0.202567</td>\n",
       "      <td>0.000000e+00</td>\n",
       "      <td>0.000000e+00</td>\n",
       "      <td>0.000000e+00</td>\n",
       "      <td>4.884138e-84</td>\n",
       "      <td>1.000000</td>\n",
       "    </tr>\n",
       "    <tr>\n",
       "      <th>capacity_mw</th>\n",
       "      <td>5045.0</td>\n",
       "      <td>0.107129</td>\n",
       "      <td>0.276740</td>\n",
       "      <td>2.541439e-144</td>\n",
       "      <td>2.763763e-19</td>\n",
       "      <td>7.564690e-10</td>\n",
       "      <td>2.577164e-03</td>\n",
       "      <td>1.000000</td>\n",
       "    </tr>\n",
       "    <tr>\n",
       "      <th>total_fuel_cost</th>\n",
       "      <td>5045.0</td>\n",
       "      <td>0.003930</td>\n",
       "      <td>0.047877</td>\n",
       "      <td>0.000000e+00</td>\n",
       "      <td>0.000000e+00</td>\n",
       "      <td>0.000000e+00</td>\n",
       "      <td>1.387112e-279</td>\n",
       "      <td>1.000000</td>\n",
       "    </tr>\n",
       "    <tr>\n",
       "      <th>total_mmbtu</th>\n",
       "      <td>5045.0</td>\n",
       "      <td>0.011654</td>\n",
       "      <td>0.096737</td>\n",
       "      <td>0.000000e+00</td>\n",
       "      <td>0.000000e+00</td>\n",
       "      <td>0.000000e+00</td>\n",
       "      <td>0.000000e+00</td>\n",
       "      <td>1.000000</td>\n",
       "    </tr>\n",
       "    <tr>\n",
       "      <th>capacity_factor</th>\n",
       "      <td>5045.0</td>\n",
       "      <td>0.918720</td>\n",
       "      <td>0.112393</td>\n",
       "      <td>0.000000e+00</td>\n",
       "      <td>9.022225e-01</td>\n",
       "      <td>9.646664e-01</td>\n",
       "      <td>9.893045e-01</td>\n",
       "      <td>1.000000</td>\n",
       "    </tr>\n",
       "    <tr>\n",
       "      <th>fuel_cost_per_mmbtu</th>\n",
       "      <td>5045.0</td>\n",
       "      <td>0.542259</td>\n",
       "      <td>0.444572</td>\n",
       "      <td>0.000000e+00</td>\n",
       "      <td>0.000000e+00</td>\n",
       "      <td>8.195039e-01</td>\n",
       "      <td>9.458026e-01</td>\n",
       "      <td>0.999960</td>\n",
       "    </tr>\n",
       "    <tr>\n",
       "      <th>heat_rate_mmbtu_mwh</th>\n",
       "      <td>5045.0</td>\n",
       "      <td>0.457239</td>\n",
       "      <td>0.434272</td>\n",
       "      <td>0.000000e+00</td>\n",
       "      <td>0.000000e+00</td>\n",
       "      <td>5.773210e-01</td>\n",
       "      <td>9.112109e-01</td>\n",
       "      <td>0.999999</td>\n",
       "    </tr>\n",
       "    <tr>\n",
       "      <th>fuel_type_code_pudl</th>\n",
       "      <td>5045.0</td>\n",
       "      <td>0.837066</td>\n",
       "      <td>0.369342</td>\n",
       "      <td>0.000000e+00</td>\n",
       "      <td>1.000000e+00</td>\n",
       "      <td>1.000000e+00</td>\n",
       "      <td>1.000000e+00</td>\n",
       "      <td>1.000000</td>\n",
       "    </tr>\n",
       "    <tr>\n",
       "      <th>installation_year</th>\n",
       "      <td>5045.0</td>\n",
       "      <td>0.530426</td>\n",
       "      <td>0.499123</td>\n",
       "      <td>0.000000e+00</td>\n",
       "      <td>0.000000e+00</td>\n",
       "      <td>1.000000e+00</td>\n",
       "      <td>1.000000e+00</td>\n",
       "      <td>1.000000</td>\n",
       "    </tr>\n",
       "    <tr>\n",
       "      <th>utility_id_pudl</th>\n",
       "      <td>5045.0</td>\n",
       "      <td>0.485828</td>\n",
       "      <td>0.499849</td>\n",
       "      <td>0.000000e+00</td>\n",
       "      <td>0.000000e+00</td>\n",
       "      <td>0.000000e+00</td>\n",
       "      <td>1.000000e+00</td>\n",
       "      <td>1.000000</td>\n",
       "    </tr>\n",
       "  </tbody>\n",
       "</table>\n",
       "</div>"
      ],
      "text/plain": [
       "                      count      mean       std            min           25%  \\\n",
       "net_generation_mwh   5045.0  0.048700  0.202567   0.000000e+00  0.000000e+00   \n",
       "capacity_mw          5045.0  0.107129  0.276740  2.541439e-144  2.763763e-19   \n",
       "total_fuel_cost      5045.0  0.003930  0.047877   0.000000e+00  0.000000e+00   \n",
       "total_mmbtu          5045.0  0.011654  0.096737   0.000000e+00  0.000000e+00   \n",
       "capacity_factor      5045.0  0.918720  0.112393   0.000000e+00  9.022225e-01   \n",
       "fuel_cost_per_mmbtu  5045.0  0.542259  0.444572   0.000000e+00  0.000000e+00   \n",
       "heat_rate_mmbtu_mwh  5045.0  0.457239  0.434272   0.000000e+00  0.000000e+00   \n",
       "fuel_type_code_pudl  5045.0  0.837066  0.369342   0.000000e+00  1.000000e+00   \n",
       "installation_year    5045.0  0.530426  0.499123   0.000000e+00  0.000000e+00   \n",
       "utility_id_pudl      5045.0  0.485828  0.499849   0.000000e+00  0.000000e+00   \n",
       "\n",
       "                              50%            75%       max  \n",
       "net_generation_mwh   0.000000e+00   4.884138e-84  1.000000  \n",
       "capacity_mw          7.564690e-10   2.577164e-03  1.000000  \n",
       "total_fuel_cost      0.000000e+00  1.387112e-279  1.000000  \n",
       "total_mmbtu          0.000000e+00   0.000000e+00  1.000000  \n",
       "capacity_factor      9.646664e-01   9.893045e-01  1.000000  \n",
       "fuel_cost_per_mmbtu  8.195039e-01   9.458026e-01  0.999960  \n",
       "heat_rate_mmbtu_mwh  5.773210e-01   9.112109e-01  0.999999  \n",
       "fuel_type_code_pudl  1.000000e+00   1.000000e+00  1.000000  \n",
       "installation_year    1.000000e+00   1.000000e+00  1.000000  \n",
       "utility_id_pudl      0.000000e+00   1.000000e+00  1.000000  "
      ]
     },
     "execution_count": 17,
     "metadata": {},
     "output_type": "execute_result"
    }
   ],
   "source": [
    "features_all.describe().T"
   ]
  },
  {
   "cell_type": "code",
   "execution_count": 18,
   "metadata": {},
   "outputs": [
    {
     "data": {
      "text/html": [
       "<div>\n",
       "<style scoped>\n",
       "    .dataframe tbody tr th:only-of-type {\n",
       "        vertical-align: middle;\n",
       "    }\n",
       "\n",
       "    .dataframe tbody tr th {\n",
       "        vertical-align: top;\n",
       "    }\n",
       "\n",
       "    .dataframe thead th {\n",
       "        text-align: right;\n",
       "    }\n",
       "</style>\n",
       "<table border=\"1\" class=\"dataframe\">\n",
       "  <thead>\n",
       "    <tr style=\"text-align: right;\">\n",
       "      <th></th>\n",
       "      <th>count</th>\n",
       "      <th>mean</th>\n",
       "      <th>std</th>\n",
       "      <th>min</th>\n",
       "      <th>25%</th>\n",
       "      <th>50%</th>\n",
       "      <th>75%</th>\n",
       "      <th>max</th>\n",
       "    </tr>\n",
       "  </thead>\n",
       "  <tbody>\n",
       "    <tr>\n",
       "      <th>net_generation_mwh</th>\n",
       "      <td>182.0</td>\n",
       "      <td>0.223762</td>\n",
       "      <td>0.392803</td>\n",
       "      <td>0.000000e+00</td>\n",
       "      <td>0.000000e+00</td>\n",
       "      <td>6.039660e-44</td>\n",
       "      <td>2.780074e-01</td>\n",
       "      <td>1.000000</td>\n",
       "    </tr>\n",
       "    <tr>\n",
       "      <th>capacity_mw</th>\n",
       "      <td>182.0</td>\n",
       "      <td>0.298578</td>\n",
       "      <td>0.417893</td>\n",
       "      <td>2.197976e-81</td>\n",
       "      <td>1.286084e-14</td>\n",
       "      <td>9.956084e-04</td>\n",
       "      <td>7.419227e-01</td>\n",
       "      <td>1.000000</td>\n",
       "    </tr>\n",
       "    <tr>\n",
       "      <th>total_fuel_cost</th>\n",
       "      <td>182.0</td>\n",
       "      <td>0.000580</td>\n",
       "      <td>0.005953</td>\n",
       "      <td>0.000000e+00</td>\n",
       "      <td>0.000000e+00</td>\n",
       "      <td>0.000000e+00</td>\n",
       "      <td>1.791944e-87</td>\n",
       "      <td>0.077609</td>\n",
       "    </tr>\n",
       "    <tr>\n",
       "      <th>total_mmbtu</th>\n",
       "      <td>182.0</td>\n",
       "      <td>0.018594</td>\n",
       "      <td>0.126164</td>\n",
       "      <td>0.000000e+00</td>\n",
       "      <td>0.000000e+00</td>\n",
       "      <td>0.000000e+00</td>\n",
       "      <td>0.000000e+00</td>\n",
       "      <td>1.000000</td>\n",
       "    </tr>\n",
       "    <tr>\n",
       "      <th>capacity_factor</th>\n",
       "      <td>182.0</td>\n",
       "      <td>0.933729</td>\n",
       "      <td>0.099524</td>\n",
       "      <td>5.093643e-01</td>\n",
       "      <td>9.213133e-01</td>\n",
       "      <td>9.817441e-01</td>\n",
       "      <td>9.958140e-01</td>\n",
       "      <td>1.000000</td>\n",
       "    </tr>\n",
       "    <tr>\n",
       "      <th>fuel_cost_per_mmbtu</th>\n",
       "      <td>182.0</td>\n",
       "      <td>0.490902</td>\n",
       "      <td>0.453284</td>\n",
       "      <td>0.000000e+00</td>\n",
       "      <td>0.000000e+00</td>\n",
       "      <td>6.863031e-01</td>\n",
       "      <td>9.467803e-01</td>\n",
       "      <td>0.998389</td>\n",
       "    </tr>\n",
       "    <tr>\n",
       "      <th>heat_rate_mmbtu_mwh</th>\n",
       "      <td>182.0</td>\n",
       "      <td>0.419124</td>\n",
       "      <td>0.442576</td>\n",
       "      <td>0.000000e+00</td>\n",
       "      <td>0.000000e+00</td>\n",
       "      <td>0.000000e+00</td>\n",
       "      <td>8.934173e-01</td>\n",
       "      <td>0.999998</td>\n",
       "    </tr>\n",
       "    <tr>\n",
       "      <th>fuel_type_code_pudl</th>\n",
       "      <td>182.0</td>\n",
       "      <td>0.840659</td>\n",
       "      <td>0.367003</td>\n",
       "      <td>0.000000e+00</td>\n",
       "      <td>1.000000e+00</td>\n",
       "      <td>1.000000e+00</td>\n",
       "      <td>1.000000e+00</td>\n",
       "      <td>1.000000</td>\n",
       "    </tr>\n",
       "    <tr>\n",
       "      <th>installation_year</th>\n",
       "      <td>182.0</td>\n",
       "      <td>0.637363</td>\n",
       "      <td>0.482088</td>\n",
       "      <td>0.000000e+00</td>\n",
       "      <td>0.000000e+00</td>\n",
       "      <td>1.000000e+00</td>\n",
       "      <td>1.000000e+00</td>\n",
       "      <td>1.000000</td>\n",
       "    </tr>\n",
       "    <tr>\n",
       "      <th>utility_id_pudl</th>\n",
       "      <td>182.0</td>\n",
       "      <td>0.818681</td>\n",
       "      <td>0.386345</td>\n",
       "      <td>0.000000e+00</td>\n",
       "      <td>1.000000e+00</td>\n",
       "      <td>1.000000e+00</td>\n",
       "      <td>1.000000e+00</td>\n",
       "      <td>1.000000</td>\n",
       "    </tr>\n",
       "  </tbody>\n",
       "</table>\n",
       "</div>"
      ],
      "text/plain": [
       "                     count      mean       std           min           25%  \\\n",
       "net_generation_mwh   182.0  0.223762  0.392803  0.000000e+00  0.000000e+00   \n",
       "capacity_mw          182.0  0.298578  0.417893  2.197976e-81  1.286084e-14   \n",
       "total_fuel_cost      182.0  0.000580  0.005953  0.000000e+00  0.000000e+00   \n",
       "total_mmbtu          182.0  0.018594  0.126164  0.000000e+00  0.000000e+00   \n",
       "capacity_factor      182.0  0.933729  0.099524  5.093643e-01  9.213133e-01   \n",
       "fuel_cost_per_mmbtu  182.0  0.490902  0.453284  0.000000e+00  0.000000e+00   \n",
       "heat_rate_mmbtu_mwh  182.0  0.419124  0.442576  0.000000e+00  0.000000e+00   \n",
       "fuel_type_code_pudl  182.0  0.840659  0.367003  0.000000e+00  1.000000e+00   \n",
       "installation_year    182.0  0.637363  0.482088  0.000000e+00  0.000000e+00   \n",
       "utility_id_pudl      182.0  0.818681  0.386345  0.000000e+00  1.000000e+00   \n",
       "\n",
       "                              50%           75%       max  \n",
       "net_generation_mwh   6.039660e-44  2.780074e-01  1.000000  \n",
       "capacity_mw          9.956084e-04  7.419227e-01  1.000000  \n",
       "total_fuel_cost      0.000000e+00  1.791944e-87  0.077609  \n",
       "total_mmbtu          0.000000e+00  0.000000e+00  1.000000  \n",
       "capacity_factor      9.817441e-01  9.958140e-01  1.000000  \n",
       "fuel_cost_per_mmbtu  6.863031e-01  9.467803e-01  0.998389  \n",
       "heat_rate_mmbtu_mwh  0.000000e+00  8.934173e-01  0.999998  \n",
       "fuel_type_code_pudl  1.000000e+00  1.000000e+00  1.000000  \n",
       "installation_year    1.000000e+00  1.000000e+00  1.000000  \n",
       "utility_id_pudl      1.000000e+00  1.000000e+00  1.000000  "
      ]
     },
     "execution_count": 18,
     "metadata": {},
     "output_type": "execute_result"
    }
   ],
   "source": [
    "features_known.describe().T"
   ]
  },
  {
   "cell_type": "markdown",
   "metadata": {},
   "source": [
    "### Classificaiton Models"
   ]
  },
  {
   "cell_type": "code",
   "execution_count": 19,
   "metadata": {},
   "outputs": [],
   "source": [
    "import recordlinkage as rl\n",
    "import warnings\n",
    "warnings.filterwarnings('ignore')"
   ]
  },
  {
   "cell_type": "code",
   "execution_count": 20,
   "metadata": {},
   "outputs": [
    {
     "name": "stdout",
     "output_type": "stream",
     "text": [
      "CPU times: user 2min 4s, sys: 1.01 s, total: 2min 5s\n",
      "Wall time: 2min 12s\n"
     ]
    }
   ],
   "source": [
    "%%time\n",
    "# this cell takes a fair amount of time (> 2 minutes on my computer)\n",
    "# it is testing an array of model hyper parameters and \n",
    "# cross-vaildating with the training data. It returns a df with losts\n",
    "# of result scores to be used to find the best resutls\n",
    "results_options = ferc_eia_connections.test_model_parameters(\n",
    "    features_known, train_df_ids.index, 10)"
   ]
  },
  {
   "cell_type": "code",
   "execution_count": 21,
   "metadata": {},
   "outputs": [],
   "source": [
    "results_options = results_options.sort_values(['f_score','precision','accuracy'],ascending=False)\n",
    "best = results_options.head(1)"
   ]
  },
  {
   "cell_type": "code",
   "execution_count": 22,
   "metadata": {},
   "outputs": [],
   "source": [
    "prediction_df = fit_predict_lrc(best,features_known, features_all, train_df_ids)"
   ]
  },
  {
   "cell_type": "code",
   "execution_count": 23,
   "metadata": {},
   "outputs": [],
   "source": [
    "coefs = best['coef'].values[0]\n",
    "weighted_feats_all = weight_features(features_all,coefs)\n",
    "feats_all = calc_match_stats(weighted_feats_all)\n",
    "\n",
    "results_weighted = weight_features(prediction_df,coefs)\n",
    "results = calc_match_stats(results_weighted)\n",
    "results = results.merge(feats_all[['iqr']],left_index=True,right_index=True,how='left',suffixes=(\"\",\"_all\"))"
   ]
  },
  {
   "cell_type": "code",
   "execution_count": 24,
   "metadata": {},
   "outputs": [
    {
     "data": {
      "text/html": [
       "<div>\n",
       "<style scoped>\n",
       "    .dataframe tbody tr th:only-of-type {\n",
       "        vertical-align: middle;\n",
       "    }\n",
       "\n",
       "    .dataframe tbody tr th {\n",
       "        vertical-align: top;\n",
       "    }\n",
       "\n",
       "    .dataframe thead th {\n",
       "        text-align: right;\n",
       "    }\n",
       "</style>\n",
       "<table border=\"1\" class=\"dataframe\">\n",
       "  <thead>\n",
       "    <tr style=\"text-align: right;\">\n",
       "      <th></th>\n",
       "      <th>solver</th>\n",
       "      <th>precision</th>\n",
       "      <th>f_score</th>\n",
       "      <th>accuracy</th>\n",
       "      <th>c</th>\n",
       "      <th>cw</th>\n",
       "      <th>penalty</th>\n",
       "      <th>l1</th>\n",
       "      <th>multi_class</th>\n",
       "      <th>predictions</th>\n",
       "      <th>coef</th>\n",
       "      <th>interc</th>\n",
       "    </tr>\n",
       "  </thead>\n",
       "  <tbody>\n",
       "    <tr>\n",
       "      <th>0</th>\n",
       "      <td>liblinear</td>\n",
       "      <td>0.79926</td>\n",
       "      <td>0.847299</td>\n",
       "      <td>0.716445</td>\n",
       "      <td>10</td>\n",
       "      <td>None</td>\n",
       "      <td>l2</td>\n",
       "      <td>None</td>\n",
       "      <td>auto</td>\n",
       "      <td>150</td>\n",
       "      <td>[1.4231785181445744, 1.0086688632540513, 0.016...</td>\n",
       "      <td>-2.813641</td>\n",
       "    </tr>\n",
       "  </tbody>\n",
       "</table>\n",
       "</div>"
      ],
      "text/plain": [
       "      solver  precision   f_score  accuracy   c    cw penalty    l1  \\\n",
       "0  liblinear    0.79926  0.847299  0.716445  10  None      l2  None   \n",
       "\n",
       "  multi_class  predictions                                               coef  \\\n",
       "0        auto          150  [1.4231785181445744, 1.0086688632540513, 0.016...   \n",
       "\n",
       "     interc  \n",
       "0 -2.813641  "
      ]
     },
     "execution_count": 24,
     "metadata": {},
     "output_type": "execute_result"
    }
   ],
   "source": [
    "best"
   ]
  },
  {
   "cell_type": "code",
   "execution_count": 26,
   "metadata": {},
   "outputs": [
    {
     "data": {
      "text/plain": [
       "array([ 1.42317852,  1.00866886,  0.01635338,  1.29023252,  2.71004753,\n",
       "       -1.62283408,  1.34468018,  0.38004801,  1.03106784,  0.2768713 ])"
      ]
     },
     "execution_count": 26,
     "metadata": {},
     "output_type": "execute_result"
    }
   ],
   "source": [
    "coefs"
   ]
  },
  {
   "cell_type": "code",
   "execution_count": 35,
   "metadata": {},
   "outputs": [
    {
     "name": "stdout",
     "output_type": "stream",
     "text": [
      "matches vs total ferc:  0.91\n",
      "wins vs total ferc:     0.67\n",
      "wins vs matches:        0.73\n",
      "murk vs matches:        0.23\n",
      "ties vs matches:        0.032\n"
     ]
    }
   ],
   "source": [
    "winners = calc_wins(results, dfA)"
   ]
  },
  {
   "cell_type": "markdown",
   "metadata": {},
   "source": [
    "adding in plant name.\n",
    "\n",
    "non-matches:\n",
    " - disporportional utilities\n",
    " - in ferc steam... fossil plant has multiple PM code\n",
    " - two lines match?\n",
    " - are their missing chunks of EIA plants that get left behind\n"
   ]
  },
  {
   "cell_type": "code",
   "execution_count": 28,
   "metadata": {},
   "outputs": [
    {
     "data": {
      "image/png": "[encoded data removed]",
      "text/plain": [
       "<Figure size 432x288 with 1 Axes>"
      ]
     },
     "metadata": {
      "needs_background": "light"
     },
     "output_type": "display_data"
    }
   ],
   "source": [
    "plt.hist(feats_all[feats_all['count'] != 1].reset_index().drop_duplicates(subset=['record_id_ferc'])['count'],\n",
    "         #weights=weights_part,\n",
    "         range=(0,35),\n",
    "         bins=35,\n",
    "         color=\"purple\",\n",
    "         #label=f'{part_name}'\n",
    "        )\n",
    "\n",
    "plt.title(f'count of possible matches in each ferc id')\n",
    "plt.xlabel('count')\n",
    "plt.ylabel(None)\n",
    "#plt.legend()\n",
    "plt.show()"
   ]
  },
  {
   "cell_type": "code",
   "execution_count": 29,
   "metadata": {},
   "outputs": [],
   "source": [
    "def plot_all_hist(all_df,results_df,winners_df, range):\n",
    "    if all_df is not None:\n",
    "        plt.hist(all_df['score'], \n",
    "                 range=range,\n",
    "                 bins=100,\n",
    "                 color=\"pink\",\n",
    "                 label='all options'\n",
    "                )\n",
    "    if results_df is not None:\n",
    "        plt.hist(results_df['score'], \n",
    "                 range=range,\n",
    "                 bins=100,\n",
    "                 color=\"purple\",\n",
    "                 label='all results'\n",
    "                )\n",
    "    if winners_df is not None:\n",
    "        plt.hist(winners_df['score'], \n",
    "                 range=range,\n",
    "                 bins=100,\n",
    "                 color=\"turquoise\",\n",
    "                 label='winning options'\n",
    "                )\n",
    "\n",
    "\n",
    "    plt.title(f'weighted score of comparision features')\n",
    "    plt.xlabel('weighted sum')\n",
    "    plt.ylabel(None)\n",
    "    plt.legend()\n",
    "    plt.show()"
   ]
  },
  {
   "cell_type": "code",
   "execution_count": 30,
   "metadata": {},
   "outputs": [
    {
     "data": {
      "image/png": "[encoded data removed]",
      "text/plain": [
       "<Figure size 432x288 with 1 Axes>"
      ]
     },
     "metadata": {
      "needs_background": "light"
     },
     "output_type": "display_data"
    }
   ],
   "source": [
    "plot_all_hist(feats_all,results,winners, range=(0,15))"
   ]
  },
  {
   "cell_type": "code",
   "execution_count": 34,
   "metadata": {},
   "outputs": [
    {
     "data": {
      "text/html": [
       "<div>\n",
       "<style scoped>\n",
       "    .dataframe tbody tr th:only-of-type {\n",
       "        vertical-align: middle;\n",
       "    }\n",
       "\n",
       "    .dataframe tbody tr th {\n",
       "        vertical-align: top;\n",
       "    }\n",
       "\n",
       "    .dataframe thead th {\n",
       "        text-align: right;\n",
       "    }\n",
       "</style>\n",
       "<table border=\"1\" class=\"dataframe\">\n",
       "  <thead>\n",
       "    <tr style=\"text-align: right;\">\n",
       "      <th></th>\n",
       "      <th>plant_part</th>\n",
       "      <th>count</th>\n",
       "    </tr>\n",
       "  </thead>\n",
       "  <tbody>\n",
       "    <tr>\n",
       "      <th>0</th>\n",
       "      <td>plant</td>\n",
       "      <td>256</td>\n",
       "    </tr>\n",
       "    <tr>\n",
       "      <th>1</th>\n",
       "      <td>plant_gen</td>\n",
       "      <td>38</td>\n",
       "    </tr>\n",
       "    <tr>\n",
       "      <th>2</th>\n",
       "      <td>plant_prime_mover</td>\n",
       "      <td>27</td>\n",
       "    </tr>\n",
       "    <tr>\n",
       "      <th>3</th>\n",
       "      <td>plant_technology</td>\n",
       "      <td>3</td>\n",
       "    </tr>\n",
       "    <tr>\n",
       "      <th>4</th>\n",
       "      <td>plant_unit</td>\n",
       "      <td>89</td>\n",
       "    </tr>\n",
       "  </tbody>\n",
       "</table>\n",
       "</div>"
      ],
      "text/plain": [
       "          plant_part  count\n",
       "0              plant    256\n",
       "1          plant_gen     38\n",
       "2  plant_prime_mover     27\n",
       "3   plant_technology      3\n",
       "4         plant_unit     89"
      ]
     },
     "execution_count": 34,
     "metadata": {},
     "output_type": "execute_result"
    }
   ],
   "source": [
    "pudl.helpers.count_records(winners.reset_index().merge(plant_parts_df.reset_index()[['record_id_eia','plant_part']],how='left'),['plant_part'],'count')"
   ]
  },
  {
   "cell_type": "code",
   "execution_count": null,
   "metadata": {},
   "outputs": [],
   "source": []
  }
 ],
 "metadata": {
  "kernelspec": {
   "display_name": "Python 3",
   "language": "python",
   "name": "python3"
  },
  "language_info": {
   "codemirror_mode": {
    "name": "ipython",
    "version": 3
   },
   "file_extension": ".py",
   "mimetype": "text/x-python",
   "name": "python",
   "nbconvert_exporter": "python",
   "pygments_lexer": "ipython3",
   "version": "3.7.3"
  }
 },
 "nbformat": 4,
 "nbformat_minor": 4
}
