{
 "cells": [
  {
   "cell_type": "markdown",
   "metadata": {},
   "source": [
    "## FERC <> EIA Granular Connections"
   ]
  },
  {
   "cell_type": "markdown",
   "metadata": {},
   "source": [
    "Notes on the type of problem we are trying to solve:\n",
    "- A classification problem\n",
    "    - A Multi-Class Classification problem*\n",
    "- A deterministic problem\n",
    "- A record linkage problem\n",
    "\n",
    "Right now, we are using the recordlinkage package. We're using logistic regression classifier because it fits all of the above.\n",
    "\n",
    "What we still need:\n",
    "- determine how to restrict the results to one eia record per ferc record! - DONE (with more fine tuning to come)\n",
    "- Remove false granularities in the MUL - DONE\n",
    "    - Partent/Child granularities - DONE\n",
    "    - Peer/peer granularities - DONE\n",
    "- fine tune the comparison metric for heat rate and total fuel cost. (Issue #22)\n",
    "- add in additional FERC tabels (Issue #21)\n",
    "- more test data!\n",
    "- so, so much more.\n",
    "\n",
    "To consider:\n",
    "- Maybe we want to run the records with fuel cost data through a different matching model..."
   ]
  },
  {
   "cell_type": "code",
   "execution_count": 1,
   "metadata": {},
   "outputs": [],
   "source": [
    "%load_ext autoreload\n",
    "%autoreload 2"
   ]
  },
  {
   "cell_type": "code",
   "execution_count": 2,
   "metadata": {},
   "outputs": [],
   "source": [
    "import pandas as pd\n",
    "import numpy as np\n",
    "import pudl\n",
    "import pudl.constants as pc\n",
    "import pudl.extract.ferc1\n",
    "import sqlalchemy as sa\n",
    "import logging\n",
    "import sys\n",
    "import copy\n",
    "from copy import deepcopy\n",
    "import scipy\n",
    "\n",
    "import yaml\n",
    "\n",
    "import matplotlib.pyplot as plt\n",
    "import matplotlib as mpl\n",
    "%matplotlib inline"
   ]
  },
  {
   "cell_type": "code",
   "execution_count": 4,
   "metadata": {},
   "outputs": [],
   "source": [
    "logger = logging.getLogger()\n",
    "logger.setLevel(logging.INFO)\n",
    "handler = logging.StreamHandler(stream=sys.stdout)\n",
    "formatter = logging.Formatter('%(message)s')\n",
    "handler.setFormatter(formatter)\n",
    "logger.handlers = [handler]"
   ]
  },
  {
   "cell_type": "code",
   "execution_count": 5,
   "metadata": {},
   "outputs": [],
   "source": [
    "sys.path.append(\"../\")\n",
    "from pudl.output.ferc1 import *\n",
    "from ferc_eia_connections import *\n",
    "from plant_part_agg_eia import *\n",
    "from plant_parts import plant_parts\n",
    "import ferc_eia_connections\n",
    "pudl_settings = pudl.workspace.setup.get_defaults()\n",
    "pudl_engine = sa.create_engine(pudl_settings[\"pudl_db\"])"
   ]
  },
  {
   "cell_type": "markdown",
   "metadata": {},
   "source": [
    "### Pull in data (EIA, FERC and training)"
   ]
  },
  {
   "cell_type": "code",
   "execution_count": 6,
   "metadata": {},
   "outputs": [],
   "source": [
    "table_compiler = CompileTables(pudl_engine, freq='AS', rolling=True)"
   ]
  },
  {
   "cell_type": "code",
   "execution_count": 7,
   "metadata": {},
   "outputs": [],
   "source": [
    "parts_compilers = CompilePlantParts(table_compiler, clobber=True)"
   ]
  },
  {
   "cell_type": "code",
   "execution_count": 8,
   "metadata": {},
   "outputs": [
    {
     "name": "stdout",
     "output_type": "stream",
     "text": [
      "beginning the aggregation for generators_eia860\n",
      "grabbing generators_eia860 from the sqlite db\n",
      "Converting the dtypes of: generators_eia860\n",
      "beginning the aggregation for generation_eia923\n",
      "grabbing generation_eia923 from the sqlite db\n",
      "Converting the dtypes of: generation_eia923\n",
      "beginning the aggregation for mcoe\n",
      "grabbing mcoe from the output object\n",
      "filling in fuel cost NaNs with rolling averages\n",
      "Converting the dtypes of: mcoe\n",
      "grabbing ownership_eia860 from the sqlite db\n",
      "Converting the dtypes of: ownership_eia860\n",
      "begin aggregation for: plant_prime_fuel\n",
      "denormalize plant_prime_fuel\n",
      "grabbing generators_entity_eia from the sqlite db\n",
      "Converting the dtypes of: generators_entity_eia\n",
      "grabbing boiler_generator_assn_eia860 from the sqlite db\n",
      "Converting the dtypes of: boiler_generator_assn_eia860\n",
      "begin aggregation for: plant_technology\n",
      "denormalize plant_technology\n",
      "begin aggregation for: plant_prime_mover\n",
      "denormalize plant_prime_mover\n",
      "begin aggregation for: plant_gen\n",
      "begin aggregation for: plant_unit\n",
      "denormalize plant_unit\n",
      "begin aggregation for: plant\n",
      "grabbing utilities_eia from the sqlite db\n",
      "Converting the dtypes of: utilities_eia\n",
      "grabbing plants_eia from the sqlite db\n",
      "Converting the dtypes of: plants_eia\n"
     ]
    }
   ],
   "source": [
    "plant_parts_df = parts_compilers.generate_master_unit_list(plant_parts)\n",
    "plant_parts_df = plant_parts_df[plant_parts_df['false_gran'] != True]"
   ]
  },
  {
   "cell_type": "code",
   "execution_count": 9,
   "metadata": {},
   "outputs": [],
   "source": [
    "# compliers for training data\n",
    "compiler_train = ferc_eia_connections.TrainXlxsCompiler()"
   ]
  },
  {
   "cell_type": "code",
   "execution_count": 10,
   "metadata": {},
   "outputs": [
    {
     "name": "stdout",
     "output_type": "stream",
     "text": [
      "grabbing xlxs file.\n"
     ]
    }
   ],
   "source": [
    "train_df_ids = ferc_eia_connections._prep_train_connections(parts_compilers,compiler_train)"
   ]
  },
  {
   "cell_type": "code",
   "execution_count": 11,
   "metadata": {},
   "outputs": [],
   "source": [
    "# pudl output object for ferc data\n",
    "pudl_out = pudl.output.pudltabl.PudlTabl(pudl_engine,freq='AS')"
   ]
  },
  {
   "cell_type": "code",
   "execution_count": 12,
   "metadata": {},
   "outputs": [
    {
     "name": "stdout",
     "output_type": "stream",
     "text": [
      "Converting the dtypes of: ferc1 plant records\n"
     ]
    }
   ],
   "source": [
    "steam_cleaned = ferc_eia_connections._prep_ferc_data(pudl_out)"
   ]
  },
  {
   "cell_type": "markdown",
   "metadata": {},
   "source": [
    "### Generate known test datasets"
   ]
  },
  {
   "cell_type": "code",
   "execution_count": 13,
   "metadata": {},
   "outputs": [],
   "source": [
    "# generate the list of the records in the EIA and FERC records that exist\n",
    "# in the training data\n",
    "eia_known = (plant_parts_df.merge(train_df_ids.reset_index().drop(columns=['record_id_ferc'])[['record_id_eia']],\n",
    "                          left_index=True,\n",
    "                          right_on=['record_id_eia']).\n",
    "            drop_duplicates(subset=['record_id_eia']).\n",
    "            set_index('record_id_eia').\n",
    "            astype({'total_fuel_cost':float,\n",
    "                    'total_mmbtu':float}))\n",
    "\n",
    "ferc_known = (steam_cleaned.merge(train_df_ids.reset_index().drop(columns=['record_id_eia'])[['record_id_ferc']],\n",
    "                          left_index=True,\n",
    "                          right_on=['record_id_ferc']).\n",
    "             drop_duplicates(subset=['record_id_ferc']).\n",
    "             set_index('record_id_ferc').\n",
    "             astype({'total_fuel_cost':float,\n",
    "                     'total_mmbtu':float}))"
   ]
  },
  {
   "cell_type": "markdown",
   "metadata": {},
   "source": [
    "# Omigosh the actual Matching"
   ]
  },
  {
   "cell_type": "code",
   "execution_count": 14,
   "metadata": {},
   "outputs": [],
   "source": [
    "import statistics"
   ]
  },
  {
   "cell_type": "code",
   "execution_count": 41,
   "metadata": {},
   "outputs": [],
   "source": [
    "dfA_known = ferc_known\n",
    "dfB_known = eia_known\n",
    "dfA = steam_cleaned[steam_cleaned['report_year'] == 2018]\n",
    "dfB = plant_parts_df[plant_parts_df['report_year'] == 2018]"
   ]
  },
  {
   "cell_type": "code",
   "execution_count": 42,
   "metadata": {},
   "outputs": [
    {
     "name": "stdout",
     "output_type": "stream",
     "text": [
      "(193, 20)\n",
      "(260, 29)\n",
      "(640, 20)\n",
      "(13259, 29)\n"
     ]
    }
   ],
   "source": [
    "print(dfA_known.shape)\n",
    "print(dfB_known.shape)\n",
    "print(dfA.shape)\n",
    "print(dfB.shape)"
   ]
  },
  {
   "cell_type": "markdown",
   "metadata": {},
   "source": [
    "#### Making Comparison Feature Vectors"
   ]
  },
  {
   "cell_type": "code",
   "execution_count": 43,
   "metadata": {},
   "outputs": [],
   "source": [
    "features_all = ferc_eia_connections.make_features(dfA, dfB, block_col='plant_id_report_year')\n",
    "features_known = ferc_eia_connections.make_features(dfA_known, dfB_known, block_col='plant_id_report_year')"
   ]
  },
  {
   "cell_type": "code",
   "execution_count": 35,
   "metadata": {},
   "outputs": [],
   "source": [
    "# features_all.describe().T"
   ]
  },
  {
   "cell_type": "code",
   "execution_count": 36,
   "metadata": {},
   "outputs": [],
   "source": [
    "# features_known.describe().T"
   ]
  },
  {
   "cell_type": "markdown",
   "metadata": {},
   "source": [
    "### Classificaiton Models"
   ]
  },
  {
   "cell_type": "code",
   "execution_count": 44,
   "metadata": {},
   "outputs": [],
   "source": [
    "import recordlinkage as rl\n",
    "import warnings\n",
    "warnings.filterwarnings('ignore')"
   ]
  },
  {
   "cell_type": "code",
   "execution_count": 53,
   "metadata": {},
   "outputs": [
    {
     "name": "stdout",
     "output_type": "stream",
     "text": [
      "CPU times: user 2min 11s, sys: 1.26 s, total: 2min 12s\n",
      "Wall time: 2min 41s\n"
     ]
    }
   ],
   "source": [
    "%%time\n",
    "# this cell takes a fair amount of time (> 2 minutes on my computer)\n",
    "# it is testing an array of model hyper parameters and \n",
    "# cross-vaildating with the training data. It returns a df with losts\n",
    "# of result scores to be used to find the best resutls\n",
    "results_options = ferc_eia_connections.test_model_parameters(\n",
    "    features_known, train_df_ids.index, 10)"
   ]
  },
  {
   "cell_type": "code",
   "execution_count": 22,
   "metadata": {},
   "outputs": [],
   "source": [
    "results_options = results_options.sort_values(['f_score','precision','accuracy'],ascending=False)\n",
    "best = results_options.head(1)"
   ]
  },
  {
   "cell_type": "code",
   "execution_count": 25,
   "metadata": {},
   "outputs": [],
   "source": [
    "prediction_df = fit_predict_lrc(best,features_known, train_df_ids)"
   ]
  },
  {
   "cell_type": "code",
   "execution_count": 26,
   "metadata": {},
   "outputs": [],
   "source": [
    "coefs = best['coef'].values[0]\n",
    "weighted_feats_all = weight_features(features_all,coefs)\n",
    "feats_all = calc_match_stats(weighted_feats_all)\n",
    "\n",
    "results_weighted = weight_features(prediction_df,coefs)\n",
    "results = calc_match_stats(results_weighted)\n",
    "results = results.merge(feats_all[['iqr']],left_index=True,right_index=True,how='left',suffixes=(\"\",\"_all\"))"
   ]
  },
  {
   "cell_type": "code",
   "execution_count": 27,
   "metadata": {},
   "outputs": [
    {
     "name": "stdout",
     "output_type": "stream",
     "text": [
      "matches vs total ferc:  0.89\n",
      "wins vs total ferc:     0.82\n",
      "wins vs matches:        0.92\n",
      "murk vs matches:        0.07\n",
      "ties vs matches:        0.01\n"
     ]
    }
   ],
   "source": [
    "winners = calc_wins(results, dfA)"
   ]
  },
  {
   "cell_type": "code",
   "execution_count": 34,
   "metadata": {},
   "outputs": [
    {
     "data": {
      "text/html": [
       "<div>\n",
       "<style scoped>\n",
       "    .dataframe tbody tr th:only-of-type {\n",
       "        vertical-align: middle;\n",
       "    }\n",
       "\n",
       "    .dataframe tbody tr th {\n",
       "        vertical-align: top;\n",
       "    }\n",
       "\n",
       "    .dataframe thead th {\n",
       "        text-align: right;\n",
       "    }\n",
       "</style>\n",
       "<table border=\"1\" class=\"dataframe\">\n",
       "  <thead>\n",
       "    <tr style=\"text-align: right;\">\n",
       "      <th></th>\n",
       "      <th></th>\n",
       "      <th>score</th>\n",
       "      <th>capacity_factor</th>\n",
       "      <th>capacity_mw</th>\n",
       "      <th>fuel_cost_per_mmbtu</th>\n",
       "      <th>fuel_type_code_pudl</th>\n",
       "      <th>heat_rate_mmbtu_mwh</th>\n",
       "      <th>installation_year</th>\n",
       "      <th>net_generation_mwh</th>\n",
       "      <th>total_fuel_cost</th>\n",
       "      <th>total_mmbtu</th>\n",
       "      <th>utility_id_pudl</th>\n",
       "      <th>diffs</th>\n",
       "      <th>count</th>\n",
       "      <th>rank</th>\n",
       "      <th>iqr</th>\n",
       "      <th>iqr_all</th>\n",
       "    </tr>\n",
       "    <tr>\n",
       "      <th>record_id_ferc</th>\n",
       "      <th>record_id_eia</th>\n",
       "      <th></th>\n",
       "      <th></th>\n",
       "      <th></th>\n",
       "      <th></th>\n",
       "      <th></th>\n",
       "      <th></th>\n",
       "      <th></th>\n",
       "      <th></th>\n",
       "      <th></th>\n",
       "      <th></th>\n",
       "      <th></th>\n",
       "      <th></th>\n",
       "      <th></th>\n",
       "      <th></th>\n",
       "      <th></th>\n",
       "      <th></th>\n",
       "    </tr>\n",
       "  </thead>\n",
       "  <tbody>\n",
       "    <tr>\n",
       "      <th>f1_steam_2018_12_100_0_1</th>\n",
       "      <th>55220_2018_plant_total_12685</th>\n",
       "      <td>41.641356</td>\n",
       "      <td>3.118688</td>\n",
       "      <td>2.626918e+00</td>\n",
       "      <td>-2.810300</td>\n",
       "      <td>-1.450578</td>\n",
       "      <td>1.040608</td>\n",
       "      <td>-0.174525</td>\n",
       "      <td>5.063623e-03</td>\n",
       "      <td>3.427015e+01</td>\n",
       "      <td>3.349843e-12</td>\n",
       "      <td>5.015332</td>\n",
       "      <td>NaN</td>\n",
       "      <td>1</td>\n",
       "      <td>1.0</td>\n",
       "      <td>0.000000</td>\n",
       "      <td>0.000000</td>\n",
       "    </tr>\n",
       "    <tr>\n",
       "      <th>f1_steam_2018_12_100_0_2</th>\n",
       "      <th>2050_2018_plant_total_12685</th>\n",
       "      <td>7.380313</td>\n",
       "      <td>3.120382</td>\n",
       "      <td>2.626918e+00</td>\n",
       "      <td>-2.759465</td>\n",
       "      <td>-1.450578</td>\n",
       "      <td>0.995393</td>\n",
       "      <td>-0.174525</td>\n",
       "      <td>6.852641e-03</td>\n",
       "      <td>1.590387e-06</td>\n",
       "      <td>6.950553e-95</td>\n",
       "      <td>5.015332</td>\n",
       "      <td>NaN</td>\n",
       "      <td>1</td>\n",
       "      <td>1.0</td>\n",
       "      <td>0.000000</td>\n",
       "      <td>0.000000</td>\n",
       "    </tr>\n",
       "    <tr>\n",
       "      <th>f1_steam_2018_12_100_0_3</th>\n",
       "      <th>8054_2018_plant_total_12685</th>\n",
       "      <td>7.270765</td>\n",
       "      <td>3.117417</td>\n",
       "      <td>2.626918e+00</td>\n",
       "      <td>-2.772042</td>\n",
       "      <td>-1.450578</td>\n",
       "      <td>0.902724</td>\n",
       "      <td>-0.174525</td>\n",
       "      <td>8.682914e-06</td>\n",
       "      <td>5.510079e-03</td>\n",
       "      <td>1.335023e-128</td>\n",
       "      <td>5.015332</td>\n",
       "      <td>NaN</td>\n",
       "      <td>1</td>\n",
       "      <td>1.0</td>\n",
       "      <td>0.000000</td>\n",
       "      <td>0.000000</td>\n",
       "    </tr>\n",
       "    <tr>\n",
       "      <th>f1_steam_2018_12_100_0_4</th>\n",
       "      <th>55218_2018_plant_total_12685</th>\n",
       "      <td>5.908177</td>\n",
       "      <td>3.037784</td>\n",
       "      <td>8.737542e-02</td>\n",
       "      <td>-2.811206</td>\n",
       "      <td>-1.450578</td>\n",
       "      <td>1.049744</td>\n",
       "      <td>-0.174525</td>\n",
       "      <td>1.025994e+00</td>\n",
       "      <td>1.282565e-01</td>\n",
       "      <td>7.493323e-101</td>\n",
       "      <td>5.015332</td>\n",
       "      <td>NaN</td>\n",
       "      <td>1</td>\n",
       "      <td>1.0</td>\n",
       "      <td>0.000000</td>\n",
       "      <td>0.000000</td>\n",
       "    </tr>\n",
       "    <tr>\n",
       "      <th>f1_steam_2018_12_100_1_1</th>\n",
       "      <th>2053_2018_plant_total_12685</th>\n",
       "      <td>103.299636</td>\n",
       "      <td>3.119705</td>\n",
       "      <td>2.626918e+00</td>\n",
       "      <td>-2.757011</td>\n",
       "      <td>-0.000000</td>\n",
       "      <td>0.836401</td>\n",
       "      <td>-0.174525</td>\n",
       "      <td>1.818321e-01</td>\n",
       "      <td>9.445098e+01</td>\n",
       "      <td>9.685428e-66</td>\n",
       "      <td>5.015332</td>\n",
       "      <td>NaN</td>\n",
       "      <td>1</td>\n",
       "      <td>1.0</td>\n",
       "      <td>0.000000</td>\n",
       "      <td>0.000000</td>\n",
       "    </tr>\n",
       "    <tr>\n",
       "      <th>...</th>\n",
       "      <th>...</th>\n",
       "      <td>...</td>\n",
       "      <td>...</td>\n",
       "      <td>...</td>\n",
       "      <td>...</td>\n",
       "      <td>...</td>\n",
       "      <td>...</td>\n",
       "      <td>...</td>\n",
       "      <td>...</td>\n",
       "      <td>...</td>\n",
       "      <td>...</td>\n",
       "      <td>...</td>\n",
       "      <td>...</td>\n",
       "      <td>...</td>\n",
       "      <td>...</td>\n",
       "      <td>...</td>\n",
       "      <td>...</td>\n",
       "    </tr>\n",
       "    <tr>\n",
       "      <th>f1_steam_2018_12_99_0_1</th>\n",
       "      <th>6073_2018_plant_total_12686</th>\n",
       "      <td>5.007893</td>\n",
       "      <td>2.645517</td>\n",
       "      <td>6.665459e-51</td>\n",
       "      <td>-2.700427</td>\n",
       "      <td>-0.000000</td>\n",
       "      <td>0.047471</td>\n",
       "      <td>-0.000000</td>\n",
       "      <td>0.000000e+00</td>\n",
       "      <td>0.000000e+00</td>\n",
       "      <td>0.000000e+00</td>\n",
       "      <td>5.015332</td>\n",
       "      <td>NaN</td>\n",
       "      <td>3</td>\n",
       "      <td>1.0</td>\n",
       "      <td>3.199784</td>\n",
       "      <td>3.457049</td>\n",
       "    </tr>\n",
       "    <tr>\n",
       "      <th>f1_steam_2018_12_99_0_3</th>\n",
       "      <th>2049_2018_plant_total_12686</th>\n",
       "      <td>6.828764</td>\n",
       "      <td>3.075349</td>\n",
       "      <td>3.241964e-07</td>\n",
       "      <td>-2.413344</td>\n",
       "      <td>-1.450578</td>\n",
       "      <td>0.900462</td>\n",
       "      <td>-0.174525</td>\n",
       "      <td>1.876066e+00</td>\n",
       "      <td>1.890205e-153</td>\n",
       "      <td>0.000000e+00</td>\n",
       "      <td>5.015332</td>\n",
       "      <td>NaN</td>\n",
       "      <td>1</td>\n",
       "      <td>1.0</td>\n",
       "      <td>0.000000</td>\n",
       "      <td>0.000000</td>\n",
       "    </tr>\n",
       "    <tr>\n",
       "      <th>f1_steam_2018_12_99_0_4</th>\n",
       "      <th>2049_2018_plant_total_12686</th>\n",
       "      <td>4.459422</td>\n",
       "      <td>2.954131</td>\n",
       "      <td>1.227612e-35</td>\n",
       "      <td>-2.059464</td>\n",
       "      <td>-1.450578</td>\n",
       "      <td>0.000000</td>\n",
       "      <td>-0.000000</td>\n",
       "      <td>0.000000e+00</td>\n",
       "      <td>0.000000e+00</td>\n",
       "      <td>0.000000e+00</td>\n",
       "      <td>5.015332</td>\n",
       "      <td>NaN</td>\n",
       "      <td>1</td>\n",
       "      <td>1.0</td>\n",
       "      <td>0.000000</td>\n",
       "      <td>0.000000</td>\n",
       "    </tr>\n",
       "    <tr>\n",
       "      <th>f1_steam_2018_12_99_0_5</th>\n",
       "      <th>10_2018_plant_total_12686</th>\n",
       "      <td>4.766483</td>\n",
       "      <td>3.121438</td>\n",
       "      <td>1.425682e-10</td>\n",
       "      <td>-2.794976</td>\n",
       "      <td>-1.450578</td>\n",
       "      <td>0.875267</td>\n",
       "      <td>-0.000000</td>\n",
       "      <td>5.950926e-203</td>\n",
       "      <td>0.000000e+00</td>\n",
       "      <td>0.000000e+00</td>\n",
       "      <td>5.015332</td>\n",
       "      <td>NaN</td>\n",
       "      <td>2</td>\n",
       "      <td>1.0</td>\n",
       "      <td>2.332104</td>\n",
       "      <td>6.229720</td>\n",
       "    </tr>\n",
       "    <tr>\n",
       "      <th>f1_steam_2018_12_99_1_2</th>\n",
       "      <th>2048_2018_plant_total_12686</th>\n",
       "      <td>6.551964</td>\n",
       "      <td>3.099654</td>\n",
       "      <td>3.615401e-03</td>\n",
       "      <td>-0.000000</td>\n",
       "      <td>-1.450578</td>\n",
       "      <td>0.000000</td>\n",
       "      <td>-0.174525</td>\n",
       "      <td>5.846475e-02</td>\n",
       "      <td>1.734802e-10</td>\n",
       "      <td>3.031858e-225</td>\n",
       "      <td>5.015332</td>\n",
       "      <td>NaN</td>\n",
       "      <td>1</td>\n",
       "      <td>1.0</td>\n",
       "      <td>0.000000</td>\n",
       "      <td>0.000000</td>\n",
       "    </tr>\n",
       "  </tbody>\n",
       "</table>\n",
       "<p>523 rows × 16 columns</p>\n",
       "</div>"
      ],
      "text/plain": [
       "                                                            score  \\\n",
       "record_id_ferc           record_id_eia                              \n",
       "f1_steam_2018_12_100_0_1 55220_2018_plant_total_12685   41.641356   \n",
       "f1_steam_2018_12_100_0_2 2050_2018_plant_total_12685     7.380313   \n",
       "f1_steam_2018_12_100_0_3 8054_2018_plant_total_12685     7.270765   \n",
       "f1_steam_2018_12_100_0_4 55218_2018_plant_total_12685    5.908177   \n",
       "f1_steam_2018_12_100_1_1 2053_2018_plant_total_12685   103.299636   \n",
       "...                                                           ...   \n",
       "f1_steam_2018_12_99_0_1  6073_2018_plant_total_12686     5.007893   \n",
       "f1_steam_2018_12_99_0_3  2049_2018_plant_total_12686     6.828764   \n",
       "f1_steam_2018_12_99_0_4  2049_2018_plant_total_12686     4.459422   \n",
       "f1_steam_2018_12_99_0_5  10_2018_plant_total_12686       4.766483   \n",
       "f1_steam_2018_12_99_1_2  2048_2018_plant_total_12686     6.551964   \n",
       "\n",
       "                                                       capacity_factor  \\\n",
       "record_id_ferc           record_id_eia                                   \n",
       "f1_steam_2018_12_100_0_1 55220_2018_plant_total_12685         3.118688   \n",
       "f1_steam_2018_12_100_0_2 2050_2018_plant_total_12685          3.120382   \n",
       "f1_steam_2018_12_100_0_3 8054_2018_plant_total_12685          3.117417   \n",
       "f1_steam_2018_12_100_0_4 55218_2018_plant_total_12685         3.037784   \n",
       "f1_steam_2018_12_100_1_1 2053_2018_plant_total_12685          3.119705   \n",
       "...                                                                ...   \n",
       "f1_steam_2018_12_99_0_1  6073_2018_plant_total_12686          2.645517   \n",
       "f1_steam_2018_12_99_0_3  2049_2018_plant_total_12686          3.075349   \n",
       "f1_steam_2018_12_99_0_4  2049_2018_plant_total_12686          2.954131   \n",
       "f1_steam_2018_12_99_0_5  10_2018_plant_total_12686            3.121438   \n",
       "f1_steam_2018_12_99_1_2  2048_2018_plant_total_12686          3.099654   \n",
       "\n",
       "                                                        capacity_mw  \\\n",
       "record_id_ferc           record_id_eia                                \n",
       "f1_steam_2018_12_100_0_1 55220_2018_plant_total_12685  2.626918e+00   \n",
       "f1_steam_2018_12_100_0_2 2050_2018_plant_total_12685   2.626918e+00   \n",
       "f1_steam_2018_12_100_0_3 8054_2018_plant_total_12685   2.626918e+00   \n",
       "f1_steam_2018_12_100_0_4 55218_2018_plant_total_12685  8.737542e-02   \n",
       "f1_steam_2018_12_100_1_1 2053_2018_plant_total_12685   2.626918e+00   \n",
       "...                                                             ...   \n",
       "f1_steam_2018_12_99_0_1  6073_2018_plant_total_12686   6.665459e-51   \n",
       "f1_steam_2018_12_99_0_3  2049_2018_plant_total_12686   3.241964e-07   \n",
       "f1_steam_2018_12_99_0_4  2049_2018_plant_total_12686   1.227612e-35   \n",
       "f1_steam_2018_12_99_0_5  10_2018_plant_total_12686     1.425682e-10   \n",
       "f1_steam_2018_12_99_1_2  2048_2018_plant_total_12686   3.615401e-03   \n",
       "\n",
       "                                                       fuel_cost_per_mmbtu  \\\n",
       "record_id_ferc           record_id_eia                                       \n",
       "f1_steam_2018_12_100_0_1 55220_2018_plant_total_12685            -2.810300   \n",
       "f1_steam_2018_12_100_0_2 2050_2018_plant_total_12685             -2.759465   \n",
       "f1_steam_2018_12_100_0_3 8054_2018_plant_total_12685             -2.772042   \n",
       "f1_steam_2018_12_100_0_4 55218_2018_plant_total_12685            -2.811206   \n",
       "f1_steam_2018_12_100_1_1 2053_2018_plant_total_12685             -2.757011   \n",
       "...                                                                    ...   \n",
       "f1_steam_2018_12_99_0_1  6073_2018_plant_total_12686             -2.700427   \n",
       "f1_steam_2018_12_99_0_3  2049_2018_plant_total_12686             -2.413344   \n",
       "f1_steam_2018_12_99_0_4  2049_2018_plant_total_12686             -2.059464   \n",
       "f1_steam_2018_12_99_0_5  10_2018_plant_total_12686               -2.794976   \n",
       "f1_steam_2018_12_99_1_2  2048_2018_plant_total_12686             -0.000000   \n",
       "\n",
       "                                                       fuel_type_code_pudl  \\\n",
       "record_id_ferc           record_id_eia                                       \n",
       "f1_steam_2018_12_100_0_1 55220_2018_plant_total_12685            -1.450578   \n",
       "f1_steam_2018_12_100_0_2 2050_2018_plant_total_12685             -1.450578   \n",
       "f1_steam_2018_12_100_0_3 8054_2018_plant_total_12685             -1.450578   \n",
       "f1_steam_2018_12_100_0_4 55218_2018_plant_total_12685            -1.450578   \n",
       "f1_steam_2018_12_100_1_1 2053_2018_plant_total_12685             -0.000000   \n",
       "...                                                                    ...   \n",
       "f1_steam_2018_12_99_0_1  6073_2018_plant_total_12686             -0.000000   \n",
       "f1_steam_2018_12_99_0_3  2049_2018_plant_total_12686             -1.450578   \n",
       "f1_steam_2018_12_99_0_4  2049_2018_plant_total_12686             -1.450578   \n",
       "f1_steam_2018_12_99_0_5  10_2018_plant_total_12686               -1.450578   \n",
       "f1_steam_2018_12_99_1_2  2048_2018_plant_total_12686             -1.450578   \n",
       "\n",
       "                                                       heat_rate_mmbtu_mwh  \\\n",
       "record_id_ferc           record_id_eia                                       \n",
       "f1_steam_2018_12_100_0_1 55220_2018_plant_total_12685             1.040608   \n",
       "f1_steam_2018_12_100_0_2 2050_2018_plant_total_12685              0.995393   \n",
       "f1_steam_2018_12_100_0_3 8054_2018_plant_total_12685              0.902724   \n",
       "f1_steam_2018_12_100_0_4 55218_2018_plant_total_12685             1.049744   \n",
       "f1_steam_2018_12_100_1_1 2053_2018_plant_total_12685              0.836401   \n",
       "...                                                                    ...   \n",
       "f1_steam_2018_12_99_0_1  6073_2018_plant_total_12686              0.047471   \n",
       "f1_steam_2018_12_99_0_3  2049_2018_plant_total_12686              0.900462   \n",
       "f1_steam_2018_12_99_0_4  2049_2018_plant_total_12686              0.000000   \n",
       "f1_steam_2018_12_99_0_5  10_2018_plant_total_12686                0.875267   \n",
       "f1_steam_2018_12_99_1_2  2048_2018_plant_total_12686              0.000000   \n",
       "\n",
       "                                                       installation_year  \\\n",
       "record_id_ferc           record_id_eia                                     \n",
       "f1_steam_2018_12_100_0_1 55220_2018_plant_total_12685          -0.174525   \n",
       "f1_steam_2018_12_100_0_2 2050_2018_plant_total_12685           -0.174525   \n",
       "f1_steam_2018_12_100_0_3 8054_2018_plant_total_12685           -0.174525   \n",
       "f1_steam_2018_12_100_0_4 55218_2018_plant_total_12685          -0.174525   \n",
       "f1_steam_2018_12_100_1_1 2053_2018_plant_total_12685           -0.174525   \n",
       "...                                                                  ...   \n",
       "f1_steam_2018_12_99_0_1  6073_2018_plant_total_12686           -0.000000   \n",
       "f1_steam_2018_12_99_0_3  2049_2018_plant_total_12686           -0.174525   \n",
       "f1_steam_2018_12_99_0_4  2049_2018_plant_total_12686           -0.000000   \n",
       "f1_steam_2018_12_99_0_5  10_2018_plant_total_12686             -0.000000   \n",
       "f1_steam_2018_12_99_1_2  2048_2018_plant_total_12686           -0.174525   \n",
       "\n",
       "                                                       net_generation_mwh  \\\n",
       "record_id_ferc           record_id_eia                                      \n",
       "f1_steam_2018_12_100_0_1 55220_2018_plant_total_12685        5.063623e-03   \n",
       "f1_steam_2018_12_100_0_2 2050_2018_plant_total_12685         6.852641e-03   \n",
       "f1_steam_2018_12_100_0_3 8054_2018_plant_total_12685         8.682914e-06   \n",
       "f1_steam_2018_12_100_0_4 55218_2018_plant_total_12685        1.025994e+00   \n",
       "f1_steam_2018_12_100_1_1 2053_2018_plant_total_12685         1.818321e-01   \n",
       "...                                                                   ...   \n",
       "f1_steam_2018_12_99_0_1  6073_2018_plant_total_12686         0.000000e+00   \n",
       "f1_steam_2018_12_99_0_3  2049_2018_plant_total_12686         1.876066e+00   \n",
       "f1_steam_2018_12_99_0_4  2049_2018_plant_total_12686         0.000000e+00   \n",
       "f1_steam_2018_12_99_0_5  10_2018_plant_total_12686          5.950926e-203   \n",
       "f1_steam_2018_12_99_1_2  2048_2018_plant_total_12686         5.846475e-02   \n",
       "\n",
       "                                                       total_fuel_cost  \\\n",
       "record_id_ferc           record_id_eia                                   \n",
       "f1_steam_2018_12_100_0_1 55220_2018_plant_total_12685     3.427015e+01   \n",
       "f1_steam_2018_12_100_0_2 2050_2018_plant_total_12685      1.590387e-06   \n",
       "f1_steam_2018_12_100_0_3 8054_2018_plant_total_12685      5.510079e-03   \n",
       "f1_steam_2018_12_100_0_4 55218_2018_plant_total_12685     1.282565e-01   \n",
       "f1_steam_2018_12_100_1_1 2053_2018_plant_total_12685      9.445098e+01   \n",
       "...                                                                ...   \n",
       "f1_steam_2018_12_99_0_1  6073_2018_plant_total_12686      0.000000e+00   \n",
       "f1_steam_2018_12_99_0_3  2049_2018_plant_total_12686     1.890205e-153   \n",
       "f1_steam_2018_12_99_0_4  2049_2018_plant_total_12686      0.000000e+00   \n",
       "f1_steam_2018_12_99_0_5  10_2018_plant_total_12686        0.000000e+00   \n",
       "f1_steam_2018_12_99_1_2  2048_2018_plant_total_12686      1.734802e-10   \n",
       "\n",
       "                                                         total_mmbtu  \\\n",
       "record_id_ferc           record_id_eia                                 \n",
       "f1_steam_2018_12_100_0_1 55220_2018_plant_total_12685   3.349843e-12   \n",
       "f1_steam_2018_12_100_0_2 2050_2018_plant_total_12685    6.950553e-95   \n",
       "f1_steam_2018_12_100_0_3 8054_2018_plant_total_12685   1.335023e-128   \n",
       "f1_steam_2018_12_100_0_4 55218_2018_plant_total_12685  7.493323e-101   \n",
       "f1_steam_2018_12_100_1_1 2053_2018_plant_total_12685    9.685428e-66   \n",
       "...                                                              ...   \n",
       "f1_steam_2018_12_99_0_1  6073_2018_plant_total_12686    0.000000e+00   \n",
       "f1_steam_2018_12_99_0_3  2049_2018_plant_total_12686    0.000000e+00   \n",
       "f1_steam_2018_12_99_0_4  2049_2018_plant_total_12686    0.000000e+00   \n",
       "f1_steam_2018_12_99_0_5  10_2018_plant_total_12686      0.000000e+00   \n",
       "f1_steam_2018_12_99_1_2  2048_2018_plant_total_12686   3.031858e-225   \n",
       "\n",
       "                                                       utility_id_pudl  diffs  \\\n",
       "record_id_ferc           record_id_eia                                          \n",
       "f1_steam_2018_12_100_0_1 55220_2018_plant_total_12685         5.015332    NaN   \n",
       "f1_steam_2018_12_100_0_2 2050_2018_plant_total_12685          5.015332    NaN   \n",
       "f1_steam_2018_12_100_0_3 8054_2018_plant_total_12685          5.015332    NaN   \n",
       "f1_steam_2018_12_100_0_4 55218_2018_plant_total_12685         5.015332    NaN   \n",
       "f1_steam_2018_12_100_1_1 2053_2018_plant_total_12685          5.015332    NaN   \n",
       "...                                                                ...    ...   \n",
       "f1_steam_2018_12_99_0_1  6073_2018_plant_total_12686          5.015332    NaN   \n",
       "f1_steam_2018_12_99_0_3  2049_2018_plant_total_12686          5.015332    NaN   \n",
       "f1_steam_2018_12_99_0_4  2049_2018_plant_total_12686          5.015332    NaN   \n",
       "f1_steam_2018_12_99_0_5  10_2018_plant_total_12686            5.015332    NaN   \n",
       "f1_steam_2018_12_99_1_2  2048_2018_plant_total_12686          5.015332    NaN   \n",
       "\n",
       "                                                       count  rank       iqr  \\\n",
       "record_id_ferc           record_id_eia                                         \n",
       "f1_steam_2018_12_100_0_1 55220_2018_plant_total_12685      1   1.0  0.000000   \n",
       "f1_steam_2018_12_100_0_2 2050_2018_plant_total_12685       1   1.0  0.000000   \n",
       "f1_steam_2018_12_100_0_3 8054_2018_plant_total_12685       1   1.0  0.000000   \n",
       "f1_steam_2018_12_100_0_4 55218_2018_plant_total_12685      1   1.0  0.000000   \n",
       "f1_steam_2018_12_100_1_1 2053_2018_plant_total_12685       1   1.0  0.000000   \n",
       "...                                                      ...   ...       ...   \n",
       "f1_steam_2018_12_99_0_1  6073_2018_plant_total_12686       3   1.0  3.199784   \n",
       "f1_steam_2018_12_99_0_3  2049_2018_plant_total_12686       1   1.0  0.000000   \n",
       "f1_steam_2018_12_99_0_4  2049_2018_plant_total_12686       1   1.0  0.000000   \n",
       "f1_steam_2018_12_99_0_5  10_2018_plant_total_12686         2   1.0  2.332104   \n",
       "f1_steam_2018_12_99_1_2  2048_2018_plant_total_12686       1   1.0  0.000000   \n",
       "\n",
       "                                                        iqr_all  \n",
       "record_id_ferc           record_id_eia                           \n",
       "f1_steam_2018_12_100_0_1 55220_2018_plant_total_12685  0.000000  \n",
       "f1_steam_2018_12_100_0_2 2050_2018_plant_total_12685   0.000000  \n",
       "f1_steam_2018_12_100_0_3 8054_2018_plant_total_12685   0.000000  \n",
       "f1_steam_2018_12_100_0_4 55218_2018_plant_total_12685  0.000000  \n",
       "f1_steam_2018_12_100_1_1 2053_2018_plant_total_12685   0.000000  \n",
       "...                                                         ...  \n",
       "f1_steam_2018_12_99_0_1  6073_2018_plant_total_12686   3.457049  \n",
       "f1_steam_2018_12_99_0_3  2049_2018_plant_total_12686   0.000000  \n",
       "f1_steam_2018_12_99_0_4  2049_2018_plant_total_12686   0.000000  \n",
       "f1_steam_2018_12_99_0_5  10_2018_plant_total_12686     6.229720  \n",
       "f1_steam_2018_12_99_1_2  2048_2018_plant_total_12686   0.000000  \n",
       "\n",
       "[523 rows x 16 columns]"
      ]
     },
     "execution_count": 34,
     "metadata": {},
     "output_type": "execute_result"
    }
   ],
   "source": [
    "# these are... the winners.\n",
    "winners"
   ]
  },
  {
   "cell_type": "code",
   "execution_count": 29,
   "metadata": {},
   "outputs": [
    {
     "data": {
      "image/png": "[encoded data removed]",
      "text/plain": [
       "<Figure size 432x288 with 1 Axes>"
      ]
     },
     "metadata": {
      "needs_background": "light"
     },
     "output_type": "display_data"
    }
   ],
   "source": [
    "plt.hist(feats_all[feats_all['count'] != 1].reset_index().drop_duplicates(subset=['record_id_ferc'])['count'],\n",
    "         #weights=weights_part,\n",
    "         range=(0,35),\n",
    "         bins=35,\n",
    "         color=\"purple\",\n",
    "         #label=f'{part_name}'\n",
    "        )\n",
    "\n",
    "plt.title(f'count of possible matches in each ferc id')\n",
    "plt.xlabel('count')\n",
    "plt.ylabel(None)\n",
    "#plt.legend()\n",
    "plt.show()"
   ]
  },
  {
   "cell_type": "code",
   "execution_count": 30,
   "metadata": {},
   "outputs": [],
   "source": [
    "def plot_all_hist(all_df,results_df,winners_df, range):\n",
    "    if all_df is not None:\n",
    "        plt.hist(all_df['score'], \n",
    "                 range=range,\n",
    "                 bins=100,\n",
    "                 color=\"pink\",\n",
    "                 label='all options'\n",
    "                )\n",
    "    if results_df is not None:\n",
    "        plt.hist(results_df['score'], \n",
    "                 range=range,\n",
    "                 bins=100,\n",
    "                 color=\"purple\",\n",
    "                 label='all results'\n",
    "                )\n",
    "    if winners_df is not None:\n",
    "        plt.hist(winners_df['score'], \n",
    "                 range=range,\n",
    "                 bins=100,\n",
    "                 color=\"turquoise\",\n",
    "                 label='winning options'\n",
    "                )\n",
    "\n",
    "\n",
    "    plt.title(f'weighted score of comparision features')\n",
    "    plt.xlabel('weighted sum')\n",
    "    plt.ylabel(None)\n",
    "    plt.legend()\n",
    "    plt.show()"
   ]
  },
  {
   "cell_type": "code",
   "execution_count": 31,
   "metadata": {},
   "outputs": [
    {
     "data": {
      "image/png": "[encoded data removed]",
      "text/plain": [
       "<Figure size 432x288 with 1 Axes>"
      ]
     },
     "metadata": {
      "needs_background": "light"
     },
     "output_type": "display_data"
    }
   ],
   "source": [
    "plot_all_hist(None,results,winners,range=(0,75))"
   ]
  },
  {
   "cell_type": "code",
   "execution_count": 32,
   "metadata": {},
   "outputs": [
    {
     "data": {
      "image/png": "[encoded data removed]",
      "text/plain": [
       "<Figure size 432x288 with 1 Axes>"
      ]
     },
     "metadata": {
      "needs_background": "light"
     },
     "output_type": "display_data"
    }
   ],
   "source": [
    "plot_all_hist(feats_all,results,winners, range=(0,15))"
   ]
  },
  {
   "cell_type": "code",
   "execution_count": 33,
   "metadata": {},
   "outputs": [
    {
     "data": {
      "image/png": "[encoded data removed]",
      "text/plain": [
       "<Figure size 432x288 with 1 Axes>"
      ]
     },
     "metadata": {
      "needs_background": "light"
     },
     "output_type": "display_data"
    }
   ],
   "source": [
    "plot_all_hist(feats_all,results,winners, range=(0,75))"
   ]
  }
 ],
 "metadata": {
  "kernelspec": {
   "display_name": "Python 3",
   "language": "python",
   "name": "python3"
  },
  "language_info": {
   "codemirror_mode": {
    "name": "ipython",
    "version": 3
   },
   "file_extension": ".py",
   "mimetype": "text/x-python",
   "name": "python",
   "nbconvert_exporter": "python",
   "pygments_lexer": "ipython3",
   "version": "3.7.3"
  }
 },
 "nbformat": 4,
 "nbformat_minor": 4
}
