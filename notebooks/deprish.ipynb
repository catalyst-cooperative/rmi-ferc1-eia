{
 "cells": [
  {
   "cell_type": "code",
   "execution_count": 1,
   "metadata": {},
   "outputs": [],
   "source": [
    "%load_ext autoreload\n",
    "%autoreload 2"
   ]
  },
  {
   "cell_type": "code",
   "execution_count": 2,
   "metadata": {},
   "outputs": [],
   "source": [
    "import pandas as pd\n",
    "import numpy as np\n",
    "import pudl\n",
    "import pudl.constants as pc\n",
    "import sqlalchemy as sa\n",
    "import logging\n",
    "import pathlib\n",
    "from copy import deepcopy\n",
    "import sys\n",
    "\n",
    "from fuzzywuzzy import fuzz, process\n",
    "from pudl_rmi.deprish import *\n",
    "from pudl_rmi import connect_deprish_to_eia"
   ]
  },
  {
   "cell_type": "code",
   "execution_count": 3,
   "metadata": {},
   "outputs": [],
   "source": [
    "logger = logging.getLogger()\n",
    "logger.setLevel(logging.INFO)\n",
    "handler = logging.StreamHandler(stream=sys.stdout)\n",
    "formatter = logging.Formatter('%(message)s')\n",
    "handler.setFormatter(formatter)\n",
    "logger.handlers = [handler]\n",
    "\n",
    "pd.options.display.max_columns = None\n",
    "pd.set_option('display.max_colwidth', None)"
   ]
  },
  {
   "cell_type": "code",
   "execution_count": 4,
   "metadata": {},
   "outputs": [],
   "source": [
    "pudl_settings = pudl.workspace.setup.get_defaults()\n",
    "ferc1_engine = sa.create_engine(pudl_settings[\"ferc1_db\"])\n",
    "pudl_engine = sa.create_engine(pudl_settings[\"pudl_db\"])\n",
    "#pudl_engine = sa.create_engine('sqlite:////Users/christinagosnell/code/pudl_work/sqlite/pudl_wo_ytd.sqlite')"
   ]
  },
  {
   "cell_type": "markdown",
   "metadata": {},
   "source": [
    "### Auto Generate Common Associations"
   ]
  },
  {
   "cell_type": "code",
   "execution_count": 5,
   "metadata": {},
   "outputs": [],
   "source": [
    "file_path_deprish = pathlib.Path().cwd().parent/'inputs'/'depreciation_rmi.xlsx'"
   ]
  },
  {
   "cell_type": "code",
   "execution_count": 6,
   "metadata": {},
   "outputs": [
    {
     "name": "stdout",
     "output_type": "stream",
     "text": [
      "Reading the depreciation data from /Users/christinagosnell/code/rmi-ferc1-eia/inputs/depreciation_rmi.xlsx\n",
      "# of reserve_rate over 1 (100%): 1. Higher #s here may indicate an issue with the original data or the fill_in method\n"
     ]
    }
   ],
   "source": [
    "common_assn = make_default_common_assn(file_path_deprish)"
   ]
  },
  {
   "cell_type": "code",
   "execution_count": 7,
   "metadata": {},
   "outputs": [],
   "source": [
    "path_common_assn=  pathlib.Path().cwd().parent/'outputs' /'common_assn.csv'\n",
    "common_assn.to_csv(path_common_assn,index=False)"
   ]
  },
  {
   "cell_type": "markdown",
   "metadata": {},
   "source": [
    "### Process Depreciation Data"
   ]
  },
  {
   "cell_type": "code",
   "execution_count": 133,
   "metadata": {},
   "outputs": [
    {
     "name": "stdout",
     "output_type": "stream",
     "text": [
      "Reading the depreciation data from /Users/christinagosnell/code/rmi-ferc1-eia/inputs/depreciation_rmi.xlsx\n"
     ]
    }
   ],
   "source": [
    "file_path_deprish = pathlib.Path().cwd().parent/'inputs'/'depreciation_rmi.xlsx'\n",
    "\n",
    "# get the studies from the spreadsheet\n",
    "extract_df = Extractor(\n",
    "    file_path=file_path_deprish,\n",
    "    sheet_name=0).execute()\n",
    "\n",
    "# create a transformer object to process the extracted data\n",
    "transformer = Transformer(\n",
    "    extract_df=extract_df\n",
    ")"
   ]
  },
  {
   "cell_type": "code",
   "execution_count": 139,
   "metadata": {},
   "outputs": [
    {
     "name": "stdout",
     "output_type": "stream",
     "text": [
      "# of reserve_rate over 1 (100%): 1. Higher #s here may indicate an issue with the original data or the fill_in method\n",
      "overriding auto-generated common associations with 471 mannual associations\n",
      "grabbed 1142 common records\n",
      "grabbed 1970 common reocrds and 16020 atomic records. of total 16020\n",
      "We are calculating the common portion for 12705 records w/ unaccrued_balance\n",
      "We are calculating the common portion for 3315 records w/o plant_balance\n",
      "The resulting plant_balance allocated is 99.49% of the original\n",
      "aggregating to: ['report_date', 'plant_id_pudl', 'plant_part_name', 'utility_id_pudl', 'data_source', 'line_id', 'common', 'utility_name_ferc1']\n"
     ]
    }
   ],
   "source": [
    "# the transformer has 3 main steps that are encapsulated in execute\n",
    "#   1. tidying w/ early_tidy()\n",
    "#   2. reshaping w/ reshape() - this is where the common plant allocaiton is happening\n",
    "#   3. filling-in w/ fill_in()\n",
    "#   4. aggregating by plant w/ agg_to_idx()\n",
    "# Note: two warnings will be thrown when you run this rn.\n",
    "# there are the remaning issues in the common plant allocation process\n",
    "# that need to be ironed out\n",
    "transform_df = transformer.execute(clobber=True)"
   ]
  },
  {
   "cell_type": "code",
   "execution_count": 147,
   "metadata": {},
   "outputs": [
    {
     "name": "stdout",
     "output_type": "stream",
     "text": [
      "overriding auto-generated common associations with 471 mannual associations\n",
      "grabbed 1142 common records\n",
      "grabbed 1970 common reocrds and 16020 atomic records. of total 16020\n",
      "We are calculating the common portion for 12705 records w/ unaccrued_balance\n",
      "We are calculating the common portion for 3315 records w/o plant_balance\n",
      "The resulting plant_balance allocated is 99.49% of the original\n"
     ]
    }
   ],
   "source": [
    "test = transformer.split_allocate_common(split_col='plant_balance', common_suffix='_common')"
   ]
  },
  {
   "cell_type": "code",
   "execution_count": 148,
   "metadata": {},
   "outputs": [
    {
     "data": {
      "text/plain": [
       "Index(['utility_id_ferc1', 'utility_id_pudl', 'utility_name_ferc1', 'state',\n",
       "       'state_allocation', 'plant_id_pudl', 'plant_part_name', 'ferc_acct',\n",
       "       'report_date', 'note', 'ferc_acct_full', 'plant_balance',\n",
       "       'book_reserve', 'unaccrued_balance', 'reserve_rate',\n",
       "       'survivor_curve_type', 'service_life_avg', 'net_salvage_rate',\n",
       "       'net_salvage_rate_type_pct', 'net_salvage', 'net_removal_rate',\n",
       "       'remaining_life_avg', 'retirement_date', 'depreciation_annual_epxns',\n",
       "       'depreciation_annual_rate', 'depreciation_annual_rate_type_pct',\n",
       "       'data_source', 'report_year', 'ferc_acct_main', 'ferc_acct_sub',\n",
       "       'ferc_acct_merge', 'ferc_acct_name', 'line_id', 'plant_balance_common',\n",
       "       'unaccrued_balance_sum', 'unaccrued_balance_ratio',\n",
       "       'plant_balance_common_portion', 'plant_bal_count', 'plant_bal_any',\n",
       "       'plant_balance_w_common', 'common', 'unaccrued_balance_ratio_check',\n",
       "       'plant_balance_common_portion_check'],\n",
       "      dtype='object')"
      ]
     },
     "execution_count": 148,
     "metadata": {},
     "output_type": "execute_result"
    }
   ],
   "source": [
    "test.columns"
   ]
  },
  {
   "cell_type": "code",
   "execution_count": 149,
   "metadata": {},
   "outputs": [
    {
     "name": "stdout",
     "output_type": "stream",
     "text": [
      "overriding auto-generated common associations with 471 mannual associations\n",
      "grabbed 1142 common records\n",
      "grabbed 1970 common reocrds and 16020 atomic records. of total 16020\n",
      "We are calculating the common portion for 12705 records w/ unaccrued_balance\n",
      "We are calculating the common portion for 3315 records w/o book_reserve\n"
     ]
    },
    {
     "ename": "AttributeError",
     "evalue": "'DataFrame' object has no attribute 'plant_balance_common'",
     "output_type": "error",
     "traceback": [
      "\u001b[0;31m---------------------------------------------------------------------------\u001b[0m",
      "\u001b[0;31mAttributeError\u001b[0m                            Traceback (most recent call last)",
      "\u001b[0;32m<ipython-input-149-2c7586a1fe4e>\u001b[0m in \u001b[0;36m<module>\u001b[0;34m\u001b[0m\n\u001b[0;32m----> 1\u001b[0;31m \u001b[0mtest2\u001b[0m \u001b[0;34m=\u001b[0m \u001b[0mtransformer\u001b[0m\u001b[0;34m.\u001b[0m\u001b[0msplit_allocate_common\u001b[0m\u001b[0;34m(\u001b[0m\u001b[0msplit_col\u001b[0m\u001b[0;34m=\u001b[0m\u001b[0;34m'book_reserve'\u001b[0m\u001b[0;34m,\u001b[0m \u001b[0mcommon_suffix\u001b[0m\u001b[0;34m=\u001b[0m\u001b[0;34m'_common'\u001b[0m\u001b[0;34m)\u001b[0m\u001b[0;34m\u001b[0m\u001b[0;34m\u001b[0m\u001b[0m\n\u001b[0m",
      "\u001b[0;32m~/code/rmi-ferc1-eia/src/pudl_rmi/deprish.py\u001b[0m in \u001b[0;36msplit_allocate_common\u001b[0;34m(self, split_col, common_suffix)\u001b[0m\n\u001b[1;32m    482\u001b[0m                 \u001b[0;34m\"so something went wrong here.\"\u001b[0m\u001b[0;34m\u001b[0m\u001b[0;34m\u001b[0m\u001b[0m\n\u001b[1;32m    483\u001b[0m             )\n\u001b[0;32m--> 484\u001b[0;31m         df_w_check = self._check_common_allocation(\n\u001b[0m\u001b[1;32m    485\u001b[0m             deprish_w_common_allocated, split_col, new_data_col, common_suffix)\n\u001b[1;32m    486\u001b[0m \u001b[0;34m\u001b[0m\u001b[0m\n",
      "\u001b[0;32m~/code/rmi-ferc1-eia/src/pudl_rmi/deprish.py\u001b[0m in \u001b[0;36m_check_common_allocation\u001b[0;34m(self, df_w_tots, split_col, new_data_col, common_suffix)\u001b[0m\n\u001b[1;32m    640\u001b[0m         df_w_tots[f\"{split_col}_common_portion_check\"] = np.where(\n\u001b[1;32m    641\u001b[0m             (df_w_tots.plant_balance.isnull() &\n\u001b[0;32m--> 642\u001b[0;31m              df_w_tots.plant_balance_common.notnull()),\n\u001b[0m\u001b[1;32m    643\u001b[0m             \u001b[0mdf_w_tots\u001b[0m\u001b[0;34m[\u001b[0m\u001b[0;34mf\"{split_col}_common_portion\"\u001b[0m\u001b[0;34m]\u001b[0m \u001b[0;34m*\u001b[0m\u001b[0;34m\u001b[0m\u001b[0;34m\u001b[0m\u001b[0m\n\u001b[1;32m    644\u001b[0m             \u001b[0mdf_w_tots\u001b[0m\u001b[0;34m[\u001b[0m\u001b[0;34m\"plant_bal_count\"\u001b[0m\u001b[0;34m]\u001b[0m\u001b[0;34m,\u001b[0m\u001b[0;34m\u001b[0m\u001b[0;34m\u001b[0m\u001b[0m\n",
      "\u001b[0;32m~/miniconda3/envs/pudl-dev/lib/python3.9/site-packages/pandas/core/generic.py\u001b[0m in \u001b[0;36m__getattr__\u001b[0;34m(self, name)\u001b[0m\n\u001b[1;32m   5463\u001b[0m             \u001b[0;32mif\u001b[0m \u001b[0mself\u001b[0m\u001b[0;34m.\u001b[0m\u001b[0m_info_axis\u001b[0m\u001b[0;34m.\u001b[0m\u001b[0m_can_hold_identifiers_and_holds_name\u001b[0m\u001b[0;34m(\u001b[0m\u001b[0mname\u001b[0m\u001b[0;34m)\u001b[0m\u001b[0;34m:\u001b[0m\u001b[0;34m\u001b[0m\u001b[0;34m\u001b[0m\u001b[0m\n\u001b[1;32m   5464\u001b[0m                 \u001b[0;32mreturn\u001b[0m \u001b[0mself\u001b[0m\u001b[0;34m[\u001b[0m\u001b[0mname\u001b[0m\u001b[0;34m]\u001b[0m\u001b[0;34m\u001b[0m\u001b[0;34m\u001b[0m\u001b[0m\n\u001b[0;32m-> 5465\u001b[0;31m             \u001b[0;32mreturn\u001b[0m \u001b[0mobject\u001b[0m\u001b[0;34m.\u001b[0m\u001b[0m__getattribute__\u001b[0m\u001b[0;34m(\u001b[0m\u001b[0mself\u001b[0m\u001b[0;34m,\u001b[0m \u001b[0mname\u001b[0m\u001b[0;34m)\u001b[0m\u001b[0;34m\u001b[0m\u001b[0;34m\u001b[0m\u001b[0m\n\u001b[0m\u001b[1;32m   5466\u001b[0m \u001b[0;34m\u001b[0m\u001b[0m\n\u001b[1;32m   5467\u001b[0m     \u001b[0;32mdef\u001b[0m \u001b[0m__setattr__\u001b[0m\u001b[0;34m(\u001b[0m\u001b[0mself\u001b[0m\u001b[0;34m,\u001b[0m \u001b[0mname\u001b[0m\u001b[0;34m:\u001b[0m \u001b[0mstr\u001b[0m\u001b[0;34m,\u001b[0m \u001b[0mvalue\u001b[0m\u001b[0;34m)\u001b[0m \u001b[0;34m->\u001b[0m \u001b[0;32mNone\u001b[0m\u001b[0;34m:\u001b[0m\u001b[0;34m\u001b[0m\u001b[0;34m\u001b[0m\u001b[0m\n",
      "\u001b[0;31mAttributeError\u001b[0m: 'DataFrame' object has no attribute 'plant_balance_common'"
     ]
    }
   ],
   "source": [
    "test2 = transformer.split_allocate_common(split_col='book_reserve', common_suffix='_common')"
   ]
  },
  {
   "cell_type": "code",
   "execution_count": null,
   "metadata": {},
   "outputs": [],
   "source": []
  },
  {
   "cell_type": "code",
   "execution_count": null,
   "metadata": {},
   "outputs": [],
   "source": []
  },
  {
   "cell_type": "code",
   "execution_count": null,
   "metadata": {},
   "outputs": [],
   "source": [
    "# print the output!\n",
    "path_common_deprish_c=  pathlib.Path().cwd().parent/'outputs' /'deprish_w_common.csv'\n",
    "transform_df.to_csv(path_common_deprish_c,index=False)"
   ]
  },
  {
   "cell_type": "markdown",
   "metadata": {},
   "source": [
    "### Mannual Common Labeling"
   ]
  },
  {
   "cell_type": "code",
   "execution_count": null,
   "metadata": {},
   "outputs": [],
   "source": [
    "# Note: pulling and aggregating EIA data for labeling takes a little bit of time...\n",
    "common_labeling = make_common_assn_labeling(\n",
    "    pudl_out, file_path_deprish, transformer=transformer)"
   ]
  },
  {
   "cell_type": "code",
   "execution_count": 145,
   "metadata": {},
   "outputs": [
    {
     "name": "stdout",
     "output_type": "stream",
     "text": [
      "Saving dataframe to /Users/christinagosnell/code/rmi-ferc1-eia/outputs/deprish_cleaned.xlsx\n",
      "Removing deprish_cleaned from /Users/christinagosnell/code/rmi-ferc1-eia/outputs/deprish_cleaned.xlsx\n",
      "Removing deprish_cleaned_w_ferc_acct from /Users/christinagosnell/code/rmi-ferc1-eia/outputs/deprish_cleaned.xlsx\n",
      "Removing deprish_raw from /Users/christinagosnell/code/rmi-ferc1-eia/outputs/deprish_cleaned.xlsx\n"
     ]
    }
   ],
   "source": [
    "path_common_dc =  pathlib.Path().cwd().parent/'outputs' /'deprish_cleaned.xlsx'\n",
    "connect_deprish_to_eia.save_to_workbook(\n",
    "    path_common_dc,\n",
    "    sheets_df_dict={#'common_labeling': common_labeling.reset_index(),\n",
    "                    'deprish_cleaned': transform_df,\n",
    "                    'deprish_cleaned_w_ferc_acct': transformer.reshaped_df,\n",
    "                    'deprish_raw': extract_df\n",
    "                   },\n",
    ")"
   ]
  },
  {
   "cell_type": "code",
   "execution_count": null,
   "metadata": {},
   "outputs": [],
   "source": [
    "# if you want to read directly from the stored CSV\n",
    "#path_common_labeling= pathlib.Path().cwd().parent/'outputs' /'common_labeling.csv'\n",
    "#common_labeling = pd.read_csv(path_common_labeling, index='line_id')"
   ]
  },
  {
   "cell_type": "code",
   "execution_count": null,
   "metadata": {},
   "outputs": [],
   "source": [
    "common_assn_override = (\n",
    "    pd.merge(\n",
    "        common_assn,\n",
    "        common_assn_manual,\n",
    "        left_on=['line_id_common', 'line_id_main'],\n",
    "        right_on=['line_id_main', 'line_id_main_asst'],\n",
    "        suffixes=('', '_m'),\n",
    "        how='outer',\n",
    "        indicator=True\n",
    "    )\n",
    "    .drop(columns=['line_id_main_m'])\n",
    ")"
   ]
  }
 ],
 "metadata": {
  "kernelspec": {
   "display_name": "Python 3",
   "language": "python",
   "name": "python3"
  },
  "language_info": {
   "codemirror_mode": {
    "name": "ipython",
    "version": 3
   },
   "file_extension": ".py",
   "mimetype": "text/x-python",
   "name": "python",
   "nbconvert_exporter": "python",
   "pygments_lexer": "ipython3",
   "version": "3.9.2"
  }
 },
 "nbformat": 4,
 "nbformat_minor": 4
}
