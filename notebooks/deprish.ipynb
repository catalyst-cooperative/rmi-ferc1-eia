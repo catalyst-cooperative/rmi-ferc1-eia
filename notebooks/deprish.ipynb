{
 "cells": [
  {
   "cell_type": "code",
   "execution_count": null,
   "metadata": {},
   "outputs": [],
   "source": [
    "%load_ext autoreload\n",
    "%autoreload 2"
   ]
  },
  {
   "cell_type": "code",
   "execution_count": null,
   "metadata": {},
   "outputs": [],
   "source": [
    "import pandas as pd\n",
    "import numpy as np\n",
    "import pudl\n",
    "import pudl.constants as pc\n",
    "import sqlalchemy as sa\n",
    "import logging\n",
    "import pathlib\n",
    "from copy import deepcopy\n",
    "import sys\n",
    "\n",
    "from fuzzywuzzy import fuzz, process\n",
    "from pudl_rmi.deprish import *\n",
    "from pudl_rmi import connect_deprish_to_eia"
   ]
  },
  {
   "cell_type": "code",
   "execution_count": null,
   "metadata": {},
   "outputs": [],
   "source": [
    "logger = logging.getLogger()\n",
    "logger.setLevel(logging.INFO)\n",
    "handler = logging.StreamHandler(stream=sys.stdout)\n",
    "formatter = logging.Formatter('%(message)s')\n",
    "handler.setFormatter(formatter)\n",
    "logger.handlers = [handler]\n",
    "\n",
    "pd.options.display.max_columns = None\n",
    "pd.set_option('display.max_colwidth', None)"
   ]
  },
  {
   "cell_type": "code",
   "execution_count": null,
   "metadata": {},
   "outputs": [],
   "source": [
    "pudl_settings = pudl.workspace.setup.get_defaults()\n",
    "ferc1_engine = sa.create_engine(pudl_settings[\"ferc1_db\"])\n",
    "pudl_engine = sa.create_engine(pudl_settings[\"pudl_db\"])"
   ]
  },
  {
   "cell_type": "markdown",
   "metadata": {},
   "source": [
    "### Auto Generate Common Associations"
   ]
  },
  {
   "cell_type": "code",
   "execution_count": null,
   "metadata": {},
   "outputs": [],
   "source": [
    "file_path_deprish = pathlib.Path().cwd().parent/'inputs'/'depreciation_rmi.xlsx'"
   ]
  },
  {
   "cell_type": "code",
   "execution_count": null,
   "metadata": {},
   "outputs": [],
   "source": [
    "common_assn = make_default_common_assn(file_path_deprish)"
   ]
  },
  {
   "cell_type": "code",
   "execution_count": null,
   "metadata": {},
   "outputs": [],
   "source": [
    "path_common_assn=  pathlib.Path().cwd().parent/'outputs' /'common_assn.csv'\n",
    "common_assn.to_csv(path_common_assn,index=False)"
   ]
  },
  {
   "cell_type": "markdown",
   "metadata": {},
   "source": [
    "### Process Depreciation Data"
   ]
  },
  {
   "cell_type": "code",
   "execution_count": null,
   "metadata": {},
   "outputs": [],
   "source": [
    "file_path_deprish = pathlib.Path().cwd().parent/'inputs'/'depreciation_rmi.xlsx'\n",
    "\n",
    "# get the studies from the spreadsheet\n",
    "extract_df = Extractor(\n",
    "    file_path=file_path_deprish,\n",
    "    sheet_name=0).execute()\n",
    "\n",
    "# create a transformer object to process the extracted data\n",
    "transformer = Transformer(\n",
    "    extract_df=extract_df\n",
    ")"
   ]
  },
  {
   "cell_type": "code",
   "execution_count": null,
   "metadata": {},
   "outputs": [],
   "source": [
    "# the transformer has 3 main steps that are encapsulated in execute\n",
    "#   1. tidying w/ early_tidy()\n",
    "#   2. reshaping w/ reshape() - this is where the common plant allocaiton is happening\n",
    "#   3. filling-in w/ fill_in()\n",
    "#   4. aggregating by plant w/ agg_to_idx()\n",
    "# Note: two warnings will be thrown when you run this rn.\n",
    "# there are the remaning issues in the common plant allocation process\n",
    "# that need to be ironed out\n",
    "transform_df = transformer.execute(clobber=True)"
   ]
  },
  {
   "cell_type": "code",
   "execution_count": null,
   "metadata": {},
   "outputs": [],
   "source": [
    "# print the output!\n",
    "path_common_deprish_c=  pathlib.Path().cwd().parent/'outputs' /'deprish_w_common.csv'\n",
    "transform_df.to_csv(path_common_deprish_c,index=False)"
   ]
  },
  {
   "cell_type": "markdown",
   "metadata": {},
   "source": [
    "### Mannual Common Labeling"
   ]
  },
  {
   "cell_type": "code",
   "execution_count": null,
   "metadata": {},
   "outputs": [],
   "source": [
    "# Note: pulling and aggregating EIA data for labeling takes a little bit of time...\n",
    "common_labeling = make_common_assn_labeling(\n",
    "    pudl_out, file_path_deprish, transformer=transformer)"
   ]
  },
  {
   "cell_type": "code",
   "execution_count": null,
   "metadata": {},
   "outputs": [],
   "source": [
    "path_common_dc =  pathlib.Path().cwd().parent/'outputs' /'deprish_cleaned.xlsx'\n",
    "connect_deprish_to_eia.save_to_workbook(\n",
    "    path_common_dc,\n",
    "    sheets_df_dict={\n",
    "        'deprish_cleaned': transform_df,\n",
    "        'deprish_cleaned_w_ferc_acct': transformer.reshaped_df,\n",
    "        'deprish_raw': extract_df\n",
    "    },\n",
    ")"
   ]
  },
  {
   "cell_type": "code",
   "execution_count": null,
   "metadata": {},
   "outputs": [],
   "source": [
    "# if you want to read directly from the stored CSV\n",
    "#path_common_labeling= pathlib.Path().cwd().parent/'outputs' /'common_labeling.csv'\n",
    "#common_labeling = pd.read_csv(path_common_labeling, index='line_id')"
   ]
  },
  {
   "cell_type": "code",
   "execution_count": null,
   "metadata": {},
   "outputs": [],
   "source": [
    "common_assn_override = (\n",
    "    pd.merge(\n",
    "        common_assn,\n",
    "        common_assn_manual,\n",
    "        left_on=['line_id_common', 'line_id_main'],\n",
    "        right_on=['line_id_main', 'line_id_main_asst'],\n",
    "        suffixes=('', '_m'),\n",
    "        how='outer',\n",
    "        indicator=True\n",
    "    )\n",
    "    .drop(columns=['line_id_main_m'])\n",
    ")"
   ]
  }
 ],
 "metadata": {
  "kernelspec": {
   "display_name": "Python 3",
   "language": "python",
   "name": "python3"
  },
  "language_info": {
   "codemirror_mode": {
    "name": "ipython",
    "version": 3
   },
   "file_extension": ".py",
   "mimetype": "text/x-python",
   "name": "python",
   "nbconvert_exporter": "python",
   "pygments_lexer": "ipython3",
   "version": "3.9.2"
  }
 },
 "nbformat": 4,
 "nbformat_minor": 4
}
