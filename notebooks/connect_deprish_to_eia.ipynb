{
 "cells": [
  {
   "cell_type": "code",
   "execution_count": 1,
   "metadata": {},
   "outputs": [],
   "source": [
    "%load_ext autoreload\n",
    "%autoreload 2"
   ]
  },
  {
   "cell_type": "code",
   "execution_count": 2,
   "metadata": {},
   "outputs": [],
   "source": [
    "import pandas as pd\n",
    "import numpy as np\n",
    "import pudl\n",
    "import pudl.constants as pc\n",
    "import sqlalchemy as sa\n",
    "import logging\n",
    "import sys\n",
    "import pathlib\n",
    "from fuzzywuzzy import fuzz \n",
    "from fuzzywuzzy import process\n",
    "import copy"
   ]
  },
  {
   "cell_type": "code",
   "execution_count": 3,
   "metadata": {},
   "outputs": [],
   "source": [
    "from fuzzywuzzy import fuzz \n",
    "from fuzzywuzzy import process"
   ]
  },
  {
   "cell_type": "code",
   "execution_count": 4,
   "metadata": {},
   "outputs": [],
   "source": [
    "import sys\n",
    "sys.path.append(\"../\") # go to parent dir\n",
    "from make_plant_parts_eia import *\n",
    "from connect_deprish_to_eia import *\n",
    "import make_plant_parts_eia\n",
    "pd.options.display.max_columns = None"
   ]
  },
  {
   "cell_type": "code",
   "execution_count": 5,
   "metadata": {},
   "outputs": [],
   "source": [
    "logger = logging.getLogger()\n",
    "logger.setLevel(logging.INFO)\n",
    "handler = logging.StreamHandler(stream=sys.stdout)\n",
    "formatter = logging.Formatter('%(message)s')\n",
    "handler.setFormatter(formatter)\n",
    "logger.handlers = [handler]"
   ]
  },
  {
   "cell_type": "code",
<<<<<<< HEAD
   "execution_count": 6,
=======
   "execution_count": 8,
>>>>>>> iss3240
   "metadata": {},
   "outputs": [
    {
     "name": "stderr",
     "output_type": "stream",
     "text": [
<<<<<<< HEAD
      "2020-06-24 17:52:06 [    INFO] connect_deprish_to_eia:245 Grab or generate master unit list.\n"
=======
      "2020-06-19 19:35:28 [    INFO] connect_deprish_to_eia:233 Grab or generate master unit list.\n"
>>>>>>> iss3240
     ]
    },
    {
     "name": "stdout",
     "output_type": "stream",
     "text": [
      "Grab or generate master unit list.\n",
      "Reading the master unit list from /Users/christinagosnell/code/rmi-ferc1-eia/master_unit_list.pkl.gz\n"
     ]
    },
    {
     "name": "stderr",
     "output_type": "stream",
     "text": [
<<<<<<< HEAD
      "2020-06-24 17:52:11 [    INFO] connect_deprish_to_eia:81 Reading the depreciation data from /Users/christinagosnell/code/rmi-ferc1-eia/depreciation_rmi.xlsx\n"
=======
      "2020-06-19 19:35:35 [    INFO] connect_deprish_to_eia:72 Reading the depreciation data from /Users/christinagosnell/code/rmi-ferc1-eia/depreciation_rmi.xlsx\n"
>>>>>>> iss3240
     ]
    },
    {
     "name": "stdout",
     "output_type": "stream",
     "text": [
      "Reading the depreciation data from /Users/christinagosnell/code/rmi-ferc1-eia/depreciation_rmi.xlsx\n"
     ]
    },
    {
     "name": "stderr",
     "output_type": "stream",
     "text": [
<<<<<<< HEAD
      "2020-06-24 17:52:21 [    INFO] connect_deprish_to_eia:186 Merging fuzzy matches.\n"
=======
      "2020-06-19 19:35:46 [    INFO] connect_deprish_to_eia:176 Merging fuzzy matches.\n"
>>>>>>> iss3240
     ]
    },
    {
     "name": "stdout",
     "output_type": "stream",
     "text": [
      "Merging fuzzy matches.\n"
     ]
    },
    {
     "name": "stderr",
     "output_type": "stream",
     "text": [
<<<<<<< HEAD
      "2020-06-24 17:54:08 [    INFO] connect_deprish_to_eia:180 Matches: 53.80%\n"
=======
      "2020-06-19 19:37:54 [    INFO] connect_deprish_to_eia:170 Matches: 53.80%\n"
>>>>>>> iss3240
     ]
    },
    {
     "name": "stdout",
     "output_type": "stream",
     "text": [
      "Matches: 53.80%\n"
     ]
    },
    {
     "name": "stderr",
     "output_type": "stream",
     "text": [
<<<<<<< HEAD
      "2020-06-24 17:54:11 [    INFO] connect_deprish_to_eia:201 Matching resulted in 710 connections.\n"
=======
      "2020-06-19 19:37:57 [    INFO] connect_deprish_to_eia:188 Matching resulted in 710 connections.\n"
>>>>>>> iss3240
     ]
    },
    {
     "name": "stdout",
     "output_type": "stream",
     "text": [
      "Matching resulted in 710 connections.\n"
     ]
    },
    {
     "name": "stderr",
     "output_type": "stream",
     "text": [
<<<<<<< HEAD
      "2020-06-24 17:54:16 [    INFO] connect_deprish_to_eia:225 Adding overrides from EIA to depreciation matches.\n"
=======
      "2020-06-19 19:38:03 [    INFO] connect_deprish_to_eia:212 Adding overrides from EIA to depreciation matches.\n"
>>>>>>> iss3240
     ]
    },
    {
     "name": "stdout",
     "output_type": "stream",
     "text": [
      "Adding overrides from EIA to depreciation matches.\n"
     ]
    },
    {
     "name": "stderr",
     "output_type": "stream",
     "text": [
<<<<<<< HEAD
      "2020-06-24 17:54:18 [    INFO] connect_deprish_to_eia:328 Saving dataframe to /Users/christinagosnell/code/rmi-ferc1-eia/depreciation_rmi.xlsx\n"
=======
      "2020-06-19 19:38:06 [    INFO] connect_deprish_to_eia:313 Saving dataframe to /Users/christinagosnell/code/rmi-ferc1-eia/depreciation_rmi.xlsx\n"
>>>>>>> iss3240
     ]
    },
    {
     "name": "stdout",
     "output_type": "stream",
     "text": [
      "Saving dataframe to /Users/christinagosnell/code/rmi-ferc1-eia/depreciation_rmi.xlsx\n"
     ]
    },
    {
     "name": "stderr",
     "output_type": "stream",
     "text": [
<<<<<<< HEAD
      "2020-06-24 17:54:42 [    INFO] connect_deprish_to_eia:336 Removing EIA to depreciation matches from /Users/christinagosnell/code/rmi-ferc1-eia/depreciation_rmi.xlsx\n"
=======
      "2020-06-19 19:38:32 [    INFO] connect_deprish_to_eia:321 Removing EIA to depreciation matches from /Users/christinagosnell/code/rmi-ferc1-eia/depreciation_rmi.xlsx\n"
>>>>>>> iss3240
     ]
    },
    {
     "name": "stdout",
     "output_type": "stream",
     "text": [
      "Removing EIA to depreciation matches from /Users/christinagosnell/code/rmi-ferc1-eia/depreciation_rmi.xlsx\n"
     ]
    },
    {
     "name": "stderr",
     "output_type": "stream",
     "text": [
<<<<<<< HEAD
      "2020-06-24 17:54:42 [    INFO] connect_deprish_to_eia:336 Removing Subset of Master Unit List from /Users/christinagosnell/code/rmi-ferc1-eia/depreciation_rmi.xlsx\n"
=======
      "2020-06-19 19:38:32 [    INFO] connect_deprish_to_eia:321 Removing Subset of Master Unit List from /Users/christinagosnell/code/rmi-ferc1-eia/depreciation_rmi.xlsx\n"
>>>>>>> iss3240
     ]
    },
    {
     "name": "stdout",
     "output_type": "stream",
     "text": [
      "Removing Subset of Master Unit List from /Users/christinagosnell/code/rmi-ferc1-eia/depreciation_rmi.xlsx\n",
<<<<<<< HEAD
      "CPU times: user 3min 7s, sys: 5.64 s, total: 3min 13s\n",
      "Wall time: 3min 18s\n"
=======
      "CPU times: user 3min 22s, sys: 6.49 s, total: 3min 28s\n",
      "Wall time: 3min 48s\n"
>>>>>>> iss3240
     ]
    }
   ],
   "source": [
    "%%time\n",
    "file_path_mul = pathlib.Path().cwd().parent /  'master_unit_list.pkl.gz'\n",
    "file_path_deprish = pathlib.Path().cwd().parent/'depreciation_rmi.xlsx'\n",
    "sheet_name_deprish=1\n",
    "sheet_name_output='EIA to depreciation matches'\n",
    "\n",
    "match_df = generate_depreciation_matches(\n",
    "        file_path_mul=file_path_mul,\n",
    "        file_path_deprish=file_path_deprish,\n",
    "        sheet_name_deprish=sheet_name_deprish,\n",
    "        sheet_name_output=sheet_name_output)"
   ]
  },
  {
   "cell_type": "code",
<<<<<<< HEAD
   "execution_count": 7,
=======
   "execution_count": 9,
>>>>>>> iss3240
   "metadata": {},
   "outputs": [],
   "source": [
    "file_path_deprish_eia = pathlib.Path().cwd().parent / 'deprish_to_eia.pkl.gz'\n",
    "match_df.to_pickle(file_path_deprish_eia)"
   ]
<<<<<<< HEAD
  },
  {
   "cell_type": "code",
   "execution_count": null,
   "metadata": {},
   "outputs": [],
   "source": []
=======
>>>>>>> iss3240
  }
 ],
 "metadata": {
  "kernelspec": {
   "display_name": "Python 3",
   "language": "python",
   "name": "python3"
  },
  "language_info": {
   "codemirror_mode": {
    "name": "ipython",
    "version": 3
   },
   "file_extension": ".py",
   "mimetype": "text/x-python",
   "name": "python",
   "nbconvert_exporter": "python",
   "pygments_lexer": "ipython3",
   "version": "3.8.2"
  }
 },
 "nbformat": 4,
 "nbformat_minor": 4
}
