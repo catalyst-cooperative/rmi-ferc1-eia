{
 "cells": [
  {
   "cell_type": "code",
   "execution_count": 2,
   "metadata": {},
   "outputs": [],
   "source": [
    "%load_ext autoreload\n",
    "%autoreload 2"
   ]
  },
  {
   "cell_type": "code",
   "execution_count": 3,
   "metadata": {},
   "outputs": [],
   "source": [
    "import pandas as pd\n",
    "import numpy as np\n",
    "import pudl\n",
    "import pudl.constants as pc\n",
    "import sqlalchemy as sa\n",
    "import logging\n",
    "import sys\n",
    "import pathlib\n",
    "import copy"
   ]
  },
  {
   "cell_type": "code",
   "execution_count": 4,
   "metadata": {},
   "outputs": [],
   "source": [
    "from fuzzywuzzy import fuzz \n",
    "from fuzzywuzzy import process"
   ]
  },
  {
   "cell_type": "code",
   "execution_count": 5,
   "metadata": {},
   "outputs": [],
   "source": [
    "from rmi_pudl.make_plant_parts_eia import *\n",
    "from rmi_pudl.connect_deprish_to_eia import *\n",
    "from rmi_pudl.deprish import *\n",
    "import rmi_pudl.make_plant_parts_eia\n",
    "pd.options.display.max_columns = None"
   ]
  },
  {
   "cell_type": "code",
   "execution_count": 8,
   "metadata": {},
   "outputs": [],
   "source": [
    "logger = logging.getLogger()\n",
    "logger.setLevel(logging.INFO)\n",
    "handler = logging.StreamHandler(stream=sys.stdout)\n",
    "formatter = logging.Formatter('%(message)s')\n",
    "handler.setFormatter(formatter)\n",
    "logger.handlers = [handler]"
   ]
  },
  {
   "cell_type": "code",
   "execution_count": 9,
   "metadata": {},
   "outputs": [
    {
     "name": "stdout",
     "output_type": "stream",
     "text": [
      "Grab or generate master unit list.\n",
      "Reading the master unit list from /Users/christinagosnell/code/rmi-ferc1-eia/outputs/master_unit_list.pkl.gz\n",
      "Reading the depreciation data from /Users/christinagosnell/code/rmi-ferc1-eia/depreciation_rmi.xlsx\n"
     ]
    },
    {
     "name": "stderr",
     "output_type": "stream",
     "text": [
      "../deprish.py:97: FutureWarning: Your version of xlrd is 1.2.0. In xlrd >= 2.0, only the xls format is supported. As a result, the openpyxl engine will be used if it is installed and the engine argument is not specified. Install openpyxl instead.\n",
      "  pd.read_excel(\n"
     ]
    },
    {
     "name": "stdout",
     "output_type": "stream",
     "text": [
      "# of reserve_rate over 1 (100%): 1 Higher #s here may indicate an issue with the original data or the fill_in method\n",
      "Common record rate: 11.16%\n"
     ]
    },
    {
     "name": "stderr",
     "output_type": "stream",
     "text": [
      "/Users/christinagosnell/miniconda3/envs/pudl-dev/lib/python3.8/site-packages/pandas/core/missing.py:56: FutureWarning: elementwise comparison failed; returning scalar instead, but in the future will perform elementwise comparison\n",
      "  mask |= arr == x\n",
      "/Users/christinagosnell/code/pudl/src/pudl/helpers.py:907: SettingWithCopyWarning: \n",
      "A value is trying to be set on a copy of a slice from a DataFrame.\n",
      "Try using .loc[row_indexer,col_indexer] = value instead\n",
      "\n",
      "See the caveats in the documentation: https://pandas.pydata.org/pandas-docs/stable/user_guide/indexing.html#returning-a-view-versus-a-copy\n",
      "  df[col] = df[col].map({'False': False,\n"
     ]
    },
    {
     "name": "stdout",
     "output_type": "stream",
     "text": [
      "We are calculating the common portion for 5609 records w/ plant_balance\n",
      "We are calculating the common portion for 296 records w/o plant_balance\n"
     ]
    },
    {
     "name": "stderr",
     "output_type": "stream",
     "text": [
      "/Users/christinagosnell/miniconda3/envs/pudl-dev/lib/python3.8/site-packages/pandas/core/missing.py:56: FutureWarning: elementwise comparison failed; returning scalar instead, but in the future will perform elementwise comparison\n",
      "  mask |= arr == x\n",
      "/Users/christinagosnell/miniconda3/envs/pudl-dev/lib/python3.8/site-packages/pandas/core/missing.py:56: FutureWarning: elementwise comparison failed; returning scalar instead, but in the future will perform elementwise comparison\n",
      "  mask |= arr == x\n"
     ]
    },
    {
     "name": "stdout",
     "output_type": "stream",
     "text": [
      "The resulting plant_balance allocated is 99.09% of the original\n",
      "Merging fuzzy matches.\n",
      "Matches: 40.07%\n",
      "Matching resulted in 287 connections.\n",
      "Adding overrides from EIA to depreciation matches.\n",
      "Saving dataframe to /Users/christinagosnell/code/rmi-ferc1-eia/depreciation_rmi.xlsx\n",
      "Removing EIA to depreciation matches from /Users/christinagosnell/code/rmi-ferc1-eia/depreciation_rmi.xlsx\n",
      "Removing Subset of Master Unit List from /Users/christinagosnell/code/rmi-ferc1-eia/depreciation_rmi.xlsx\n",
      "CPU times: user 40 s, sys: 2.94 s, total: 43 s\n",
      "Wall time: 1min\n"
     ]
    }
   ],
   "source": [
    "%%time\n",
    "file_path_mul = pathlib.Path().cwd().parent /'outputs' /'master_unit_list.pkl.gz'\n",
    "file_path_deprish = pathlib.Path().cwd().parent/'depreciation_rmi.xlsx'\n",
    "sheet_name_deprish=0\n",
    "sheet_name_output='EIA to depreciation matches'\n",
    "\n",
    "match_df = generate_depreciation_matches(\n",
    "        file_path_mul=file_path_mul,\n",
    "        file_path_deprish=file_path_deprish,\n",
    "        sheet_name_deprish=sheet_name_deprish,\n",
    "        sheet_name_output=sheet_name_output)"
   ]
  },
  {
   "cell_type": "code",
   "execution_count": 17,
   "metadata": {},
   "outputs": [],
   "source": [
    "file_path_deprish_eia = pathlib.Path().cwd().parent/'outputs' / 'deprish_to_eia.pkl.gz'\n",
    "file_path_deprish_eia_csv = pathlib.Path().cwd().parent/'outputs' / 'deprish_to_eia.csv.gz'\n",
    "match_df.to_pickle(file_path_deprish_eia)\n",
    "\n",
    "file_path_deprish_eia_csv = pathlib.Path().cwd().parent/'outputs' / 'deprish_to_eia.csv.gz'\n",
    "match_df.to_csv(file_path_deprish_eia_csv)"
   ]
  },
  {
   "cell_type": "code",
   "execution_count": null,
   "metadata": {},
   "outputs": [],
   "source": []
  }
 ],
 "metadata": {
  "kernelspec": {
   "display_name": "Python 3",
   "language": "python",
   "name": "python3"
  },
  "language_info": {
   "codemirror_mode": {
    "name": "ipython",
    "version": 3
   },
   "file_extension": ".py",
   "mimetype": "text/x-python",
   "name": "python",
   "nbconvert_exporter": "python",
   "pygments_lexer": "ipython3",
   "version": "3.8.6"
  }
 },
 "nbformat": 4,
 "nbformat_minor": 4
}
