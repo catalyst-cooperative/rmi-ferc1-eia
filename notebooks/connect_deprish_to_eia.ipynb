{
 "cells": [
  {
   "cell_type": "code",
   "execution_count": null,
   "metadata": {},
   "outputs": [],
   "source": [
    "%load_ext autoreload\n",
    "%autoreload 2"
   ]
  },
  {
   "cell_type": "code",
   "execution_count": null,
   "metadata": {},
   "outputs": [],
   "source": [
    "import pandas as pd\n",
    "import numpy as np\n",
    "import pudl\n",
    "import pudl.constants as pc\n",
    "import sqlalchemy as sa\n",
    "import logging\n",
    "import sys\n",
    "import pathlib\n",
    "from fuzzywuzzy import fuzz \n",
    "from fuzzywuzzy import process\n",
    "import copy"
   ]
  },
  {
   "cell_type": "code",
   "execution_count": null,
   "metadata": {},
   "outputs": [],
   "source": [
    "from fuzzywuzzy import fuzz \n",
    "from fuzzywuzzy import process"
   ]
  },
  {
   "cell_type": "code",
   "execution_count": null,
   "metadata": {},
   "outputs": [],
   "source": [
    "import sys\n",
    "sys.path.append(\"../\") # go to parent dir\n",
    "from make_plant_parts_eia import *\n",
    "from connect_deprish_to_eia import *\n",
    "from deprish import *\n",
    "import make_plant_parts_eia\n",
    "pd.options.display.max_columns = None"
   ]
  },
  {
   "cell_type": "code",
   "execution_count": null,
   "metadata": {},
   "outputs": [],
   "source": [
    "logger = logging.getLogger()\n",
    "logger.setLevel(logging.DEBUG)\n",
    "handler = logging.StreamHandler(stream=sys.stdout)\n",
    "formatter = logging.Formatter('%(message)s')\n",
    "handler.setFormatter(formatter)\n",
    "logger.handlers = [handler]"
   ]
  },
  {
   "cell_type": "code",
   "execution_count": null,
   "metadata": {},
   "outputs": [],
   "source": [
    "%%time\n",
    "file_path_mul = pathlib.Path().cwd().parent /'outputs' /'master_unit_list.pkl.gz'\n",
    "file_path_deprish = pathlib.Path().cwd().parent/'depreciation_rmi.xlsx'\n",
    "sheet_name_deprish=0\n",
    "sheet_name_output='EIA to depreciation matches'\n",
    "\n",
    "match_df = generate_depreciation_matches(\n",
    "        file_path_mul=file_path_mul,\n",
    "        file_path_deprish=file_path_deprish,\n",
    "        sheet_name_deprish=sheet_name_deprish,\n",
    "        sheet_name_output=sheet_name_output)"
   ]
  },
  {
   "cell_type": "code",
   "execution_count": null,
   "metadata": {},
   "outputs": [],
   "source": [
    "file_path_deprish_eia = pathlib.Path().cwd().parent/'outputs' / 'deprish_to_eia.pkl.gz'\n",
    "match_df.to_pickle(file_path_deprish_eia)\n",
    "\n",
    "#file_path_deprish_eia_csv = pathlib.Path().cwd().parent/'outputs' / 'deprish_to_eia.csv.gz'\n",
    "#match_df.to_csv(file_path_deprish_eia_csv)"
   ]
  }
 ],
 "metadata": {
  "kernelspec": {
   "display_name": "Python 3",
   "language": "python",
   "name": "python3"
  },
  "language_info": {
   "codemirror_mode": {
    "name": "ipython",
    "version": 3
   },
   "file_extension": ".py",
   "mimetype": "text/x-python",
   "name": "python",
   "nbconvert_exporter": "python",
   "pygments_lexer": "ipython3",
   "version": "3.8.6"
  }
 },
 "nbformat": 4,
 "nbformat_minor": 4
}
