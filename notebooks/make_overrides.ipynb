{
 "cells": [
  {
   "cell_type": "markdown",
   "id": "60e4e969-b223-42f1-b6ff-2708d59f6d55",
   "metadata": {},
   "source": [
    "# Add Overrides to Train FERC-EIA Connecter"
   ]
  },
  {
   "cell_type": "markdown",
   "id": "664bb535-386b-4700-9b5f-5223e1f78159",
   "metadata": {},
   "source": [
    "The FERC-EIA record linkage process requries training data in order to work properly. Training matches also serve as overrides. This notebook helps you check whether the machine learning algroythem did a good job of matching FERC and EIA records. If you find a good match (or you correct a bad match), this process will turn it into training data.\n",
    "\n",
    "This notebook has two purposes: \n",
    "\n",
    "1) [**Output override tools to verify connection between EIA and FERC1**](#verify-tools)\n",
    "2) [**Upload changes to training data**](#upload-overrides)"
   ]
  },
  {
   "cell_type": "markdown",
   "id": "0b9dfc83-558e-49ee-b437-20710b869d02",
   "metadata": {
    "tags": []
   },
   "source": [
    "## Settings"
   ]
  },
  {
   "cell_type": "code",
   "execution_count": 1,
   "id": "5f4f84b5-0a0e-4b44-8043-d451d5842c8f",
   "metadata": {},
   "outputs": [],
   "source": [
    "%load_ext autoreload\n",
    "%autoreload 2"
   ]
  },
  {
   "cell_type": "code",
   "execution_count": 2,
   "id": "dedd1d11-d8a0-4a46-a91f-4d7e3955d844",
   "metadata": {
    "tags": []
   },
   "outputs": [],
   "source": [
    "import pudl_rmi\n",
    "from pudl_rmi.create_override_spreadsheets import *\n",
    "                                           \n",
    "import pudl\n",
    "import sqlalchemy as sa\n",
    "import logging\n",
    "import sys\n",
    "\n",
    "import warnings\n",
    "warnings.filterwarnings('ignore')\n",
    "\n",
    "logger = logging.getLogger()\n",
    "logger.setLevel(logging.INFO)\n",
    "handler = logging.StreamHandler(stream=sys.stdout)\n",
    "formatter = logging.Formatter('%(message)s')\n",
    "handler.setFormatter(formatter)\n",
    "logger.handlers = [handler]\n",
    "\n",
    "pudl_settings = pudl.workspace.setup.get_defaults()\n",
    "pudl_engine = sa.create_engine(pudl_settings[\"pudl_db\"])\n",
    "pudl_out = pudl.output.pudltabl.PudlTabl(pudl_engine, freq='AS',fill_fuel_cost=True,roll_fuel_cost=True,fill_net_gen=True)\n",
    "rmi_out = pudl_rmi.coordinate.Output(pudl_out)"
   ]
  },
  {
   "cell_type": "markdown",
   "id": "7eb51ca5-0953-47af-b2c9-8220f50dac27",
   "metadata": {
    "tags": []
   },
   "source": [
    "## Specify Utilities & Years"
   ]
  },
  {
   "cell_type": "code",
   "execution_count": null,
   "id": "52ef5a36-13ce-458e-845f-7259e56c3e44",
   "metadata": {
    "jupyter": {
     "source_hidden": true
    },
    "tags": []
   },
   "outputs": [],
   "source": [
    "# old\n",
    "\n",
    "specified_utilities = {\n",
    "    # 'Dominion': {'utility_id_pudl': [292, 293, 349],\n",
    "    #              'utility_id_eia': [17539, 17554, 19876]},\n",
    "    # 'Evergy': {'utility_id_pudl': [159, 160, 161, 1270, 13243],\n",
    "    #            'utility_id_eia': [10000, 10005, 56211, 3702, 55329]}, # pudl/eia 359/22500 --> 13243/55329, 1270/3702 --> BAD\n",
    "    # 'IDACORP': {'utility_id_pudl': [140],\n",
    "    #             'utility_id_eia': [9191]},\n",
    "    # 'Duke': {'utility_id_pudl': [90, 91, 92, 93, 96, 97],\n",
    "    #          'utility_id_eia': [5416, 6455, 15470, 55729, 3542, 3046]},\n",
    "    'BHE': {'utility_id_pudl': [185, 246, 204, 287],\n",
    "            'utility_id_eia': [12341, 14354, 13407, 17166]},\n",
    "    'Southern': {'utility_id_pudl': [123, 18, 190, 11830],\n",
    "                 'utility_id_eia': [7140, 195, 12686, 17622]},\n",
    "    # 'NextEra': {'utility_id_pudl': [121, 130],\n",
    "    #             'utility_id_eia': [6452, 7801]},\n",
    "    # 'AEP': {'utility_id_pudl': [29, 301, 144, 275, 162, 361, 7],\n",
    "    #         'utility_id_eia': [733, 17698, 9324, 15474, 22053, 20521, 343]},\n",
    "    # 'Entergy': {'utility_id_pudl': [107, 106, 311, 113, 110],\n",
    "    #             'utility_id_eia': [11241, 814, 12465, 55937, 13478]},\n",
    "    # 'Xcel': {'utility_id_pudl': [224, 302, 272, 11297],\n",
    "    #          'utility_id_eia': [13781, 13780, 17718, 15466]}\n",
    "}"
   ]
  },
  {
   "cell_type": "code",
   "execution_count": 10,
   "id": "6a34d5a7-2cfe-43a9-82ad-a12ed0c137d6",
   "metadata": {
    "tags": []
   },
   "outputs": [],
   "source": [
    "specified_utilities = {\n",
    "    'BHE': [12341, 14354, 13407, 17166],\n",
    "    'Southern':[7140, 195, 12686, 17622]\n",
    "}\n",
    "\n",
    "specified_years = [\n",
    "    2005, 2006, 2007, 2008, 2009, 2010, 2011, 2012, \n",
    "    2013, 2014, 2015, 2016, 2017, 2018, 2019\n",
    "] "
   ]
  },
  {
   "cell_type": "markdown",
   "id": "8d8d1b71-bfbd-42dd-8387-de146361158b",
   "metadata": {
    "tags": []
   },
   "source": [
    "<a id='verify-tools'></a>\n",
    "## 1) Output Override Tools\n",
    "Run the following function and you'll find excel files called `<UTILITY>_fix_FERC-EIA_overrides.xlsx` in the `outputs/overrides` directory created based on the utility and year inputs you specified above. Read the [Override Instructions](https://docs.google.com/document/d/1nJfmUtbSN-RT5U2Z3rJKfOIhWsRFUPNxs9NKTes0SRA/edit#) to learn how to begin fixing/verifying the FERC-EIA connections."
   ]
  },
  {
   "cell_type": "code",
   "execution_count": null,
   "id": "977df67d-fcd1-49a4-8b68-3e189a8ace02",
   "metadata": {
    "tags": []
   },
   "outputs": [],
   "source": [
    "generate_override_tools(pudl_out, rmi_out, specified_utilities, specified_years)"
   ]
  },
  {
   "cell_type": "markdown",
   "id": "2d7d2122-cdd1-4556-b042-a84158b87a7e",
   "metadata": {
    "tags": []
   },
   "source": [
    "<a id='upload-overrides'></a>\n",
    "## 2) Upload changes to training data\n",
    "When you've finished editing the `<UTILITY>_fix_FERC-EIA_overrides.xlsx` and want to add your changes to the official override csv, move your file to the directory called `add_to_training` and then run the following function. \n",
    "\n",
    "**Note:** If you have changed or marked TRUE any records that have already been overridden and included in the training data, you will want to set `expect_override_overrides = True`. Otherwise, the function will check to see if you have accidentally tampered with values that have already been matched.\n",
    "\n",
    "Right now, the module points to a COPY of the training data so it doesn't override the official version. You'll need to change that later if you want to update the official version."
   ]
  },
  {
   "cell_type": "code",
   "execution_count": null,
   "id": "a1bc81fe-4653-4bab-986b-7c64fbf33285",
   "metadata": {
    "tags": []
   },
   "outputs": [],
   "source": [
    "validate_and_add_to_training(connects_ferc1_eia, expect_override_overrides = False)"
   ]
  }
 ],
 "metadata": {
  "kernelspec": {
   "display_name": "pudl-dev",
   "language": "python",
   "name": "pudl-dev"
  },
  "language_info": {
   "codemirror_mode": {
    "name": "ipython",
    "version": 3
   },
   "file_extension": ".py",
   "mimetype": "text/x-python",
   "name": "python",
   "nbconvert_exporter": "python",
   "pygments_lexer": "ipython3",
   "version": "3.10.2"
  }
 },
 "nbformat": 4,
 "nbformat_minor": 5
}
