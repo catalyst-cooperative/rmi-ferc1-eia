{
 "cells": [
  {
   "cell_type": "markdown",
   "id": "60e4e969-b223-42f1-b6ff-2708d59f6d55",
   "metadata": {},
   "source": [
    "# Add Overrides to Train FERC-EIA Connecter"
   ]
  },
  {
   "cell_type": "markdown",
   "id": "664bb535-386b-4700-9b5f-5223e1f78159",
   "metadata": {},
   "source": [
    "This notebook is intended to help with adding overrides to the FERC-EIA connection csv. Adding new connections will fill in gaps and improve the program's ability to predict other matches. To adequately check each of the connections, we'll provide you with subsets from *three* different spreadsheets:\n",
    "\n",
    "1) **The current FERC-EIA connection:** to look for good, bad, and empty links between FERC and EIA records.\n",
    "2) **The Master Unit List:** to confirm or disprove those connections.\n",
    "3) **Depreciation data** from our previous work.\n",
    "\n",
    "Downloading all the files at once will overwhelm excel, so we need to make edits in segments. This notebook will help you:\n",
    "\n",
    "1) **Download useful utility-based subsets of each table for review.**\n",
    "2) **Update the old training data with new verified matches.**\n",
    "\n",
    "Once you edit the inputs below, run the entire notebook. Next, pick whether you want to [download tools to verify connection between EIA and FERC1](#verify-tools) or [upload changes to training data](#upload-overrides) and run the relevant functions."
   ]
  },
  {
   "cell_type": "markdown",
   "id": "7eb51ca5-0953-47af-b2c9-8220f50dac27",
   "metadata": {},
   "source": [
    "## Edit Inputs"
   ]
  },
  {
   "cell_type": "markdown",
   "id": "b1b00eb6-e9dd-4be3-b148-7e78d747353d",
   "metadata": {},
   "source": [
    "It's time to choose what subset of the data you'd like to wrangle first. We'll only download data from specific utilities and years if you say so (we highly recommend this so you don't crash excel). If you're not sure which PUDL IDs refer to which utilities, scroll down to section 1.3.\n",
    "\n",
    "Current inputs: \n",
    "* Dominion: \n",
    "    * utility_id_pudl:`[292, 349]`\n",
    "    * utility_id_eia: `[17539, 19876]`\n",
    "* Evergy: \n",
    "    * utility_id_pudl: `[159, 160, 161, 359]`\n",
    "    * utility_id_eia: `[10000, 10005, 56211, 3702, 22500]`\n",
    "* IDACORP: \n",
    "    * utility_id_pudl:`[140]`\n",
    "    * utility_id_eia: `[9191]`\n",
    "* Duke: \n",
    "    * utility_id_pudl: `[90, 91, 92, 93, 96, 97]`\n",
    "    * utility_id_eia: `[5416, 6455, 15470, 55729, 3542, 3046]`"
   ]
  },
  {
   "cell_type": "code",
   "execution_count": 112,
   "id": "6a34d5a7-2cfe-43a9-82ad-a12ed0c137d6",
   "metadata": {},
   "outputs": [],
   "source": [
    "# This can be 'largest' or a list of pudl ids, ex: [1, 2, 3]\n",
    "specified_utilities = {'utility_id_pudl': [159, 160, 161, 359],\n",
    "                       'utility_id_eia': [10000, 10005, 56211, 3702, 22500]}\n",
    "\n",
    "# You can change this to any integer. This represents the number of utilities you'd like\n",
    "# to review (only applies when specified_utilities='largest').\n",
    "specified_amount = 2 \n",
    "\n",
    "# This can be 'all' or a list of any years within the FERC data, ex: [2006, 2007]\n",
    "# These are the years you would like to consider fixing AND the years you would like to \n",
    "# consider for detmining largest capacity (the latter is only used when `utilities = largest`.\n",
    "specified_years = [2018, 2019] "
   ]
  },
  {
   "cell_type": "markdown",
   "id": "81af7e30-c0ef-42e5-ad87-3aa821562b06",
   "metadata": {},
   "source": [
    "**Now, run the entire notebook to prep the rest of the tools!**"
   ]
  },
  {
   "cell_type": "markdown",
   "id": "37379d51-bdcc-4c58-9258-2f9a1cec6d6d",
   "metadata": {},
   "source": [
    "<a id='verify-tools'></a>\n",
    "## Download tools to verify connection between EIA and FERC1\n",
    "When you un-comment and run the following function, you'll find a new excel file called `fix_FERC-EIA_overrides.xlsx` in the `outputs` directory created based on the inputs you specified above. Read the [Override Instructions](https://docs.google.com/document/d/1nJfmUtbSN-RT5U2Z3rJKfOIhWsRFUPNxs9NKTes0SRA/edit#) to learn how to begin fixing/verifying the FERC-EIA connections.\n",
    "\n",
    "**Warning:** Running this funcion will REPLACE any override tools you currently have saved (unless you have changed their name or location). DO NOT run this function if you are in the middle of working on one of the output files OR move/rename the file you are working on.\n",
    "\n",
    "**Note:** If you choose to move the override file you're working on, make sure to *copy* and paste it in a new location. The following function depends on the existance of an excel file called `fix_FERC-EIA_overrides.xlsx` in the `output` directory in order to run."
   ]
  },
  {
   "cell_type": "code",
   "execution_count": 103,
   "id": "cff3f2c9-8047-41a5-9705-27770013609b",
   "metadata": {
    "tags": []
   },
   "outputs": [
    {
     "name": "stdout",
     "output_type": "stream",
     "text": [
      "retreiving the ferc-eia connection for the given utilities\n",
      "retreiving the MUL for the given utilities\n",
      "retrieving depreciation data for the given utilities\n",
      "outputing override tools to tabs in fix_FERC-EIA_overrides.xlsx\n",
      "Saving dataframe to /Users/aesharpe/Desktop/Work/Catalyst_Coop/rmi-ferc1-eia/outputs/fix_FERC-EIA_overrides.xlsx\n",
      "Removing ferc_eia_util_subset from /Users/aesharpe/Desktop/Work/Catalyst_Coop/rmi-ferc1-eia/outputs/fix_FERC-EIA_overrides.xlsx\n",
      "Removing mul_util_subset from /Users/aesharpe/Desktop/Work/Catalyst_Coop/rmi-ferc1-eia/outputs/fix_FERC-EIA_overrides.xlsx\n",
      "Removing deprish_util_subset from /Users/aesharpe/Desktop/Work/Catalyst_Coop/rmi-ferc1-eia/outputs/fix_FERC-EIA_overrides.xlsx\n",
      "CPU times: user 2.13 s, sys: 1.05 s, total: 3.18 s\n",
      "Wall time: 4.42 s\n"
     ]
    }
   ],
   "source": [
    "%%time\n",
    "test = output_override_tools(\n",
    "    check_connections, \n",
    "    mul, \n",
    "    deprish_df,\n",
    "    utilities=specified_utilities,\n",
    "    amount=specified_amount,\n",
    "    years=specified_years\n",
    ")"
   ]
  },
  {
   "cell_type": "markdown",
   "id": "2d7d2122-cdd1-4556-b042-a84158b87a7e",
   "metadata": {},
   "source": [
    "<a id='upload-overrides'></a>\n",
    "## Upload changes to training data\n",
    "When you've finished editing the `fix_FERC-EIA_overrides.xlsx` and want to add your changes to the official override csv, move your file to the directory called `overrides` and then uncomment and run the following functions. \n",
    "\n",
    "**Note:** If you have changed or marked TRUE any records that have already been overridden and included in the training data, you will want to set `expect_override_overrides = True`. Otherwise, the function will check to see if you have accidentally tampered with values that have already been matched."
   ]
  },
  {
   "cell_type": "code",
   "execution_count": 412,
   "id": "e6ac6127-d271-40e6-9a45-63a98f43833b",
   "metadata": {},
   "outputs": [],
   "source": [
    "expect_override_overrides = True"
   ]
  },
  {
   "cell_type": "code",
   "execution_count": 413,
   "id": "67cf36d9-f3b8-4427-b0b6-89ddaf39a58f",
   "metadata": {},
   "outputs": [],
   "source": [
    "# training_data_out = (\n",
    "#     combine_new_overrides(expect_override_overrides)\n",
    "#     .pipe(combine_all_overrides, training_data)\n",
    "# )\n",
    "\n",
    "#training_data_out.to_csv(training_path)"
   ]
  },
  {
   "cell_type": "markdown",
   "id": "7d91751c-6a55-43f3-92b0-990492257c22",
   "metadata": {},
   "source": [
    "----------"
   ]
  },
  {
   "cell_type": "markdown",
   "id": "fdbac85a-d676-40f1-b9ef-52cc043080d9",
   "metadata": {
    "tags": []
   },
   "source": [
    "## Notebook Setup"
   ]
  },
  {
   "cell_type": "code",
   "execution_count": 1,
   "id": "4b8709a4-db92-4e34-9251-263fd5f466e8",
   "metadata": {
    "tags": []
   },
   "outputs": [],
   "source": [
    "%load_ext autoreload\n",
    "%autoreload 2"
   ]
  },
  {
   "cell_type": "code",
   "execution_count": 2,
   "id": "49f835e3-7283-4123-a1a0-f9d6770dfb02",
   "metadata": {
    "tags": []
   },
   "outputs": [],
   "source": [
    "import pandas as pd\n",
    "import numpy as np\n",
    "import pudl\n",
    "import pudl.constants as pc\n",
    "import pudl.extract.ferc1\n",
    "import sqlalchemy as sa\n",
    "import logging\n",
    "import sys\n",
    "import copy\n",
    "from copy import deepcopy\n",
    "import scipy\n",
    "import statistics\n",
    "import yaml\n",
    "import os\n",
    "\n",
    "import recordlinkage as rl\n",
    "import warnings\n",
    "warnings.filterwarnings('ignore')\n",
    "\n",
    "import matplotlib.pyplot as plt\n",
    "import matplotlib as mpl\n",
    "%matplotlib inline"
   ]
  },
  {
   "cell_type": "code",
   "execution_count": 3,
   "id": "8bcf303f-2891-4354-9a6e-422b4ae9d6af",
   "metadata": {
    "tags": []
   },
   "outputs": [],
   "source": [
    "logger = logging.getLogger()\n",
    "logger.setLevel(logging.INFO)\n",
    "handler = logging.StreamHandler(stream=sys.stdout)\n",
    "formatter = logging.Formatter('%(message)s')\n",
    "handler.setFormatter(formatter)\n",
    "logger.handlers = [handler]"
   ]
  },
  {
   "cell_type": "code",
   "execution_count": 4,
   "id": "b43187cb-98c4-4044-ad97-362f3046f1d8",
   "metadata": {
    "tags": []
   },
   "outputs": [],
   "source": [
    "sys.path.append(\"../\")\n",
    "from pudl.output.ferc1 import *\n",
    "from pudl_rmi.connect_ferc1_to_eia import *\n",
    "from pudl_rmi.make_plant_parts_eia import *\n",
    "import pudl_rmi.connect_ferc1_to_eia\n",
    "pudl_settings = pudl.workspace.setup.get_defaults()\n",
    "pudl_engine = sa.create_engine(pudl_settings[\"pudl_db\"])\n",
    "ferc_engine = sa.create_engine(pudl_settings['ferc1_db'])\n",
    "pd.options.display.max_columns = None"
   ]
  },
  {
   "cell_type": "code",
   "execution_count": 36,
   "id": "0fa1c031-9a7d-4d00-b019-1469d14d7306",
   "metadata": {
    "tags": []
   },
   "outputs": [],
   "source": [
    "relevant_cols_ferc_eia = [\n",
    "    'record_id_ferc1',\n",
    "    'record_id_eia',\n",
    "    'true_gran',\n",
    "    'report_year',\n",
    "    'match_type',\n",
    "    'plant_part',\n",
    "    'ownership',\n",
    "    'utility_id_eia',\n",
    "    'utility_id_pudl_ferc1',\n",
    "    'utility_name_ferc1',\n",
    "    'plant_id_pudl_ferc1',\n",
    "    'unit_id_pudl',\n",
    "    'generator_id',\n",
    "    'plant_name_ferc1',\n",
    "    'plant_name_new',\n",
    "    'fuel_type_code_pudl_ferc1',\n",
    "    'fuel_type_code_pudl_eia',\n",
    "    'net_generation_mwh_ferc1',\n",
    "    'net_generation_mwh_eia',\n",
    "    'capacity_mw_ferc1',\n",
    "    'capacity_mw_eia',\n",
    "    'capacity_factor_ferc1',\n",
    "    'capacity_factor_eia',\n",
    "    'total_fuel_cost_ferc1',\n",
    "    'total_fuel_cost_eia',\n",
    "    'total_mmbtu_ferc1',\n",
    "    'total_mmbtu_eia',\n",
    "    'fuel_cost_per_mmbtu_ferc1',\n",
    "    'fuel_cost_per_mmbtu_eia',\n",
    "    'installation_year_ferc1',\n",
    "    'installation_year_eia',\n",
    "]\n",
    "\n",
    "relevant_cols_mul = [\n",
    "    'record_id_eia',\n",
    "    'report_year',\n",
    "    'utility_id_pudl',\n",
    "    'utility_id_eia',\n",
    "    'true_gran',\n",
    "    'plant_part',\n",
    "    'ownership_dupe',\n",
    "    'fraction_owned',\n",
    "    'plant_id_eia',\n",
    "    'plant_id_pudl',\n",
    "    'plant_name_new',\n",
    "    'generator_id',\n",
    "    'capacity_mw',\n",
    "    'capacity_factor',\n",
    "    'net_generation_mwh',\n",
    "    'installation_year',\n",
    "    'fuel_type_code_pudl',\n",
    "    'total_fuel_cost',\n",
    "    'total_mmbtu',\n",
    "    'fuel_cost_per_mmbtu',\n",
    "    'heat_rate_mmbtu_mwh',\n",
    "]"
   ]
  },
  {
   "cell_type": "markdown",
   "id": "d2478274-c04f-40e4-b940-33def9e47000",
   "metadata": {
    "tags": []
   },
   "source": [
    "## **Part 1:** Generate Override Tools"
   ]
  },
  {
   "cell_type": "markdown",
   "id": "281260de-3fd4-48c5-85b6-8e3c3e8bc886",
   "metadata": {
    "tags": []
   },
   "source": [
    "### 1.1 Get current FERC-EIA & MUL tables\n",
    "This is going to look a lot like the `connect_ferc1_to_eia.ipynb`."
   ]
  },
  {
   "cell_type": "code",
   "execution_count": 8,
   "id": "1f09b216-fec0-4312-adf0-119a20164651",
   "metadata": {
    "tags": []
   },
   "outputs": [],
   "source": [
    "file_path_training = pathlib.Path().cwd().parent /'inputs'/'train_ferc1_to_eia.csv'\n",
    "file_path_mul = pathlib.Path().cwd().parent /'outputs' / 'master_unit_list.pkl.gz'\n",
    "# pudl output object for ferc data\n",
    "pudl_out = pudl.output.pudltabl.PudlTabl(pudl_engine, freq='AS',fill_fuel_cost=True,roll_fuel_cost=True,fill_net_gen=True)"
   ]
  },
  {
   "cell_type": "code",
   "execution_count": 9,
   "id": "62f0f2e0-c152-41cb-af2e-2d34c01c3e2a",
   "metadata": {
    "collapsed": true,
    "jupyter": {
     "outputs_hidden": true
    },
    "tags": []
   },
   "outputs": [
    {
     "name": "stdout",
     "output_type": "stream",
     "text": [
      "Preparing the FERC1 tables.\n",
      "loading steam table\n",
      "loading small gens table\n",
      "loading hydro table\n",
      "loading pumped storage table\n",
      "loading fbp table\n",
      "prepping steam table\n",
      "prepping hydro tables\n",
      "combining all tables\n",
      "Reading the master unit list from /Users/aesharpe/Desktop/Work/Catalyst_Coop/rmi-ferc1-eia/outputs/master_unit_list.pkl.gz\n",
      "Generated 124595 all candidate features.\n",
      "Generated 510 training candidate features.\n",
      "We are about to test hyper parameters of the model while doing k-fold cross validation. This takes a few minutes....\n",
      "Scores from the best model hyperparameters:\n",
      "  F-Score:   0.84\n",
      "  Precision: 0.94\n",
      "  Accuracy:  0.64\n",
      "Fit and predict a model w/ the highest scoring hyperparameters.\n",
      "Get the top scoring match for each FERC1 steam record.\n",
      "Winning match stats:\n",
      "        matches vs ferc:      62.91%\n",
      "        best match v ferc:    59.93%\n",
      "        best match vs matches:95.27%\n",
      "        murk vs matches:      2.70%\n",
      "        ties vs matches:      0.91%\n",
      "Overridden records:       100.0%\n",
      "New best match v ferc:    60.20%\n"
     ]
    }
   ],
   "source": [
    "inputs = InputManager(file_path_training, file_path_mul, pudl_out)\n",
    "features_all = (Features(feature_type='all', inputs=inputs)\n",
    "                .get_features(clobber=False))\n",
    "features_train = (Features(feature_type='training', inputs=inputs)\n",
    "                  .get_features(clobber=False))\n",
    "tuner = ModelTuner(features_train, inputs.get_train_index(), n_splits=10)\n",
    "\n",
    "matcher = MatchManager(best=tuner.get_best_fit_model(), inputs=inputs)\n",
    "matches_best = matcher.get_best_matches(features_train, features_all)"
   ]
  },
  {
   "cell_type": "code",
   "execution_count": 10,
   "id": "de06421d-f22d-4f87-93e5-528d48c6472a",
   "metadata": {
    "tags": []
   },
   "outputs": [
    {
     "name": "stdout",
     "output_type": "stream",
     "text": [
      "Reading the depreciation data from /Users/aesharpe/Desktop/Work/Catalyst_Coop/rmi-ferc1-eia/inputs/depreciation_rmi.xlsx\n"
     ]
    }
   ],
   "source": [
    "file_path_deprish = pathlib.Path().cwd().parent/'inputs'/'depreciation_rmi.xlsx'\n",
    "sheet_name_deprish='Depreciation Studies Raw'\n",
    "transformer = pudl_rmi.deprish.Transformer(\n",
    "    pudl_rmi.deprish.Extractor(\n",
    "        file_path=file_path_deprish,\n",
    "        sheet_name=sheet_name_deprish\n",
    "    ).execute())"
   ]
  },
  {
   "cell_type": "code",
   "execution_count": 11,
   "id": "fdf0304b-20fb-4a20-ba2d-3d4d0e37bda6",
   "metadata": {
    "collapsed": true,
    "jupyter": {
     "outputs_hidden": true
    },
    "tags": []
   },
   "outputs": [
    {
     "name": "stdout",
     "output_type": "stream",
     "text": [
      "Coverage for matches during EIA working years:\n",
      "    Fuel type: 95.3%\n",
      "    Tech type: 93.2%\n",
      "\n",
      "Coverage for all steam table records during EIA working years:\n",
      "    EIA matches: 62.9\n",
      "\n",
      "Coverage for all small gen table records during EIA working years:\n",
      "    EIA matches: 40.3\n",
      "\n",
      "Coverage for all hydro table records during EIA working years:\n",
      "    EIA matches: 86.2\n",
      "\n",
      "Coverage for all pumped storage table records during EIA working years:\n",
      "    EIA matches: 45.2\n"
     ]
    }
   ],
   "source": [
    "connects_ferc1_eia = (\n",
    "    prettyify_best_matches(\n",
    "        matches_best, \n",
    "        plant_parts_true_df=inputs.plant_parts_true_df,\n",
    "        steam_df=inputs.all_plants_ferc1_df)\n",
    "    .copy()\n",
    ")"
   ]
  },
  {
   "cell_type": "code",
   "execution_count": 12,
   "id": "0d3c0a6a-73cf-41d5-a276-360679d5f7c4",
   "metadata": {
    "tags": []
   },
   "outputs": [
    {
     "name": "stdout",
     "output_type": "stream",
     "text": [
      "Reading the master unit list from /Users/aesharpe/Desktop/Work/Catalyst_Coop/rmi-ferc1-eia/outputs/master_unit_list.pkl.gz\n"
     ]
    }
   ],
   "source": [
    "mul = (\n",
    "    make_plant_parts_eia.get_master_unit_list_eia(file_path_mul, pudl_out).reset_index()\n",
    "    .copy()\n",
    ")"
   ]
  },
  {
   "cell_type": "code",
   "execution_count": 13,
   "id": "5a5b8aae-1d20-42e3-8f58-8e906d482e24",
   "metadata": {
    "collapsed": true,
    "jupyter": {
     "outputs_hidden": true
    },
    "tags": []
   },
   "outputs": [
    {
     "name": "stdout",
     "output_type": "stream",
     "text": [
      "# of reserve_rate over 1 (100%): 1. Higher #s here may indicate an issue with the original data or the fill_in method\n",
      "Added 16995 ferc_acct_name's out of 17210 options\n",
      "aggregating to: ['report_date', 'plant_id_pudl', 'plant_part_name', 'ferc_acct', 'utility_id_pudl', 'data_source', 'line_id', 'utility_name_ferc1']\n",
      "overriding auto-generated common associations with 472 mannual associations\n",
      "grabbed 1144 common records\n",
      "Allocating common records for: plant_balance\n",
      "   grabbed 1928 common reocrds and 14326 atomic records. of total 14326\n",
      "The resulting plant_balance allocated is 99.48% of the original\n",
      "Allocating common records for: book_reserve\n",
      "   grabbed 1928 common reocrds and 14326 atomic records. of total 14326\n",
      "The resulting book_reserve allocated is 99.87% of the original\n",
      "Allocating common records for: unaccrued_balance\n",
      "   grabbed 1928 common reocrds and 14326 atomic records. of total 14326\n",
      "The resulting unaccrued_balance allocated is 99.20% of the original\n",
      "Allocating common records for: net_salvage\n",
      "   grabbed 1928 common reocrds and 14326 atomic records. of total 14326\n",
      "The resulting net_salvage allocated is 99.85% of the original\n",
      "Allocating common records for: depreciation_annual_epxns\n",
      "   grabbed 1928 common reocrds and 14326 atomic records. of total 14326\n",
      "The resulting depreciation_annual_epxns allocated is 97.87% of the original\n",
      "agg-ing now\n",
      "aggregating to: ['report_date', 'plant_id_pudl', 'plant_part_name', 'utility_id_pudl', 'data_source', 'line_id', 'common', 'utility_name_ferc1']\n"
     ]
    }
   ],
   "source": [
    "deprish_df = transformer.execute()"
   ]
  },
  {
   "cell_type": "markdown",
   "id": "2ea42d47-995c-4b88-b082-24c87ea1be3a",
   "metadata": {
    "jp-MarkdownHeadingCollapsed": true,
    "tags": []
   },
   "source": [
    "### 1.2 Curate columns"
   ]
  },
  {
   "cell_type": "markdown",
   "id": "dbe263a5-4c0a-439f-b031-48724c076f00",
   "metadata": {},
   "source": [
    "Here we'll limit the columns in the output file to those that will be useful for analysing match correctness. We'll also add some columns for you to use during the match verification process. All match types are included in the outputs (even those that have been correctly mapped according the current overrides) just incase there is a discrepancy or error that we want to fix.\n",
    "\n",
    "**Match Types:**\n",
    "\n",
    "* `prediction`: prediction based on the training data.\n",
    "* `correct_prediction`: prediction based on training data that matches record in the training data.\n",
    "* `no prediction; training`: not filled in by the prediction algorithm but filled in by the training data.\n",
    "* `overridden`: incorrectly filled in my prediction algorithm and corrected by training data.\n",
    "* `no_match`: a reviewer has found there to be no verified EIA match for the given FERC record.\n",
    "* `NaN`: not filled in by the training data or the prediction algorithm. "
   ]
  },
  {
   "cell_type": "code",
   "execution_count": 164,
   "id": "1909982f-04b5-4097-92f3-be7f969d3fb8",
   "metadata": {},
   "outputs": [],
   "source": [
    "#connects_ferc1_eia[connects_ferc1_eia['plant_name_ferc1']=='jeffrey ener ctr 8%']"
   ]
  },
  {
   "cell_type": "code",
   "execution_count": 40,
   "id": "3b2d6969-fb81-416b-94da-72c99ac33d34",
   "metadata": {
    "tags": []
   },
   "outputs": [],
   "source": [
    "# Grab the MUL and FERC-EIA connections that show the comparison between FERC and EIA values\n",
    "check_connections = connects_ferc1_eia[relevant_cols_ferc_eia].copy()\n",
    "mul = mul[relevant_cols_mul].copy()\n",
    "\n",
    "# Add a column to tell whether it's a good match, who verified / made the match,\n",
    "# and any notes about weirdness.\n",
    "check_connections.insert(0, \"verified\", np.nan)\n",
    "check_connections.insert(1, \"used_match_record\", np.nan)\n",
    "check_connections.insert(2, \"signature_1\", np.nan)\n",
    "check_connections.insert(3, \"signature_2\", np.nan)\n",
    "check_connections.insert(4, \"notes\", np.nan)\n",
    "check_connections.insert(6, \"record_id_eia_override_1\", np.nan)\n",
    "check_connections.insert(7, \"record_id_eia_override_2\", np.nan)\n",
    "check_connections.insert(8, \"record_id_eia_override_3\", np.nan)\n",
    "check_connections.insert(9, \"record_id_eia_override_4\", np.nan)\n",
    "check_connections.insert(10, \"record_id_eia_override_5\", np.nan)\n",
    "check_connections.insert(11, \"record_id_eia_override_6\", np.nan)\n",
    "check_connections.insert(12, \"record_id_eia_override_7\", np.nan)\n",
    "check_connections.insert(13, \"record_id_eia_override_8\", np.nan)\n",
    "check_connections.insert(14, \"record_id_eia_override_9\", np.nan)\n",
    "check_connections.insert(15, \"record_id_eia_override_10\", np.nan)\n",
    "\n",
    "# put these in the right order to be filled in by pct_diff\n",
    "check_connections.insert(32, \"fuel_type_code_pudl_diff\", np.nan)\n",
    "check_connections.insert(35, \"net_generation_mwh_pct_diff\", np.nan)\n",
    "check_connections.insert(38, \"capacity_mw_pct_diff\", np.nan)\n",
    "check_connections.insert(41, \"capacity_factor_pct_diff\", np.nan)\n",
    "check_connections.insert(44, \"total_fuel_cost_pct_diff\", np.nan)\n",
    "check_connections.insert(47, \"total_mmbtu_pct_diff\", np.nan)\n",
    "check_connections.insert(50, \"fuel_cost_per_mmbtu_pct_diff\", np.nan)\n",
    "check_connections.insert(53, \"installation_year_diff\", np.nan)\n",
    "\n",
    "# Fix some column names\n",
    "check_connections.rename(\n",
    "    columns={'utility_id_pudl_ferc1': 'utility_id_pudl', \n",
    "             'plant_id_pudl_ferc1': 'plant_id_pudl',\n",
    "             'plant_name_new': 'plant_name_eia'}, inplace=True)\n",
    "\n",
    "def pct_diff(df, col):\n",
    "    df.loc[(df[f\"{col}_eia\"] > 0) & (df[f\"{col}_ferc1\"] > 0), f\"{col}_pct_diff\"] = (\n",
    "        round(((df[f\"{col}_ferc1\"] - df[f\"{col}_eia\"]) / df[f\"{col}_ferc1\"] * 100), 2)\n",
    "    )\n",
    "\n",
    "# Add pct diff columns\n",
    "for col in ['net_generation_mwh', 'capacity_mw', 'capacity_factor', \n",
    "            'total_fuel_cost', 'total_mmbtu', 'fuel_cost_per_mmbtu']:\n",
    "    pct_diff(check_connections, col)\n",
    "    \n",
    "# Add qualitative similarity columns (fuel_type_code_pudl)\n",
    "check_connections.loc[\n",
    "    (check_connections.fuel_type_code_pudl_eia.notna())\n",
    "    & (check_connections.fuel_type_code_pudl_ferc1.notna()),\n",
    "    \"fuel_type_code_pudl_diff\"\n",
    "] = check_connections.fuel_type_code_pudl_eia == check_connections.fuel_type_code_pudl_ferc1\n",
    "\n",
    "# Add quantitative similarity columns (installation year)\n",
    "check_connections.loc[:, \"installation_year_ferc1\"] = check_connections.installation_year_ferc1.astype(\"Int64\")\n",
    "check_connections.loc[\n",
    "    (check_connections.installation_year_eia.notna())\n",
    "    & (check_connections.installation_year_ferc1.notna()),\n",
    "    \"installation_year_diff\"\n",
    "] = check_connections.installation_year_eia - check_connections.installation_year_ferc1\n",
    "\n",
    "# Move record_id_ferc1\n",
    "record_id_ferc1 = check_connections.pop('record_id_ferc1')\n",
    "check_connections.insert(15, \"record_id_ferc1\", record_id_ferc1) "
   ]
  },
  {
   "cell_type": "markdown",
   "id": "0145008b-4f9b-4420-bd42-d9f22d0adb21",
   "metadata": {
    "jp-MarkdownHeadingCollapsed": true,
    "tags": []
   },
   "source": [
    "### 1.3 Get utility and year subsets for editing"
   ]
  },
  {
   "cell_type": "markdown",
   "id": "cfcadb98-bd2f-41d9-b93d-d04ae3d309c6",
   "metadata": {},
   "source": [
    "Not sure which PUDL ID you need? Use this cell to search for them by name:"
   ]
  },
  {
   "cell_type": "code",
   "execution_count": null,
   "id": "e31b829f-c604-4cd9-af5d-3af6361cedd4",
   "metadata": {
    "jupyter": {
     "source_hidden": true
    },
    "tags": []
   },
   "outputs": [],
   "source": [
    "util_name_string = 'kansas' # edit this, must be lower case\n",
    "\n",
    "utils = (\n",
    "    pudl_out.utils_eia860()[['utility_id_pudl', 'utility_id_eia', 'utility_name_eia', 'state']]\n",
    "    .drop_duplicates()\n",
    "    .dropna(subset=['utility_name_eia', 'utility_id_pudl'])\n",
    "    .assign(utility_name_eia=lambda x: x.utility_name_eia.str.lower())\n",
    ")\n",
    "utils[utils['utility_name_eia'].str.contains(f\"{util_name_string}\")]"
   ]
  },
  {
   "cell_type": "code",
   "execution_count": null,
   "id": "9f29e8e8-0bdd-44a3-a990-3cd8e325a303",
   "metadata": {
    "jupyter": {
     "source_hidden": true
    },
    "tags": []
   },
   "outputs": [],
   "source": [
    "test = pudl_out.plants_steam_ferc1().copy()\n",
    "test[test.utility_name_ferc1.str.contains('Duke')].drop_duplicates(subset=['utility_name_ferc1'])#.utility_name_ferc1.unique()\n",
    "\n",
    "#check_connections[check_connections['utility_id_pudl_eia']==159]\n",
    "#97, "
   ]
  },
  {
   "cell_type": "code",
   "execution_count": 82,
   "id": "69ba0a19-7a9d-48bc-beac-e11439b132a6",
   "metadata": {
    "tags": []
   },
   "outputs": [],
   "source": [
    "def prep_inputs(check_connections_df, utilities='largest', amount=5, years='all'):\n",
    "    \n",
    "        all_plants_ferc1 = pudl_out.all_plants_ferc1().copy()\n",
    "        max_year = all_plants_ferc1.report_year.max()\n",
    "        min_year = all_plants_ferc1.report_year.min()\n",
    "\n",
    "        if years != 'all':\n",
    "            assert type(years) == list, \"years must be reported as a list if not 'all'\"\n",
    "            assert len([year for year in years if year in range(min_year, max_year+1)]) == len(years), \\\n",
    "                \"years must be 'all' or a valid year integer within the bounds of FERC reporting years\"\n",
    "        if years == 'all':\n",
    "            years = range(min_year, max_year+1)\n",
    "            \n",
    "        check_years = check_connections_df[check_connections_df['report_year'].isin(years)]\n",
    "        \n",
    "        if utilities == 'largest':\n",
    "            logger.info(f\"getting pudl ids for the top {amount} largest utilities\")\n",
    "            utilities = (\n",
    "                check_years\n",
    "                .groupby(['utility_id_pudl_eia', 'utility_name_ferc1'])['capacity_mw_ferc1']\n",
    "                .sum()\n",
    "                .reset_index()\n",
    "                .sort_values('capacity_mw_ferc1', ascending=False)\n",
    "                .head(amount)\n",
    "                .utility_id_pudl_eia\n",
    "                .tolist()\n",
    "            )\n",
    "        else:\n",
    "            assert type(utilities) == dict, \"if not 'largest', utilities must be presented as a dict of PUDL IDs and EIA IDs\"\n",
    "            \n",
    "        return utilities, years"
   ]
  },
  {
   "cell_type": "code",
   "execution_count": 101,
   "id": "c1dc8a28-45a7-4c8c-b81a-b73c18aaf85f",
   "metadata": {
    "tags": []
   },
   "outputs": [],
   "source": [
    "def get_ferc_eia_utilities_subset(check_connections_df, utilities, years):\n",
    "    logger.info(\"retreiving the ferc-eia connection for the given utilities\")\n",
    "    check_years = check_connections_df[check_connections_df['report_year'].isin(years)]\n",
    "    utils_pudl = utilities['utility_id_pudl']\n",
    "    util_output = check_years[check_years['utility_id_pudl'].isin(utils_pudl)].copy()\n",
    "    return util_output\n",
    "    \n",
    "def get_mul_subset(mul, utilities, years):\n",
    "    logger.info(\"retreiving the MUL for the given utilities\")\n",
    "    mul_years = mul[mul['report_year'].isin(years)]\n",
    "    utils_eia = utilities['utility_id_eia']\n",
    "    utils_pudl = utilities['utility_id_pudl']\n",
    "    mul_output = mul_years[(mul_years['utility_id_eia'].isin(utils_eia)) | (mul_years['utility_id_pudl'].isin(utils_pudl))]\n",
    "    return mul_output\n",
    "\n",
    "def get_deprish_subset(deprish_df, utilities):\n",
    "    logger.info(\"retrieving depreciation data for the given utilities\")\n",
    "    deprish_output = deprish_df[deprish_df['utility_id_pudl'].isin(utilities)]\n",
    "    return deprish_output"
   ]
  },
  {
   "cell_type": "code",
   "execution_count": 116,
   "id": "8decb9c5-3157-4188-9590-d454609c6c8b",
   "metadata": {},
   "outputs": [
    {
     "name": "stdout",
     "output_type": "stream",
     "text": [
      "retreiving the MUL for the given utilities\n"
     ]
    },
    {
     "data": {
      "text/html": [
       "<div>\n",
       "<style scoped>\n",
       "    .dataframe tbody tr th:only-of-type {\n",
       "        vertical-align: middle;\n",
       "    }\n",
       "\n",
       "    .dataframe tbody tr th {\n",
       "        vertical-align: top;\n",
       "    }\n",
       "\n",
       "    .dataframe thead th {\n",
       "        text-align: right;\n",
       "    }\n",
       "</style>\n",
       "<table border=\"1\" class=\"dataframe\">\n",
       "  <thead>\n",
       "    <tr style=\"text-align: right;\">\n",
       "      <th></th>\n",
       "      <th>record_id_eia</th>\n",
       "      <th>report_year</th>\n",
       "      <th>utility_id_pudl</th>\n",
       "      <th>utility_id_eia</th>\n",
       "      <th>true_gran</th>\n",
       "      <th>plant_part</th>\n",
       "      <th>ownership_dupe</th>\n",
       "      <th>fraction_owned</th>\n",
       "      <th>plant_id_eia</th>\n",
       "      <th>plant_id_pudl</th>\n",
       "      <th>plant_name_new</th>\n",
       "      <th>generator_id</th>\n",
       "      <th>capacity_mw</th>\n",
       "      <th>capacity_factor</th>\n",
       "      <th>net_generation_mwh</th>\n",
       "      <th>installation_year</th>\n",
       "      <th>fuel_type_code_pudl</th>\n",
       "      <th>total_fuel_cost</th>\n",
       "      <th>total_mmbtu</th>\n",
       "      <th>fuel_cost_per_mmbtu</th>\n",
       "      <th>heat_rate_mmbtu_mwh</th>\n",
       "    </tr>\n",
       "  </thead>\n",
       "  <tbody>\n",
       "  </tbody>\n",
       "</table>\n",
       "</div>"
      ],
      "text/plain": [
       "Empty DataFrame\n",
       "Columns: [record_id_eia, report_year, utility_id_pudl, utility_id_eia, true_gran, plant_part, ownership_dupe, fraction_owned, plant_id_eia, plant_id_pudl, plant_name_new, generator_id, capacity_mw, capacity_factor, net_generation_mwh, installation_year, fuel_type_code_pudl, total_fuel_cost, total_mmbtu, fuel_cost_per_mmbtu, heat_rate_mmbtu_mwh]\n",
       "Index: []"
      ]
     },
     "execution_count": 116,
     "metadata": {},
     "output_type": "execute_result"
    }
   ],
   "source": [
    "test = get_mul_subset(mul, specified_utilities, [2019])\n",
    "test[test['record_id_eia']=='6068_2019_plant_owned_56211']\n",
    "mul[mul['record_id_eia']=='2080_2_2019_plant_unit_total_10000'] # WHY IS THIS NOT SHOWING UP IN THIS VERSION OF THE MUL BUT IT IS SHOING UP IN THE OLD ONE??"
   ]
  },
  {
   "cell_type": "code",
   "execution_count": 110,
   "id": "788e442a-94f1-4c20-9388-da7e0d606676",
   "metadata": {
    "collapsed": true,
    "jupyter": {
     "outputs_hidden": true
    },
    "tags": []
   },
   "outputs": [
    {
     "data": {
      "text/html": [
       "<div>\n",
       "<style scoped>\n",
       "    .dataframe tbody tr th:only-of-type {\n",
       "        vertical-align: middle;\n",
       "    }\n",
       "\n",
       "    .dataframe tbody tr th {\n",
       "        vertical-align: top;\n",
       "    }\n",
       "\n",
       "    .dataframe thead th {\n",
       "        text-align: right;\n",
       "    }\n",
       "</style>\n",
       "<table border=\"1\" class=\"dataframe\">\n",
       "  <thead>\n",
       "    <tr style=\"text-align: right;\">\n",
       "      <th></th>\n",
       "      <th>verified</th>\n",
       "      <th>used_match_record</th>\n",
       "      <th>signature_1</th>\n",
       "      <th>signature_2</th>\n",
       "      <th>notes</th>\n",
       "      <th>record_id_eia_override_1</th>\n",
       "      <th>record_id_eia_override_2</th>\n",
       "      <th>record_id_eia_override_3</th>\n",
       "      <th>record_id_eia_override_4</th>\n",
       "      <th>record_id_eia_override_5</th>\n",
       "      <th>record_id_eia_override_6</th>\n",
       "      <th>record_id_eia_override_7</th>\n",
       "      <th>record_id_eia_override_8</th>\n",
       "      <th>record_id_eia_override_9</th>\n",
       "      <th>record_id_eia_override_10</th>\n",
       "      <th>record_id_ferc1</th>\n",
       "      <th>record_id_eia</th>\n",
       "      <th>true_gran</th>\n",
       "      <th>report_year</th>\n",
       "      <th>match_type</th>\n",
       "      <th>plant_part</th>\n",
       "      <th>ownership</th>\n",
       "      <th>utility_id_eia</th>\n",
       "      <th>utility_id_pudl</th>\n",
       "      <th>utility_name_ferc1</th>\n",
       "      <th>plant_id_pudl</th>\n",
       "      <th>unit_id_pudl</th>\n",
       "      <th>generator_id</th>\n",
       "      <th>plant_name_ferc1</th>\n",
       "      <th>plant_name_eia</th>\n",
       "      <th>fuel_type_code_pudl_ferc1</th>\n",
       "      <th>fuel_type_code_pudl_eia</th>\n",
       "      <th>fuel_type_code_pudl_diff</th>\n",
       "      <th>net_generation_mwh_ferc1</th>\n",
       "      <th>net_generation_mwh_eia</th>\n",
       "      <th>net_generation_mwh_pct_diff</th>\n",
       "      <th>capacity_mw_ferc1</th>\n",
       "      <th>capacity_mw_eia</th>\n",
       "      <th>capacity_mw_pct_diff</th>\n",
       "      <th>capacity_factor_ferc1</th>\n",
       "      <th>capacity_factor_eia</th>\n",
       "      <th>capacity_factor_pct_diff</th>\n",
       "      <th>total_fuel_cost_ferc1</th>\n",
       "      <th>total_fuel_cost_eia</th>\n",
       "      <th>total_fuel_cost_pct_diff</th>\n",
       "      <th>total_mmbtu_ferc1</th>\n",
       "      <th>total_mmbtu_eia</th>\n",
       "      <th>total_mmbtu_pct_diff</th>\n",
       "      <th>fuel_cost_per_mmbtu_ferc1</th>\n",
       "      <th>fuel_cost_per_mmbtu_eia</th>\n",
       "      <th>fuel_cost_per_mmbtu_pct_diff</th>\n",
       "      <th>installation_year_ferc1</th>\n",
       "      <th>installation_year_eia</th>\n",
       "      <th>installation_year_diff</th>\n",
       "    </tr>\n",
       "  </thead>\n",
       "  <tbody>\n",
       "    <tr>\n",
       "      <th>1</th>\n",
       "      <td>NaN</td>\n",
       "      <td>NaN</td>\n",
       "      <td>NaN</td>\n",
       "      <td>NaN</td>\n",
       "      <td>NaN</td>\n",
       "      <td>NaN</td>\n",
       "      <td>NaN</td>\n",
       "      <td>NaN</td>\n",
       "      <td>NaN</td>\n",
       "      <td>NaN</td>\n",
       "      <td>NaN</td>\n",
       "      <td>NaN</td>\n",
       "      <td>NaN</td>\n",
       "      <td>NaN</td>\n",
       "      <td>NaN</td>\n",
       "      <td>f1_gnrt_plant_2004_12_115_0_9</td>\n",
       "      <td>8009_2004_plant_total_13511</td>\n",
       "      <td>True</td>\n",
       "      <td>2004</td>\n",
       "      <td>prediction</td>\n",
       "      <td>plant</td>\n",
       "      <td>total</td>\n",
       "      <td>13511</td>\n",
       "      <td>213</td>\n",
       "      <td>New York State Electric &amp; Gas Corporation</td>\n",
       "      <td>675</td>\n",
       "      <td>&lt;NA&gt;</td>\n",
       "      <td>1</td>\n",
       "      <td>auburn gas turbine</td>\n",
       "      <td>Auburn State Street</td>\n",
       "      <td>NaN</td>\n",
       "      <td>gas</td>\n",
       "      <td>NaN</td>\n",
       "      <td>46.0</td>\n",
       "      <td>43.000</td>\n",
       "      <td>6.52</td>\n",
       "      <td>7.0</td>\n",
       "      <td>7.0</td>\n",
       "      <td>0.0</td>\n",
       "      <td>0.000750</td>\n",
       "      <td>0.000699</td>\n",
       "      <td>6.78</td>\n",
       "      <td>NaN</td>\n",
       "      <td>NaN</td>\n",
       "      <td>NaN</td>\n",
       "      <td>NaN</td>\n",
       "      <td>NaN</td>\n",
       "      <td>NaN</td>\n",
       "      <td>NaN</td>\n",
       "      <td>NaN</td>\n",
       "      <td>NaN</td>\n",
       "      <td>&lt;NA&gt;</td>\n",
       "      <td>2000</td>\n",
       "      <td>NaN</td>\n",
       "    </tr>\n",
       "    <tr>\n",
       "      <th>3</th>\n",
       "      <td>NaN</td>\n",
       "      <td>NaN</td>\n",
       "      <td>NaN</td>\n",
       "      <td>NaN</td>\n",
       "      <td>NaN</td>\n",
       "      <td>NaN</td>\n",
       "      <td>NaN</td>\n",
       "      <td>NaN</td>\n",
       "      <td>NaN</td>\n",
       "      <td>NaN</td>\n",
       "      <td>NaN</td>\n",
       "      <td>NaN</td>\n",
       "      <td>NaN</td>\n",
       "      <td>NaN</td>\n",
       "      <td>NaN</td>\n",
       "      <td>f1_gnrt_plant_2004_12_120_0_3</td>\n",
       "      <td>1926_2004_plant_total_13781</td>\n",
       "      <td>True</td>\n",
       "      <td>2004</td>\n",
       "      <td>prediction</td>\n",
       "      <td>plant</td>\n",
       "      <td>total</td>\n",
       "      <td>13781</td>\n",
       "      <td>224</td>\n",
       "      <td>Northern States Power Company (Minnesota)</td>\n",
       "      <td>800</td>\n",
       "      <td>&lt;NA&gt;</td>\n",
       "      <td>&lt;NA&gt;</td>\n",
       "      <td>red wing</td>\n",
       "      <td>Red Wing</td>\n",
       "      <td>NaN</td>\n",
       "      <td>waste</td>\n",
       "      <td>NaN</td>\n",
       "      <td>114699.0</td>\n",
       "      <td>113279.995</td>\n",
       "      <td>1.24</td>\n",
       "      <td>23.0</td>\n",
       "      <td>23.0</td>\n",
       "      <td>0.0</td>\n",
       "      <td>0.569282</td>\n",
       "      <td>0.560703</td>\n",
       "      <td>1.51</td>\n",
       "      <td>NaN</td>\n",
       "      <td>NaN</td>\n",
       "      <td>NaN</td>\n",
       "      <td>NaN</td>\n",
       "      <td>NaN</td>\n",
       "      <td>NaN</td>\n",
       "      <td>NaN</td>\n",
       "      <td>NaN</td>\n",
       "      <td>NaN</td>\n",
       "      <td>&lt;NA&gt;</td>\n",
       "      <td>1949</td>\n",
       "      <td>NaN</td>\n",
       "    </tr>\n",
       "  </tbody>\n",
       "</table>\n",
       "</div>"
      ],
      "text/plain": [
       "   verified  used_match_record  signature_1  signature_2  notes  \\\n",
       "1       NaN                NaN          NaN          NaN    NaN   \n",
       "3       NaN                NaN          NaN          NaN    NaN   \n",
       "\n",
       "   record_id_eia_override_1  record_id_eia_override_2  \\\n",
       "1                       NaN                       NaN   \n",
       "3                       NaN                       NaN   \n",
       "\n",
       "   record_id_eia_override_3  record_id_eia_override_4  \\\n",
       "1                       NaN                       NaN   \n",
       "3                       NaN                       NaN   \n",
       "\n",
       "   record_id_eia_override_5  record_id_eia_override_6  \\\n",
       "1                       NaN                       NaN   \n",
       "3                       NaN                       NaN   \n",
       "\n",
       "   record_id_eia_override_7  record_id_eia_override_8  \\\n",
       "1                       NaN                       NaN   \n",
       "3                       NaN                       NaN   \n",
       "\n",
       "   record_id_eia_override_9  record_id_eia_override_10  \\\n",
       "1                       NaN                        NaN   \n",
       "3                       NaN                        NaN   \n",
       "\n",
       "                 record_id_ferc1                record_id_eia true_gran  \\\n",
       "1  f1_gnrt_plant_2004_12_115_0_9  8009_2004_plant_total_13511      True   \n",
       "3  f1_gnrt_plant_2004_12_120_0_3  1926_2004_plant_total_13781      True   \n",
       "\n",
       "   report_year  match_type plant_part ownership  utility_id_eia  \\\n",
       "1         2004  prediction      plant     total           13511   \n",
       "3         2004  prediction      plant     total           13781   \n",
       "\n",
       "   utility_id_pudl                         utility_name_ferc1  plant_id_pudl  \\\n",
       "1              213  New York State Electric & Gas Corporation            675   \n",
       "3              224  Northern States Power Company (Minnesota)            800   \n",
       "\n",
       "  unit_id_pudl generator_id    plant_name_ferc1       plant_name_eia  \\\n",
       "1         <NA>            1  auburn gas turbine  Auburn State Street   \n",
       "3         <NA>         <NA>            red wing             Red Wing   \n",
       "\n",
       "  fuel_type_code_pudl_ferc1 fuel_type_code_pudl_eia fuel_type_code_pudl_diff  \\\n",
       "1                       NaN                     gas                      NaN   \n",
       "3                       NaN                   waste                      NaN   \n",
       "\n",
       "   net_generation_mwh_ferc1  net_generation_mwh_eia  \\\n",
       "1                      46.0                  43.000   \n",
       "3                  114699.0              113279.995   \n",
       "\n",
       "   net_generation_mwh_pct_diff  capacity_mw_ferc1  capacity_mw_eia  \\\n",
       "1                         6.52                7.0              7.0   \n",
       "3                         1.24               23.0             23.0   \n",
       "\n",
       "   capacity_mw_pct_diff  capacity_factor_ferc1  capacity_factor_eia  \\\n",
       "1                   0.0               0.000750             0.000699   \n",
       "3                   0.0               0.569282             0.560703   \n",
       "\n",
       "   capacity_factor_pct_diff  total_fuel_cost_ferc1  total_fuel_cost_eia  \\\n",
       "1                      6.78                    NaN                  NaN   \n",
       "3                      1.51                    NaN                  NaN   \n",
       "\n",
       "   total_fuel_cost_pct_diff  total_mmbtu_ferc1  total_mmbtu_eia  \\\n",
       "1                       NaN                NaN              NaN   \n",
       "3                       NaN                NaN              NaN   \n",
       "\n",
       "   total_mmbtu_pct_diff  fuel_cost_per_mmbtu_ferc1  fuel_cost_per_mmbtu_eia  \\\n",
       "1                   NaN                        NaN                      NaN   \n",
       "3                   NaN                        NaN                      NaN   \n",
       "\n",
       "   fuel_cost_per_mmbtu_pct_diff  installation_year_ferc1  \\\n",
       "1                           NaN                     <NA>   \n",
       "3                           NaN                     <NA>   \n",
       "\n",
       "   installation_year_eia  installation_year_diff  \n",
       "1                   2000                     NaN  \n",
       "3                   1949                     NaN  "
      ]
     },
     "execution_count": 110,
     "metadata": {},
     "output_type": "execute_result"
    }
   ],
   "source": [
    "test = check_connections.head(5).copy()\n",
    "test[(test['plant_id_pudl'].isin([675])) | (test['plant_id_pudl'].isin([800]))]"
   ]
  },
  {
   "cell_type": "code",
   "execution_count": 111,
   "id": "e2687ca7-9345-42c1-a7f0-636b4eed55de",
   "metadata": {},
   "outputs": [
    {
     "data": {
      "text/html": [
       "<div>\n",
       "<style scoped>\n",
       "    .dataframe tbody tr th:only-of-type {\n",
       "        vertical-align: middle;\n",
       "    }\n",
       "\n",
       "    .dataframe tbody tr th {\n",
       "        vertical-align: top;\n",
       "    }\n",
       "\n",
       "    .dataframe thead th {\n",
       "        text-align: right;\n",
       "    }\n",
       "</style>\n",
       "<table border=\"1\" class=\"dataframe\">\n",
       "  <thead>\n",
       "    <tr style=\"text-align: right;\">\n",
       "      <th></th>\n",
       "      <th>record_id_eia</th>\n",
       "      <th>report_year</th>\n",
       "      <th>utility_id_pudl</th>\n",
       "      <th>utility_id_eia</th>\n",
       "      <th>true_gran</th>\n",
       "      <th>plant_part</th>\n",
       "      <th>ownership_dupe</th>\n",
       "      <th>fraction_owned</th>\n",
       "      <th>plant_id_eia</th>\n",
       "      <th>plant_id_pudl</th>\n",
       "      <th>plant_name_new</th>\n",
       "      <th>generator_id</th>\n",
       "      <th>capacity_mw</th>\n",
       "      <th>capacity_factor</th>\n",
       "      <th>net_generation_mwh</th>\n",
       "      <th>installation_year</th>\n",
       "      <th>fuel_type_code_pudl</th>\n",
       "      <th>total_fuel_cost</th>\n",
       "      <th>total_mmbtu</th>\n",
       "      <th>fuel_cost_per_mmbtu</th>\n",
       "      <th>heat_rate_mmbtu_mwh</th>\n",
       "    </tr>\n",
       "  </thead>\n",
       "  <tbody>\n",
       "    <tr>\n",
       "      <th>1983</th>\n",
       "      <td>6068_2019_plant_owned_56211</td>\n",
       "      <td>2019</td>\n",
       "      <td>161</td>\n",
       "      <td>56211</td>\n",
       "      <td>True</td>\n",
       "      <td>plant</td>\n",
       "      <td>False</td>\n",
       "      <td>0.08</td>\n",
       "      <td>6068</td>\n",
       "      <td>307</td>\n",
       "      <td>Jeffrey Energy Center</td>\n",
       "      <td>&lt;NA&gt;</td>\n",
       "      <td>172.8</td>\n",
       "      <td>0.347414</td>\n",
       "      <td>525890.24128</td>\n",
       "      <td>1983</td>\n",
       "      <td>coal</td>\n",
       "      <td>1.137306e+07</td>\n",
       "      <td>6.247786e+06</td>\n",
       "      <td>1.820334</td>\n",
       "      <td>11.875677</td>\n",
       "    </tr>\n",
       "  </tbody>\n",
       "</table>\n",
       "</div>"
      ],
      "text/plain": [
       "                    record_id_eia  report_year  utility_id_pudl  \\\n",
       "1983  6068_2019_plant_owned_56211         2019              161   \n",
       "\n",
       "      utility_id_eia  true_gran plant_part  ownership_dupe  fraction_owned  \\\n",
       "1983           56211       True      plant           False            0.08   \n",
       "\n",
       "     plant_id_eia  plant_id_pudl         plant_name_new generator_id  \\\n",
       "1983         6068            307  Jeffrey Energy Center         <NA>   \n",
       "\n",
       "      capacity_mw  capacity_factor  net_generation_mwh  installation_year  \\\n",
       "1983        172.8         0.347414        525890.24128               1983   \n",
       "\n",
       "     fuel_type_code_pudl  total_fuel_cost   total_mmbtu  fuel_cost_per_mmbtu  \\\n",
       "1983                coal     1.137306e+07  6.247786e+06             1.820334   \n",
       "\n",
       "      heat_rate_mmbtu_mwh  \n",
       "1983            11.875677  "
      ]
     },
     "execution_count": 111,
     "metadata": {},
     "output_type": "execute_result"
    }
   ],
   "source": [
    "mul[mul['record_id_eia']=='6068_2019_plant_owned_56211']"
   ]
  },
  {
   "cell_type": "code",
   "execution_count": 78,
   "id": "df2a5417-5234-493b-8ae7-3b4862e18614",
   "metadata": {
    "tags": []
   },
   "outputs": [],
   "source": [
    "def output_override_tools(check_connections_df, mul, deprish_df, utilities='largest', amount=5, years='all'):\n",
    "    \n",
    "    utilities, years = prep_inputs(check_connections_df, utilities, amount, years)\n",
    "    \n",
    "    ferc_eia_util_subset = get_ferc_eia_utilities_subset(check_connections_df, utilities, years)\n",
    "    # Add some functions to it\n",
    "    ferc_eia_util_subset = (\n",
    "        ferc_eia_util_subset.reset_index(drop=True)\n",
    "        .assign(used_match_record=lambda x: \"=(F\" + (x.index+2).astype('str') + \"=Q\" + (x.index+2).astype('str') + \")\" )\n",
    "    )\n",
    "    \n",
    "    mul_util_subset = get_mul_subset(mul, utilities, years)\n",
    "    deprish_util_subset = get_deprish_subset(deprish_df, utilities)\n",
    "    \n",
    "    # Create a dict of each df and the tab name you want to give it in the output\n",
    "    tool_dict = {\n",
    "        'ferc_eia_util_subset': ferc_eia_util_subset,\n",
    "        'mul_util_subset': mul_util_subset,\n",
    "        'deprish_util_subset': deprish_util_subset\n",
    "    }\n",
    "    \n",
    "    output_path = pathlib.Path().cwd().parent / 'outputs' / 'fix_FERC-EIA_overrides.xlsx'\n",
    "    \n",
    "    assert len(mul_util_subset) < 500000, \"Your MUL subset is more than 500,000 rows...this is going to make excel \\\n",
    "        reaaalllllyyy slow. Try entering a smaller utility or year subset\"\n",
    "    \n",
    "    logger.info(\"outputing override tools to tabs in fix_FERC-EIA_overrides.xlsx\")\n",
    "    pudl_rmi.connect_deprish_to_eia.save_to_workbook(output_path, tool_dict)\n",
    "    \n",
    "    return ferc_eia_util_subset"
   ]
  },
  {
   "cell_type": "markdown",
   "id": "a83bd814-1746-43e1-ac6c-45853143c6b9",
   "metadata": {},
   "source": [
    "## **Part 2:** Re-incorporating Matched Records"
   ]
  },
  {
   "cell_type": "markdown",
   "id": "4a1ef398-6dec-4d3e-9e6a-ac850a39e6a7",
   "metadata": {},
   "source": [
    "Now that you've marked the correctly matched records as `TRUE`, we'll want to incorporate those into the perminant override list. All you have to do is move the `fix_FERC-EIA_overrides.xlsx` file to the `overrides` directory, run the following cells, and then run..."
   ]
  },
  {
   "cell_type": "markdown",
   "id": "7d5a5c89-fbe9-40bb-adf0-2eea59c82369",
   "metadata": {
    "jp-MarkdownHeadingCollapsed": true,
    "tags": []
   },
   "source": [
    "### 2.1 Update training data"
   ]
  },
  {
   "cell_type": "code",
   "execution_count": null,
   "id": "226b40f3-9942-4254-938e-56f57c0584e4",
   "metadata": {
    "tags": []
   },
   "outputs": [],
   "source": [
    "fixed_overrides_path = pathlib.Path().cwd().parent / 'overrides' #/ #'fix_FERC-EIA_overrides.xlsx'\n",
    "training_path = pathlib.Path().cwd().parent / 'inputs' / 'train_ferc1_to_eia.csv'\n",
    "training_data = pd.read_csv(training_path)"
   ]
  },
  {
   "cell_type": "code",
   "execution_count": null,
   "id": "9c134c6b-d210-4665-99f2-5ae320532f08",
   "metadata": {
    "tags": []
   },
   "outputs": [],
   "source": [
    "def validate_override_fixes(validated_connections, expect_override_overrides=False):\n",
    "    \"\"\"Process the verified / fixed matches.\"\"\"\n",
    "    logger.info(\"validating override fixes\")\n",
    "    \n",
    "    # Make sure that there are no rouge descriptions in the is_correct_match field (besides TRUE)\n",
    "    match_language = validated_connections.is_correct_match.unique()\n",
    "    assert len(outliers:=[x for x in match_language if x not in [True, False]]) == 0, \\\n",
    "        f\"All correct matches must be marked TRUE; found {outliers}\"\n",
    "\n",
    "    # Make it a boolean column\n",
    "    validated_connections.loc[:, \"is_correct_match\"] = (\n",
    "        validated_connections.is_correct_match.astype('bool'))\n",
    "\n",
    "    # Get TRUE records\n",
    "    true_connections = validated_connections[validated_connections['is_correct_match']].copy()\n",
    "\n",
    "    # Make sure that the eia and ferc ids haven't been tampered with\n",
    "    assert len(bad_eia := [x for x in true_connections.dropna().record_id_eia.unique()\n",
    "                        if x not in connects_ferc1_eia.record_id_eia.unique()]) == 0, \\\n",
    "        f\"Found record_id_eia values that aren't in the existing FERC-EIA connection: {bad_eia}\"\n",
    "    assert len(bad_ferc := [x for x in true_connections.dropna().record_id_ferc1.unique()\n",
    "                        if x not in connects_ferc1_eia.record_id_ferc1.unique()]) == 0, \\\n",
    "        f\"Found record_id_ferc1 values that aren't in the existing FERC-EIA connection: {bad_ferc}\"\n",
    "\n",
    "    if not expect_override_overrides:\n",
    "        # Make sure that these aren't already in the overrides (this should be impossible, but just in case)\n",
    "        assert len(bad_eia := [x for x in true_connections.record_id_eia.unique()\n",
    "                            if x in training_data.dropna(subset=['record_id_eia']).record_id_eia.unique()]) == 0,  \\\n",
    "            f\"Found record_id_eia values that are already in the existing FERC-EIA training data: {bad_eia}\"\n",
    "        assert len(bad_ferc := [x for x in true_connections.record_id_ferc1.unique()\n",
    "                            if x in training_data.dropna(subset=['record_id_eia']).record_id_ferc1.unique()]) == 0, \\\n",
    "            f\"Found record_id_ferc1 values that are already in the existing FERC-EIA training data: {bad_ferc}\"\n",
    "    \n",
    "    return true_connections"
   ]
  },
  {
   "cell_type": "code",
   "execution_count": null,
   "id": "639158dc-7fc7-4729-97cf-2c4fad13d875",
   "metadata": {
    "tags": []
   },
   "outputs": [],
   "source": [
    "def combine_new_overrides(expect_override_overrides):\n",
    "    logger.info(\"combining all new override files\")\n",
    "    all_fixes = pd.DataFrame(columns=['record_id_eia', 'record_id_ferc1', 'signature', 'notes'])\n",
    "    all_files = os.listdir(fixed_overrides_path)\n",
    "    files = [file for file in all_files if not file.startswith('.')]\n",
    "    for file in files:\n",
    "        assert (file.endswith('.xlsx'), 'fixing the overrides can only read .xslx \\\n",
    "            files; found other file types in the overrides directory')\n",
    "    for file in files:\n",
    "        logger.info(f\"Processing fixes in {file}\")\n",
    "        file_df = (\n",
    "            pd.read_excel(\n",
    "                (fixed_overrides_path / file), \n",
    "                sheet_name='ferc_eia_util_subset')\n",
    "            .replace(columns={'record_id_eia_override': 'record_id_eia', 'record_id_eia': 'record_id_eia_old'})\n",
    "            .assign(\n",
    "                is_correct_match=lambda x: x.is_correct_match.replace({'TRUE':True, np.nan: False}))\n",
    "            .pipe(validate_override_fixes, expect_override_overrides=expect_override_overrides))\n",
    "        all_fixes = all_fixes.append(file_df[['record_id_eia', 'record_id_ferc1',\n",
    "                                              'signature', 'notes']])\n",
    "    return all_fixes"
   ]
  },
  {
   "cell_type": "code",
   "execution_count": null,
   "id": "3d738d9c-8d33-45e0-a4dd-9f9ed9a1404f",
   "metadata": {
    "tags": []
   },
   "outputs": [],
   "source": [
    "def combine_all_overrides(new_overrides, training_df):\n",
    "    logger.info(\"combining all overrides\")\n",
    "    training_data_out = (\n",
    "        training_df.append(\n",
    "            new_overrides[['record_id_eia', 'record_id_ferc1', 'signature', 'notes']])\n",
    "        .set_index(['record_id_eia', 'record_id_ferc1'])\n",
    "    )\n",
    "    return training_data_out"
   ]
  },
  {
   "cell_type": "markdown",
   "id": "5fa73ed2-dfb1-47e8-bad7-14945b4944ae",
   "metadata": {},
   "source": [
    "### 2.2 Export updated data"
   ]
  },
  {
   "cell_type": "markdown",
   "id": "9dcc225c-b4dd-4154-8b29-402d95ccc27a",
   "metadata": {},
   "source": [
    "Move your updated version of the `fix_FERC-EIA_overrides.xlsx` file into the directory called `overrides`. This notebook will only process files to supplement the existing training data that are located in that folder."
   ]
  },
  {
   "cell_type": "markdown",
   "id": "4df58190-1f6b-450c-ad73-ea04d99339e6",
   "metadata": {
    "tags": []
   },
   "source": [
    "## Explore"
   ]
  },
  {
   "cell_type": "markdown",
   "id": "74b32cd0-28d4-483f-8c07-4756e98e7477",
   "metadata": {
    "jp-MarkdownHeadingCollapsed": true,
    "tags": []
   },
   "source": [
    "### Backfilling"
   ]
  },
  {
   "cell_type": "markdown",
   "id": "ad3f1794-b4b2-42f5-bcf9-8a918c40447d",
   "metadata": {},
   "source": [
    "See how well the `connects_ferc1_eia` table predicts back-fillable values"
   ]
  },
  {
   "cell_type": "code",
   "execution_count": null,
   "id": "24bc6b08-22dd-4f9d-87c7-c8fd8b430284",
   "metadata": {
    "tags": []
   },
   "outputs": [],
   "source": [
    "# # For the override plants, how often are the other records of the same ferc id matched?\n",
    "\n",
    "# override_ferc_ids = (\n",
    "#     connects_ferc1_eia[connects_ferc1_eia['match_type'].isin(['overridden', 'correct_prediction'])]\n",
    "#     .dropna(subset=['plant_id_ferc1'])\n",
    "# )\n",
    "\n",
    "# override_ferc_ids.assign(test=lambda x: tt(x.record_id_eia))\n",
    "\n",
    "\n",
    "\n",
    "# # this only works because there are no duplicate plant_id_ferc1 values that are overrides\n",
    "# override_dict = dict(zip(override_ferc_ids['plant_id_ferc1'], override_ferc_ids['record_id_eia']))\n"
   ]
  },
  {
   "cell_type": "code",
   "execution_count": null,
   "id": "79c798d3-2288-4721-baa2-d7f30c292ea9",
   "metadata": {},
   "outputs": [],
   "source": [
    "li"
   ]
  },
  {
   "cell_type": "code",
   "execution_count": null,
   "id": "9694464e-9a04-4331-8424-3584e5a69f9b",
   "metadata": {
    "tags": []
   },
   "outputs": [],
   "source": [
    "# #def check(df, ferc_id):\n",
    "# df = connects_ferc1_eia\n",
    "\n",
    "# for ferc_id, eia_id in override_dict.items():\n",
    "#     ferc_id_view = df[\n",
    "#         (df['plant_id_ferc1']==ferc_id)\n",
    "#         & (~df['match_type'].isin(['overridden', 'correct_prediction']))]\n",
    "\n",
    "#     total_records = len(ferc_id_view)\n",
    "#     total_records_notna = len(ferc_id_view[ferc_id_view['record_id_eia'].notna()])\n",
    "#     pct_matched = total_records_notna / total_records * 100\n",
    "\n",
    "#     total_correct_matches = len(ferc_id_view[ferc_id_view['record_id_eia']==eia_id])\n",
    "#     pct_correct_match = total_correct_matches / total_records * 100\n",
    "#     pct_correct_of_matches = total_correct_matches / total_records_notna * 100\n",
    "    \n",
    "#     print(ferc_id)\n",
    "#     print(f\"total records: {total_records}\")\n",
    "#     print(f\"PCT MATCHED: {pct_matched}\")\n",
    "#     print(f\"PCT CORRECT: {pct_correct_match}\")\n",
    "#     print(f\"PCT OF MATCHES CORRECT: {pct_correct_of_matches}\")\n",
    "#     print(\"\\n\")"
   ]
  },
  {
   "cell_type": "code",
   "execution_count": 435,
   "id": "392ad366-4d31-4525-8356-c9e6cd8f485e",
   "metadata": {},
   "outputs": [],
   "source": [
    "#use appro_record_id_eia field!"
   ]
  },
  {
   "cell_type": "markdown",
   "id": "a7b91a54-531b-4fc1-8995-ba18ea8de0db",
   "metadata": {},
   "source": [
    "### Compare CG and AS MUL"
   ]
  },
  {
   "cell_type": "code",
   "execution_count": null,
   "id": "33a51644-9204-4a0c-9495-40305f3f93da",
   "metadata": {
    "jupyter": {
     "source_hidden": true
    },
    "tags": []
   },
   "outputs": [],
   "source": [
    "import pickle\n",
    "\n",
    "file_path = '/Users/aesharpe/Desktop/master_unit_list.pkl'\n",
    "\n",
    "with open(file_path, 'rb') as handle:\n",
    "    mul_test = pickle.load(handle)"
   ]
  },
  {
   "cell_type": "code",
   "execution_count": 196,
   "id": "77a37c29-9ed4-40ff-8eba-6b1a6d9c8bb2",
   "metadata": {},
   "outputs": [],
   "source": [
    "import pickle\n",
    "\n",
    "with open('/Users/aesharpe/Desktop/why_63.pkl', 'rb') as handle:\n",
    "    why_63 = pickle.load(handle)\n",
    "    \n",
    "why_63 = why_63.iloc[:, :8]"
   ]
  },
  {
   "cell_type": "code",
   "execution_count": 199,
   "id": "bf9f3116-d268-4d68-ba10-5f70f58b4dad",
   "metadata": {},
   "outputs": [],
   "source": [
    "gens = pudl_out.gens_eia860()\n",
    "why_65 = gens[gens['utility_id_eia'].isna()].iloc[:, :8]"
   ]
  },
  {
   "cell_type": "code",
   "execution_count": 202,
   "id": "db87c90b-0f6d-4c6b-99aa-a8f5fd48474c",
   "metadata": {},
   "outputs": [
    {
     "data": {
      "text/html": [
       "<div>\n",
       "<style scoped>\n",
       "    .dataframe tbody tr th:only-of-type {\n",
       "        vertical-align: middle;\n",
       "    }\n",
       "\n",
       "    .dataframe tbody tr th {\n",
       "        vertical-align: top;\n",
       "    }\n",
       "\n",
       "    .dataframe thead th {\n",
       "        text-align: right;\n",
       "    }\n",
       "</style>\n",
       "<table border=\"1\" class=\"dataframe\">\n",
       "  <thead>\n",
       "    <tr style=\"text-align: right;\">\n",
       "      <th></th>\n",
       "      <th>report_date</th>\n",
       "      <th>plant_id_eia</th>\n",
       "      <th>plant_id_pudl</th>\n",
       "      <th>plant_name_eia</th>\n",
       "      <th>utility_id_eia</th>\n",
       "      <th>utility_id_pudl</th>\n",
       "      <th>utility_name_eia</th>\n",
       "      <th>generator_id</th>\n",
       "      <th>_merge</th>\n",
       "    </tr>\n",
       "  </thead>\n",
       "  <tbody>\n",
       "    <tr>\n",
       "      <th>63</th>\n",
       "      <td>2008-01-01</td>\n",
       "      <td>10682</td>\n",
       "      <td>3345</td>\n",
       "      <td>Colorado Power Partners</td>\n",
       "      <td>&lt;NA&gt;</td>\n",
       "      <td>1296</td>\n",
       "      <td>Colorado Energy Management</td>\n",
       "      <td>ST</td>\n",
       "      <td>right_only</td>\n",
       "    </tr>\n",
       "    <tr>\n",
       "      <th>64</th>\n",
       "      <td>2008-01-01</td>\n",
       "      <td>55320</td>\n",
       "      <td>4501</td>\n",
       "      <td>Wise County Power LP</td>\n",
       "      <td>&lt;NA&gt;</td>\n",
       "      <td>3797</td>\n",
       "      <td>Wise County Power Co., LP</td>\n",
       "      <td>GT3</td>\n",
       "      <td>right_only</td>\n",
       "    </tr>\n",
       "    <tr>\n",
       "      <th>65</th>\n",
       "      <td>2009-01-01</td>\n",
       "      <td>675</td>\n",
       "      <td>1556</td>\n",
       "      <td>Larsen Memorial</td>\n",
       "      <td>&lt;NA&gt;</td>\n",
       "      <td>1063</td>\n",
       "      <td>Lakeland City of</td>\n",
       "      <td>7</td>\n",
       "      <td>right_only</td>\n",
       "    </tr>\n",
       "    <tr>\n",
       "      <th>66</th>\n",
       "      <td>2009-01-01</td>\n",
       "      <td>10682</td>\n",
       "      <td>3345</td>\n",
       "      <td>Colorado Power Partners</td>\n",
       "      <td>&lt;NA&gt;</td>\n",
       "      <td>1296</td>\n",
       "      <td>Colorado Energy Management</td>\n",
       "      <td>ST</td>\n",
       "      <td>right_only</td>\n",
       "    </tr>\n",
       "    <tr>\n",
       "      <th>67</th>\n",
       "      <td>2009-01-01</td>\n",
       "      <td>50274</td>\n",
       "      <td>3563</td>\n",
       "      <td>Simplot Leasing Don Plant</td>\n",
       "      <td>&lt;NA&gt;</td>\n",
       "      <td>3173</td>\n",
       "      <td>Simplot Leasing Corp</td>\n",
       "      <td>1</td>\n",
       "      <td>right_only</td>\n",
       "    </tr>\n",
       "  </tbody>\n",
       "</table>\n",
       "</div>"
      ],
      "text/plain": [
       "   report_date  plant_id_eia plant_id_pudl             plant_name_eia  \\\n",
       "63  2008-01-01         10682          3345    Colorado Power Partners   \n",
       "64  2008-01-01         55320          4501       Wise County Power LP   \n",
       "65  2009-01-01           675          1556            Larsen Memorial   \n",
       "66  2009-01-01         10682          3345    Colorado Power Partners   \n",
       "67  2009-01-01         50274          3563  Simplot Leasing Don Plant   \n",
       "\n",
       "   utility_id_eia utility_id_pudl            utility_name_eia generator_id  \\\n",
       "63           <NA>            1296  Colorado Energy Management           ST   \n",
       "64           <NA>            3797   Wise County Power Co., LP          GT3   \n",
       "65           <NA>            1063            Lakeland City of            7   \n",
       "66           <NA>            1296  Colorado Energy Management           ST   \n",
       "67           <NA>            3173        Simplot Leasing Corp            1   \n",
       "\n",
       "        _merge  \n",
       "63  right_only  \n",
       "64  right_only  \n",
       "65  right_only  \n",
       "66  right_only  \n",
       "67  right_only  "
      ]
     },
     "execution_count": 202,
     "metadata": {},
     "output_type": "execute_result"
    }
   ],
   "source": [
    "why_63.merge(why_65, how = 'outer' ,indicator=True).loc[lambda x : x['_merge']=='right_only'].head()"
   ]
  },
  {
   "cell_type": "code",
   "execution_count": 203,
   "id": "833da7ee-cb59-471a-aab5-f3ddd988e436",
   "metadata": {},
   "outputs": [
    {
     "data": {
      "text/html": [
       "<div>\n",
       "<style scoped>\n",
       "    .dataframe tbody tr th:only-of-type {\n",
       "        vertical-align: middle;\n",
       "    }\n",
       "\n",
       "    .dataframe tbody tr th {\n",
       "        vertical-align: top;\n",
       "    }\n",
       "\n",
       "    .dataframe thead th {\n",
       "        text-align: right;\n",
       "    }\n",
       "</style>\n",
       "<table border=\"1\" class=\"dataframe\">\n",
       "  <thead>\n",
       "    <tr style=\"text-align: right;\">\n",
       "      <th></th>\n",
       "      <th>report_date</th>\n",
       "      <th>plant_id_eia</th>\n",
       "      <th>plant_id_pudl</th>\n",
       "      <th>plant_name_eia</th>\n",
       "      <th>utility_id_eia</th>\n",
       "      <th>utility_id_pudl</th>\n",
       "      <th>utility_name_eia</th>\n",
       "      <th>generator_id</th>\n",
       "      <th>_merge</th>\n",
       "    </tr>\n",
       "  </thead>\n",
       "  <tbody>\n",
       "    <tr>\n",
       "      <th>0</th>\n",
       "      <td>2009-01-01</td>\n",
       "      <td>675</td>\n",
       "      <td>1562</td>\n",
       "      <td>Larsen Memorial</td>\n",
       "      <td>&lt;NA&gt;</td>\n",
       "      <td>1063</td>\n",
       "      <td>Lakeland City of</td>\n",
       "      <td>7</td>\n",
       "      <td>left_only</td>\n",
       "    </tr>\n",
       "    <tr>\n",
       "      <th>1</th>\n",
       "      <td>2009-01-01</td>\n",
       "      <td>10682</td>\n",
       "      <td>3355</td>\n",
       "      <td>Colorado Power Partners</td>\n",
       "      <td>&lt;NA&gt;</td>\n",
       "      <td>1296</td>\n",
       "      <td>Colorado Energy Management</td>\n",
       "      <td>ST</td>\n",
       "      <td>left_only</td>\n",
       "    </tr>\n",
       "    <tr>\n",
       "      <th>2</th>\n",
       "      <td>2009-01-01</td>\n",
       "      <td>50274</td>\n",
       "      <td>3573</td>\n",
       "      <td>Simplot Leasing Don Plant</td>\n",
       "      <td>&lt;NA&gt;</td>\n",
       "      <td>3173</td>\n",
       "      <td>Simplot Leasing Corp</td>\n",
       "      <td>1</td>\n",
       "      <td>left_only</td>\n",
       "    </tr>\n",
       "    <tr>\n",
       "      <th>3</th>\n",
       "      <td>2009-01-01</td>\n",
       "      <td>55320</td>\n",
       "      <td>4511</td>\n",
       "      <td>Wise County Power LP</td>\n",
       "      <td>&lt;NA&gt;</td>\n",
       "      <td>3797</td>\n",
       "      <td>Wise County Power Co., LP</td>\n",
       "      <td>GT3</td>\n",
       "      <td>left_only</td>\n",
       "    </tr>\n",
       "    <tr>\n",
       "      <th>5</th>\n",
       "      <td>2010-01-01</td>\n",
       "      <td>675</td>\n",
       "      <td>1562</td>\n",
       "      <td>Larsen Memorial</td>\n",
       "      <td>&lt;NA&gt;</td>\n",
       "      <td>1063</td>\n",
       "      <td>Lakeland City of</td>\n",
       "      <td>7</td>\n",
       "      <td>left_only</td>\n",
       "    </tr>\n",
       "  </tbody>\n",
       "</table>\n",
       "</div>"
      ],
      "text/plain": [
       "  report_date  plant_id_eia plant_id_pudl             plant_name_eia  \\\n",
       "0  2009-01-01           675          1562            Larsen Memorial   \n",
       "1  2009-01-01         10682          3355    Colorado Power Partners   \n",
       "2  2009-01-01         50274          3573  Simplot Leasing Don Plant   \n",
       "3  2009-01-01         55320          4511       Wise County Power LP   \n",
       "5  2010-01-01           675          1562            Larsen Memorial   \n",
       "\n",
       "  utility_id_eia utility_id_pudl            utility_name_eia generator_id  \\\n",
       "0           <NA>            1063            Lakeland City of            7   \n",
       "1           <NA>            1296  Colorado Energy Management           ST   \n",
       "2           <NA>            3173        Simplot Leasing Corp            1   \n",
       "3           <NA>            3797   Wise County Power Co., LP          GT3   \n",
       "5           <NA>            1063            Lakeland City of            7   \n",
       "\n",
       "      _merge  \n",
       "0  left_only  \n",
       "1  left_only  \n",
       "2  left_only  \n",
       "3  left_only  \n",
       "5  left_only  "
      ]
     },
     "execution_count": 203,
     "metadata": {},
     "output_type": "execute_result"
    }
   ],
   "source": [
    "why_63.merge(why_65, how = 'outer' ,indicator=True).loc[lambda x : x['_merge']=='left_only'].head()"
   ]
  },
  {
   "cell_type": "code",
   "execution_count": 204,
   "id": "adc9554f-8ce6-4888-a98a-b29e24a4f4af",
   "metadata": {},
   "outputs": [
    {
     "data": {
      "text/html": [
       "<div>\n",
       "<style scoped>\n",
       "    .dataframe tbody tr th:only-of-type {\n",
       "        vertical-align: middle;\n",
       "    }\n",
       "\n",
       "    .dataframe tbody tr th {\n",
       "        vertical-align: top;\n",
       "    }\n",
       "\n",
       "    .dataframe thead th {\n",
       "        text-align: right;\n",
       "    }\n",
       "</style>\n",
       "<table border=\"1\" class=\"dataframe\">\n",
       "  <thead>\n",
       "    <tr style=\"text-align: right;\">\n",
       "      <th></th>\n",
       "      <th>report_date</th>\n",
       "      <th>plant_id_eia</th>\n",
       "      <th>plant_id_pudl</th>\n",
       "      <th>plant_name_eia</th>\n",
       "      <th>utility_id_eia</th>\n",
       "      <th>utility_id_pudl</th>\n",
       "      <th>utility_name_eia</th>\n",
       "      <th>generator_id</th>\n",
       "    </tr>\n",
       "  </thead>\n",
       "  <tbody>\n",
       "    <tr>\n",
       "      <th>288670</th>\n",
       "      <td>2009-01-01</td>\n",
       "      <td>10682</td>\n",
       "      <td>3355</td>\n",
       "      <td>Colorado Power Partners</td>\n",
       "      <td>&lt;NA&gt;</td>\n",
       "      <td>1296</td>\n",
       "      <td>Colorado Energy Management</td>\n",
       "      <td>ST</td>\n",
       "    </tr>\n",
       "  </tbody>\n",
       "</table>\n",
       "</div>"
      ],
      "text/plain": [
       "       report_date  plant_id_eia  plant_id_pudl           plant_name_eia  \\\n",
       "288670  2009-01-01         10682           3355  Colorado Power Partners   \n",
       "\n",
       "        utility_id_eia  utility_id_pudl            utility_name_eia  \\\n",
       "288670            <NA>             1296  Colorado Energy Management   \n",
       "\n",
       "       generator_id  \n",
       "288670           ST  "
      ]
     },
     "execution_count": 204,
     "metadata": {},
     "output_type": "execute_result"
    }
   ],
   "source": [
    "why_63[why_63['plant_name_eia']=='Colorado Power Partners']"
   ]
  },
  {
   "cell_type": "code",
   "execution_count": null,
   "id": "29b6dd3a-115c-43e5-921f-7ce8a6f5dbc5",
   "metadata": {},
   "outputs": [],
   "source": []
  }
 ],
 "metadata": {
  "kernelspec": {
   "display_name": "Python 3 (ipykernel)",
   "language": "python",
   "name": "python3"
  },
  "language_info": {
   "codemirror_mode": {
    "name": "ipython",
    "version": 3
   },
   "file_extension": ".py",
   "mimetype": "text/x-python",
   "name": "python",
   "nbconvert_exporter": "python",
   "pygments_lexer": "ipython3",
   "version": "3.9.6"
  }
 },
 "nbformat": 4,
 "nbformat_minor": 5
}
