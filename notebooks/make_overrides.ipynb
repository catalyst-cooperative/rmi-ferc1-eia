{
 "cells": [
  {
   "cell_type": "markdown",
   "id": "60e4e969-b223-42f1-b6ff-2708d59f6d55",
   "metadata": {},
   "source": [
    "# Add Overrides to Train FERC-EIA Connecter"
   ]
  },
  {
   "cell_type": "markdown",
   "id": "664bb535-386b-4700-9b5f-5223e1f78159",
   "metadata": {},
   "source": [
    "This notebook is intended to help with adding overrides to the FERC-EIA connection csv. Adding new connections will fill in gaps and improve the program's ability to predict other matches. To begin this process, you'll need to look at *two* spreadsheets:\n",
    "\n",
    "1) **The current FERC-EIA connection:** to look for good, bad, and empty links between FERC and EIA records\n",
    "2) **The Master Unit List:** to confirm or disprove those connections\n",
    "\n",
    "Downloading both files in their entirety will overwhelm excel, so we need to make our edits in segments. This notebook will help you:\n",
    "\n",
    "1) **Download useful utility-based segments of each table for review**\n",
    "2) **Update the old training data**"
   ]
  },
  {
   "cell_type": "markdown",
   "id": "7eb51ca5-0953-47af-b2c9-8220f50dac27",
   "metadata": {},
   "source": [
    "## Edit Inputs"
   ]
  },
  {
   "cell_type": "markdown",
   "id": "b1b00eb6-e9dd-4be3-b148-7e78d747353d",
   "metadata": {},
   "source": [
    "It's time to choose what kind of data you'd like to wrangle first. We'll only download data from a specific subset of utilities and years if you say so. If you're not sure which PUDL IDs refer to which utilities, scroll down to section 1.3."
   ]
  },
  {
   "cell_type": "code",
   "execution_count": 81,
   "id": "6a34d5a7-2cfe-43a9-82ad-a12ed0c137d6",
   "metadata": {},
   "outputs": [],
   "source": [
    "# This can be 'largest' or a list of pudl ids, ex: [1, 2, 3]\n",
    "specified_utilities = 'largest' \n",
    "\n",
    "# You can change this to any integer. This represents the number of utilities you'd like\n",
    "# to review (only applies when specified_utilities='largest').\n",
    "specified_amount = 2 \n",
    "\n",
    "# This can be 'all' or a list of any years within the FERC data, ex: [2006, 2007]\n",
    "# These are the years you would like to consider fixing AND the years you would like to \n",
    "# consider for detmining largest capacity (the latter is only used when `utilities = largest`.\n",
    "specified_years = [2018] "
   ]
  },
  {
   "cell_type": "markdown",
   "id": "37379d51-bdcc-4c58-9258-2f9a1cec6d6d",
   "metadata": {},
   "source": [
    "## Verify Connections\n",
    "When you un-comment and run the following function, you'll find two new csvs in the output directory that were created based on the inputs specified above. Read the Instruction Manual to learn how to begin fixing/verifying the FERC-EIA connections.\n",
    "\n",
    "**Warning:** Running this funcion will REPLACE any override tools you currently have saved (unless you have changed their name). DO NOT run this function if you are in the middle of working on one of the output files."
   ]
  },
  {
   "cell_type": "code",
   "execution_count": 82,
   "id": "cff3f2c9-8047-41a5-9705-27770013609b",
   "metadata": {},
   "outputs": [],
   "source": [
    "# output_override_tools(\n",
    "#     check_connections, \n",
    "#     mul, \n",
    "#     utilties=specified_utilities,\n",
    "#     amount=specified_amount,\n",
    "#     year=specified_years\n",
    "# )"
   ]
  },
  {
   "cell_type": "markdown",
   "id": "2d7d2122-cdd1-4556-b042-a84158b87a7e",
   "metadata": {},
   "source": [
    "## Upload Changes\n",
    "When you've finished editing the `ferc_eia_util_subset.csv` and want to add your changes to the official override csv, you can uncomment and run the following function:"
   ]
  },
  {
   "cell_type": "code",
   "execution_count": 83,
   "id": "67cf36d9-f3b8-4427-b0b6-89ddaf39a58f",
   "metadata": {},
   "outputs": [],
   "source": [
    "#training_data_out.to_csv(training_path)"
   ]
  },
  {
   "cell_type": "markdown",
   "id": "7d91751c-6a55-43f3-92b0-990492257c22",
   "metadata": {},
   "source": [
    "----------"
   ]
  },
  {
   "cell_type": "markdown",
   "id": "fdbac85a-d676-40f1-b9ef-52cc043080d9",
   "metadata": {},
   "source": [
    "## Notebook Setup"
   ]
  },
  {
   "cell_type": "code",
   "execution_count": 84,
   "id": "4b8709a4-db92-4e34-9251-263fd5f466e8",
   "metadata": {
    "jupyter": {
     "source_hidden": true
    },
    "tags": []
   },
   "outputs": [
    {
     "name": "stdout",
     "output_type": "stream",
     "text": [
      "The autoreload extension is already loaded. To reload it, use:\n",
      "  %reload_ext autoreload\n"
     ]
    }
   ],
   "source": [
    "%load_ext autoreload\n",
    "%autoreload 2"
   ]
  },
  {
   "cell_type": "code",
   "execution_count": 85,
   "id": "49f835e3-7283-4123-a1a0-f9d6770dfb02",
   "metadata": {
    "jupyter": {
     "source_hidden": true
    },
    "tags": []
   },
   "outputs": [],
   "source": [
    "import pandas as pd\n",
    "import numpy as np\n",
    "import pudl\n",
    "import pudl.constants as pc\n",
    "import pudl.extract.ferc1\n",
    "import sqlalchemy as sa\n",
    "import logging\n",
    "import sys\n",
    "import copy\n",
    "from copy import deepcopy\n",
    "import scipy\n",
    "import statistics\n",
    "import yaml\n",
    "\n",
    "import recordlinkage as rl\n",
    "import warnings\n",
    "warnings.filterwarnings('ignore')\n",
    "\n",
    "import matplotlib.pyplot as plt\n",
    "import matplotlib as mpl\n",
    "%matplotlib inline"
   ]
  },
  {
   "cell_type": "code",
   "execution_count": 86,
   "id": "8bcf303f-2891-4354-9a6e-422b4ae9d6af",
   "metadata": {
    "jupyter": {
     "source_hidden": true
    },
    "tags": []
   },
   "outputs": [],
   "source": [
    "logger = logging.getLogger()\n",
    "logger.setLevel(logging.INFO)\n",
    "handler = logging.StreamHandler(stream=sys.stdout)\n",
    "formatter = logging.Formatter('%(message)s')\n",
    "handler.setFormatter(formatter)\n",
    "logger.handlers = [handler]"
   ]
  },
  {
   "cell_type": "code",
   "execution_count": 87,
   "id": "b43187cb-98c4-4044-ad97-362f3046f1d8",
   "metadata": {
    "jupyter": {
     "source_hidden": true
    },
    "tags": []
   },
   "outputs": [],
   "source": [
    "sys.path.append(\"../\")\n",
    "from pudl.output.ferc1 import *\n",
    "from pudl_rmi.connect_ferc1_to_eia import *\n",
    "from pudl_rmi.make_plant_parts_eia import *\n",
    "import pudl_rmi.connect_ferc1_to_eia\n",
    "pudl_settings = pudl.workspace.setup.get_defaults()\n",
    "pudl_engine = sa.create_engine(pudl_settings[\"pudl_db\"])\n",
    "ferc_engine = sa.create_engine(pudl_settings['ferc1_db'])\n",
    "pd.options.display.max_columns = None"
   ]
  },
  {
   "cell_type": "code",
   "execution_count": 88,
   "id": "0fa1c031-9a7d-4d00-b019-1469d14d7306",
   "metadata": {
    "jupyter": {
     "source_hidden": true
    },
    "tags": []
   },
   "outputs": [],
   "source": [
    "relevant_cols_ferc_eia = [\n",
    "    'record_id_ferc1',\n",
    "    'record_id_eia',\n",
    "    'true_gran',\n",
    "    'report_year',\n",
    "    'match_type',\n",
    "    'plant_part',\n",
    "    'ownership',\n",
    "    'utility_id_pudl_eia',\n",
    "    'utility_name_ferc1',\n",
    "    'plant_id_pudl_eia',\n",
    "    'unit_id_pudl',\n",
    "    'generator_id',\n",
    "    'plant_name_eia',\n",
    "    'plant_name_ferc1',\n",
    "    'technology_description',\n",
    "    'energy_source_code_1',\n",
    "    'net_generation_mwh_eia',\n",
    "    'net_generation_mwh_ferc1',\n",
    "    'capacity_mw_eia',\n",
    "    'capacity_mw_ferc1',\n",
    "    'total_fuel_cost_eia',\n",
    "    'total_fuel_cost_ferc1',\n",
    "    'installation_year',\n",
    "    'construction_year',\n",
    "]\n",
    "\n",
    "relevant_cols_mul = [\n",
    "    'record_id_eia',\n",
    "    'report_year',\n",
    "    'utility_id_pudl',\n",
    "    'utility_name_eia',\n",
    "    'fraction_owned',\n",
    "    'plant_id_eia',\n",
    "    'plant_name_new',\n",
    "    'generator_id',\n",
    "    'capacity_mw',\n",
    "    'capacity_factor',\n",
    "    'net_generation_mwh',\n",
    "    'installation_year',\n",
    "    'energy_source_code_1',\n",
    "    'technology_description',\n",
    "    'prime_mover_code',\n",
    "]"
   ]
  },
  {
   "cell_type": "markdown",
   "id": "d2478274-c04f-40e4-b940-33def9e47000",
   "metadata": {},
   "source": [
    "## **Part 1:** Generate Override Tools"
   ]
  },
  {
   "cell_type": "markdown",
   "id": "281260de-3fd4-48c5-85b6-8e3c3e8bc886",
   "metadata": {},
   "source": [
    "### 1.1 Get current FERC-EIA & MUL tables\n",
    "This is going to look a lot like the `connect_ferc1_to_eia.ipynb`."
   ]
  },
  {
   "cell_type": "code",
   "execution_count": 89,
   "id": "1f09b216-fec0-4312-adf0-119a20164651",
   "metadata": {
    "jupyter": {
     "source_hidden": true
    },
    "tags": []
   },
   "outputs": [],
   "source": [
    "file_path_training = pathlib.Path().cwd().parent /'inputs'/'train_ferc1_to_eia.csv'\n",
    "file_path_mul = pathlib.Path().cwd().parent /'outputs' /'master_unit_list.pkl.gz'\n",
    "# pudl output object for ferc data\n",
    "pudl_out = pudl.output.pudltabl.PudlTabl(pudl_engine, ferc_engine, freq='AS',fill_fuel_cost=True,roll_fuel_cost=True,fill_net_gen=False)"
   ]
  },
  {
   "cell_type": "code",
   "execution_count": 90,
   "id": "62f0f2e0-c152-41cb-af2e-2d34c01c3e2a",
   "metadata": {
    "collapsed": true,
    "jupyter": {
     "outputs_hidden": true,
     "source_hidden": true
    },
    "tags": []
   },
   "outputs": [
    {
     "name": "stdout",
     "output_type": "stream",
     "text": [
      "Preparing the FERC1 tables.\n",
      "loading steam table\n",
      "loading small gens table\n",
      "loading hydro table\n",
      "loading pumped storage table\n",
      "loading fbp table\n",
      "prepping steam table\n",
      "prepping hydro tables\n",
      "combining all tables\n",
      "Reading the master unit list from /Users/aesharpe/Desktop/Work/Catalyst_Coop/rmi-ferc1-eia/outputs/master_unit_list.pkl.gz\n",
      "Generated 136066 all candidate features.\n",
      "Generated 526 training candidate features.\n",
      "We are about to test hyper parameters of the model while doing k-fold cross validation. This takes a few minutes....\n",
      "Scores from the best model hyperparameters:\n",
      "  F-Score:   0.78\n",
      "  Precision: 0.85\n",
      "  Accuracy:  0.53\n",
      "Fit and predict a model w/ the highest scoring hyperparameters.\n",
      "Get the top scoring match for each FERC1 steam record.\n",
      "Winning match stats:\n",
      "        matches vs ferc:      64.98%\n",
      "        best match v ferc:    56.62%\n",
      "        best match vs matches:87.13%\n",
      "        murk vs matches:      4.60%\n",
      "        ties vs matches:      4.72%\n",
      "Overridden records:       13.0%\n",
      "New best match v ferc:    56.94%\n"
     ]
    }
   ],
   "source": [
    "inputs = InputManager(file_path_training, file_path_mul, pudl_out)\n",
    "features_all = (Features(feature_type='all', inputs=inputs)\n",
    "                .get_features(clobber=False))\n",
    "features_train = (Features(feature_type='training', inputs=inputs)\n",
    "                  .get_features(clobber=False))\n",
    "tuner = ModelTuner(features_train, inputs.get_train_index(), n_splits=10)\n",
    "\n",
    "matcher = MatchManager(best=tuner.get_best_fit_model(), inputs=inputs)\n",
    "matches_best = matcher.get_best_matches(features_train, features_all)"
   ]
  },
  {
   "cell_type": "code",
   "execution_count": null,
   "id": "fdf0304b-20fb-4a20-ba2d-3d4d0e37bda6",
   "metadata": {
    "tags": []
   },
   "outputs": [],
   "source": [
    "connects_ferc1_eia = (\n",
    "    prettyify_best_matches(\n",
    "        matches_best, \n",
    "        plant_parts_true_df=inputs.plant_parts_true_df,\n",
    "        steam_df=inputs.all_plants_ferc1_df)\n",
    "    [relevant_cols_ferc_eia].copy()\n",
    ")"
   ]
  },
  {
   "cell_type": "code",
   "execution_count": null,
   "id": "0d3c0a6a-73cf-41d5-a276-360679d5f7c4",
   "metadata": {
    "tags": []
   },
   "outputs": [],
   "source": [
    "mul = (\n",
    "    make_plant_parts_eia.get_master_unit_list_eia(file_path_mul)\n",
    "    .reset_index()[relevant_cols_mul]\n",
    "    .copy()\n",
    ")"
   ]
  },
  {
   "cell_type": "markdown",
   "id": "2ea42d47-995c-4b88-b082-24c87ea1be3a",
   "metadata": {},
   "source": [
    "### 1.2 Get the portion of FERC-EIA subject to review"
   ]
  },
  {
   "cell_type": "markdown",
   "id": "dbe263a5-4c0a-439f-b031-48724c076f00",
   "metadata": {},
   "source": [
    "Here we will exclude the correctly mapped records. The `match_type` column in the `connects_ferc1_eia` table indicates the status of the match. We'll use that to sort for the records we are less sure about--i.e. the ones that aren't already in the override csv. We'll also limit the columns in the output file to those that will be useful for analysing match correctness.\n",
    "\n",
    "**Match Types:**\n",
    "\n",
    "* `prediction`: prediction based on the training data.\n",
    "* `correct_prediction`: prediction based on training data that matches record in the training data.\n",
    "* `no prediction; training`: not filled in by the prediction algorythem but filled in by the training data.\n",
    "* `overridden`: incorrectly filled in my prediction algorythem and corrected by training data.\n",
    "* `NaN`: not filled in by the training data or the prediction algorythem. "
   ]
  },
  {
   "cell_type": "code",
   "execution_count": null,
   "id": "ddd0b2d1-3538-4e5e-8152-4d22c42caf18",
   "metadata": {},
   "outputs": [],
   "source": [
    "connects_ferc1_eia.match_type.value_counts(dropna=False)"
   ]
  },
  {
   "cell_type": "code",
   "execution_count": null,
   "id": "7f780a96-8ea9-4504-ba42-a7c8bfe5f9d6",
   "metadata": {},
   "outputs": [],
   "source": [
    "# Grab the FERC-EIA connections that are either predictions based on the taining\n",
    "# data or have not been filled.\n",
    "\n",
    "check_connections = (\n",
    "    connects_ferc1_eia[connects_ferc1_eia['match_type'].isin(\n",
    "        [np.nan, 'prediction'])].copy()\n",
    ")\n",
    "\n",
    "# Add a column to tell whether it's a good match\n",
    "check_connections.insert(0, \"is_correct_match\", np.nan)"
   ]
  },
  {
   "cell_type": "markdown",
   "id": "0145008b-4f9b-4420-bd42-d9f22d0adb21",
   "metadata": {},
   "source": [
    "### 1.3 Get and output utility subsets for editing"
   ]
  },
  {
   "cell_type": "markdown",
   "id": "cfcadb98-bd2f-41d9-b93d-d04ae3d309c6",
   "metadata": {},
   "source": [
    "Not sure which PUDL ID you need? Use this cell to search for them by name:"
   ]
  },
  {
   "cell_type": "code",
   "execution_count": null,
   "id": "e31b829f-c604-4cd9-af5d-3af6361cedd4",
   "metadata": {},
   "outputs": [],
   "source": [
    "util_name_string = 'alabama' # edit this, must be lower case\n",
    "\n",
    "utils = (\n",
    "    pudl_out.utils_eia860()[['utility_id_pudl', 'utility_id_eia', 'utility_name_eia']]\n",
    "    .drop_duplicates()\n",
    "    .dropna(subset=['utility_name_eia', 'utility_id_pudl'])\n",
    "    .assign(utility_name_eia=lambda x: x.utility_name_eia.str.lower())\n",
    ")\n",
    "utils[utils['utility_name_eia'].str.contains(f\"{util_name_string}\")]"
   ]
  },
  {
   "cell_type": "code",
   "execution_count": null,
   "id": "69ba0a19-7a9d-48bc-beac-e11439b132a6",
   "metadata": {
    "jupyter": {
     "source_hidden": true
    },
    "tags": []
   },
   "outputs": [],
   "source": [
    "def prep_inputs(check_connections_df, utilities='largest', amount=5, years='all'):\n",
    "    \n",
    "        all_plants_ferc1 = pudl_out.all_plants_ferc1().copy()\n",
    "        max_year = all_plants_ferc1.report_year.max()\n",
    "        min_year = all_plants_ferc1.report_year.min()\n",
    "\n",
    "        if years != 'all':\n",
    "            assert type(years) == list, \"years must be reported as a list if not 'all'\"\n",
    "            assert len([year for year in years if year in range(min_year, max_year)]) == len(years), \\\n",
    "                \"years must be 'all' or a valid year integer within the bounds of FERC reporting years\"\n",
    "        if years == 'all':\n",
    "            years = range(min_year, max_year+1)\n",
    "            \n",
    "        check_years = check_connections_df[check_connections_df['report_year'].isin(years)]\n",
    "        \n",
    "        if utilities == 'largest':\n",
    "            logger.info(f\"getting pudl ids for the top {amount} largest utilities\")\n",
    "            utilities = (\n",
    "                check_years\n",
    "                .groupby(['utility_id_pudl_eia', 'utility_name_ferc1'])['capacity_mw_ferc1']\n",
    "                .sum()\n",
    "                .reset_index()\n",
    "                .sort_values('capacity_mw_ferc1', ascending=False)\n",
    "                .head(amount)\n",
    "                .utility_id_pudl_eia\n",
    "                .tolist()\n",
    "            )\n",
    "        else:\n",
    "            assert type(utilities) == list, \"if not 'largest', utilities must be presented as a list of PUDL IDs\"\n",
    "            \n",
    "        return utilities, years"
   ]
  },
  {
   "cell_type": "code",
   "execution_count": null,
   "id": "c1dc8a28-45a7-4c8c-b81a-b73c18aaf85f",
   "metadata": {
    "jupyter": {
     "source_hidden": true
    },
    "tags": []
   },
   "outputs": [],
   "source": [
    "def get_ferc_eia_utilities_subset(check_connections_df, utilities, years):\n",
    "    logger.info(\"retreiving the ferc-eia connection for the given utilities\")\n",
    "    check_years = check_connections_df[check_connections_df['report_year'].isin(years)]\n",
    "    util_output = check_years[check_years['utility_id_pudl_eia'].isin(utilities)].copy()\n",
    "    return util_output\n",
    "    \n",
    "def get_mul_subset(mul, utilities, years):\n",
    "    logger.info(\"retreiving the MUL for the given utilities\")\n",
    "    mul_years = mul[mul['report_year'].isin(years)]\n",
    "    mul_years[mul_years['utility_id_pudl'].isin(utilities)]\n",
    "    return mul_years"
   ]
  },
  {
   "cell_type": "code",
   "execution_count": null,
   "id": "df2a5417-5234-493b-8ae7-3b4862e18614",
   "metadata": {
    "jupyter": {
     "source_hidden": true
    },
    "tags": []
   },
   "outputs": [],
   "source": [
    "def output_override_tools(check_connections_df, mul, utilities='largest', amount=5, years='all'):\n",
    "    \n",
    "    utilities, years = prep_inputs(check_connections_df, utilities, amount, years)\n",
    "    ferc_eia_util_subset = get_ferc_eia_utilities_subset(check_connections_df, utilities, years)\n",
    "    mul_util_subset = get_mul_subset(mul, utilities, years)\n",
    "    \n",
    "    ferc_eia_path = pathlib.Path().cwd().parent / 'outputs' / 'ferc_eia_util_subset.csv'\n",
    "    mul_path = pathlib.Path().cwd().parent / 'outputs' / 'mul_util_subset.csv'\n",
    "    \n",
    "    assert len(mul_util_subset) < 1000000, \"Your MUL subset is more than a million rows...this is going to break excel. \\\n",
    "        Try entering a smaller utility or year subset\"\n",
    "    \n",
    "    logger.info(\"outputing files to csv\")\n",
    "    ferc_eia_util_subset.to_csv(ferc_eia_path)\n",
    "    mul_util_subset.to_csv(mul_path)\n",
    "    \n",
    "    #return ferc_eia_util_subset, mul_util_subset"
   ]
  },
  {
   "cell_type": "markdown",
   "id": "a83bd814-1746-43e1-ac6c-45853143c6b9",
   "metadata": {},
   "source": [
    "## **Part 2:** Re-incorporating Matched Records"
   ]
  },
  {
   "cell_type": "markdown",
   "id": "4a1ef398-6dec-4d3e-9e6a-ac850a39e6a7",
   "metadata": {},
   "source": [
    "Now that you've marked the correctly matched records as `TRUE`, we'll want to incorporate those into the perminant override list. All you have to do is save the `ferc_eia_util_subset.csv` file and run the following cells:"
   ]
  },
  {
   "cell_type": "markdown",
   "id": "7d5a5c89-fbe9-40bb-adf0-2eea59c82369",
   "metadata": {},
   "source": [
    "### 2.1 Update training data"
   ]
  },
  {
   "cell_type": "code",
   "execution_count": null,
   "id": "226b40f3-9942-4254-938e-56f57c0584e4",
   "metadata": {
    "tags": []
   },
   "outputs": [],
   "source": [
    "ferc_eia_path = pathlib.Path().cwd().parent / 'outputs' / 'ferc_eia_util_subset.csv'\n",
    "training_path = pathlib.Path().cwd().parent / 'inputs' / 'train_ferc1_to_eia.csv'\n",
    "\n",
    "validated_connections = (\n",
    "    pd.read_csv(ferc_eia_path)\n",
    "    .assign(is_correct_match=lambda x: x.is_correct_match.replace({'TRUE':True, np.nan: False}))\n",
    ")\n",
    "\n",
    "training_data = pd.read_csv(training_path)"
   ]
  },
  {
   "cell_type": "code",
   "execution_count": null,
   "id": "9c134c6b-d210-4665-99f2-5ae320532f08",
   "metadata": {
    "tags": []
   },
   "outputs": [],
   "source": [
    "# Make sure that there are no rouge descriptions in the is_correct_match field (besides TRUE)\n",
    "match_language = validated_connections.is_correct_match.unique()\n",
    "assert len(outliers:=[x for x in match_language if x not in [True, False]]) == 0, \\\n",
    "    f\"All correct matchs must be marked TRUE; found {outliers}\"\n",
    "\n",
    "# Make it a boolean column\n",
    "validated_connections.loc[:, \"is_correct_match\"] = (\n",
    "    validated_connections.is_correct_match.astype('bool'))\n",
    "\n",
    "# Get TRUE records\n",
    "true_connections = validated_connections[validated_connections['is_correct_match']]\n",
    "\n",
    "# Make sure that the eia and ferc ids haven't been tampered with\n",
    "assert len(bad_eia := [x for x in true_connections.record_id_eia.unique()\n",
    "                    if x not in connects_ferc1_eia.record_id_eia.unique()]) == 0, \\\n",
    "    f\"Found record_id_eia values that aren't in the existing FERC-EIA connection: {bad_eia}\"\n",
    "assert len(bad_ferc := [x for x in true_connections.record_id_ferc1.unique()\n",
    "                    if x not in connects_ferc1_eia.record_id_ferc1.unique()]) == 0, \\\n",
    "    f\"Found record_id_ferc1 values that aren't in the existing FERC-EIA connection: {bad_ferc}\"\n",
    "\n",
    "# Make sure that these aren't already in the overrides (this should be impossible, but just in case)\n",
    "assert len(bad_eia := [x for x in true_connections.record_id_eia.unique()\n",
    "                    if x in training_data.record_id_eia.unique()]) == 0, \\\n",
    "    f\"Found record_id_eia values that are already in the existing FERC-EIA connection: {bad_eia}\"\n",
    "assert len(bad_ferc := [x for x in true_connections.record_id_ferc1.unique()\n",
    "                    if x in training_data.record_id_ferc1.unique()]) == 0, \\\n",
    "    f\"Found record_id_ferc1 values that are already in the existing FERC-EIA connection: {bad_ferc}\""
   ]
  },
  {
   "cell_type": "code",
   "execution_count": null,
   "id": "3d738d9c-8d33-45e0-a4dd-9f9ed9a1404f",
   "metadata": {},
   "outputs": [],
   "source": [
    "training_data_out = (\n",
    "    training_data.append(true_connections[['record_id_eia', 'record_id_ferc1']])\n",
    "    .set_index(['record_id_eia', 'record_id_ferc1'])\n",
    ")"
   ]
  },
  {
   "cell_type": "markdown",
   "id": "5fa73ed2-dfb1-47e8-bad7-14945b4944ae",
   "metadata": {},
   "source": [
    "### 2.2 Export udated data"
   ]
  },
  {
   "cell_type": "markdown",
   "id": "9dcc225c-b4dd-4154-8b29-402d95ccc27a",
   "metadata": {},
   "source": [
    "Don't run this until you're ready! -- See top of the notebook"
   ]
  },
  {
   "cell_type": "code",
   "execution_count": null,
   "id": "55101ff0-7b8a-42d1-bd53-9ab07dc8b881",
   "metadata": {},
   "outputs": [],
   "source": []
  }
 ],
 "metadata": {
  "kernelspec": {
   "display_name": "Python 3",
   "language": "python",
   "name": "python3"
  },
  "language_info": {
   "codemirror_mode": {
    "name": "ipython",
    "version": 3
   },
   "file_extension": ".py",
   "mimetype": "text/x-python",
   "name": "python",
   "nbconvert_exporter": "python",
   "pygments_lexer": "ipython3",
   "version": "3.9.4"
  }
 },
 "nbformat": 4,
 "nbformat_minor": 5
}
