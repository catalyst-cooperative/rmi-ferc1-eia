{
 "cells": [
  {
   "cell_type": "markdown",
   "id": "60e4e969-b223-42f1-b6ff-2708d59f6d55",
   "metadata": {},
   "source": [
    "# Add Overrides to Train FERC-EIA Connecter"
   ]
  },
  {
   "cell_type": "markdown",
   "id": "664bb535-386b-4700-9b5f-5223e1f78159",
   "metadata": {},
   "source": [
    "The FERC-EIA record linkage process requries training data in order to work properly. Training matches also serve as overrides. This notebook helps you check whether the machine learning algroythem did a good job of matching FERC and EIA records. If you find a good match (or you correct a bad match), this process will turn it into training data.\n",
    "\n",
    "This notebook has two purposes: \n",
    "\n",
    "1) [**Output override tools to verify connection between EIA and FERC1**](#verify-tools)\n",
    "2) [**Upload changes to training data**](#upload-overrides)"
   ]
  },
  {
   "cell_type": "markdown",
   "id": "0b9dfc83-558e-49ee-b437-20710b869d02",
   "metadata": {
    "tags": []
   },
   "source": [
    "## Settings"
   ]
  },
  {
   "cell_type": "code",
   "execution_count": 1,
   "id": "5f4f84b5-0a0e-4b44-8043-d451d5842c8f",
   "metadata": {},
   "outputs": [],
   "source": [
    "%load_ext autoreload\n",
    "%autoreload 2"
   ]
  },
  {
   "cell_type": "code",
   "execution_count": 2,
   "id": "dedd1d11-d8a0-4a46-a91f-4d7e3955d844",
   "metadata": {
    "tags": []
   },
   "outputs": [],
   "source": [
    "import pudl_rmi\n",
    "from pudl_rmi.create_override_spreadsheets import *\n",
    "                                           \n",
    "import pudl\n",
    "import sqlalchemy as sa\n",
    "import logging\n",
    "import sys\n",
    "\n",
    "import warnings\n",
    "warnings.filterwarnings('ignore')\n",
    "\n",
    "logger = logging.getLogger()\n",
    "logger.setLevel(logging.DEBUG)\n",
    "handler = logging.StreamHandler(stream=sys.stdout)\n",
    "formatter = logging.Formatter('%(message)s')\n",
    "handler.setFormatter(formatter)\n",
    "logger.handlers = [handler]\n",
    "\n",
    "pudl_settings = pudl.workspace.setup.get_defaults()\n",
    "pudl_engine = sa.create_engine(pudl_settings[\"pudl_db\"])\n",
    "pudl_out = pudl.output.pudltabl.PudlTabl(pudl_engine, freq='AS',fill_fuel_cost=True,roll_fuel_cost=True,fill_net_gen=True)\n",
    "rmi_out = pudl_rmi.coordinate.Output(pudl_out)"
   ]
  },
  {
   "cell_type": "code",
   "execution_count": 12,
   "id": "6a1faba5-83b4-48ba-af1e-3aa529122872",
   "metadata": {
    "collapsed": true,
    "jupyter": {
     "outputs_hidden": true
    },
    "tags": []
   },
   "outputs": [
    {
     "name": "stdout",
     "output_type": "stream",
     "text": [
      "FERC to EIA granular connection not found at /Users/aesharpe/Desktop/Work/Catalyst_Coop/Repos/rmi-ferc1-eia/outputs/ferc1_eia.pkl.gz... Generating a new output.\n",
      "Reading the plant part list from /Users/aesharpe/Desktop/Work/Catalyst_Coop/Repos/rmi-ferc1-eia/outputs/plant_parts_eia.pkl.gz\n",
      "Preparing the FERC1 tables.\n",
      "loading steam table\n",
      "loading small gens table\n",
      "loading hydro table\n",
      "loading pumped storage table\n",
      "prepping steam table\n",
      "prepping hydro tables\n",
      "combining all tables\n",
      "Generated 168541 all candidate features.\n"
     ]
    },
    {
     "ename": "AssertionError",
     "evalue": "Not all training data is associated with EIA records.\nrecord_id_ferc1's of bad training data records are: ['f1_gnrt_plant_2008_12_108_0_5', 'f1_gnrt_plant_2009_12_108_0_5', 'f1_gnrt_plant_2010_12_108_0_5', 'f1_gnrt_plant_2011_12_108_0_4', 'f1_gnrt_plant_2012_12_108_0_4', 'f1_gnrt_plant_2013_12_108_0_4', 'f1_gnrt_plant_2014_12_108_0_4', 'f1_gnrt_plant_2015_12_108_0_4', 'f1_gnrt_plant_2016_12_108_0_4', 'f1_gnrt_plant_2017_12_108_0_4', 'f1_gnrt_plant_2018_12_108_0_4', 'f1_gnrt_plant_2019_12_108_0_4', 'f1_gnrt_plant_2015_12_157_0_7', 'f1_gnrt_plant_2016_12_157_0_7', 'f1_gnrt_plant_2017_12_157_0_7', 'f1_hydro_2005_12_134_4_1', 'f1_gnrt_plant_2018_12_157_0_7', 'f1_gnrt_plant_2019_12_157_0_7', 'f1_steam_2005_12_134_3_4', 'f1_steam_2005_12_157_1_1', 'f1_steam_2005_12_157_0_4', 'f1_steam_2005_12_134_3_5', 'f1_steam_2005_12_108_1_3', 'f1_steam_2005_12_210_2_3', 'f1_gnrt_plant_2005_12_210_0_4', 'f1_hydro_2006_12_134_4_1', 'f1_gnrt_plant_2006_12_210_0_4', 'f1_gnrt_plant_2007_12_210_0_4', 'f1_steam_2006_12_134_3_4', 'f1_steam_2006_12_157_0_4', 'f1_steam_2007_12_157_0_4', 'f1_steam_2006_12_108_1_3', 'f1_steam_2006_12_210_2_3', 'f1_steam_2006_12_108_2_3', 'f1_gnrt_plant_2008_12_210_0_4', 'f1_gnrt_plant_2009_12_210_0_4', 'f1_gnrt_plant_2010_12_210_0_4', 'f1_gnrt_plant_2011_12_210_0_4', 'f1_gnrt_plant_2012_12_210_0_4', 'f1_gnrt_plant_2013_12_210_0_4', 'f1_gnrt_plant_2014_12_210_0_4', 'f1_gnrt_plant_2015_12_210_0_4', 'f1_gnrt_plant_2016_12_210_0_4', 'f1_gnrt_plant_2017_12_210_0_4', 'f1_gnrt_plant_2018_12_210_0_4', 'f1_gnrt_plant_2019_12_210_0_4', 'f1_gnrt_plant_2008_12_108_0_7', 'f1_gnrt_plant_2009_12_108_0_7', 'f1_gnrt_plant_2010_12_108_0_7', 'f1_gnrt_plant_2011_12_108_0_7', 'f1_gnrt_plant_2007_12_134_0_4', 'f1_gnrt_plant_2012_12_108_0_7', 'f1_gnrt_plant_2013_12_108_0_7', 'f1_hydro_2007_12_134_4_1', 'f1_gnrt_plant_2014_12_108_0_7', 'f1_gnrt_plant_2015_12_108_0_10', 'f1_steam_2007_12_134_3_4', 'f1_steam_2008_12_157_0_4', 'f1_steam_2009_12_157_0_4', 'f1_steam_2007_12_108_1_3', 'f1_steam_2007_12_108_2_3', 'f1_gnrt_plant_2016_12_108_0_10', 'f1_gnrt_plant_2017_12_108_0_10', 'f1_gnrt_plant_2018_12_108_0_10', 'f1_gnrt_plant_2019_12_108_0_10', 'f1_gnrt_plant_2005_12_157_0_9', 'f1_gnrt_plant_2006_12_157_0_9', 'f1_gnrt_plant_2007_12_157_0_9', 'f1_gnrt_plant_2008_12_157_0_9', 'f1_gnrt_plant_2009_12_157_0_6', 'f1_gnrt_plant_2007_12_157_0_21', 'f1_gnrt_plant_2008_12_157_0_20', 'f1_gnrt_plant_2009_12_157_0_16', 'f1_gnrt_plant_2010_12_157_0_7', 'f1_gnrt_plant_2011_12_157_0_7', 'f1_gnrt_plant_2012_12_157_0_5', 'f1_gnrt_plant_2013_12_157_0_5', 'f1_gnrt_plant_2014_12_157_0_5', 'f1_gnrt_plant_2005_12_157_0_21', 'f1_gnrt_plant_2006_12_157_0_21', 'f1_gnrt_plant_2008_12_108_0_1', 'f1_gnrt_plant_2009_12_108_0_1', 'f1_gnrt_plant_2010_12_108_0_1', 'f1_gnrt_plant_2008_12_157_0_6', 'f1_gnrt_plant_2008_12_157_0_4', 'f1_gnrt_plant_2011_12_108_0_1', 'f1_hydro_2008_12_134_4_1', 'f1_gnrt_plant_2012_12_108_0_1', 'f1_gnrt_plant_2013_12_108_0_1', 'f1_steam_2008_12_134_3_4', 'f1_steam_2010_12_157_0_3', 'f1_steam_2016_12_157_0_3', 'f1_steam_2008_12_108_1_3', 'f1_steam_2008_12_108_2_3', 'f1_steam_2008_12_108_2_5', 'f1_gnrt_plant_2014_12_108_0_1', 'f1_gnrt_plant_2015_12_108_0_1', 'f1_gnrt_plant_2016_12_108_0_1', 'f1_gnrt_plant_2017_12_108_0_1', 'f1_gnrt_plant_2018_12_108_0_1', 'f1_gnrt_plant_2019_12_108_0_1', 'f1_gnrt_plant_2015_12_108_0_6', 'f1_gnrt_plant_2016_12_108_0_6', 'f1_gnrt_plant_2017_12_108_0_6', 'f1_gnrt_plant_2018_12_108_0_6', 'f1_gnrt_plant_2019_12_108_0_6', 'f1_gnrt_plant_2008_12_108_0_4', 'f1_gnrt_plant_2009_12_108_0_4', 'f1_gnrt_plant_2010_12_108_0_4', 'f1_gnrt_plant_2011_12_108_0_3', 'f1_gnrt_plant_2012_12_108_0_3', 'f1_gnrt_plant_2013_12_108_0_3', 'f1_gnrt_plant_2014_12_108_0_3', 'f1_gnrt_plant_2015_12_108_0_3', 'f1_gnrt_plant_2016_12_108_0_3', 'f1_gnrt_plant_2017_12_108_0_3', 'f1_gnrt_plant_2018_12_108_0_3', 'f1_gnrt_plant_2019_12_108_0_3', 'f1_gnrt_plant_2008_12_108_0_2', 'f1_gnrt_plant_2009_12_157_0_4', 'f1_hydro_2009_12_134_4_1', 'f1_gnrt_plant_2009_12_108_0_2', 'f1_gnrt_plant_2010_12_108_0_2', 'f1_steam_2009_12_134_3_4', 'f1_gnrt_plant_2011_12_108_0_2', 'f1_steam_2017_12_157_0_3', 'f1_steam_2009_12_108_1_3', 'f1_steam_2009_12_108_2_3', 'f1_steam_2009_12_108_2_5', 'f1_gnrt_plant_2012_12_108_0_2', 'f1_gnrt_plant_2013_12_108_0_2', 'f1_gnrt_plant_2014_12_108_0_2', 'f1_gnrt_plant_2015_12_108_0_2', 'f1_gnrt_plant_2016_12_108_0_2', 'f1_gnrt_plant_2017_12_108_0_2', 'f1_gnrt_plant_2018_12_108_0_2', 'f1_gnrt_plant_2019_12_108_0_2', 'f1_gnrt_plant_2008_12_108_0_3', 'f1_gnrt_plant_2009_12_108_0_3', 'f1_gnrt_plant_2010_12_108_0_3', 'f1_gnrt_plant_2005_12_134_0_2', 'f1_gnrt_plant_2007_12_134_0_2', 'f1_gnrt_plant_2005_12_134_0_13', 'f1_gnrt_plant_2006_12_134_0_13', 'f1_gnrt_plant_2007_12_134_0_12', 'f1_gnrt_plant_2008_12_134_0_10', 'f1_gnrt_plant_2009_12_134_0_10', 'f1_gnrt_plant_2010_12_134_0_10', 'f1_gnrt_plant_2011_12_134_0_10', 'f1_gnrt_plant_2012_12_134_0_8', 'f1_gnrt_plant_2013_12_134_0_8', 'f1_gnrt_plant_2014_12_134_0_8', 'f1_hydro_2010_12_134_4_1', 'f1_gnrt_plant_2015_12_134_0_8', 'f1_gnrt_plant_2005_12_134_0_15', 'f1_steam_2010_12_134_3_4', 'f1_gnrt_plant_2006_12_134_0_15', 'f1_steam_2018_12_157_0_3', 'f1_steam_2010_12_108_1_3', 'f1_steam_2010_12_108_2_5', 'f1_gnrt_plant_2007_12_134_0_14', 'f1_gnrt_plant_2008_12_134_0_12', 'f1_gnrt_plant_2009_12_134_0_12', 'f1_gnrt_plant_2010_12_134_0_12', 'f1_gnrt_plant_2011_12_134_0_12', 'f1_gnrt_plant_2012_12_134_0_10', 'f1_gnrt_plant_2013_12_134_0_10', 'f1_gnrt_plant_2014_12_134_0_10', 'f1_gnrt_plant_2015_12_134_0_10', 'f1_gnrt_plant_2016_12_134_0_9', 'f1_gnrt_plant_2017_12_134_0_9', 'f1_gnrt_plant_2018_12_134_0_9', 'f1_gnrt_plant_2019_12_134_0_9', 'f1_gnrt_plant_2005_12_134_0_32', 'f1_gnrt_plant_2006_12_134_0_32', 'f1_gnrt_plant_2007_12_134_0_30', 'f1_gnrt_plant_2008_12_134_0_29', 'f1_gnrt_plant_2009_12_134_0_29', 'f1_gnrt_plant_2010_12_134_0_29', 'f1_gnrt_plant_2011_12_134_0_29', 'f1_gnrt_plant_2011_12_134_0_21', 'f1_gnrt_plant_2012_12_134_0_25', 'f1_gnrt_plant_2013_12_134_0_25', 'f1_hydro_2011_12_134_4_1', 'f1_gnrt_plant_2014_12_134_0_24', 'f1_gnrt_plant_2015_12_134_0_24', 'f1_gnrt_plant_2016_12_134_0_23', 'f1_steam_2019_12_157_0_3', 'f1_steam_2011_12_108_1_3', 'f1_steam_2011_12_108_2_5', 'f1_gnrt_plant_2017_12_134_0_23', 'f1_gnrt_plant_2018_12_134_0_23', 'f1_gnrt_plant_2019_12_134_0_23', 'f1_gnrt_plant_2005_12_134_0_37', 'f1_gnrt_plant_2006_12_134_0_37', 'f1_gnrt_plant_2007_12_134_0_35', 'f1_gnrt_plant_2008_12_134_0_34', 'f1_gnrt_plant_2009_12_134_0_34', 'f1_gnrt_plant_2010_12_134_0_34', 'f1_gnrt_plant_2011_12_134_0_34', 'f1_gnrt_plant_2012_12_134_0_30', 'f1_gnrt_plant_2013_12_134_0_30', 'f1_gnrt_plant_2014_12_134_0_29', 'f1_gnrt_plant_2015_12_134_0_29', 'f1_gnrt_plant_2016_12_134_0_28', 'f1_gnrt_plant_2017_12_134_0_28', 'f1_gnrt_plant_2018_12_134_0_28', 'f1_gnrt_plant_2019_12_134_0_28', 'f1_gnrt_plant_2005_12_134_0_34', 'f1_gnrt_plant_2006_12_134_0_34', 'f1_gnrt_plant_2007_12_134_0_32', 'f1_gnrt_plant_2008_12_134_0_31', 'f1_hydro_2012_12_134_4_1', 'f1_gnrt_plant_2009_12_134_0_31', 'f1_gnrt_plant_2010_12_134_0_31', 'f1_gnrt_plant_2011_12_134_0_31', 'f1_steam_2011_12_157_0_3', 'f1_gnrt_plant_2012_12_134_0_27', 'f1_steam_2012_12_108_1_3', 'f1_steam_2012_12_108_2_5', 'f1_gnrt_plant_2013_12_134_0_27', 'f1_gnrt_plant_2014_12_134_0_26', 'f1_gnrt_plant_2015_12_134_0_26', 'f1_gnrt_plant_2016_12_134_0_25', 'f1_gnrt_plant_2017_12_134_0_25', 'f1_gnrt_plant_2018_12_134_0_25', 'f1_gnrt_plant_2019_12_134_0_25', 'f1_gnrt_plant_2005_12_134_0_17', 'f1_gnrt_plant_2006_12_134_0_17', 'f1_gnrt_plant_2007_12_134_0_16', 'f1_gnrt_plant_2008_12_134_0_14', 'f1_gnrt_plant_2009_12_134_0_14', 'f1_gnrt_plant_2010_12_134_0_14', 'f1_gnrt_plant_2011_12_134_0_14', 'f1_gnrt_plant_2012_12_134_0_12', 'f1_gnrt_plant_2013_12_134_0_12', 'f1_gnrt_plant_2014_12_134_0_12', 'f1_gnrt_plant_2015_12_134_0_12', 'f1_gnrt_plant_2016_12_134_0_11', 'f1_gnrt_plant_2017_12_134_0_11', 'f1_gnrt_plant_2018_12_134_0_11', 'f1_gnrt_plant_2019_12_134_0_11', 'f1_gnrt_plant_2005_12_134_0_23', 'f1_hydro_2013_12_134_4_1', 'f1_gnrt_plant_2006_12_134_0_23', 'f1_gnrt_plant_2007_12_134_0_21', 'f1_steam_2012_12_157_0_3', 'f1_steam_2013_12_108_1_3', 'f1_steam_2013_12_108_2_5', 'f1_gnrt_plant_2008_12_134_0_20', 'f1_gnrt_plant_2009_12_134_0_20', 'f1_gnrt_plant_2010_12_134_0_20', 'f1_gnrt_plant_2011_12_134_0_20', 'f1_gnrt_plant_2012_12_134_0_17', 'f1_gnrt_plant_2013_12_134_0_17', 'f1_gnrt_plant_2014_12_134_0_17', 'f1_gnrt_plant_2015_12_134_0_17', 'f1_gnrt_plant_2016_12_134_0_16', 'f1_gnrt_plant_2017_12_134_0_16', 'f1_gnrt_plant_2018_12_134_0_16', 'f1_gnrt_plant_2019_12_134_0_16', 'f1_gnrt_plant_2005_12_134_0_26', 'f1_gnrt_plant_2006_12_134_0_26', 'f1_gnrt_plant_2007_12_134_0_24', 'f1_gnrt_plant_2008_12_134_0_23', 'f1_gnrt_plant_2009_12_134_0_23', 'f1_gnrt_plant_2010_12_134_0_23', 'f1_gnrt_plant_2011_12_134_0_23', 'f1_gnrt_plant_2012_12_134_0_19', 'f1_gnrt_plant_2013_12_134_0_19', 'f1_gnrt_plant_2005_12_134_0_33', 'f1_hydro_2014_12_134_4_1', 'f1_gnrt_plant_2006_12_134_0_33', 'f1_gnrt_plant_2007_12_134_0_31', 'f1_steam_2013_12_157_0_3', 'f1_steam_2014_12_108_1_2', 'f1_gnrt_plant_2008_12_134_0_30', 'f1_gnrt_plant_2009_12_134_0_30', 'f1_gnrt_plant_2010_12_134_0_30', 'f1_gnrt_plant_2011_12_134_0_30', 'f1_gnrt_plant_2012_12_134_0_26', 'f1_gnrt_plant_2013_12_134_0_26', 'f1_gnrt_plant_2014_12_134_0_25', 'f1_gnrt_plant_2015_12_134_0_25', 'f1_gnrt_plant_2016_12_134_0_24', 'f1_gnrt_plant_2017_12_134_0_24', 'f1_gnrt_plant_2018_12_134_0_24', 'f1_gnrt_plant_2019_12_134_0_24', 'f1_gnrt_plant_2005_12_134_0_27', 'f1_gnrt_plant_2006_12_134_0_27', 'f1_gnrt_plant_2007_12_134_0_25', 'f1_gnrt_plant_2008_12_134_0_24', 'f1_gnrt_plant_2009_12_134_0_24', 'f1_gnrt_plant_2010_12_134_0_24', 'f1_gnrt_plant_2011_12_134_0_24', 'f1_gnrt_plant_2012_12_134_0_20', 'f1_hydro_2015_12_134_4_1', 'f1_gnrt_plant_2013_12_134_0_20', 'f1_gnrt_plant_2014_12_134_0_19', 'f1_gnrt_plant_2015_12_134_0_19', 'f1_steam_2015_12_134_3_3', 'f1_gnrt_plant_2016_12_134_0_18', 'f1_steam_2014_12_157_0_3', 'f1_steam_2015_12_108_1_2', 'f1_gnrt_plant_2017_12_134_0_18', 'f1_gnrt_plant_2018_12_134_0_18', 'f1_gnrt_plant_2019_12_134_0_18', 'f1_gnrt_plant_2005_12_134_0_28', 'f1_gnrt_plant_2006_12_134_0_28', 'f1_gnrt_plant_2007_12_134_0_26', 'f1_gnrt_plant_2008_12_134_0_25', 'f1_gnrt_plant_2009_12_134_0_25', 'f1_gnrt_plant_2010_12_134_0_25', 'f1_gnrt_plant_2011_12_134_0_25', 'f1_gnrt_plant_2012_12_134_0_21', 'f1_gnrt_plant_2013_12_134_0_21', 'f1_gnrt_plant_2014_12_134_0_20', 'f1_gnrt_plant_2015_12_134_0_20', 'f1_gnrt_plant_2016_12_134_0_19', 'f1_gnrt_plant_2017_12_134_0_19', 'f1_gnrt_plant_2018_12_134_0_19', 'f1_gnrt_plant_2019_12_134_0_19', 'f1_gnrt_plant_2005_12_134_0_31', 'f1_gnrt_plant_2006_12_134_0_31', 'f1_gnrt_plant_2007_12_134_0_29', 'f1_gnrt_plant_2008_12_134_0_28', 'f1_gnrt_plant_2009_12_134_0_28', 'f1_steam_2015_12_157_0_3', 'f1_steam_2016_12_108_1_2', 'f1_gnrt_plant_2010_12_134_0_28', 'f1_gnrt_plant_2011_12_134_0_28', 'f1_gnrt_plant_2012_12_134_0_24', 'f1_gnrt_plant_2013_12_134_0_24', 'f1_gnrt_plant_2014_12_134_0_23', 'f1_gnrt_plant_2015_12_134_0_23', 'f1_gnrt_plant_2016_12_134_0_22', 'f1_gnrt_plant_2017_12_134_0_22', 'f1_gnrt_plant_2018_12_134_0_22', 'f1_gnrt_plant_2019_12_134_0_22', 'f1_gnrt_plant_2005_12_157_0_18', 'f1_gnrt_plant_2006_12_157_0_18', 'f1_gnrt_plant_2007_12_157_0_18', 'f1_gnrt_plant_2008_12_157_0_18', 'f1_gnrt_plant_2009_12_157_0_19', 'f1_gnrt_plant_2010_12_157_0_10', 'f1_gnrt_plant_2011_12_157_0_10', 'f1_gnrt_plant_2012_12_157_0_8', 'f1_gnrt_plant_2013_12_157_0_8', 'f1_gnrt_plant_2014_12_157_0_8', 'f1_gnrt_plant_2015_12_157_0_6', 'f1_gnrt_plant_2016_12_157_0_6', 'f1_gnrt_plant_2017_12_157_0_6', 'f1_steam_2006_12_134_3_5', 'f1_steam_2017_12_108_1_2', 'f1_gnrt_plant_2018_12_157_0_6', 'f1_gnrt_plant_2019_12_157_0_6', 'f1_gnrt_plant_2007_12_157_0_7', 'f1_gnrt_plant_2008_12_157_0_7', 'f1_gnrt_plant_2007_12_157_0_19', 'f1_gnrt_plant_2008_12_157_0_22', 'f1_gnrt_plant_2009_12_157_0_23', 'f1_gnrt_plant_2010_12_157_0_14', 'f1_gnrt_plant_2011_12_157_0_14', 'f1_gnrt_plant_2012_12_157_0_12', 'f1_gnrt_plant_2013_12_157_0_12', 'f1_gnrt_plant_2014_12_157_0_12', 'f1_gnrt_plant_2009_12_157_0_20', 'f1_gnrt_plant_2010_12_157_0_11', 'f1_gnrt_plant_2011_12_157_0_11', 'f1_gnrt_plant_2012_12_157_0_9', 'f1_gnrt_plant_2013_12_157_0_9', 'f1_gnrt_plant_2014_12_157_0_9', 'f1_gnrt_plant_2015_12_157_0_5', 'f1_gnrt_plant_2016_12_157_0_5', 'f1_gnrt_plant_2017_12_157_0_5', 'f1_gnrt_plant_2018_12_157_0_5', 'f1_gnrt_plant_2019_12_157_0_5', 'f1_steam_2007_12_134_3_5', 'f1_steam_2018_12_108_1_2', 'f1_gnrt_plant_2009_12_157_0_21', 'f1_gnrt_plant_2010_12_157_0_12', 'f1_gnrt_plant_2011_12_157_0_12', 'f1_gnrt_plant_2012_12_157_0_10', 'f1_gnrt_plant_2013_12_157_0_10', 'f1_gnrt_plant_2014_12_157_0_10', 'f1_gnrt_plant_2015_12_157_0_10', 'f1_gnrt_plant_2016_12_157_0_10', 'f1_gnrt_plant_2017_12_157_0_10', 'f1_gnrt_plant_2018_12_157_0_10', 'f1_gnrt_plant_2019_12_157_0_10', 'f1_gnrt_plant_2008_12_210_0_18', 'f1_gnrt_plant_2009_12_210_0_18', 'f1_gnrt_plant_2010_12_210_0_18', 'f1_gnrt_plant_2011_12_210_0_18', 'f1_gnrt_plant_2012_12_210_0_18', 'f1_gnrt_plant_2013_12_210_0_18', 'f1_gnrt_plant_2014_12_210_0_18', 'f1_gnrt_plant_2015_12_210_0_18', 'f1_gnrt_plant_2016_12_210_0_18', 'f1_gnrt_plant_2017_12_210_0_19', 'f1_gnrt_plant_2018_12_210_0_19', 'f1_gnrt_plant_2019_12_210_0_19', 'f1_gnrt_plant_2007_12_210_0_18', 'f1_steam_2008_12_134_3_5', 'f1_steam_2019_12_108_1_2']",
     "output_type": "error",
     "traceback": [
      "\u001b[0;31m---------------------------------------------------------------------------\u001b[0m",
      "\u001b[0;31mAssertionError\u001b[0m                            Traceback (most recent call last)",
      "Input \u001b[0;32mIn [12]\u001b[0m, in \u001b[0;36m<cell line: 1>\u001b[0;34m()\u001b[0m\n\u001b[0;32m----> 1\u001b[0m \u001b[43mrmi_out\u001b[49m\u001b[38;5;241;43m.\u001b[39;49m\u001b[43mgrab_ferc1_to_eia\u001b[49m\u001b[43m(\u001b[49m\u001b[43mclobber\u001b[49m\u001b[38;5;241;43m=\u001b[39;49m\u001b[38;5;28;43;01mTrue\u001b[39;49;00m\u001b[43m)\u001b[49m\n",
      "File \u001b[0;32m~/Desktop/Work/Catalyst_Coop/Repos/rmi-ferc1-eia/src/pudl_rmi/coordinate.py:160\u001b[0m, in \u001b[0;36mOutput.grab_ferc1_to_eia\u001b[0;34m(self, clobber, clobber_plant_part_list)\u001b[0m\n\u001b[1;32m    155\u001b[0m \u001b[38;5;28;01mif\u001b[39;00m \u001b[38;5;129;01mnot\u001b[39;00m file_path\u001b[38;5;241m.\u001b[39mexists() \u001b[38;5;129;01mor\u001b[39;00m clobber_any:\n\u001b[1;32m    156\u001b[0m     logger\u001b[38;5;241m.\u001b[39minfo(\n\u001b[1;32m    157\u001b[0m         \u001b[38;5;124mf\u001b[39m\u001b[38;5;124m\"\u001b[39m\u001b[38;5;124mFERC to EIA granular connection not found at \u001b[39m\u001b[38;5;132;01m{\u001b[39;00mfile_path\u001b[38;5;132;01m}\u001b[39;00m\u001b[38;5;124m... \u001b[39m\u001b[38;5;124m\"\u001b[39m\n\u001b[1;32m    158\u001b[0m         \u001b[38;5;124m\"\u001b[39m\u001b[38;5;124mGenerating a new output.\u001b[39m\u001b[38;5;124m\"\u001b[39m\n\u001b[1;32m    159\u001b[0m     )\n\u001b[0;32m--> 160\u001b[0m     connects_ferc1_eia \u001b[38;5;241m=\u001b[39m \u001b[43mpudl_rmi\u001b[49m\u001b[38;5;241;43m.\u001b[39;49m\u001b[43mconnect_ferc1_to_eia\u001b[49m\u001b[38;5;241;43m.\u001b[39;49m\u001b[43mexecute\u001b[49m\u001b[43m(\u001b[49m\n\u001b[1;32m    161\u001b[0m \u001b[43m        \u001b[49m\u001b[38;5;28;43mself\u001b[39;49m\u001b[38;5;241;43m.\u001b[39;49m\u001b[43mpudl_out\u001b[49m\u001b[43m,\u001b[49m\n\u001b[1;32m    162\u001b[0m \u001b[43m        \u001b[49m\u001b[38;5;28;43mself\u001b[39;49m\u001b[38;5;241;43m.\u001b[39;49m\u001b[43mgrab_plant_part_list\u001b[49m\u001b[43m(\u001b[49m\u001b[43mclobber\u001b[49m\u001b[38;5;241;43m=\u001b[39;49m\u001b[43mclobber_plant_part_list\u001b[49m\u001b[43m)\u001b[49m\n\u001b[1;32m    163\u001b[0m \u001b[43m    \u001b[49m\u001b[43m)\u001b[49m\n\u001b[1;32m    164\u001b[0m     \u001b[38;5;66;03m# export\u001b[39;00m\n\u001b[1;32m    165\u001b[0m     connects_ferc1_eia\u001b[38;5;241m.\u001b[39mto_pickle(file_path)\n",
      "File \u001b[0;32m~/Desktop/Work/Catalyst_Coop/Repos/rmi-ferc1-eia/src/pudl_rmi/connect_ferc1_to_eia.py:68\u001b[0m, in \u001b[0;36mexecute\u001b[0;34m(pudl_out, plant_parts_df)\u001b[0m\n\u001b[1;32m     63\u001b[0m inputs \u001b[38;5;241m=\u001b[39m InputManager(\n\u001b[1;32m     64\u001b[0m     pudl_rmi\u001b[38;5;241m.\u001b[39mTRAIN_FERC1_EIA_CSV, pudl_out, plant_parts_df\n\u001b[1;32m     65\u001b[0m )\n\u001b[1;32m     66\u001b[0m features_all \u001b[38;5;241m=\u001b[39m (Features(feature_type\u001b[38;5;241m=\u001b[39m\u001b[38;5;124m'\u001b[39m\u001b[38;5;124mall\u001b[39m\u001b[38;5;124m'\u001b[39m, inputs\u001b[38;5;241m=\u001b[39minputs)\n\u001b[1;32m     67\u001b[0m                 \u001b[38;5;241m.\u001b[39mget_features(clobber\u001b[38;5;241m=\u001b[39m\u001b[38;5;28;01mFalse\u001b[39;00m))\n\u001b[0;32m---> 68\u001b[0m features_train \u001b[38;5;241m=\u001b[39m (\u001b[43mFeatures\u001b[49m\u001b[43m(\u001b[49m\u001b[43mfeature_type\u001b[49m\u001b[38;5;241;43m=\u001b[39;49m\u001b[38;5;124;43m'\u001b[39;49m\u001b[38;5;124;43mtraining\u001b[39;49m\u001b[38;5;124;43m'\u001b[39;49m\u001b[43m,\u001b[49m\u001b[43m \u001b[49m\u001b[43minputs\u001b[49m\u001b[38;5;241;43m=\u001b[39;49m\u001b[43minputs\u001b[49m\u001b[43m)\u001b[49m\n\u001b[1;32m     69\u001b[0m \u001b[43m                  \u001b[49m\u001b[38;5;241;43m.\u001b[39;49m\u001b[43mget_features\u001b[49m\u001b[43m(\u001b[49m\u001b[43mclobber\u001b[49m\u001b[38;5;241;43m=\u001b[39;49m\u001b[38;5;28;43;01mFalse\u001b[39;49;00m\u001b[43m)\u001b[49m)\n\u001b[1;32m     70\u001b[0m tuner \u001b[38;5;241m=\u001b[39m ModelTuner(features_train, inputs\u001b[38;5;241m.\u001b[39mget_train_index(), n_splits\u001b[38;5;241m=\u001b[39m\u001b[38;5;241m10\u001b[39m)\n\u001b[1;32m     72\u001b[0m matcher \u001b[38;5;241m=\u001b[39m MatchManager(best\u001b[38;5;241m=\u001b[39mtuner\u001b[38;5;241m.\u001b[39mget_best_fit_model(), inputs\u001b[38;5;241m=\u001b[39minputs)\n",
      "File \u001b[0;32m~/Desktop/Work/Catalyst_Coop/Repos/rmi-ferc1-eia/src/pudl_rmi/connect_ferc1_to_eia.py:422\u001b[0m, in \u001b[0;36mFeatures.get_features\u001b[0;34m(self, clobber)\u001b[0m\n\u001b[1;32m    419\u001b[0m \u001b[38;5;66;03m# generate feature matrixes for known/training data\u001b[39;00m\n\u001b[1;32m    420\u001b[0m \u001b[38;5;28;01mif\u001b[39;00m clobber \u001b[38;5;129;01mor\u001b[39;00m \u001b[38;5;28mself\u001b[39m\u001b[38;5;241m.\u001b[39mfeatures_df \u001b[38;5;129;01mis\u001b[39;00m \u001b[38;5;28;01mNone\u001b[39;00m:\n\u001b[1;32m    421\u001b[0m     \u001b[38;5;28mself\u001b[39m\u001b[38;5;241m.\u001b[39mfeatures_df \u001b[38;5;241m=\u001b[39m \u001b[38;5;28mself\u001b[39m\u001b[38;5;241m.\u001b[39mmake_features(\n\u001b[0;32m--> 422\u001b[0m         ferc1_df\u001b[38;5;241m=\u001b[39m\u001b[38;5;28;43mself\u001b[39;49m\u001b[38;5;241;43m.\u001b[39;49m\u001b[43minput_dict\u001b[49m\u001b[43m[\u001b[49m\u001b[38;5;28;43mself\u001b[39;49m\u001b[38;5;241;43m.\u001b[39;49m\u001b[43mfeature_type\u001b[49m\u001b[43m]\u001b[49m\u001b[43m[\u001b[49m\u001b[38;5;124;43m'\u001b[39;49m\u001b[38;5;124;43mferc1_df\u001b[39;49m\u001b[38;5;124;43m'\u001b[39;49m\u001b[43m]\u001b[49m\u001b[43m(\u001b[49m\u001b[43m)\u001b[49m,\n\u001b[1;32m    423\u001b[0m         eia_df\u001b[38;5;241m=\u001b[39m\u001b[38;5;28mself\u001b[39m\u001b[38;5;241m.\u001b[39minput_dict[\u001b[38;5;28mself\u001b[39m\u001b[38;5;241m.\u001b[39mfeature_type][\u001b[38;5;124m'\u001b[39m\u001b[38;5;124meia_df\u001b[39m\u001b[38;5;124m'\u001b[39m](),\n\u001b[1;32m    424\u001b[0m         block_col\u001b[38;5;241m=\u001b[39m\u001b[38;5;124m'\u001b[39m\u001b[38;5;124mplant_id_report_year_util_id\u001b[39m\u001b[38;5;124m'\u001b[39m)\n\u001b[1;32m    425\u001b[0m     logger\u001b[38;5;241m.\u001b[39minfo(\n\u001b[1;32m    426\u001b[0m         \u001b[38;5;124mf\u001b[39m\u001b[38;5;124m\"\u001b[39m\u001b[38;5;124mGenerated \u001b[39m\u001b[38;5;132;01m{\u001b[39;00m\u001b[38;5;28mlen\u001b[39m(\u001b[38;5;28mself\u001b[39m\u001b[38;5;241m.\u001b[39mfeatures_df)\u001b[38;5;132;01m}\u001b[39;00m\u001b[38;5;124m \u001b[39m\u001b[38;5;132;01m{\u001b[39;00m\u001b[38;5;28mself\u001b[39m\u001b[38;5;241m.\u001b[39mfeature_type\u001b[38;5;132;01m}\u001b[39;00m\u001b[38;5;124m \u001b[39m\u001b[38;5;124m\"\u001b[39m\n\u001b[1;32m    427\u001b[0m         \u001b[38;5;124m\"\u001b[39m\u001b[38;5;124mcandidate features.\u001b[39m\u001b[38;5;124m\"\u001b[39m)\n\u001b[1;32m    428\u001b[0m \u001b[38;5;28;01mreturn\u001b[39;00m \u001b[38;5;28mself\u001b[39m\u001b[38;5;241m.\u001b[39mfeatures_df\n",
      "File \u001b[0;32m~/Desktop/Work/Catalyst_Coop/Repos/rmi-ferc1-eia/src/pudl_rmi/connect_ferc1_to_eia.py:293\u001b[0m, in \u001b[0;36mInputManager.get_train_ferc1\u001b[0;34m(self, clobber)\u001b[0m\n\u001b[1;32m    291\u001b[0m \u001b[38;5;124;03m\"\"\"Get the known training data from FERC1.\"\"\"\u001b[39;00m\n\u001b[1;32m    292\u001b[0m \u001b[38;5;28;01mif\u001b[39;00m clobber \u001b[38;5;129;01mor\u001b[39;00m \u001b[38;5;28mself\u001b[39m\u001b[38;5;241m.\u001b[39mplants_ferc1_train_df \u001b[38;5;129;01mis\u001b[39;00m \u001b[38;5;28;01mNone\u001b[39;00m:\n\u001b[0;32m--> 293\u001b[0m     \u001b[38;5;28mself\u001b[39m\u001b[38;5;241m.\u001b[39mplants_ferc1_train_df \u001b[38;5;241m=\u001b[39m \u001b[38;5;28;43mself\u001b[39;49m\u001b[38;5;241;43m.\u001b[39;49m\u001b[43mget_train_records\u001b[49m\u001b[43m(\u001b[49m\n\u001b[1;32m    294\u001b[0m \u001b[43m        \u001b[49m\u001b[38;5;28;43mself\u001b[39;49m\u001b[38;5;241;43m.\u001b[39;49m\u001b[43mget_all_ferc1\u001b[49m\u001b[43m(\u001b[49m\u001b[43m)\u001b[49m\u001b[43m,\u001b[49m\n\u001b[1;32m    295\u001b[0m \u001b[43m        \u001b[49m\u001b[43mdataset_id_col\u001b[49m\u001b[38;5;241;43m=\u001b[39;49m\u001b[38;5;124;43m'\u001b[39;49m\u001b[38;5;124;43mrecord_id_ferc1\u001b[39;49m\u001b[38;5;124;43m'\u001b[39;49m\u001b[43m)\u001b[49m\n\u001b[1;32m    296\u001b[0m \u001b[38;5;28;01mreturn\u001b[39;00m \u001b[38;5;28mself\u001b[39m\u001b[38;5;241m.\u001b[39mplants_ferc1_train_df\n",
      "File \u001b[0;32m~/Desktop/Work/Catalyst_Coop/Repos/rmi-ferc1-eia/src/pudl_rmi/connect_ferc1_to_eia.py:268\u001b[0m, in \u001b[0;36mInputManager.get_train_records\u001b[0;34m(self, dataset_df, dataset_id_col)\u001b[0m\n\u001b[1;32m    251\u001b[0m \u001b[38;5;28;01mdef\u001b[39;00m \u001b[38;5;21mget_train_records\u001b[39m(\u001b[38;5;28mself\u001b[39m, dataset_df, dataset_id_col):\n\u001b[1;32m    252\u001b[0m     \u001b[38;5;124;03m\"\"\"\u001b[39;00m\n\u001b[1;32m    253\u001b[0m \u001b[38;5;124;03m    Generate a set of known connections from a dataset using training data.\u001b[39;00m\n\u001b[1;32m    254\u001b[0m \n\u001b[0;32m   (...)\u001b[0m\n\u001b[1;32m    264\u001b[0m \n\u001b[1;32m    265\u001b[0m \u001b[38;5;124;03m    \"\"\"\u001b[39;00m\n\u001b[1;32m    266\u001b[0m     known_df \u001b[38;5;241m=\u001b[39m (\n\u001b[1;32m    267\u001b[0m         pd\u001b[38;5;241m.\u001b[39mmerge(dataset_df,\n\u001b[0;32m--> 268\u001b[0m                  \u001b[38;5;28;43mself\u001b[39;49m\u001b[38;5;241;43m.\u001b[39;49m\u001b[43mprep_train_connections\u001b[49m\u001b[43m(\u001b[49m\u001b[43m)\u001b[49m\u001b[38;5;241m.\u001b[39mreset_index()[\n\u001b[1;32m    269\u001b[0m                      [dataset_id_col]],\n\u001b[1;32m    270\u001b[0m                  left_index\u001b[38;5;241m=\u001b[39m\u001b[38;5;28;01mTrue\u001b[39;00m,\n\u001b[1;32m    271\u001b[0m                  right_on\u001b[38;5;241m=\u001b[39m[dataset_id_col]\n\u001b[1;32m    272\u001b[0m                  )\n\u001b[1;32m    273\u001b[0m         \u001b[38;5;241m.\u001b[39mdrop_duplicates(subset\u001b[38;5;241m=\u001b[39m[dataset_id_col])\n\u001b[1;32m    274\u001b[0m         \u001b[38;5;241m.\u001b[39mset_index(dataset_id_col)\n\u001b[1;32m    275\u001b[0m         \u001b[38;5;241m.\u001b[39mastype({\u001b[38;5;124m'\u001b[39m\u001b[38;5;124mtotal_fuel_cost\u001b[39m\u001b[38;5;124m'\u001b[39m: \u001b[38;5;28mfloat\u001b[39m,\n\u001b[1;32m    276\u001b[0m                  \u001b[38;5;124m'\u001b[39m\u001b[38;5;124mtotal_mmbtu\u001b[39m\u001b[38;5;124m'\u001b[39m: \u001b[38;5;28mfloat\u001b[39m})\n\u001b[1;32m    277\u001b[0m     )\n\u001b[1;32m    278\u001b[0m     \u001b[38;5;28;01mreturn\u001b[39;00m known_df\n",
      "File \u001b[0;32m~/Desktop/Work/Catalyst_Coop/Repos/rmi-ferc1-eia/src/pudl_rmi/connect_ferc1_to_eia.py:179\u001b[0m, in \u001b[0;36mInputManager.prep_train_connections\u001b[0;34m(self, clobber)\u001b[0m\n\u001b[1;32m    177\u001b[0m     \u001b[38;5;28;01mif\u001b[39;00m \u001b[38;5;28mlen\u001b[39m(not_in_ppf) \u001b[38;5;241m>\u001b[39m \u001b[38;5;241m12\u001b[39m:\n\u001b[1;32m    178\u001b[0m         \u001b[38;5;28mself\u001b[39m\u001b[38;5;241m.\u001b[39mnot_in_ppf \u001b[38;5;241m=\u001b[39m not_in_ppf\n\u001b[0;32m--> 179\u001b[0m         \u001b[38;5;28;01mraise\u001b[39;00m \u001b[38;5;167;01mAssertionError\u001b[39;00m(\n\u001b[1;32m    180\u001b[0m             \u001b[38;5;124m\"\u001b[39m\u001b[38;5;124mNot all training data is associated with EIA records.\u001b[39m\u001b[38;5;130;01m\\n\u001b[39;00m\u001b[38;5;124m\"\u001b[39m\n\u001b[1;32m    181\u001b[0m             \u001b[38;5;124m\"\u001b[39m\u001b[38;5;124mrecord_id_ferc1\u001b[39m\u001b[38;5;124m'\u001b[39m\u001b[38;5;124ms of bad training data records are: \u001b[39m\u001b[38;5;124m\"\u001b[39m\n\u001b[1;32m    182\u001b[0m             \u001b[38;5;124mf\u001b[39m\u001b[38;5;124m\"\u001b[39m\u001b[38;5;132;01m{\u001b[39;00m\u001b[38;5;28mlist\u001b[39m(not_in_ppf\u001b[38;5;241m.\u001b[39mreset_index()\u001b[38;5;241m.\u001b[39mrecord_id_ferc1)\u001b[38;5;132;01m}\u001b[39;00m\u001b[38;5;124m\"\u001b[39m\n\u001b[1;32m    183\u001b[0m         )\n\u001b[1;32m    184\u001b[0m     \u001b[38;5;28mself\u001b[39m\u001b[38;5;241m.\u001b[39mtrain_df \u001b[38;5;241m=\u001b[39m \u001b[38;5;28mself\u001b[39m\u001b[38;5;241m.\u001b[39mtrain_df\u001b[38;5;241m.\u001b[39mdrop(columns\u001b[38;5;241m=\u001b[39mmul_cols \u001b[38;5;241m+\u001b[39m [\u001b[38;5;124m'\u001b[39m\u001b[38;5;124m_merge\u001b[39m\u001b[38;5;124m'\u001b[39m])\n\u001b[1;32m    185\u001b[0m \u001b[38;5;28;01mreturn\u001b[39;00m \u001b[38;5;28mself\u001b[39m\u001b[38;5;241m.\u001b[39mtrain_df\n",
      "\u001b[0;31mAssertionError\u001b[0m: Not all training data is associated with EIA records.\nrecord_id_ferc1's of bad training data records are: ['f1_gnrt_plant_2008_12_108_0_5', 'f1_gnrt_plant_2009_12_108_0_5', 'f1_gnrt_plant_2010_12_108_0_5', 'f1_gnrt_plant_2011_12_108_0_4', 'f1_gnrt_plant_2012_12_108_0_4', 'f1_gnrt_plant_2013_12_108_0_4', 'f1_gnrt_plant_2014_12_108_0_4', 'f1_gnrt_plant_2015_12_108_0_4', 'f1_gnrt_plant_2016_12_108_0_4', 'f1_gnrt_plant_2017_12_108_0_4', 'f1_gnrt_plant_2018_12_108_0_4', 'f1_gnrt_plant_2019_12_108_0_4', 'f1_gnrt_plant_2015_12_157_0_7', 'f1_gnrt_plant_2016_12_157_0_7', 'f1_gnrt_plant_2017_12_157_0_7', 'f1_hydro_2005_12_134_4_1', 'f1_gnrt_plant_2018_12_157_0_7', 'f1_gnrt_plant_2019_12_157_0_7', 'f1_steam_2005_12_134_3_4', 'f1_steam_2005_12_157_1_1', 'f1_steam_2005_12_157_0_4', 'f1_steam_2005_12_134_3_5', 'f1_steam_2005_12_108_1_3', 'f1_steam_2005_12_210_2_3', 'f1_gnrt_plant_2005_12_210_0_4', 'f1_hydro_2006_12_134_4_1', 'f1_gnrt_plant_2006_12_210_0_4', 'f1_gnrt_plant_2007_12_210_0_4', 'f1_steam_2006_12_134_3_4', 'f1_steam_2006_12_157_0_4', 'f1_steam_2007_12_157_0_4', 'f1_steam_2006_12_108_1_3', 'f1_steam_2006_12_210_2_3', 'f1_steam_2006_12_108_2_3', 'f1_gnrt_plant_2008_12_210_0_4', 'f1_gnrt_plant_2009_12_210_0_4', 'f1_gnrt_plant_2010_12_210_0_4', 'f1_gnrt_plant_2011_12_210_0_4', 'f1_gnrt_plant_2012_12_210_0_4', 'f1_gnrt_plant_2013_12_210_0_4', 'f1_gnrt_plant_2014_12_210_0_4', 'f1_gnrt_plant_2015_12_210_0_4', 'f1_gnrt_plant_2016_12_210_0_4', 'f1_gnrt_plant_2017_12_210_0_4', 'f1_gnrt_plant_2018_12_210_0_4', 'f1_gnrt_plant_2019_12_210_0_4', 'f1_gnrt_plant_2008_12_108_0_7', 'f1_gnrt_plant_2009_12_108_0_7', 'f1_gnrt_plant_2010_12_108_0_7', 'f1_gnrt_plant_2011_12_108_0_7', 'f1_gnrt_plant_2007_12_134_0_4', 'f1_gnrt_plant_2012_12_108_0_7', 'f1_gnrt_plant_2013_12_108_0_7', 'f1_hydro_2007_12_134_4_1', 'f1_gnrt_plant_2014_12_108_0_7', 'f1_gnrt_plant_2015_12_108_0_10', 'f1_steam_2007_12_134_3_4', 'f1_steam_2008_12_157_0_4', 'f1_steam_2009_12_157_0_4', 'f1_steam_2007_12_108_1_3', 'f1_steam_2007_12_108_2_3', 'f1_gnrt_plant_2016_12_108_0_10', 'f1_gnrt_plant_2017_12_108_0_10', 'f1_gnrt_plant_2018_12_108_0_10', 'f1_gnrt_plant_2019_12_108_0_10', 'f1_gnrt_plant_2005_12_157_0_9', 'f1_gnrt_plant_2006_12_157_0_9', 'f1_gnrt_plant_2007_12_157_0_9', 'f1_gnrt_plant_2008_12_157_0_9', 'f1_gnrt_plant_2009_12_157_0_6', 'f1_gnrt_plant_2007_12_157_0_21', 'f1_gnrt_plant_2008_12_157_0_20', 'f1_gnrt_plant_2009_12_157_0_16', 'f1_gnrt_plant_2010_12_157_0_7', 'f1_gnrt_plant_2011_12_157_0_7', 'f1_gnrt_plant_2012_12_157_0_5', 'f1_gnrt_plant_2013_12_157_0_5', 'f1_gnrt_plant_2014_12_157_0_5', 'f1_gnrt_plant_2005_12_157_0_21', 'f1_gnrt_plant_2006_12_157_0_21', 'f1_gnrt_plant_2008_12_108_0_1', 'f1_gnrt_plant_2009_12_108_0_1', 'f1_gnrt_plant_2010_12_108_0_1', 'f1_gnrt_plant_2008_12_157_0_6', 'f1_gnrt_plant_2008_12_157_0_4', 'f1_gnrt_plant_2011_12_108_0_1', 'f1_hydro_2008_12_134_4_1', 'f1_gnrt_plant_2012_12_108_0_1', 'f1_gnrt_plant_2013_12_108_0_1', 'f1_steam_2008_12_134_3_4', 'f1_steam_2010_12_157_0_3', 'f1_steam_2016_12_157_0_3', 'f1_steam_2008_12_108_1_3', 'f1_steam_2008_12_108_2_3', 'f1_steam_2008_12_108_2_5', 'f1_gnrt_plant_2014_12_108_0_1', 'f1_gnrt_plant_2015_12_108_0_1', 'f1_gnrt_plant_2016_12_108_0_1', 'f1_gnrt_plant_2017_12_108_0_1', 'f1_gnrt_plant_2018_12_108_0_1', 'f1_gnrt_plant_2019_12_108_0_1', 'f1_gnrt_plant_2015_12_108_0_6', 'f1_gnrt_plant_2016_12_108_0_6', 'f1_gnrt_plant_2017_12_108_0_6', 'f1_gnrt_plant_2018_12_108_0_6', 'f1_gnrt_plant_2019_12_108_0_6', 'f1_gnrt_plant_2008_12_108_0_4', 'f1_gnrt_plant_2009_12_108_0_4', 'f1_gnrt_plant_2010_12_108_0_4', 'f1_gnrt_plant_2011_12_108_0_3', 'f1_gnrt_plant_2012_12_108_0_3', 'f1_gnrt_plant_2013_12_108_0_3', 'f1_gnrt_plant_2014_12_108_0_3', 'f1_gnrt_plant_2015_12_108_0_3', 'f1_gnrt_plant_2016_12_108_0_3', 'f1_gnrt_plant_2017_12_108_0_3', 'f1_gnrt_plant_2018_12_108_0_3', 'f1_gnrt_plant_2019_12_108_0_3', 'f1_gnrt_plant_2008_12_108_0_2', 'f1_gnrt_plant_2009_12_157_0_4', 'f1_hydro_2009_12_134_4_1', 'f1_gnrt_plant_2009_12_108_0_2', 'f1_gnrt_plant_2010_12_108_0_2', 'f1_steam_2009_12_134_3_4', 'f1_gnrt_plant_2011_12_108_0_2', 'f1_steam_2017_12_157_0_3', 'f1_steam_2009_12_108_1_3', 'f1_steam_2009_12_108_2_3', 'f1_steam_2009_12_108_2_5', 'f1_gnrt_plant_2012_12_108_0_2', 'f1_gnrt_plant_2013_12_108_0_2', 'f1_gnrt_plant_2014_12_108_0_2', 'f1_gnrt_plant_2015_12_108_0_2', 'f1_gnrt_plant_2016_12_108_0_2', 'f1_gnrt_plant_2017_12_108_0_2', 'f1_gnrt_plant_2018_12_108_0_2', 'f1_gnrt_plant_2019_12_108_0_2', 'f1_gnrt_plant_2008_12_108_0_3', 'f1_gnrt_plant_2009_12_108_0_3', 'f1_gnrt_plant_2010_12_108_0_3', 'f1_gnrt_plant_2005_12_134_0_2', 'f1_gnrt_plant_2007_12_134_0_2', 'f1_gnrt_plant_2005_12_134_0_13', 'f1_gnrt_plant_2006_12_134_0_13', 'f1_gnrt_plant_2007_12_134_0_12', 'f1_gnrt_plant_2008_12_134_0_10', 'f1_gnrt_plant_2009_12_134_0_10', 'f1_gnrt_plant_2010_12_134_0_10', 'f1_gnrt_plant_2011_12_134_0_10', 'f1_gnrt_plant_2012_12_134_0_8', 'f1_gnrt_plant_2013_12_134_0_8', 'f1_gnrt_plant_2014_12_134_0_8', 'f1_hydro_2010_12_134_4_1', 'f1_gnrt_plant_2015_12_134_0_8', 'f1_gnrt_plant_2005_12_134_0_15', 'f1_steam_2010_12_134_3_4', 'f1_gnrt_plant_2006_12_134_0_15', 'f1_steam_2018_12_157_0_3', 'f1_steam_2010_12_108_1_3', 'f1_steam_2010_12_108_2_5', 'f1_gnrt_plant_2007_12_134_0_14', 'f1_gnrt_plant_2008_12_134_0_12', 'f1_gnrt_plant_2009_12_134_0_12', 'f1_gnrt_plant_2010_12_134_0_12', 'f1_gnrt_plant_2011_12_134_0_12', 'f1_gnrt_plant_2012_12_134_0_10', 'f1_gnrt_plant_2013_12_134_0_10', 'f1_gnrt_plant_2014_12_134_0_10', 'f1_gnrt_plant_2015_12_134_0_10', 'f1_gnrt_plant_2016_12_134_0_9', 'f1_gnrt_plant_2017_12_134_0_9', 'f1_gnrt_plant_2018_12_134_0_9', 'f1_gnrt_plant_2019_12_134_0_9', 'f1_gnrt_plant_2005_12_134_0_32', 'f1_gnrt_plant_2006_12_134_0_32', 'f1_gnrt_plant_2007_12_134_0_30', 'f1_gnrt_plant_2008_12_134_0_29', 'f1_gnrt_plant_2009_12_134_0_29', 'f1_gnrt_plant_2010_12_134_0_29', 'f1_gnrt_plant_2011_12_134_0_29', 'f1_gnrt_plant_2011_12_134_0_21', 'f1_gnrt_plant_2012_12_134_0_25', 'f1_gnrt_plant_2013_12_134_0_25', 'f1_hydro_2011_12_134_4_1', 'f1_gnrt_plant_2014_12_134_0_24', 'f1_gnrt_plant_2015_12_134_0_24', 'f1_gnrt_plant_2016_12_134_0_23', 'f1_steam_2019_12_157_0_3', 'f1_steam_2011_12_108_1_3', 'f1_steam_2011_12_108_2_5', 'f1_gnrt_plant_2017_12_134_0_23', 'f1_gnrt_plant_2018_12_134_0_23', 'f1_gnrt_plant_2019_12_134_0_23', 'f1_gnrt_plant_2005_12_134_0_37', 'f1_gnrt_plant_2006_12_134_0_37', 'f1_gnrt_plant_2007_12_134_0_35', 'f1_gnrt_plant_2008_12_134_0_34', 'f1_gnrt_plant_2009_12_134_0_34', 'f1_gnrt_plant_2010_12_134_0_34', 'f1_gnrt_plant_2011_12_134_0_34', 'f1_gnrt_plant_2012_12_134_0_30', 'f1_gnrt_plant_2013_12_134_0_30', 'f1_gnrt_plant_2014_12_134_0_29', 'f1_gnrt_plant_2015_12_134_0_29', 'f1_gnrt_plant_2016_12_134_0_28', 'f1_gnrt_plant_2017_12_134_0_28', 'f1_gnrt_plant_2018_12_134_0_28', 'f1_gnrt_plant_2019_12_134_0_28', 'f1_gnrt_plant_2005_12_134_0_34', 'f1_gnrt_plant_2006_12_134_0_34', 'f1_gnrt_plant_2007_12_134_0_32', 'f1_gnrt_plant_2008_12_134_0_31', 'f1_hydro_2012_12_134_4_1', 'f1_gnrt_plant_2009_12_134_0_31', 'f1_gnrt_plant_2010_12_134_0_31', 'f1_gnrt_plant_2011_12_134_0_31', 'f1_steam_2011_12_157_0_3', 'f1_gnrt_plant_2012_12_134_0_27', 'f1_steam_2012_12_108_1_3', 'f1_steam_2012_12_108_2_5', 'f1_gnrt_plant_2013_12_134_0_27', 'f1_gnrt_plant_2014_12_134_0_26', 'f1_gnrt_plant_2015_12_134_0_26', 'f1_gnrt_plant_2016_12_134_0_25', 'f1_gnrt_plant_2017_12_134_0_25', 'f1_gnrt_plant_2018_12_134_0_25', 'f1_gnrt_plant_2019_12_134_0_25', 'f1_gnrt_plant_2005_12_134_0_17', 'f1_gnrt_plant_2006_12_134_0_17', 'f1_gnrt_plant_2007_12_134_0_16', 'f1_gnrt_plant_2008_12_134_0_14', 'f1_gnrt_plant_2009_12_134_0_14', 'f1_gnrt_plant_2010_12_134_0_14', 'f1_gnrt_plant_2011_12_134_0_14', 'f1_gnrt_plant_2012_12_134_0_12', 'f1_gnrt_plant_2013_12_134_0_12', 'f1_gnrt_plant_2014_12_134_0_12', 'f1_gnrt_plant_2015_12_134_0_12', 'f1_gnrt_plant_2016_12_134_0_11', 'f1_gnrt_plant_2017_12_134_0_11', 'f1_gnrt_plant_2018_12_134_0_11', 'f1_gnrt_plant_2019_12_134_0_11', 'f1_gnrt_plant_2005_12_134_0_23', 'f1_hydro_2013_12_134_4_1', 'f1_gnrt_plant_2006_12_134_0_23', 'f1_gnrt_plant_2007_12_134_0_21', 'f1_steam_2012_12_157_0_3', 'f1_steam_2013_12_108_1_3', 'f1_steam_2013_12_108_2_5', 'f1_gnrt_plant_2008_12_134_0_20', 'f1_gnrt_plant_2009_12_134_0_20', 'f1_gnrt_plant_2010_12_134_0_20', 'f1_gnrt_plant_2011_12_134_0_20', 'f1_gnrt_plant_2012_12_134_0_17', 'f1_gnrt_plant_2013_12_134_0_17', 'f1_gnrt_plant_2014_12_134_0_17', 'f1_gnrt_plant_2015_12_134_0_17', 'f1_gnrt_plant_2016_12_134_0_16', 'f1_gnrt_plant_2017_12_134_0_16', 'f1_gnrt_plant_2018_12_134_0_16', 'f1_gnrt_plant_2019_12_134_0_16', 'f1_gnrt_plant_2005_12_134_0_26', 'f1_gnrt_plant_2006_12_134_0_26', 'f1_gnrt_plant_2007_12_134_0_24', 'f1_gnrt_plant_2008_12_134_0_23', 'f1_gnrt_plant_2009_12_134_0_23', 'f1_gnrt_plant_2010_12_134_0_23', 'f1_gnrt_plant_2011_12_134_0_23', 'f1_gnrt_plant_2012_12_134_0_19', 'f1_gnrt_plant_2013_12_134_0_19', 'f1_gnrt_plant_2005_12_134_0_33', 'f1_hydro_2014_12_134_4_1', 'f1_gnrt_plant_2006_12_134_0_33', 'f1_gnrt_plant_2007_12_134_0_31', 'f1_steam_2013_12_157_0_3', 'f1_steam_2014_12_108_1_2', 'f1_gnrt_plant_2008_12_134_0_30', 'f1_gnrt_plant_2009_12_134_0_30', 'f1_gnrt_plant_2010_12_134_0_30', 'f1_gnrt_plant_2011_12_134_0_30', 'f1_gnrt_plant_2012_12_134_0_26', 'f1_gnrt_plant_2013_12_134_0_26', 'f1_gnrt_plant_2014_12_134_0_25', 'f1_gnrt_plant_2015_12_134_0_25', 'f1_gnrt_plant_2016_12_134_0_24', 'f1_gnrt_plant_2017_12_134_0_24', 'f1_gnrt_plant_2018_12_134_0_24', 'f1_gnrt_plant_2019_12_134_0_24', 'f1_gnrt_plant_2005_12_134_0_27', 'f1_gnrt_plant_2006_12_134_0_27', 'f1_gnrt_plant_2007_12_134_0_25', 'f1_gnrt_plant_2008_12_134_0_24', 'f1_gnrt_plant_2009_12_134_0_24', 'f1_gnrt_plant_2010_12_134_0_24', 'f1_gnrt_plant_2011_12_134_0_24', 'f1_gnrt_plant_2012_12_134_0_20', 'f1_hydro_2015_12_134_4_1', 'f1_gnrt_plant_2013_12_134_0_20', 'f1_gnrt_plant_2014_12_134_0_19', 'f1_gnrt_plant_2015_12_134_0_19', 'f1_steam_2015_12_134_3_3', 'f1_gnrt_plant_2016_12_134_0_18', 'f1_steam_2014_12_157_0_3', 'f1_steam_2015_12_108_1_2', 'f1_gnrt_plant_2017_12_134_0_18', 'f1_gnrt_plant_2018_12_134_0_18', 'f1_gnrt_plant_2019_12_134_0_18', 'f1_gnrt_plant_2005_12_134_0_28', 'f1_gnrt_plant_2006_12_134_0_28', 'f1_gnrt_plant_2007_12_134_0_26', 'f1_gnrt_plant_2008_12_134_0_25', 'f1_gnrt_plant_2009_12_134_0_25', 'f1_gnrt_plant_2010_12_134_0_25', 'f1_gnrt_plant_2011_12_134_0_25', 'f1_gnrt_plant_2012_12_134_0_21', 'f1_gnrt_plant_2013_12_134_0_21', 'f1_gnrt_plant_2014_12_134_0_20', 'f1_gnrt_plant_2015_12_134_0_20', 'f1_gnrt_plant_2016_12_134_0_19', 'f1_gnrt_plant_2017_12_134_0_19', 'f1_gnrt_plant_2018_12_134_0_19', 'f1_gnrt_plant_2019_12_134_0_19', 'f1_gnrt_plant_2005_12_134_0_31', 'f1_gnrt_plant_2006_12_134_0_31', 'f1_gnrt_plant_2007_12_134_0_29', 'f1_gnrt_plant_2008_12_134_0_28', 'f1_gnrt_plant_2009_12_134_0_28', 'f1_steam_2015_12_157_0_3', 'f1_steam_2016_12_108_1_2', 'f1_gnrt_plant_2010_12_134_0_28', 'f1_gnrt_plant_2011_12_134_0_28', 'f1_gnrt_plant_2012_12_134_0_24', 'f1_gnrt_plant_2013_12_134_0_24', 'f1_gnrt_plant_2014_12_134_0_23', 'f1_gnrt_plant_2015_12_134_0_23', 'f1_gnrt_plant_2016_12_134_0_22', 'f1_gnrt_plant_2017_12_134_0_22', 'f1_gnrt_plant_2018_12_134_0_22', 'f1_gnrt_plant_2019_12_134_0_22', 'f1_gnrt_plant_2005_12_157_0_18', 'f1_gnrt_plant_2006_12_157_0_18', 'f1_gnrt_plant_2007_12_157_0_18', 'f1_gnrt_plant_2008_12_157_0_18', 'f1_gnrt_plant_2009_12_157_0_19', 'f1_gnrt_plant_2010_12_157_0_10', 'f1_gnrt_plant_2011_12_157_0_10', 'f1_gnrt_plant_2012_12_157_0_8', 'f1_gnrt_plant_2013_12_157_0_8', 'f1_gnrt_plant_2014_12_157_0_8', 'f1_gnrt_plant_2015_12_157_0_6', 'f1_gnrt_plant_2016_12_157_0_6', 'f1_gnrt_plant_2017_12_157_0_6', 'f1_steam_2006_12_134_3_5', 'f1_steam_2017_12_108_1_2', 'f1_gnrt_plant_2018_12_157_0_6', 'f1_gnrt_plant_2019_12_157_0_6', 'f1_gnrt_plant_2007_12_157_0_7', 'f1_gnrt_plant_2008_12_157_0_7', 'f1_gnrt_plant_2007_12_157_0_19', 'f1_gnrt_plant_2008_12_157_0_22', 'f1_gnrt_plant_2009_12_157_0_23', 'f1_gnrt_plant_2010_12_157_0_14', 'f1_gnrt_plant_2011_12_157_0_14', 'f1_gnrt_plant_2012_12_157_0_12', 'f1_gnrt_plant_2013_12_157_0_12', 'f1_gnrt_plant_2014_12_157_0_12', 'f1_gnrt_plant_2009_12_157_0_20', 'f1_gnrt_plant_2010_12_157_0_11', 'f1_gnrt_plant_2011_12_157_0_11', 'f1_gnrt_plant_2012_12_157_0_9', 'f1_gnrt_plant_2013_12_157_0_9', 'f1_gnrt_plant_2014_12_157_0_9', 'f1_gnrt_plant_2015_12_157_0_5', 'f1_gnrt_plant_2016_12_157_0_5', 'f1_gnrt_plant_2017_12_157_0_5', 'f1_gnrt_plant_2018_12_157_0_5', 'f1_gnrt_plant_2019_12_157_0_5', 'f1_steam_2007_12_134_3_5', 'f1_steam_2018_12_108_1_2', 'f1_gnrt_plant_2009_12_157_0_21', 'f1_gnrt_plant_2010_12_157_0_12', 'f1_gnrt_plant_2011_12_157_0_12', 'f1_gnrt_plant_2012_12_157_0_10', 'f1_gnrt_plant_2013_12_157_0_10', 'f1_gnrt_plant_2014_12_157_0_10', 'f1_gnrt_plant_2015_12_157_0_10', 'f1_gnrt_plant_2016_12_157_0_10', 'f1_gnrt_plant_2017_12_157_0_10', 'f1_gnrt_plant_2018_12_157_0_10', 'f1_gnrt_plant_2019_12_157_0_10', 'f1_gnrt_plant_2008_12_210_0_18', 'f1_gnrt_plant_2009_12_210_0_18', 'f1_gnrt_plant_2010_12_210_0_18', 'f1_gnrt_plant_2011_12_210_0_18', 'f1_gnrt_plant_2012_12_210_0_18', 'f1_gnrt_plant_2013_12_210_0_18', 'f1_gnrt_plant_2014_12_210_0_18', 'f1_gnrt_plant_2015_12_210_0_18', 'f1_gnrt_plant_2016_12_210_0_18', 'f1_gnrt_plant_2017_12_210_0_19', 'f1_gnrt_plant_2018_12_210_0_19', 'f1_gnrt_plant_2019_12_210_0_19', 'f1_gnrt_plant_2007_12_210_0_18', 'f1_steam_2008_12_134_3_5', 'f1_steam_2019_12_108_1_2']"
     ]
    }
   ],
   "source": [
    "rmi_out.grab_ferc1_to_eia(clobber=True)"
   ]
  },
  {
   "cell_type": "markdown",
   "id": "7eb51ca5-0953-47af-b2c9-8220f50dac27",
   "metadata": {
    "tags": []
   },
   "source": [
    "## Specify Utilities & Years"
   ]
  },
  {
   "cell_type": "code",
   "execution_count": 3,
   "id": "52ef5a36-13ce-458e-845f-7259e56c3e44",
   "metadata": {
    "jupyter": {
     "source_hidden": true
    },
    "tags": []
   },
   "outputs": [],
   "source": [
    "# old\n",
    "\n",
    "specified_utilities = {\n",
    "    # 'Dominion': {'utility_id_pudl': [292, 293, 349],\n",
    "    #              'utility_id_eia': [17539, 17554, 19876]},\n",
    "    # 'Evergy': {'utility_id_pudl': [159, 160, 161, 1270, 13243],\n",
    "    #            'utility_id_eia': [10000, 10005, 56211, 3702, 55329]}, # pudl/eia 359/22500 --> 13243/55329, 1270/3702 --> BAD\n",
    "    # 'IDACORP': {'utility_id_pudl': [140],\n",
    "    #             'utility_id_eia': [9191]},\n",
    "    # 'Duke': {'utility_id_pudl': [90, 91, 92, 93, 96, 97],\n",
    "    #          'utility_id_eia': [5416, 6455, 15470, 55729, 3542, 3046]},\n",
    "    'BHE': {'utility_id_pudl': [185, 246, 204, 287],\n",
    "            'utility_id_eia': [12341, 14354, 13407, 17166]},\n",
    "    'Southern': {'utility_id_pudl': [123, 18, 190, 11830],\n",
    "                 'utility_id_eia': [7140, 195, 12686, 17622]},\n",
    "    # 'NextEra': {'utility_id_pudl': [121, 130],\n",
    "    #             'utility_id_eia': [6452, 7801]},\n",
    "    # 'AEP': {'utility_id_pudl': [29, 301, 144, 275, 162, 361, 7],\n",
    "    #         'utility_id_eia': [733, 17698, 9324, 15474, 22053, 20521, 343]},\n",
    "    # 'Entergy': {'utility_id_pudl': [107, 106, 311, 113, 110],\n",
    "    #             'utility_id_eia': [11241, 814, 12465, 55937, 13478]},\n",
    "    # 'Xcel': {'utility_id_pudl': [224, 302, 272, 11297],\n",
    "    #          'utility_id_eia': [13781, 13780, 17718, 15466]}\n",
    "}"
   ]
  },
  {
   "cell_type": "code",
   "execution_count": 3,
   "id": "6a34d5a7-2cfe-43a9-82ad-a12ed0c137d6",
   "metadata": {
    "tags": []
   },
   "outputs": [],
   "source": [
    "specified_utilities = {\n",
    "    'BHE': [12341, 14354, 13407, 17166],\n",
    "    'Southern':[7140, 195, 12686, 17622]\n",
    "}\n",
    "\n",
    "specified_years = [\n",
    "    2005, 2006, 2007, 2008, 2009, 2010, 2011, 2012, \n",
    "    2013, 2014, 2015, 2016, 2017, 2018, 2019, 2020\n",
    "] "
   ]
  },
  {
   "cell_type": "markdown",
   "id": "8d8d1b71-bfbd-42dd-8387-de146361158b",
   "metadata": {
    "tags": []
   },
   "source": [
    "<a id='verify-tools'></a>\n",
    "## 1) Output Override Tools\n",
    "Run the following function and you'll find excel files called `<UTILITY>_fix_FERC-EIA_overrides.xlsx` in the `outputs/overrides` directory created based on the utility and year inputs you specified above. Read the [Override Instructions](https://docs.google.com/document/d/1nJfmUtbSN-RT5U2Z3rJKfOIhWsRFUPNxs9NKTes0SRA/edit#) to learn how to begin fixing/verifying the FERC-EIA connections."
   ]
  },
  {
   "cell_type": "code",
   "execution_count": 4,
   "id": "977df67d-fcd1-49a4-8b68-3e189a8ace02",
   "metadata": {
    "collapsed": true,
    "jupyter": {
     "outputs_hidden": true
    },
    "tags": []
   },
   "outputs": [
    {
     "name": "stdout",
     "output_type": "stream",
     "text": [
      "Reading the FERC to EIA connection from /Users/aesharpe/Desktop/Work/Catalyst_Coop/Repos/rmi-ferc1-eia/outputs/ferc1_eia.pkl.gz\n",
      "Reading the plant part list from /Users/aesharpe/Desktop/Work/Catalyst_Coop/Repos/rmi-ferc1-eia/outputs/plant_parts_eia.pkl.gz\n",
      "Grabbing depreciation study output from /Users/aesharpe/Desktop/Work/Catalyst_Coop/Repos/rmi-ferc1-eia/outputs/deprish.pkl.gz\n",
      "\n",
      "Developing outputs for BHE\n",
      "Outputing table subsets to tabs\n",
      "\n",
      "Developing outputs for Southern\n",
      "Outputing table subsets to tabs\n",
      "\n"
     ]
    }
   ],
   "source": [
    "generate_override_tools(pudl_out, rmi_out, specified_utilities, specified_years)"
   ]
  },
  {
   "cell_type": "markdown",
   "id": "2d7d2122-cdd1-4556-b042-a84158b87a7e",
   "metadata": {
    "tags": []
   },
   "source": [
    "<a id='upload-overrides'></a>\n",
    "## 2) Upload changes to training data\n",
    "When you've finished editing the `<UTILITY>_fix_FERC-EIA_overrides.xlsx` and want to add your changes to the official override csv, move your file to the directory called `add_to_training` and then run the following function. \n",
    "\n",
    "**Note:** If you have changed or marked TRUE any records that have already been overridden and included in the training data, you will want to set `expect_override_overrides = True`. Otherwise, the function will check to see if you have accidentally tampered with values that have already been matched.\n",
    "\n",
    "Right now, the module points to a COPY of the training data so it doesn't override the official version. You'll need to change that later if you want to update the official version."
   ]
  },
  {
   "cell_type": "code",
   "execution_count": 3,
   "id": "93e3c378-5c20-4939-8430-7f7d6ff86a5e",
   "metadata": {
    "tags": []
   },
   "outputs": [
    {
     "name": "stdout",
     "output_type": "stream",
     "text": [
      "Reading the FERC to EIA connection from /Users/aesharpe/Desktop/Work/Catalyst_Coop/Repos/rmi-ferc1-eia/outputs/ferc1_eia.pkl.gz\n",
      "Reading the plant part list from /Users/aesharpe/Desktop/Work/Catalyst_Coop/Repos/rmi-ferc1-eia/outputs/plant_parts_eia.pkl.gz\n",
      "Processing fixes in BHE_fix_FERC-EIA_overrides.xlsx\n",
      "Validating overrides\n",
      "Checking eia record id consistency for values that don't exist\n",
      "Checking ferc record id consistency for values that don't exist\n",
      "Checking for duplicate override ids\n",
      "Checking for mismatched utility ids\n",
      "Checking that year in override id matches report year\n",
      "Adding overrides to training data\n",
      "Combining all new overrides with existing training data\n"
     ]
    }
   ],
   "source": [
    "validate_and_add_to_training(\n",
    "    pudl_out, rmi_out, expect_override_overrides=True\n",
    ")"
   ]
  },
  {
   "cell_type": "code",
   "execution_count": null,
   "id": "b15216d8-335b-42ed-b33a-73c281548be4",
   "metadata": {},
   "outputs": [],
   "source": []
  }
 ],
 "metadata": {
  "kernelspec": {
   "display_name": "pudl-dev",
   "language": "python",
   "name": "pudl-dev"
  },
  "language_info": {
   "codemirror_mode": {
    "name": "ipython",
    "version": 3
   },
   "file_extension": ".py",
   "mimetype": "text/x-python",
   "name": "python",
   "nbconvert_exporter": "python",
   "pygments_lexer": "ipython3",
   "version": "3.10.2"
  }
 },
 "nbformat": 4,
 "nbformat_minor": 5
}
