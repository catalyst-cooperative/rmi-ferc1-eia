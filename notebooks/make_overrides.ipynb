{
 "cells": [
  {
   "cell_type": "markdown",
   "id": "60e4e969-b223-42f1-b6ff-2708d59f6d55",
   "metadata": {},
   "source": [
    "# Add Overrides to Train FERC-EIA Connecter"
   ]
  },
  {
   "cell_type": "markdown",
   "id": "664bb535-386b-4700-9b5f-5223e1f78159",
   "metadata": {},
   "source": [
    "This notebook is intended to help with adding overrides to the FERC-EIA connection csv. Adding new connections will fill in gaps and improve the program's ability to predict other matches. To adequately check each of the connections, we'll provide you with subsets from *three* different spreadsheets:\n",
    "\n",
    "1) **The current FERC-EIA connection:** to look for good, bad, and empty links between FERC and EIA records.\n",
    "2) **The Master Unit List:** to confirm or disprove those connections.\n",
    "3) **Depreciation data** from our previous work.\n",
    "\n",
    "Downloading all the files at once will overwhelm excel, so we need to make edits in segments. This notebook will help you:\n",
    "\n",
    "1) **Download useful utility-based subsets of each table for review.**\n",
    "2) **Update the old training data with new verified matches.**\n",
    "\n",
    "Once you edit the inputs below, run the entire notebook. Next, pick whether you want to [download tools to verify connection between EIA and FERC1](#verify-tools) or [upload changes to training data](#upload-overrides) and run the relevant functions."
   ]
  },
  {
   "cell_type": "markdown",
   "id": "0b9dfc83-558e-49ee-b437-20710b869d02",
   "metadata": {
    "tags": []
   },
   "source": [
    "## Settings"
   ]
  },
  {
   "cell_type": "code",
   "execution_count": 1,
   "id": "5f4f84b5-0a0e-4b44-8043-d451d5842c8f",
   "metadata": {},
   "outputs": [],
   "source": [
    "%load_ext autoreload\n",
    "%autoreload 2"
   ]
  },
  {
   "cell_type": "code",
   "execution_count": 2,
   "id": "dedd1d11-d8a0-4a46-a91f-4d7e3955d844",
   "metadata": {
    "tags": []
   },
   "outputs": [],
   "source": [
    "import pudl_rmi\n",
    "from pudl_rmi.create_override_spreadsheets import *\n",
    "from pudl_rmi.connect_ferc1_to_eia import *\n",
    "\n",
    "import pudl\n",
    "import sqlalchemy as sa\n",
    "import logging\n",
    "import sys\n",
    "\n",
    "import warnings\n",
    "warnings.filterwarnings('ignore')\n",
    "\n",
    "#sys.path.append(\"../\") <<bad\n",
    "\n",
    "logger = logging.getLogger()\n",
    "logger.setLevel(logging.INFO)\n",
    "handler = logging.StreamHandler(stream=sys.stdout)\n",
    "formatter = logging.Formatter('%(message)s')\n",
    "handler.setFormatter(formatter)\n",
    "logger.handlers = [handler]\n",
    "\n",
    "pudl_settings = pudl.workspace.setup.get_defaults()\n",
    "pudl_engine = sa.create_engine(pudl_settings[\"pudl_db\"])\n",
    "pudl_out = pudl.output.pudltabl.PudlTabl(pudl_engine, freq='AS',fill_fuel_cost=True,roll_fuel_cost=True,fill_net_gen=True)"
   ]
  },
  {
   "cell_type": "markdown",
   "id": "7eb51ca5-0953-47af-b2c9-8220f50dac27",
   "metadata": {
    "tags": []
   },
   "source": [
    "## Specify Utilities & Years"
   ]
  },
  {
   "cell_type": "code",
   "execution_count": 3,
   "id": "6a34d5a7-2cfe-43a9-82ad-a12ed0c137d6",
   "metadata": {
    "tags": []
   },
   "outputs": [],
   "source": [
    "# The utilities you'd like to review as a dictionary where the format is: \n",
    "# {<UTILITY>: {'utility_id_pudl': [1, 2, 3], 'utility_id_eia': [44, 55, 66]}}\n",
    "# Each key will be output into a different excel file.\n",
    "\n",
    "specified_utilities = {\n",
    "    # 'Dominion': {'utility_id_pudl': [292, 293, 349],\n",
    "    #              'utility_id_eia': [17539, 17554, 19876]},\n",
    "    # 'Evergy': {'utility_id_pudl': [159, 160, 161, 359],\n",
    "    #            'utility_id_eia': [10000, 10005, 56211, 3702, 22500]},\n",
    "    # 'IDACORP': {'utility_id_pudl': [140],\n",
    "    #             'utility_id_eia': [9191]}}\n",
    "#     'Duke': {'utility_id_pudl': [90, 91, 92, 93, 96, 97],\n",
    "#              'utility_id_eia': [5416, 6455, 15470, 55729, 3542, 3046]},\n",
    "    'BHE': {'utility_id_pudl': [185, 246, 204, 287],\n",
    "            'utility_id_eia': [12341, 14354, 13407, 17166]},\n",
    "#     'Southern': {'utility_id_pudl': [123, 18, 190],\n",
    "#                  'utility_id_eia': [7140, 195, 12686, 17622]},\n",
    "#     'NextEra': {'utility_id_pudl': [121, 130],\n",
    "#                 'utility_id_eia': [6452, 7801]},\n",
    "#     'AEP': {'utility_id_pudl': [29, 301, 144, 275, 162, 7],\n",
    "#             'utility_id_eia': [733, 17698, 9324, 15474, 22053, 20521, 343]},\n",
    "#     'Entergy': {'utility_id_pudl': [107, 106, 311, 113, 110],\n",
    "#                 'utility_id_eia': [11241, 814, 12465, 55937, 13478]},\n",
    "#     'Xcel': {'utility_id_pudl': [224, 302, 272],\n",
    "#              'utility_id_eia': [13781, 13780, 17718, 15466]}\n",
    "}\n",
    "\n",
    "# This can be 'all' or a list of any years within the FERC data, ex: [2006, 2007]\n",
    "# These are the years you would like to consider fixing AND the years you would like to \n",
    "# consider for detmining largest capacity (the latter is only used when `utilities = largest`.\n",
    "specified_years = [2005, 2006, 2007, 2008, 2009, 2010, 2011, 2012, \n",
    "                   2013, 2014, 2015, 2016, 2017, 2018, 2019] "
   ]
  },
  {
   "cell_type": "markdown",
   "id": "114af02c-52b1-4f7d-a6df-23e24d31a8c3",
   "metadata": {
    "tags": []
   },
   "source": [
    "## Gather Inputs"
   ]
  },
  {
   "cell_type": "code",
   "execution_count": 10,
   "id": "cf4d19de-c3b1-40a5-96f4-3536a4fb8cfe",
   "metadata": {
    "tags": []
   },
   "outputs": [
    {
     "name": "stdout",
     "output_type": "stream",
     "text": [
      "Reading the plant part list from /Users/aesharpe/Desktop/Work/Catalyst_Coop/Repos/rmi-ferc1-eia/outputs/plant_parts_eia.pkl.gz\n"
     ]
    }
   ],
   "source": [
    "rmi_out = pudl_rmi.coordinate.Output(\n",
    "    pudl_out,\n",
    ")\n",
    "\n",
    "plant_parts_df = rmi_out.grab_plant_part_list().reset_index()"
   ]
  },
  {
   "cell_type": "code",
   "execution_count": 5,
   "id": "e96e7a59-2a66-43b3-a8e5-d26434152fae",
   "metadata": {
    "collapsed": true,
    "jupyter": {
     "outputs_hidden": true
    },
    "tags": []
   },
   "outputs": [
    {
     "name": "stdout",
     "output_type": "stream",
     "text": [
      "Preparing the FERC1 tables.\n",
      "loading steam table\n",
      "loading small gens table\n",
      "loading hydro table\n",
      "loading pumped storage table\n",
      "prepping steam table\n",
      "prepping hydro tables\n",
      "combining all tables\n",
      "Generated 168541 all candidate features.\n",
      "Generated 1144 training candidate features.\n",
      "We are about to test hyper parameters of the model while doing k-fold cross validation. This takes a few minutes....\n",
      "Scores from the best model hyperparameters:\n",
      "    F-Score:   0.87\n",
      "    Precision: 0.87\n",
      "    Accuracy:  0.74\n",
      "\n",
      "Fit and predict a model w/ the highest scoring hyperparameters.\n",
      "Get the top scoring match for each FERC1 plant record.\n",
      "Winning match stats:\n",
      "    matches vs ferc:      71.23%\n",
      "    best match v ferc:    62.18%\n",
      "    best match vs matches:87.29%\n",
      "    murk vs matches:      9.60%\n",
      "    ties vs matches:      1.02%\n",
      "\n",
      "Overridden records:       22.9%\n",
      "New best match v ferc:    62.71%\n"
     ]
    }
   ],
   "source": [
    "# FERC-EIA \n",
    "\n",
    "inputs = connect_ferc1_to_eia.InputManager(file_path_training, pudl_out, plant_parts_df)\n",
    "features_all = (connect_ferc1_to_eia.Features(feature_type='all', inputs=inputs)\n",
    "                 .get_features(clobber=False))\n",
    "features_train = (connect_ferc1_to_eia.Features(feature_type='training', inputs=inputs)\n",
    "                  .get_features(clobber=False))\n",
    "tuner = connect_ferc1_to_eia.ModelTuner(features_train, inputs.get_train_index(), n_splits=10)\n",
    "\n",
    "matcher = connect_ferc1_to_eia.MatchManager(best=tuner.get_best_fit_model(), inputs=inputs)\n",
    "matches_best = matcher.get_best_matches(features_train, features_all)"
   ]
  },
  {
   "cell_type": "code",
   "execution_count": 6,
   "id": "267f9163-41e9-424b-837a-c22f627bc8b0",
   "metadata": {
    "collapsed": true,
    "jupyter": {
     "outputs_hidden": true
    },
    "tags": []
   },
   "outputs": [
    {
     "name": "stdout",
     "output_type": "stream",
     "text": [
      "jsuk there are some FERC-EIA matches that aren't in the steam                 table but this is because they are linked to retired EIA generators.\n",
      "Coverage for matches during EIA working years:\n",
      "    Fuel type: 97.1%\n",
      "    Tech type: 95.0%\n",
      "\n",
      "Coverage for all steam table records during EIA working years:\n",
      "    EIA matches: 71.7\n",
      "\n",
      "Coverage for all small gen table records during EIA working years:\n",
      "    EIA matches: 37.9\n",
      "\n",
      "Coverage for all hydro table records during EIA working years:\n",
      "    EIA matches: 84.8\n",
      "\n",
      "Coverage for all pumped storage table records during EIA working years:\n",
      "    EIA matches: 48.6\n",
      "Matches with consistency across years of all matches is 79.6%\n",
      "Matches with completely consistent FERC capacity have a consistency of 93.1%\n",
      "Matches with consistency across years of overrides matches is 41.8%\n",
      "Matches with completely consistent FERC capacity have a consistency of 87.2%\n"
     ]
    }
   ],
   "source": [
    "connects_ferc1_eia = (\n",
    "    prettyify_best_matches(\n",
    "        matches_best, \n",
    "        plant_parts_true_df=inputs.plant_parts_true_df,\n",
    "        plants_ferc1_df=inputs.plants_ferc1_df,\n",
    "        train_df=inputs.train_df)\n",
    "    .copy()\n",
    ")"
   ]
  },
  {
   "cell_type": "code",
   "execution_count": 78,
   "id": "6781f56e-b110-4868-ad5e-b724690e0315",
   "metadata": {
    "collapsed": true,
    "jupyter": {
     "outputs_hidden": true
    },
    "tags": []
   },
   "outputs": [
    {
     "ename": "TypeError",
     "evalue": "Extractor.__init__() got an unexpected keyword argument 'file_path'",
     "output_type": "error",
     "traceback": [
      "\u001b[0;31m---------------------------------------------------------------------------\u001b[0m",
      "\u001b[0;31mTypeError\u001b[0m                                 Traceback (most recent call last)",
      "Input \u001b[0;32mIn [78]\u001b[0m, in \u001b[0;36m<module>\u001b[0;34m\u001b[0m\n\u001b[1;32m      3\u001b[0m file_path_deprish \u001b[38;5;241m=\u001b[39m pathlib\u001b[38;5;241m.\u001b[39mPath()\u001b[38;5;241m.\u001b[39mcwd()\u001b[38;5;241m.\u001b[39mparent\u001b[38;5;241m/\u001b[39m\u001b[38;5;124m'\u001b[39m\u001b[38;5;124minputs\u001b[39m\u001b[38;5;124m'\u001b[39m\u001b[38;5;241m/\u001b[39m\u001b[38;5;124m'\u001b[39m\u001b[38;5;124mdepreciation_rmi.xlsx\u001b[39m\u001b[38;5;124m'\u001b[39m\n\u001b[1;32m      4\u001b[0m sheet_name_deprish\u001b[38;5;241m=\u001b[39m\u001b[38;5;124m'\u001b[39m\u001b[38;5;124mDepreciation Studies Raw\u001b[39m\u001b[38;5;124m'\u001b[39m\n\u001b[1;32m      5\u001b[0m transformer \u001b[38;5;241m=\u001b[39m pudl_rmi\u001b[38;5;241m.\u001b[39mdeprish\u001b[38;5;241m.\u001b[39mTransformer(\n\u001b[0;32m----> 6\u001b[0m     \u001b[43mpudl_rmi\u001b[49m\u001b[38;5;241;43m.\u001b[39;49m\u001b[43mdeprish\u001b[49m\u001b[38;5;241;43m.\u001b[39;49m\u001b[43mExtractor\u001b[49m\u001b[43m(\u001b[49m\n\u001b[1;32m      7\u001b[0m \u001b[43m        \u001b[49m\u001b[43mfile_path\u001b[49m\u001b[38;5;241;43m=\u001b[39;49m\u001b[43mfile_path_deprish\u001b[49m\u001b[43m,\u001b[49m\n\u001b[1;32m      8\u001b[0m \u001b[43m        \u001b[49m\u001b[43msheet_name\u001b[49m\u001b[38;5;241;43m=\u001b[39;49m\u001b[43msheet_name_deprish\u001b[49m\n\u001b[1;32m      9\u001b[0m \u001b[43m    \u001b[49m\u001b[43m)\u001b[49m\u001b[38;5;241m.\u001b[39mexecute())\n\u001b[1;32m     11\u001b[0m deprish_df \u001b[38;5;241m=\u001b[39m transformer\u001b[38;5;241m.\u001b[39mexecute()\n",
      "\u001b[0;31mTypeError\u001b[0m: Extractor.__init__() got an unexpected keyword argument 'file_path'"
     ]
    }
   ],
   "source": [
    "# Depriciation Data\n",
    "\n",
    "file_path_deprish = pathlib.Path().cwd().parent/'inputs'/'depreciation_rmi.xlsx'\n",
    "sheet_name_deprish='Depreciation Studies Raw'\n",
    "transformer = pudl_rmi.deprish.Transformer(\n",
    "    pudl_rmi.deprish.Extractor(\n",
    "        file_path=file_path_deprish,\n",
    "        sheet_name=sheet_name_deprish\n",
    "    ).execute())\n",
    "\n",
    "deprish_df = transformer.execute()"
   ]
  },
  {
   "cell_type": "markdown",
   "id": "8d8d1b71-bfbd-42dd-8387-de146361158b",
   "metadata": {
    "tags": []
   },
   "source": [
    "<a id='verify-tools'></a>\n",
    "## 1) Output Override Tools\n",
    "When you run the following function, you'll find excel files called `<UTILITY>_fix_FERC-EIA_overrides.xlsx` in the `outputs/overrides` directory created based on the utility and year inputs you specified above. Read the [Override Instructions](https://docs.google.com/document/d/1nJfmUtbSN-RT5U2Z3rJKfOIhWsRFUPNxs9NKTes0SRA/edit#) to learn how to begin fixing/verifying the FERC-EIA connections."
   ]
  },
  {
   "cell_type": "code",
   "execution_count": 13,
   "id": "977df67d-fcd1-49a4-8b68-3e189a8ace02",
   "metadata": {
    "tags": []
   },
   "outputs": [
    {
     "name": "stdout",
     "output_type": "stream",
     "text": [
      "Making override file for BHE\n",
      "Prepping FERC-EIA table\n",
      "Getting utility-year subsets\n",
      "Prepping Plant Parts Table\n",
      "Getting utility-year subsets\n",
      "Outputing table subsets to tabs\n",
      "\n",
      "CPU times: user 14.5 s, sys: 5.03 s, total: 19.5 s\n",
      "Wall time: 21.4 s\n"
     ]
    }
   ],
   "source": [
    "%%time\n",
    "for util_name, id_dict in specified_utilities.items():\n",
    "    output_override_tools2(\n",
    "        ferc_eia=connects_ferc1_eia, \n",
    "        mul=plant_parts_df, \n",
    "        util_ids=id_dict,\n",
    "        util_name=util_name,\n",
    "        years=specified_years,\n",
    "        pudl_out=pudl_out\n",
    "    )"
   ]
  },
  {
   "cell_type": "markdown",
   "id": "2d7d2122-cdd1-4556-b042-a84158b87a7e",
   "metadata": {
    "jp-MarkdownHeadingCollapsed": true,
    "tags": []
   },
   "source": [
    "<a id='upload-overrides'></a>\n",
    "## 2) Upload changes to training data\n",
    "When you've finished editing the `<UTILITY>_fix_FERC-EIA_overrides.xlsx` and want to add your changes to the official override csv, move your file to the directory called `add_to_training` and then run the following function. \n",
    "\n",
    "**Note:** If you have changed or marked TRUE any records that have already been overridden and included in the training data, you will want to set `expect_override_overrides = True`. Otherwise, the function will check to see if you have accidentally tampered with values that have already been matched.\n",
    "\n",
    "Right now, the module points to a COPY of the training data so it doesn't override the official version. You'll need to change that later if you want to update the official version."
   ]
  },
  {
   "cell_type": "code",
   "execution_count": 25,
   "id": "a1bc81fe-4653-4bab-986b-7c64fbf33285",
   "metadata": {
    "collapsed": true,
    "jupyter": {
     "outputs_hidden": true
    },
    "tags": []
   },
   "outputs": [
    {
     "name": "stdout",
     "output_type": "stream",
     "text": [
      "Processing fixes in Evergy_fix_FERC-EIA_overrides.xlsx\n",
      "Validating overrides\n",
      "Processing fixes in IDACORP_fix_FERC-EIA_overrides.xlsx\n",
      "Validating overrides\n",
      "Adding overrides to training data\n",
      "Combining all new overrides with existing training data\n"
     ]
    },
    {
     "data": {
      "text/html": [
       "<div>\n",
       "<style scoped>\n",
       "    .dataframe tbody tr th:only-of-type {\n",
       "        vertical-align: middle;\n",
       "    }\n",
       "\n",
       "    .dataframe tbody tr th {\n",
       "        vertical-align: top;\n",
       "    }\n",
       "\n",
       "    .dataframe thead th {\n",
       "        text-align: right;\n",
       "    }\n",
       "</style>\n",
       "<table border=\"1\" class=\"dataframe\">\n",
       "  <thead>\n",
       "    <tr style=\"text-align: right;\">\n",
       "      <th></th>\n",
       "      <th></th>\n",
       "      <th>signature</th>\n",
       "      <th>notes</th>\n",
       "      <th>signature_1</th>\n",
       "    </tr>\n",
       "    <tr>\n",
       "      <th>record_id_eia</th>\n",
       "      <th>record_id_ferc1</th>\n",
       "      <th></th>\n",
       "      <th></th>\n",
       "      <th></th>\n",
       "    </tr>\n",
       "  </thead>\n",
       "  <tbody>\n",
       "    <tr>\n",
       "      <th>1005_2018_plant_owned_15470</th>\n",
       "      <th>f1_hydro_2018_12_144_0_1</th>\n",
       "      <td>NaN</td>\n",
       "      <td>NaN</td>\n",
       "      <td>NaN</td>\n",
       "    </tr>\n",
       "    <tr>\n",
       "      <th>10773_2018_plant_owned_19876</th>\n",
       "      <th>f1_steam_2018_12_186_0_1</th>\n",
       "      <td>NaN</td>\n",
       "      <td>NaN</td>\n",
       "      <td>NaN</td>\n",
       "    </tr>\n",
       "    <tr>\n",
       "      <th>10774_2018_plant_owned_19876</th>\n",
       "      <th>f1_steam_2018_12_186_3_2</th>\n",
       "      <td>NaN</td>\n",
       "      <td>NaN</td>\n",
       "      <td>NaN</td>\n",
       "    </tr>\n",
       "    <tr>\n",
       "      <th>10_GT_2018_plant_prime_mover_owned_195</th>\n",
       "      <th>f1_steam_2018_12_2_1_2</th>\n",
       "      <td>NaN</td>\n",
       "      <td>NaN</td>\n",
       "      <td>NaN</td>\n",
       "    </tr>\n",
       "    <tr>\n",
       "      <th>1109_2018_plant_owned_19436</th>\n",
       "      <th>f1_hydro_2018_12_177_0_2</th>\n",
       "      <td>NaN</td>\n",
       "      <td>NaN</td>\n",
       "      <td>NaN</td>\n",
       "    </tr>\n",
       "    <tr>\n",
       "      <th>...</th>\n",
       "      <th>...</th>\n",
       "      <td>...</td>\n",
       "      <td>...</td>\n",
       "      <td>...</td>\n",
       "    </tr>\n",
       "    <tr>\n",
       "      <th>470_2018_plant_total_15466</th>\n",
       "      <th>f1_steam_2018_12_145_0_4</th>\n",
       "      <td>NaN</td>\n",
       "      <td>NaN</td>\n",
       "      <td>NaN</td>\n",
       "    </tr>\n",
       "    <tr>\n",
       "      <th>6112_2018_plant_total_15466</th>\n",
       "      <th>f1_steam_2018_12_145_2_4</th>\n",
       "      <td>NaN</td>\n",
       "      <td>NaN</td>\n",
       "      <td>NaN</td>\n",
       "    </tr>\n",
       "    <tr>\n",
       "      <th>6112_gt_2018_plant_prime_mover_total_15466</th>\n",
       "      <th>f1_steam_2018_12_145_2_5</th>\n",
       "      <td>NaN</td>\n",
       "      <td>NaN</td>\n",
       "      <td>NaN</td>\n",
       "    </tr>\n",
       "    <tr>\n",
       "      <th>56219_j1_2005_plant_gen_owned_22500</th>\n",
       "      <th>f1_gnrt_plant_2005_12_191_0_1</th>\n",
       "      <td>NaN</td>\n",
       "      <td>test</td>\n",
       "      <td>AS</td>\n",
       "    </tr>\n",
       "    <tr>\n",
       "      <th>817_1_2005_plant_gen_total_9191</th>\n",
       "      <th>f1_gnrt_plant_2005_12_70_0_7</th>\n",
       "      <td>NaN</td>\n",
       "      <td>cool</td>\n",
       "      <td>AS</td>\n",
       "    </tr>\n",
       "  </tbody>\n",
       "</table>\n",
       "<p>356 rows × 3 columns</p>\n",
       "</div>"
      ],
      "text/plain": [
       "                                                                          signature  \\\n",
       "record_id_eia                              record_id_ferc1                            \n",
       "1005_2018_plant_owned_15470                f1_hydro_2018_12_144_0_1             NaN   \n",
       "10773_2018_plant_owned_19876               f1_steam_2018_12_186_0_1             NaN   \n",
       "10774_2018_plant_owned_19876               f1_steam_2018_12_186_3_2             NaN   \n",
       "10_GT_2018_plant_prime_mover_owned_195     f1_steam_2018_12_2_1_2               NaN   \n",
       "1109_2018_plant_owned_19436                f1_hydro_2018_12_177_0_2             NaN   \n",
       "...                                                                             ...   \n",
       "470_2018_plant_total_15466                 f1_steam_2018_12_145_0_4             NaN   \n",
       "6112_2018_plant_total_15466                f1_steam_2018_12_145_2_4             NaN   \n",
       "6112_gt_2018_plant_prime_mover_total_15466 f1_steam_2018_12_145_2_5             NaN   \n",
       "56219_j1_2005_plant_gen_owned_22500        f1_gnrt_plant_2005_12_191_0_1        NaN   \n",
       "817_1_2005_plant_gen_total_9191            f1_gnrt_plant_2005_12_70_0_7         NaN   \n",
       "\n",
       "                                                                         notes  \\\n",
       "record_id_eia                              record_id_ferc1                       \n",
       "1005_2018_plant_owned_15470                f1_hydro_2018_12_144_0_1        NaN   \n",
       "10773_2018_plant_owned_19876               f1_steam_2018_12_186_0_1        NaN   \n",
       "10774_2018_plant_owned_19876               f1_steam_2018_12_186_3_2        NaN   \n",
       "10_GT_2018_plant_prime_mover_owned_195     f1_steam_2018_12_2_1_2          NaN   \n",
       "1109_2018_plant_owned_19436                f1_hydro_2018_12_177_0_2        NaN   \n",
       "...                                                                        ...   \n",
       "470_2018_plant_total_15466                 f1_steam_2018_12_145_0_4        NaN   \n",
       "6112_2018_plant_total_15466                f1_steam_2018_12_145_2_4        NaN   \n",
       "6112_gt_2018_plant_prime_mover_total_15466 f1_steam_2018_12_145_2_5        NaN   \n",
       "56219_j1_2005_plant_gen_owned_22500        f1_gnrt_plant_2005_12_191_0_1  test   \n",
       "817_1_2005_plant_gen_total_9191            f1_gnrt_plant_2005_12_70_0_7   cool   \n",
       "\n",
       "                                                                         signature_1  \n",
       "record_id_eia                              record_id_ferc1                            \n",
       "1005_2018_plant_owned_15470                f1_hydro_2018_12_144_0_1              NaN  \n",
       "10773_2018_plant_owned_19876               f1_steam_2018_12_186_0_1              NaN  \n",
       "10774_2018_plant_owned_19876               f1_steam_2018_12_186_3_2              NaN  \n",
       "10_GT_2018_plant_prime_mover_owned_195     f1_steam_2018_12_2_1_2                NaN  \n",
       "1109_2018_plant_owned_19436                f1_hydro_2018_12_177_0_2              NaN  \n",
       "...                                                                              ...  \n",
       "470_2018_plant_total_15466                 f1_steam_2018_12_145_0_4              NaN  \n",
       "6112_2018_plant_total_15466                f1_steam_2018_12_145_2_4              NaN  \n",
       "6112_gt_2018_plant_prime_mover_total_15466 f1_steam_2018_12_145_2_5              NaN  \n",
       "56219_j1_2005_plant_gen_owned_22500        f1_gnrt_plant_2005_12_191_0_1          AS  \n",
       "817_1_2005_plant_gen_total_9191            f1_gnrt_plant_2005_12_70_0_7           AS  \n",
       "\n",
       "[356 rows x 3 columns]"
      ]
     },
     "execution_count": 25,
     "metadata": {},
     "output_type": "execute_result"
    }
   ],
   "source": [
    "validate_and_add_to_training(connects_ferc1_eia, expect_override_overrides = False)"
   ]
  }
 ],
 "metadata": {
  "kernelspec": {
   "display_name": "pudl-dev",
   "language": "python",
   "name": "pudl-dev"
  },
  "language_info": {
   "codemirror_mode": {
    "name": "ipython",
    "version": 3
   },
   "file_extension": ".py",
   "mimetype": "text/x-python",
   "name": "python",
   "nbconvert_exporter": "python",
   "pygments_lexer": "ipython3",
   "version": "3.10.2"
  }
 },
 "nbformat": 4,
 "nbformat_minor": 5
}
