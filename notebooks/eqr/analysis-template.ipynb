{
 "cells": [
  {
   "cell_type": "markdown",
   "id": "6ebaa197-1bf2-4bd6-8fe9-cfc46d4a8d70",
   "metadata": {},
   "source": [
    "## Purpose\n",
    "This notebook loads the contracts and identities tables into pandas dataframes for analyses."
   ]
  },
  {
   "cell_type": "code",
   "execution_count": 6,
   "id": "8c941317-b0bc-4c71-9d1f-0c539a1929f4",
   "metadata": {},
   "outputs": [],
   "source": [
    "from pudl_rmi.process_eqr import engine, DATE_COLUMNS\n",
    "\n",
    "import pandas as pd"
   ]
  },
  {
   "cell_type": "markdown",
   "id": "7c334457-b50f-4917-a298-abd17cc9003b",
   "metadata": {},
   "source": [
    "## Load Contracts"
   ]
  },
  {
   "cell_type": "code",
   "execution_count": 7,
   "id": "c87c2743-a5e4-46b9-8373-098873721203",
   "metadata": {},
   "outputs": [
    {
     "name": "stdout",
     "output_type": "stream",
     "text": [
      "<class 'pandas.core.frame.DataFrame'>\n",
      "RangeIndex: 778269 entries, 0 to 778268\n",
      "Data columns (total 33 columns):\n",
      " #   Column                                 Non-Null Count   Dtype         \n",
      "---  ------                                 --------------   -----         \n",
      " 0   contract_unique_id                     778269 non-null  object        \n",
      " 1   seller_company_name                    778269 non-null  object        \n",
      " 2   seller_history_name                    0 non-null       object        \n",
      " 3   customer_company_name                  778269 non-null  object        \n",
      " 4   contract_affiliate                     778269 non-null  object        \n",
      " 5   ferc_tariff_reference                  778241 non-null  object        \n",
      " 6   contract_service_agreement_id          778189 non-null  object        \n",
      " 7   contract_execution_date                778269 non-null  datetime64[ns]\n",
      " 8   commencement_date_of_contract_term     778269 non-null  datetime64[ns]\n",
      " 9   contract_termination_date              260131 non-null  datetime64[ns]\n",
      " 10  actual_termination_date                15911 non-null   datetime64[ns]\n",
      " 11  extension_provision_description        726657 non-null  object        \n",
      " 12  class_name                             415554 non-null  object        \n",
      " 13  term_name                              621383 non-null  object        \n",
      " 14  increment_name                         379625 non-null  object        \n",
      " 15  increment_peaking_name                 282761 non-null  object        \n",
      " 16  product_type_name                      778269 non-null  object        \n",
      " 17  product_name                           778269 non-null  object        \n",
      " 18  quantity                               303602 non-null  float64       \n",
      " 19  units                                  451958 non-null  object        \n",
      " 20  rate                                   439856 non-null  float64       \n",
      " 21  rate_minimum                           145595 non-null  float64       \n",
      " 22  rate_maximum                           151886 non-null  float64       \n",
      " 23  rate_description                       744941 non-null  object        \n",
      " 24  rate_units                             433626 non-null  object        \n",
      " 25  point_of_receipt_balancing_authority   177629 non-null  object        \n",
      " 26  point_of_receipt_specific_location     148712 non-null  object        \n",
      " 27  point_of_delivery_balancing_authority  265829 non-null  object        \n",
      " 28  point_of_delivery_specific_location    220636 non-null  object        \n",
      " 29  begin_date                             318643 non-null  datetime64[ns]\n",
      " 30  end_date                               307592 non-null  datetime64[ns]\n",
      " 31  year                                   778269 non-null  int64         \n",
      " 32  quarter                                778269 non-null  object        \n",
      "dtypes: datetime64[ns](6), float64(4), int64(1), object(22)\n",
      "memory usage: 195.9+ MB\n"
     ]
    }
   ],
   "source": [
    "with engine.connect() as conn:\n",
    "    # TODO:  For some read pd.read_sql_table is having trouble parsing date columns.\n",
    "    contracts = pd.read_sql(\"select * from contracts\", conn, parse_dates=DATE_COLUMNS.get(\"contracts\"))\n",
    "\n",
    "contracts.info()"
   ]
  },
  {
   "cell_type": "markdown",
   "id": "37035072-e101-44a7-98f9-dc2c0cb5a019",
   "metadata": {},
   "source": [
    "## Load Identities"
   ]
  },
  {
   "cell_type": "code",
   "execution_count": 10,
   "id": "f0ffea3b-fccf-4050-acbe-e90cb8bcbbcd",
   "metadata": {},
   "outputs": [
    {
     "name": "stdout",
     "output_type": "stream",
     "text": [
      "<class 'pandas.core.frame.DataFrame'>\n",
      "RangeIndex: 22998 entries, 0 to 22997\n",
      "Data columns (total 16 columns):\n",
      " #   Column                                           Non-Null Count  Dtype \n",
      "---  ------                                           --------------  ----- \n",
      " 0   filer_unique_id                                  22998 non-null  object\n",
      " 1   company_name                                     22998 non-null  object\n",
      " 2   company_identifier                               22998 non-null  object\n",
      " 3   contact_name                                     22998 non-null  object\n",
      " 4   contact_title                                    22998 non-null  object\n",
      " 5   contact_address                                  22998 non-null  object\n",
      " 6   contact_city                                     22998 non-null  object\n",
      " 7   contact_state                                    22998 non-null  object\n",
      " 8   contact_zip                                      22998 non-null  object\n",
      " 9   contact_country_name                             22998 non-null  object\n",
      " 10  contact_phone                                    22998 non-null  object\n",
      " 11  contact_email                                    22998 non-null  object\n",
      " 12  transactions_reported_to_index_price_publishers  22998 non-null  object\n",
      " 13  filing_quarter                                   22998 non-null  int64 \n",
      " 14  year                                             22998 non-null  int64 \n",
      " 15  quarter                                          22998 non-null  object\n",
      "dtypes: int64(2), object(14)\n",
      "memory usage: 2.8+ MB\n"
     ]
    }
   ],
   "source": [
    "with engine.connect() as conn:\n",
    "    identities = pd.read_sql_table(\"identities\", conn)\n",
    "\n",
    "identities.info()"
   ]
  },
  {
   "cell_type": "code",
   "execution_count": null,
   "id": "5e8f4dc9-c6dc-415c-a0f1-e45beeff1b74",
   "metadata": {},
   "outputs": [],
   "source": []
  }
 ],
 "metadata": {
  "kernelspec": {
   "display_name": "Python 3 (ipykernel)",
   "language": "python",
   "name": "python3"
  },
  "language_info": {
   "codemirror_mode": {
    "name": "ipython",
    "version": 3
   },
   "file_extension": ".py",
   "mimetype": "text/x-python",
   "name": "python",
   "nbconvert_exporter": "python",
   "pygments_lexer": "ipython3",
   "version": "3.10.4"
  }
 },
 "nbformat": 4,
 "nbformat_minor": 5
}
