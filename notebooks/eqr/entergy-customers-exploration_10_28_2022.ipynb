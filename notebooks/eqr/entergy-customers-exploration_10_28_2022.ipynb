{
 "cells": [
  {
   "cell_type": "markdown",
   "id": "ddd61851-672a-4ce4-b4c7-7f2c54d2b2bb",
   "metadata": {},
   "source": [
    "## Purpose\n",
    "**This notebook is a work in progress.** This notebook attempts to link a quarter of EQR customers with [FERC CIDs](https://www.ferc.gov/company-registration)."
   ]
  },
  {
   "cell_type": "code",
   "execution_count": 138,
   "id": "7bd5b880-c99c-4156-9612-438bd5a6d86b",
   "metadata": {},
   "outputs": [],
   "source": [
    "# from pudl_rmi.process_eqr import engine, DATE_COLUMNS\n",
    "\n",
    "import pandas as pd\n",
    "import sqlalchemy as sa"
   ]
  },
  {
   "cell_type": "markdown",
   "id": "49c443e5-64eb-4a00-b861-2c95bc4f54c5",
   "metadata": {
    "tags": []
   },
   "source": [
    "## EQR Sales"
   ]
  },
  {
   "cell_type": "code",
   "execution_count": 7,
   "id": "cd1315ef-f5d7-4846-9965-a1ebd26cd985",
   "metadata": {},
   "outputs": [],
   "source": [
    "engine = sa.create_engine(\"sqlite:////Users/bendnorman/catalyst/rmi-ferc1-eia/outputs/eqr.db\")\n",
    "\n",
    "with engine.connect() as conn:\n",
    "    contracts = pd.read_sql(\"select * from contracts\", conn)\n",
    "    identities = pd.read_sql(\"select * from identities\", conn)"
   ]
  },
  {
   "cell_type": "code",
   "execution_count": 8,
   "id": "21f2a9b1-f88e-4263-8cd8-60d6c21a0f37",
   "metadata": {
    "tags": []
   },
   "outputs": [
    {
     "name": "stdout",
     "output_type": "stream",
     "text": [
      "<class 'pandas.core.frame.DataFrame'>\n",
      "RangeIndex: 778269 entries, 0 to 778268\n",
      "Data columns (total 33 columns):\n",
      " #   Column                                 Non-Null Count   Dtype  \n",
      "---  ------                                 --------------   -----  \n",
      " 0   contract_unique_id                     778269 non-null  object \n",
      " 1   seller_company_name                    778269 non-null  object \n",
      " 2   seller_history_name                    0 non-null       object \n",
      " 3   customer_company_name                  778269 non-null  object \n",
      " 4   contract_affiliate                     778269 non-null  object \n",
      " 5   ferc_tariff_reference                  778241 non-null  object \n",
      " 6   contract_service_agreement_id          778189 non-null  object \n",
      " 7   contract_execution_date                778269 non-null  object \n",
      " 8   commencement_date_of_contract_term     778269 non-null  object \n",
      " 9   contract_termination_date              260131 non-null  object \n",
      " 10  actual_termination_date                15911 non-null   object \n",
      " 11  extension_provision_description        726657 non-null  object \n",
      " 12  class_name                             415554 non-null  object \n",
      " 13  term_name                              621383 non-null  object \n",
      " 14  increment_name                         379625 non-null  object \n",
      " 15  increment_peaking_name                 282761 non-null  object \n",
      " 16  product_type_name                      778269 non-null  object \n",
      " 17  product_name                           778269 non-null  object \n",
      " 18  quantity                               303602 non-null  float64\n",
      " 19  units                                  451958 non-null  object \n",
      " 20  rate                                   439856 non-null  float64\n",
      " 21  rate_minimum                           145595 non-null  float64\n",
      " 22  rate_maximum                           151886 non-null  float64\n",
      " 23  rate_description                       744941 non-null  object \n",
      " 24  rate_units                             433626 non-null  object \n",
      " 25  point_of_receipt_balancing_authority   177629 non-null  object \n",
      " 26  point_of_receipt_specific_location     148712 non-null  object \n",
      " 27  point_of_delivery_balancing_authority  265829 non-null  object \n",
      " 28  point_of_delivery_specific_location    220636 non-null  object \n",
      " 29  begin_date                             318643 non-null  object \n",
      " 30  end_date                               307592 non-null  object \n",
      " 31  year                                   778269 non-null  int64  \n",
      " 32  quarter                                778269 non-null  object \n",
      "dtypes: float64(4), int64(1), object(28)\n",
      "memory usage: 195.9+ MB\n"
     ]
    }
   ],
   "source": [
    "contracts.info()"
   ]
  },
  {
   "cell_type": "code",
   "execution_count": 9,
   "id": "93c47388-cc80-427e-b0d1-73dedb2d90d2",
   "metadata": {
    "tags": []
   },
   "outputs": [
    {
     "name": "stdout",
     "output_type": "stream",
     "text": [
      "<class 'pandas.core.frame.DataFrame'>\n",
      "RangeIndex: 22998 entries, 0 to 22997\n",
      "Data columns (total 16 columns):\n",
      " #   Column                                           Non-Null Count  Dtype \n",
      "---  ------                                           --------------  ----- \n",
      " 0   filer_unique_id                                  22998 non-null  object\n",
      " 1   company_name                                     22998 non-null  object\n",
      " 2   company_identifier                               22998 non-null  object\n",
      " 3   contact_name                                     22998 non-null  object\n",
      " 4   contact_title                                    22998 non-null  object\n",
      " 5   contact_address                                  22998 non-null  object\n",
      " 6   contact_city                                     22998 non-null  object\n",
      " 7   contact_state                                    22998 non-null  object\n",
      " 8   contact_zip                                      22998 non-null  object\n",
      " 9   contact_country_name                             22998 non-null  object\n",
      " 10  contact_phone                                    22998 non-null  object\n",
      " 11  contact_email                                    22998 non-null  object\n",
      " 12  transactions_reported_to_index_price_publishers  22998 non-null  object\n",
      " 13  filing_quarter                                   22998 non-null  int64 \n",
      " 14  year                                             22998 non-null  int64 \n",
      " 15  quarter                                          22998 non-null  object\n",
      "dtypes: int64(2), object(14)\n",
      "memory usage: 2.8+ MB\n"
     ]
    }
   ],
   "source": [
    "identities.info()"
   ]
  },
  {
   "cell_type": "code",
   "execution_count": 10,
   "id": "a0d3c696-befe-4ae6-bd2b-36d7da3024c6",
   "metadata": {},
   "outputs": [],
   "source": [
    "identities = identities.query(\"quarter == 'Q1'\")\n",
    "contracts = contracts.query(\"quarter == 'Q1'\")"
   ]
  },
  {
   "cell_type": "markdown",
   "id": "67390fd5-ae2f-4b2c-a426-a89396309934",
   "metadata": {},
   "source": [
    "## Explore FERC CID dataset"
   ]
  },
  {
   "cell_type": "code",
   "execution_count": 19,
   "id": "ea1868f0-9c7e-4237-9c0e-e2436df7fca9",
   "metadata": {},
   "outputs": [],
   "source": [
    "cids = pd.read_excel(\"/Users/bendnorman/catalyst/rmi-ferc1-eia/inputs/eqr_data/FERC-CID-Listing-9-1-2022.xlsx\", header=2)\n",
    "cids.columns = [col.lower().replace(\" \", \"_\") for col in cids.columns]"
   ]
  },
  {
   "cell_type": "code",
   "execution_count": 23,
   "id": "3c94a2d5-5f43-4c1e-9e46-52440807ead4",
   "metadata": {},
   "outputs": [
    {
     "ename": "AssertionError",
     "evalue": "",
     "output_type": "error",
     "traceback": [
      "\u001b[0;31m---------------------------------------------------------------------------\u001b[0m",
      "\u001b[0;31mAssertionError\u001b[0m                            Traceback (most recent call last)",
      "Cell \u001b[0;32mIn [23], line 2\u001b[0m\n\u001b[1;32m      1\u001b[0m \u001b[38;5;28;01massert\u001b[39;00m cids\u001b[38;5;241m.\u001b[39mcid\u001b[38;5;241m.\u001b[39mis_unique\n\u001b[0;32m----> 2\u001b[0m \u001b[38;5;28;01massert\u001b[39;00m cids\u001b[38;5;241m.\u001b[39morganization_name\u001b[38;5;241m.\u001b[39mis_unique\n",
      "\u001b[0;31mAssertionError\u001b[0m: "
     ]
    }
   ],
   "source": [
    "assert cids.cid.is_unique\n",
    "assert cids.organization_name.is_unique"
   ]
  },
  {
   "cell_type": "code",
   "execution_count": 34,
   "id": "233824ef-9df3-4ba7-8d48-e9f3253e6c5b",
   "metadata": {},
   "outputs": [
    {
     "data": {
      "text/plain": [
       "False    5026\n",
       "dtype: int64"
      ]
     },
     "execution_count": 34,
     "metadata": {},
     "output_type": "execute_result"
    }
   ],
   "source": [
    "cids.duplicated(keep=False).value_counts()"
   ]
  },
  {
   "cell_type": "code",
   "execution_count": 40,
   "id": "95d48fc4-ac5e-445f-8168-d67b4bb0008f",
   "metadata": {},
   "outputs": [
    {
     "data": {
      "text/plain": [
       "False    5010\n",
       "True       16\n",
       "dtype: int64"
      ]
     },
     "execution_count": 40,
     "metadata": {},
     "output_type": "execute_result"
    }
   ],
   "source": [
    "non_cid_fields = cids.columns.to_list()\n",
    "non_cid_fields.remove(\"cid\")\n",
    "cids.duplicated(subset=non_cid_fields, keep=False).value_counts()"
   ]
  },
  {
   "cell_type": "markdown",
   "id": "b27a4bce-1171-4ca9-b6ca-4b7dc0755793",
   "metadata": {},
   "source": [
    "There are 16 records that share duplicate information with another record except for CID. This means there are a few company names that have muliple CIDs. We'll probably be linking EQR buyers on company name so there is the posibility a buyer links to multiple CIDS. To keep it simple for now I'm going to drop duplicate organization names."
   ]
  },
  {
   "cell_type": "code",
   "execution_count": 41,
   "id": "abdd878b-ed76-48da-964f-6f4161052a44",
   "metadata": {},
   "outputs": [],
   "source": [
    "cids = cids.drop_duplicates(subset=[\"organization_name\"])\n",
    "assert cids.cid.is_unique\n",
    "assert cids.organization_name.is_unique"
   ]
  },
  {
   "cell_type": "code",
   "execution_count": 113,
   "id": "5969a417-1454-408c-8d4c-851edc726c0b",
   "metadata": {},
   "outputs": [
    {
     "data": {
      "text/plain": [
       "Western      3410\n",
       "Pipelines     780\n",
       "Eastern       531\n",
       "Central       255\n",
       "Name: region, dtype: int64"
      ]
     },
     "execution_count": 113,
     "metadata": {},
     "output_type": "execute_result"
    }
   ],
   "source": [
    "cids.region.value_counts()"
   ]
  },
  {
   "cell_type": "code",
   "execution_count": 114,
   "id": "fdf0d56e-0919-461c-99ac-fb9367536265",
   "metadata": {},
   "outputs": [
    {
     "data": {
      "text/plain": [
       "FPA (Market Based Rate) Public Utilities                                     3100\n",
       "FPA (Traditional Cost of Service and Market Based Rates) Public Utilities    1083\n",
       "ICA Oil Pipelines                                                             395\n",
       "NGA Gas Pipelines                                                             248\n",
       "NGPA 311 and NGA Hinshaw Gas Pipelines                                        141\n",
       "Power Administrations                                                           9\n",
       "Name: program, dtype: int64"
      ]
     },
     "execution_count": 114,
     "metadata": {},
     "output_type": "execute_result"
    }
   ],
   "source": [
    "cids.program.value_counts()"
   ]
  },
  {
   "cell_type": "markdown",
   "id": "ffabb052-6170-4359-9351-204fc23a06de",
   "metadata": {},
   "source": [
    "## Try to link CIDs to buyers"
   ]
  },
  {
   "cell_type": "code",
   "execution_count": 87,
   "id": "8dd5865c-8b05-42c2-aa7d-c31970d13c50",
   "metadata": {},
   "outputs": [
    {
     "name": "stderr",
     "output_type": "stream",
     "text": [
      "/var/folders/ts/zf71sqq50nx4d41fy5xtsxhw0000gn/T/ipykernel_28342/781586245.py:4: FutureWarning: The default value of regex will change from True to False in a future version. In addition, single character regular expressions will *not* be treated as literal strings when regex=True.\n",
      "  s = s.str.replace(\".\", \"\")\n"
     ]
    },
    {
     "data": {
      "text/plain": [
       "0    ben llc\n",
       "1    ben llc\n",
       "dtype: object"
      ]
     },
     "execution_count": 87,
     "metadata": {},
     "output_type": "execute_result"
    }
   ],
   "source": [
    "def clean_company_names(s):\n",
    "    s = s.str.lower()\n",
    "    s = s.str.strip()\n",
    "    s = s.str.replace(\".\", \"\")\n",
    "    s = s.str.replace(\",\", \"\")\n",
    "    return s\n",
    "\n",
    "s = pd.Series([\"ben llc.\", \"ben, llc\"])\n",
    "clean_company_names(s)"
   ]
  },
  {
   "cell_type": "code",
   "execution_count": 112,
   "id": "04bbb9f3-e2ca-46ee-8d31-c8b76f7ae325",
   "metadata": {},
   "outputs": [
    {
     "name": "stdout",
     "output_type": "stream",
     "text": [
      "4976\n",
      "11846\n"
     ]
    },
    {
     "name": "stderr",
     "output_type": "stream",
     "text": [
      "/var/folders/ts/zf71sqq50nx4d41fy5xtsxhw0000gn/T/ipykernel_28342/781586245.py:4: FutureWarning: The default value of regex will change from True to False in a future version. In addition, single character regular expressions will *not* be treated as literal strings when regex=True.\n",
      "  s = s.str.replace(\".\", \"\")\n"
     ]
    }
   ],
   "source": [
    "eqr_customers = clean_company_names(contracts[\"customer_company_name\"])\n",
    "eqr_customers = eqr_customers.drop_duplicates().to_frame(name=\"customer_company_name\")\n",
    "\n",
    "cids[\"organization_name\"] = clean_company_names(cids[\"organization_name\"])\n",
    "cids = cids.drop_duplicates(subset=[\"organization_name\"])\n",
    "assert cids.cid.is_unique\n",
    "assert cids.organization_name.is_unique\n",
    "\n",
    "print(cids.organization_name.nunique())\n",
    "print(eqr_customers.customer_company_name.nunique())"
   ]
  },
  {
   "cell_type": "markdown",
   "id": "5a7f76c1-426a-4443-9fdc-c5791ec76dcf",
   "metadata": {},
   "source": [
    "There are way more unique eqr customer names than there are FERC companies."
   ]
  },
  {
   "cell_type": "code",
   "execution_count": 91,
   "id": "43ee3d1c-515a-4650-b039-8965560eb53a",
   "metadata": {},
   "outputs": [],
   "source": [
    "merged_customers = eqr_customers.merge(cids, how=\"left\", left_on=\"customer_company_name\", right_on=\"organization_name\", validate=\"1:1\")"
   ]
  },
  {
   "cell_type": "code",
   "execution_count": 92,
   "id": "e2eb8349-552f-4a45-aae9-7df541d3c125",
   "metadata": {},
   "outputs": [
    {
     "data": {
      "text/plain": [
       "True     9429\n",
       "False    2417\n",
       "Name: cid, dtype: int64"
      ]
     },
     "execution_count": 92,
     "metadata": {},
     "output_type": "execute_result"
    }
   ],
   "source": [
    "merged_customers.cid.isna().value_counts()"
   ]
  },
  {
   "cell_type": "code",
   "execution_count": 96,
   "id": "2d1eb607-af9f-49cd-86f2-9c3d0591335a",
   "metadata": {},
   "outputs": [
    {
     "data": {
      "text/html": [
       "<div>\n",
       "<style scoped>\n",
       "    .dataframe tbody tr th:only-of-type {\n",
       "        vertical-align: middle;\n",
       "    }\n",
       "\n",
       "    .dataframe tbody tr th {\n",
       "        vertical-align: top;\n",
       "    }\n",
       "\n",
       "    .dataframe thead th {\n",
       "        text-align: right;\n",
       "    }\n",
       "</style>\n",
       "<table border=\"1\" class=\"dataframe\">\n",
       "  <thead>\n",
       "    <tr style=\"text-align: right;\">\n",
       "      <th></th>\n",
       "      <th>customer_company_name</th>\n",
       "      <th>organization_name</th>\n",
       "      <th>cid</th>\n",
       "      <th>address</th>\n",
       "      <th>program</th>\n",
       "      <th>region</th>\n",
       "    </tr>\n",
       "  </thead>\n",
       "  <tbody>\n",
       "    <tr>\n",
       "      <th>10525</th>\n",
       "      <td>village of greenwich</td>\n",
       "      <td>NaN</td>\n",
       "      <td>NaN</td>\n",
       "      <td>NaN</td>\n",
       "      <td>NaN</td>\n",
       "      <td>NaN</td>\n",
       "    </tr>\n",
       "    <tr>\n",
       "      <th>10915</th>\n",
       "      <td>pacific gas and electric company on behalf of ...</td>\n",
       "      <td>NaN</td>\n",
       "      <td>NaN</td>\n",
       "      <td>NaN</td>\n",
       "      <td>NaN</td>\n",
       "      <td>NaN</td>\n",
       "    </tr>\n",
       "    <tr>\n",
       "      <th>3685</th>\n",
       "      <td>city of glencoe</td>\n",
       "      <td>NaN</td>\n",
       "      <td>NaN</td>\n",
       "      <td>NaN</td>\n",
       "      <td>NaN</td>\n",
       "      <td>NaN</td>\n",
       "    </tr>\n",
       "    <tr>\n",
       "      <th>8737</th>\n",
       "      <td>r:eweb/a:corp</td>\n",
       "      <td>NaN</td>\n",
       "      <td>NaN</td>\n",
       "      <td>NaN</td>\n",
       "      <td>NaN</td>\n",
       "      <td>NaN</td>\n",
       "    </tr>\n",
       "    <tr>\n",
       "      <th>7323</th>\n",
       "      <td>wildhorse wind energy llc</td>\n",
       "      <td>wildhorse wind energy llc</td>\n",
       "      <td>C010276</td>\n",
       "      <td>30 Ivan Allen Jr. Blvd., N.W., Atlanta, GA 30308</td>\n",
       "      <td>FPA (Market Based Rate) Public Utilities</td>\n",
       "      <td>Western</td>\n",
       "    </tr>\n",
       "    <tr>\n",
       "      <th>7183</th>\n",
       "      <td>city of grand island utilities department</td>\n",
       "      <td>NaN</td>\n",
       "      <td>NaN</td>\n",
       "      <td>NaN</td>\n",
       "      <td>NaN</td>\n",
       "      <td>NaN</td>\n",
       "    </tr>\n",
       "    <tr>\n",
       "      <th>5063</th>\n",
       "      <td>merrill lynch commodities canada ulc</td>\n",
       "      <td>NaN</td>\n",
       "      <td>NaN</td>\n",
       "      <td>NaN</td>\n",
       "      <td>NaN</td>\n",
       "      <td>NaN</td>\n",
       "    </tr>\n",
       "    <tr>\n",
       "      <th>8649</th>\n",
       "      <td>tdy industries inc (wah chang)</td>\n",
       "      <td>NaN</td>\n",
       "      <td>NaN</td>\n",
       "      <td>NaN</td>\n",
       "      <td>NaN</td>\n",
       "      <td>NaN</td>\n",
       "    </tr>\n",
       "    <tr>\n",
       "      <th>795</th>\n",
       "      <td>midwest energy inc</td>\n",
       "      <td>midwest energy inc</td>\n",
       "      <td>C011423</td>\n",
       "      <td>1330 CANTERBURY DR, Hays, KS 67601</td>\n",
       "      <td>FPA (Traditional Cost of Service and Market Ba...</td>\n",
       "      <td>Central</td>\n",
       "    </tr>\n",
       "    <tr>\n",
       "      <th>10148</th>\n",
       "      <td>mt jackson solar i llc</td>\n",
       "      <td>NaN</td>\n",
       "      <td>NaN</td>\n",
       "      <td>NaN</td>\n",
       "      <td>NaN</td>\n",
       "      <td>NaN</td>\n",
       "    </tr>\n",
       "  </tbody>\n",
       "</table>\n",
       "</div>"
      ],
      "text/plain": [
       "                                   customer_company_name  \\\n",
       "10525                               village of greenwich   \n",
       "10915  pacific gas and electric company on behalf of ...   \n",
       "3685                                     city of glencoe   \n",
       "8737                                       r:eweb/a:corp   \n",
       "7323                           wildhorse wind energy llc   \n",
       "7183           city of grand island utilities department   \n",
       "5063                merrill lynch commodities canada ulc   \n",
       "8649                      tdy industries inc (wah chang)   \n",
       "795                                   midwest energy inc   \n",
       "10148                             mt jackson solar i llc   \n",
       "\n",
       "               organization_name      cid  \\\n",
       "10525                        NaN      NaN   \n",
       "10915                        NaN      NaN   \n",
       "3685                         NaN      NaN   \n",
       "8737                         NaN      NaN   \n",
       "7323   wildhorse wind energy llc  C010276   \n",
       "7183                         NaN      NaN   \n",
       "5063                         NaN      NaN   \n",
       "8649                         NaN      NaN   \n",
       "795           midwest energy inc  C011423   \n",
       "10148                        NaN      NaN   \n",
       "\n",
       "                                                address  \\\n",
       "10525                                               NaN   \n",
       "10915                                               NaN   \n",
       "3685                                                NaN   \n",
       "8737                                                NaN   \n",
       "7323   30 Ivan Allen Jr. Blvd., N.W., Atlanta, GA 30308   \n",
       "7183                                                NaN   \n",
       "5063                                                NaN   \n",
       "8649                                                NaN   \n",
       "795                  1330 CANTERBURY DR, Hays, KS 67601   \n",
       "10148                                               NaN   \n",
       "\n",
       "                                                 program   region  \n",
       "10525                                                NaN      NaN  \n",
       "10915                                                NaN      NaN  \n",
       "3685                                                 NaN      NaN  \n",
       "8737                                                 NaN      NaN  \n",
       "7323            FPA (Market Based Rate) Public Utilities  Western  \n",
       "7183                                                 NaN      NaN  \n",
       "5063                                                 NaN      NaN  \n",
       "8649                                                 NaN      NaN  \n",
       "795    FPA (Traditional Cost of Service and Market Ba...  Central  \n",
       "10148                                                NaN      NaN  "
      ]
     },
     "execution_count": 96,
     "metadata": {},
     "output_type": "execute_result"
    }
   ],
   "source": [
    "merged_customers.sample(10)"
   ]
  },
  {
   "cell_type": "code",
   "execution_count": 101,
   "id": "11f8dc08-e11f-4ba7-9a16-6c8b7eb5f59d",
   "metadata": {},
   "outputs": [
    {
     "data": {
      "text/html": [
       "<div>\n",
       "<style scoped>\n",
       "    .dataframe tbody tr th:only-of-type {\n",
       "        vertical-align: middle;\n",
       "    }\n",
       "\n",
       "    .dataframe tbody tr th {\n",
       "        vertical-align: top;\n",
       "    }\n",
       "\n",
       "    .dataframe thead th {\n",
       "        text-align: right;\n",
       "    }\n",
       "</style>\n",
       "<table border=\"1\" class=\"dataframe\">\n",
       "  <thead>\n",
       "    <tr style=\"text-align: right;\">\n",
       "      <th></th>\n",
       "      <th>organization_name</th>\n",
       "      <th>cid</th>\n",
       "      <th>address</th>\n",
       "      <th>program</th>\n",
       "      <th>region</th>\n",
       "    </tr>\n",
       "  </thead>\n",
       "  <tbody>\n",
       "    <tr>\n",
       "      <th>3619</th>\n",
       "      <td>jackson generation llc</td>\n",
       "      <td>C011151</td>\n",
       "      <td>1900 East Golf Rd. Suite 1030, Schaumburg, IL ...</td>\n",
       "      <td>FPA (Traditional Cost of Service and Market Ba...</td>\n",
       "      <td>Central</td>\n",
       "    </tr>\n",
       "    <tr>\n",
       "      <th>4714</th>\n",
       "      <td>jackson prairie</td>\n",
       "      <td>C011209</td>\n",
       "      <td>239 Zandecki Road, Chehallis, WA 98532</td>\n",
       "      <td>NGA Gas Pipelines</td>\n",
       "      <td>Pipelines</td>\n",
       "    </tr>\n",
       "    <tr>\n",
       "      <th>4937</th>\n",
       "      <td>jackson pipeline company</td>\n",
       "      <td>C000107</td>\n",
       "      <td>370 17th Street Suite 2500, Denver, CO 80202</td>\n",
       "      <td>NGPA 311 and NGA Hinshaw Gas Pipelines</td>\n",
       "      <td>Pipelines</td>\n",
       "    </tr>\n",
       "  </tbody>\n",
       "</table>\n",
       "</div>"
      ],
      "text/plain": [
       "             organization_name      cid  \\\n",
       "3619    jackson generation llc  C011151   \n",
       "4714           jackson prairie  C011209   \n",
       "4937  jackson pipeline company  C000107   \n",
       "\n",
       "                                                address  \\\n",
       "3619  1900 East Golf Rd. Suite 1030, Schaumburg, IL ...   \n",
       "4714             239 Zandecki Road, Chehallis, WA 98532   \n",
       "4937       370 17th Street Suite 2500, Denver, CO 80202   \n",
       "\n",
       "                                                program     region  \n",
       "3619  FPA (Traditional Cost of Service and Market Ba...    Central  \n",
       "4714                                  NGA Gas Pipelines  Pipelines  \n",
       "4937             NGPA 311 and NGA Hinshaw Gas Pipelines  Pipelines  "
      ]
     },
     "execution_count": 101,
     "metadata": {},
     "output_type": "execute_result"
    }
   ],
   "source": [
    "name = \"jackson\"\n",
    "cids[cids.organization_name.str.contains(name)]"
   ]
  },
  {
   "cell_type": "markdown",
   "id": "8d99e5d7-9b91-41df-9c2e-8e28c6c21e76",
   "metadata": {},
   "source": [
    "**Who needs to file for a CID?**\n",
    "> You must obtain a Company Identifier if your company is required by Commission regulations to submit an electronic filing for which a Company Identifier is required. If you are uncertain about whether an electronic filing you are required to submit requires a Company Identifier, you should obtain legal advice regarding FERC regulatory affairs and, if deemed necessary, consult with appropriate FERC staff.\n",
    "\n",
    "Which forms require CID? EQR sellers, Form 1 respondents. What types of entities would likely be buying energy but don't have to file most FERC forms? I think we need to answer this to understand how many matches we should expect.\n",
    "\n",
    "**What types of entities would purchase energy?**\n",
    "\n",
    "**Can we assume a seller and buyer are in the same region?**\n",
    "\n",
    "**What is cid.program?**\n",
    "> Regulatory Programs refer to the Commission’s different statutory mandates and regulatory schemes.\n",
    "\n",
    "**How do filers input customer name information?**\n",
    "It seems like it's a free for all :(\n",
    "\n",
    "**Find region of buyer?**\n",
    "To improve entity matching, we could categorize the EQR customer's Region by using the Point of Delivery Specific Location field."
   ]
  },
  {
   "cell_type": "code",
   "execution_count": 107,
   "id": "56d90fdc-d6be-4087-982c-a45e85064896",
   "metadata": {},
   "outputs": [],
   "source": [
    "entergy_purchases = merged_customers[merged_customers.customer_company_name.str.contains(\"entergy\")]"
   ]
  },
  {
   "cell_type": "code",
   "execution_count": 110,
   "id": "6970a39e-6f57-41b2-a727-ee5b98107853",
   "metadata": {},
   "outputs": [
    {
     "data": {
      "text/plain": [
       "True     18\n",
       "False    16\n",
       "Name: cid, dtype: int64"
      ]
     },
     "execution_count": 110,
     "metadata": {},
     "output_type": "execute_result"
    }
   ],
   "source": [
    "entergy_purchases.cid.isna().value_counts()"
   ]
  },
  {
   "cell_type": "code",
   "execution_count": 116,
   "id": "0391af41-407a-4d74-91e3-03d275a2aeae",
   "metadata": {},
   "outputs": [
    {
     "data": {
      "text/html": [
       "<div>\n",
       "<style scoped>\n",
       "    .dataframe tbody tr th:only-of-type {\n",
       "        vertical-align: middle;\n",
       "    }\n",
       "\n",
       "    .dataframe tbody tr th {\n",
       "        vertical-align: top;\n",
       "    }\n",
       "\n",
       "    .dataframe thead th {\n",
       "        text-align: right;\n",
       "    }\n",
       "</style>\n",
       "<table border=\"1\" class=\"dataframe\">\n",
       "  <thead>\n",
       "    <tr style=\"text-align: right;\">\n",
       "      <th></th>\n",
       "      <th>customer_company_name</th>\n",
       "      <th>organization_name</th>\n",
       "      <th>cid</th>\n",
       "      <th>address</th>\n",
       "      <th>program</th>\n",
       "      <th>region</th>\n",
       "    </tr>\n",
       "  </thead>\n",
       "  <tbody>\n",
       "    <tr>\n",
       "      <th>53</th>\n",
       "      <td>entergy arkansas inc</td>\n",
       "      <td>entergy arkansas inc</td>\n",
       "      <td>C000776</td>\n",
       "      <td>425 West Capitol Ave, Little Rock, AR 72201</td>\n",
       "      <td>FPA (Traditional Cost of Service and Market Ba...</td>\n",
       "      <td>Central</td>\n",
       "    </tr>\n",
       "    <tr>\n",
       "      <th>98</th>\n",
       "      <td>entergy services inc acting as agent for the o...</td>\n",
       "      <td>NaN</td>\n",
       "      <td>NaN</td>\n",
       "      <td>NaN</td>\n",
       "      <td>NaN</td>\n",
       "      <td>NaN</td>\n",
       "    </tr>\n",
       "    <tr>\n",
       "      <th>130</th>\n",
       "      <td>entergy koch trading lp</td>\n",
       "      <td>NaN</td>\n",
       "      <td>NaN</td>\n",
       "      <td>NaN</td>\n",
       "      <td>NaN</td>\n",
       "      <td>NaN</td>\n",
       "    </tr>\n",
       "    <tr>\n",
       "      <th>333</th>\n",
       "      <td>entergy nuclear power marketing llc</td>\n",
       "      <td>entergy nuclear power marketing llc</td>\n",
       "      <td>C000860</td>\n",
       "      <td>100 First Stamford Place, Stamford, CT 06902</td>\n",
       "      <td>FPA (Market Based Rate) Public Utilities</td>\n",
       "      <td>Western</td>\n",
       "    </tr>\n",
       "    <tr>\n",
       "      <th>364</th>\n",
       "      <td>entergy power marketing corp</td>\n",
       "      <td>NaN</td>\n",
       "      <td>NaN</td>\n",
       "      <td>NaN</td>\n",
       "      <td>NaN</td>\n",
       "      <td>NaN</td>\n",
       "    </tr>\n",
       "    <tr>\n",
       "      <th>507</th>\n",
       "      <td>entergy services inc as agent for the entergy ...</td>\n",
       "      <td>NaN</td>\n",
       "      <td>NaN</td>\n",
       "      <td>NaN</td>\n",
       "      <td>NaN</td>\n",
       "      <td>NaN</td>\n",
       "    </tr>\n",
       "    <tr>\n",
       "      <th>527</th>\n",
       "      <td>entergy services inc</td>\n",
       "      <td>NaN</td>\n",
       "      <td>NaN</td>\n",
       "      <td>NaN</td>\n",
       "      <td>NaN</td>\n",
       "      <td>NaN</td>\n",
       "    </tr>\n",
       "    <tr>\n",
       "      <th>2181</th>\n",
       "      <td>entergy-koch trading lp</td>\n",
       "      <td>NaN</td>\n",
       "      <td>NaN</td>\n",
       "      <td>NaN</td>\n",
       "      <td>NaN</td>\n",
       "      <td>NaN</td>\n",
       "    </tr>\n",
       "    <tr>\n",
       "      <th>3113</th>\n",
       "      <td>entergy louisiana llc</td>\n",
       "      <td>entergy louisiana llc</td>\n",
       "      <td>C004995</td>\n",
       "      <td>4809 Jefferson Highway, Jefferson, LA 70121</td>\n",
       "      <td>FPA (Traditional Cost of Service and Market Ba...</td>\n",
       "      <td>Central</td>\n",
       "    </tr>\n",
       "    <tr>\n",
       "      <th>3471</th>\n",
       "      <td>entergy services llc</td>\n",
       "      <td>entergy services llc</td>\n",
       "      <td>C002146</td>\n",
       "      <td>639 Loyola Avenue, New Orleans, LA 70113</td>\n",
       "      <td>FPA (Traditional Cost of Service and Market Ba...</td>\n",
       "      <td>Central</td>\n",
       "    </tr>\n",
       "    <tr>\n",
       "      <th>3488</th>\n",
       "      <td>entergy gulf states louisiana llc</td>\n",
       "      <td>entergy gulf states louisiana llc</td>\n",
       "      <td>C000847</td>\n",
       "      <td>446 North Blvd, BATON ROUGE, LA 70802</td>\n",
       "      <td>FPA (Traditional Cost of Service and Market Ba...</td>\n",
       "      <td>Central</td>\n",
       "    </tr>\n",
       "    <tr>\n",
       "      <th>3491</th>\n",
       "      <td>entergy texas inc</td>\n",
       "      <td>entergy texas inc</td>\n",
       "      <td>C000851</td>\n",
       "      <td>350 Pine Street, Beaumont, TX 77701</td>\n",
       "      <td>FPA (Traditional Cost of Service and Market Ba...</td>\n",
       "      <td>Central</td>\n",
       "    </tr>\n",
       "    <tr>\n",
       "      <th>3493</th>\n",
       "      <td>entergy mississippi llc</td>\n",
       "      <td>entergy mississippi llc</td>\n",
       "      <td>C008999</td>\n",
       "      <td>308 East Pearl Street, Jackson, MS 39201</td>\n",
       "      <td>FPA (Traditional Cost of Service and Market Ba...</td>\n",
       "      <td>Central</td>\n",
       "    </tr>\n",
       "    <tr>\n",
       "      <th>3508</th>\n",
       "      <td>entergy operations inc</td>\n",
       "      <td>entergy operations inc</td>\n",
       "      <td>C011368</td>\n",
       "      <td>1340 Echelon Parkway, Jackson, MS 39213</td>\n",
       "      <td>FPA (Traditional Cost of Service and Market Ba...</td>\n",
       "      <td>Central</td>\n",
       "    </tr>\n",
       "    <tr>\n",
       "      <th>3510</th>\n",
       "      <td>entergy arkansas llc</td>\n",
       "      <td>entergy arkansas llc</td>\n",
       "      <td>C008998</td>\n",
       "      <td>425 West Capitol Ave, Little Rock, AR 72201</td>\n",
       "      <td>FPA (Traditional Cost of Service and Market Ba...</td>\n",
       "      <td>Central</td>\n",
       "    </tr>\n",
       "    <tr>\n",
       "      <th>3634</th>\n",
       "      <td>entergy nuclear palisades llc</td>\n",
       "      <td>entergy nuclear palisades llc</td>\n",
       "      <td>C000859</td>\n",
       "      <td>1340 Eschelon Parkway, Jackson, MS 39213</td>\n",
       "      <td>FPA (Market Based Rate) Public Utilities</td>\n",
       "      <td>Western</td>\n",
       "    </tr>\n",
       "    <tr>\n",
       "      <th>3759</th>\n",
       "      <td>entergy new orleans llc</td>\n",
       "      <td>entergy new orleans llc</td>\n",
       "      <td>C007667</td>\n",
       "      <td>1600 Perdido Street, New Orleans, LA 70112</td>\n",
       "      <td>FPA (Traditional Cost of Service and Market Ba...</td>\n",
       "      <td>Central</td>\n",
       "    </tr>\n",
       "    <tr>\n",
       "      <th>4289</th>\n",
       "      <td>entergy fitzpatrick llc</td>\n",
       "      <td>NaN</td>\n",
       "      <td>NaN</td>\n",
       "      <td>NaN</td>\n",
       "      <td>NaN</td>\n",
       "      <td>NaN</td>\n",
       "    </tr>\n",
       "    <tr>\n",
       "      <th>4324</th>\n",
       "      <td>entergy mississippi inc</td>\n",
       "      <td>entergy mississippi inc</td>\n",
       "      <td>C000849</td>\n",
       "      <td>308 East Pearl Street, Jackson, MS 39201</td>\n",
       "      <td>FPA (Traditional Cost of Service and Market Ba...</td>\n",
       "      <td>Central</td>\n",
       "    </tr>\n",
       "    <tr>\n",
       "      <th>4325</th>\n",
       "      <td>entergy new orleans inc</td>\n",
       "      <td>entergy new orleans inc</td>\n",
       "      <td>C000850</td>\n",
       "      <td>1600 Perdido Street, New Orleans, LA 70112</td>\n",
       "      <td>FPA (Traditional Cost of Service and Market Ba...</td>\n",
       "      <td>Central</td>\n",
       "    </tr>\n",
       "    <tr>\n",
       "      <th>4973</th>\n",
       "      <td>entergy nuclear indian point 2 llc</td>\n",
       "      <td>entergy nuclear indian point 2 llc</td>\n",
       "      <td>C000853</td>\n",
       "      <td>1340 Eschelon Parkway, Jackson, MS 39213</td>\n",
       "      <td>FPA (Market Based Rate) Public Utilities</td>\n",
       "      <td>Western</td>\n",
       "    </tr>\n",
       "    <tr>\n",
       "      <th>5001</th>\n",
       "      <td>entergy nuclear indian point 3 llc</td>\n",
       "      <td>entergy nuclear indian point 3 llc</td>\n",
       "      <td>C000854</td>\n",
       "      <td>1340 Eschelon Parkway, Jackson, MS 39213</td>\n",
       "      <td>FPA (Market Based Rate) Public Utilities</td>\n",
       "      <td>Western</td>\n",
       "    </tr>\n",
       "    <tr>\n",
       "      <th>5120</th>\n",
       "      <td>entergy power inc</td>\n",
       "      <td>NaN</td>\n",
       "      <td>NaN</td>\n",
       "      <td>NaN</td>\n",
       "      <td>NaN</td>\n",
       "      <td>NaN</td>\n",
       "    </tr>\n",
       "    <tr>\n",
       "      <th>6705</th>\n",
       "      <td>entergy power marketing corporation</td>\n",
       "      <td>NaN</td>\n",
       "      <td>NaN</td>\n",
       "      <td>NaN</td>\n",
       "      <td>NaN</td>\n",
       "      <td>NaN</td>\n",
       "    </tr>\n",
       "    <tr>\n",
       "      <th>8427</th>\n",
       "      <td>entergy rhode island state energy lp</td>\n",
       "      <td>NaN</td>\n",
       "      <td>NaN</td>\n",
       "      <td>NaN</td>\n",
       "      <td>NaN</td>\n",
       "      <td>NaN</td>\n",
       "    </tr>\n",
       "    <tr>\n",
       "      <th>9310</th>\n",
       "      <td>entergy/koch</td>\n",
       "      <td>NaN</td>\n",
       "      <td>NaN</td>\n",
       "      <td>NaN</td>\n",
       "      <td>NaN</td>\n",
       "      <td>NaN</td>\n",
       "    </tr>\n",
       "    <tr>\n",
       "      <th>9339</th>\n",
       "      <td>entergy nuclear fitzpatrick llc</td>\n",
       "      <td>entergy nuclear fitzpatrick llc</td>\n",
       "      <td>C000857</td>\n",
       "      <td>1340 Eschelon Parkway, Jackson, MS 39213</td>\n",
       "      <td>FPA (Market Based Rate) Public Utilities</td>\n",
       "      <td>Western</td>\n",
       "    </tr>\n",
       "    <tr>\n",
       "      <th>9371</th>\n",
       "      <td>entergy  power marketing corporation</td>\n",
       "      <td>NaN</td>\n",
       "      <td>NaN</td>\n",
       "      <td>NaN</td>\n",
       "      <td>NaN</td>\n",
       "      <td>NaN</td>\n",
       "    </tr>\n",
       "    <tr>\n",
       "      <th>10827</th>\n",
       "      <td>entergy services inc / agent for entergy opera...</td>\n",
       "      <td>NaN</td>\n",
       "      <td>NaN</td>\n",
       "      <td>NaN</td>\n",
       "      <td>NaN</td>\n",
       "      <td>NaN</td>\n",
       "    </tr>\n",
       "    <tr>\n",
       "      <th>10846</th>\n",
       "      <td>entergy solutions llc</td>\n",
       "      <td>NaN</td>\n",
       "      <td>NaN</td>\n",
       "      <td>NaN</td>\n",
       "      <td>NaN</td>\n",
       "      <td>NaN</td>\n",
       "    </tr>\n",
       "    <tr>\n",
       "      <th>10861</th>\n",
       "      <td>entergy louisiana inc</td>\n",
       "      <td>NaN</td>\n",
       "      <td>NaN</td>\n",
       "      <td>NaN</td>\n",
       "      <td>NaN</td>\n",
       "      <td>NaN</td>\n",
       "    </tr>\n",
       "    <tr>\n",
       "      <th>10862</th>\n",
       "      <td>entergy gulf states inc</td>\n",
       "      <td>NaN</td>\n",
       "      <td>NaN</td>\n",
       "      <td>NaN</td>\n",
       "      <td>NaN</td>\n",
       "      <td>NaN</td>\n",
       "    </tr>\n",
       "    <tr>\n",
       "      <th>11137</th>\n",
       "      <td>entergy operating companies</td>\n",
       "      <td>NaN</td>\n",
       "      <td>NaN</td>\n",
       "      <td>NaN</td>\n",
       "      <td>NaN</td>\n",
       "      <td>NaN</td>\n",
       "    </tr>\n",
       "    <tr>\n",
       "      <th>11251</th>\n",
       "      <td>entergy operating cos</td>\n",
       "      <td>NaN</td>\n",
       "      <td>NaN</td>\n",
       "      <td>NaN</td>\n",
       "      <td>NaN</td>\n",
       "      <td>NaN</td>\n",
       "    </tr>\n",
       "  </tbody>\n",
       "</table>\n",
       "</div>"
      ],
      "text/plain": [
       "                                   customer_company_name  \\\n",
       "53                                  entergy arkansas inc   \n",
       "98     entergy services inc acting as agent for the o...   \n",
       "130                              entergy koch trading lp   \n",
       "333                  entergy nuclear power marketing llc   \n",
       "364                         entergy power marketing corp   \n",
       "507    entergy services inc as agent for the entergy ...   \n",
       "527                                 entergy services inc   \n",
       "2181                             entergy-koch trading lp   \n",
       "3113                               entergy louisiana llc   \n",
       "3471                                entergy services llc   \n",
       "3488                   entergy gulf states louisiana llc   \n",
       "3491                                   entergy texas inc   \n",
       "3493                             entergy mississippi llc   \n",
       "3508                              entergy operations inc   \n",
       "3510                                entergy arkansas llc   \n",
       "3634                       entergy nuclear palisades llc   \n",
       "3759                             entergy new orleans llc   \n",
       "4289                             entergy fitzpatrick llc   \n",
       "4324                             entergy mississippi inc   \n",
       "4325                             entergy new orleans inc   \n",
       "4973                  entergy nuclear indian point 2 llc   \n",
       "5001                  entergy nuclear indian point 3 llc   \n",
       "5120                                   entergy power inc   \n",
       "6705                 entergy power marketing corporation   \n",
       "8427                entergy rhode island state energy lp   \n",
       "9310                                        entergy/koch   \n",
       "9339                     entergy nuclear fitzpatrick llc   \n",
       "9371                entergy  power marketing corporation   \n",
       "10827  entergy services inc / agent for entergy opera...   \n",
       "10846                              entergy solutions llc   \n",
       "10861                              entergy louisiana inc   \n",
       "10862                            entergy gulf states inc   \n",
       "11137                        entergy operating companies   \n",
       "11251                              entergy operating cos   \n",
       "\n",
       "                         organization_name      cid  \\\n",
       "53                    entergy arkansas inc  C000776   \n",
       "98                                     NaN      NaN   \n",
       "130                                    NaN      NaN   \n",
       "333    entergy nuclear power marketing llc  C000860   \n",
       "364                                    NaN      NaN   \n",
       "507                                    NaN      NaN   \n",
       "527                                    NaN      NaN   \n",
       "2181                                   NaN      NaN   \n",
       "3113                 entergy louisiana llc  C004995   \n",
       "3471                  entergy services llc  C002146   \n",
       "3488     entergy gulf states louisiana llc  C000847   \n",
       "3491                     entergy texas inc  C000851   \n",
       "3493               entergy mississippi llc  C008999   \n",
       "3508                entergy operations inc  C011368   \n",
       "3510                  entergy arkansas llc  C008998   \n",
       "3634         entergy nuclear palisades llc  C000859   \n",
       "3759               entergy new orleans llc  C007667   \n",
       "4289                                   NaN      NaN   \n",
       "4324               entergy mississippi inc  C000849   \n",
       "4325               entergy new orleans inc  C000850   \n",
       "4973    entergy nuclear indian point 2 llc  C000853   \n",
       "5001    entergy nuclear indian point 3 llc  C000854   \n",
       "5120                                   NaN      NaN   \n",
       "6705                                   NaN      NaN   \n",
       "8427                                   NaN      NaN   \n",
       "9310                                   NaN      NaN   \n",
       "9339       entergy nuclear fitzpatrick llc  C000857   \n",
       "9371                                   NaN      NaN   \n",
       "10827                                  NaN      NaN   \n",
       "10846                                  NaN      NaN   \n",
       "10861                                  NaN      NaN   \n",
       "10862                                  NaN      NaN   \n",
       "11137                                  NaN      NaN   \n",
       "11251                                  NaN      NaN   \n",
       "\n",
       "                                            address  \\\n",
       "53      425 West Capitol Ave, Little Rock, AR 72201   \n",
       "98                                              NaN   \n",
       "130                                             NaN   \n",
       "333    100 First Stamford Place, Stamford, CT 06902   \n",
       "364                                             NaN   \n",
       "507                                             NaN   \n",
       "527                                             NaN   \n",
       "2181                                            NaN   \n",
       "3113    4809 Jefferson Highway, Jefferson, LA 70121   \n",
       "3471       639 Loyola Avenue, New Orleans, LA 70113   \n",
       "3488          446 North Blvd, BATON ROUGE, LA 70802   \n",
       "3491            350 Pine Street, Beaumont, TX 77701   \n",
       "3493       308 East Pearl Street, Jackson, MS 39201   \n",
       "3508        1340 Echelon Parkway, Jackson, MS 39213   \n",
       "3510    425 West Capitol Ave, Little Rock, AR 72201   \n",
       "3634       1340 Eschelon Parkway, Jackson, MS 39213   \n",
       "3759     1600 Perdido Street, New Orleans, LA 70112   \n",
       "4289                                            NaN   \n",
       "4324       308 East Pearl Street, Jackson, MS 39201   \n",
       "4325     1600 Perdido Street, New Orleans, LA 70112   \n",
       "4973       1340 Eschelon Parkway, Jackson, MS 39213   \n",
       "5001       1340 Eschelon Parkway, Jackson, MS 39213   \n",
       "5120                                            NaN   \n",
       "6705                                            NaN   \n",
       "8427                                            NaN   \n",
       "9310                                            NaN   \n",
       "9339       1340 Eschelon Parkway, Jackson, MS 39213   \n",
       "9371                                            NaN   \n",
       "10827                                           NaN   \n",
       "10846                                           NaN   \n",
       "10861                                           NaN   \n",
       "10862                                           NaN   \n",
       "11137                                           NaN   \n",
       "11251                                           NaN   \n",
       "\n",
       "                                                 program   region  \n",
       "53     FPA (Traditional Cost of Service and Market Ba...  Central  \n",
       "98                                                   NaN      NaN  \n",
       "130                                                  NaN      NaN  \n",
       "333             FPA (Market Based Rate) Public Utilities  Western  \n",
       "364                                                  NaN      NaN  \n",
       "507                                                  NaN      NaN  \n",
       "527                                                  NaN      NaN  \n",
       "2181                                                 NaN      NaN  \n",
       "3113   FPA (Traditional Cost of Service and Market Ba...  Central  \n",
       "3471   FPA (Traditional Cost of Service and Market Ba...  Central  \n",
       "3488   FPA (Traditional Cost of Service and Market Ba...  Central  \n",
       "3491   FPA (Traditional Cost of Service and Market Ba...  Central  \n",
       "3493   FPA (Traditional Cost of Service and Market Ba...  Central  \n",
       "3508   FPA (Traditional Cost of Service and Market Ba...  Central  \n",
       "3510   FPA (Traditional Cost of Service and Market Ba...  Central  \n",
       "3634            FPA (Market Based Rate) Public Utilities  Western  \n",
       "3759   FPA (Traditional Cost of Service and Market Ba...  Central  \n",
       "4289                                                 NaN      NaN  \n",
       "4324   FPA (Traditional Cost of Service and Market Ba...  Central  \n",
       "4325   FPA (Traditional Cost of Service and Market Ba...  Central  \n",
       "4973            FPA (Market Based Rate) Public Utilities  Western  \n",
       "5001            FPA (Market Based Rate) Public Utilities  Western  \n",
       "5120                                                 NaN      NaN  \n",
       "6705                                                 NaN      NaN  \n",
       "8427                                                 NaN      NaN  \n",
       "9310                                                 NaN      NaN  \n",
       "9339            FPA (Market Based Rate) Public Utilities  Western  \n",
       "9371                                                 NaN      NaN  \n",
       "10827                                                NaN      NaN  \n",
       "10846                                                NaN      NaN  \n",
       "10861                                                NaN      NaN  \n",
       "10862                                                NaN      NaN  \n",
       "11137                                                NaN      NaN  \n",
       "11251                                                NaN      NaN  "
      ]
     },
     "execution_count": 116,
     "metadata": {},
     "output_type": "execute_result"
    }
   ],
   "source": [
    "entergy_purchases"
   ]
  },
  {
   "cell_type": "markdown",
   "id": "88339851-e41b-4be1-82a4-435301a77c6f",
   "metadata": {},
   "source": [
    "## Explore customer information\n",
    "EQR provides so little information about the customer. What can we use to help associate the buyer with a CID? \n",
    "- Point of Delivery Specific Location: This could give us a better sense of the location. The column might be missing values though. What do the location codes even mean? Are they reliable? What field in Form 1 could we connect this to?"
   ]
  },
  {
   "cell_type": "code",
   "execution_count": 119,
   "id": "22feba3d-b49d-44d5-99c0-f7d484c9824a",
   "metadata": {},
   "outputs": [
    {
     "name": "stdout",
     "output_type": "stream",
     "text": [
      "<class 'pandas.core.frame.DataFrame'>\n",
      "Int64Index: 177530 entries, 0 to 177529\n",
      "Data columns (total 33 columns):\n",
      " #   Column                                 Non-Null Count   Dtype  \n",
      "---  ------                                 --------------   -----  \n",
      " 0   contract_unique_id                     177530 non-null  object \n",
      " 1   seller_company_name                    177530 non-null  object \n",
      " 2   seller_history_name                    0 non-null       object \n",
      " 3   customer_company_name                  177530 non-null  object \n",
      " 4   contract_affiliate                     177530 non-null  object \n",
      " 5   ferc_tariff_reference                  177523 non-null  object \n",
      " 6   contract_service_agreement_id          177510 non-null  object \n",
      " 7   contract_execution_date                177530 non-null  object \n",
      " 8   commencement_date_of_contract_term     177530 non-null  object \n",
      " 9   contract_termination_date              65348 non-null   object \n",
      " 10  actual_termination_date                3766 non-null    object \n",
      " 11  extension_provision_description        164675 non-null  object \n",
      " 12  class_name                             103587 non-null  object \n",
      " 13  term_name                              155677 non-null  object \n",
      " 14  increment_name                         94498 non-null   object \n",
      " 15  increment_peaking_name                 70393 non-null   object \n",
      " 16  product_type_name                      177530 non-null  object \n",
      " 17  product_name                           177530 non-null  object \n",
      " 18  quantity                               74644 non-null   float64\n",
      " 19  units                                  97161 non-null   object \n",
      " 20  rate                                   92510 non-null   float64\n",
      " 21  rate_minimum                           34459 non-null   float64\n",
      " 22  rate_maximum                           35729 non-null   float64\n",
      " 23  rate_description                       169294 non-null  object \n",
      " 24  rate_units                             92483 non-null   object \n",
      " 25  point_of_receipt_balancing_authority   43983 non-null   object \n",
      " 26  point_of_receipt_specific_location     36793 non-null   object \n",
      " 27  point_of_delivery_balancing_authority  66429 non-null   object \n",
      " 28  point_of_delivery_specific_location    55373 non-null   object \n",
      " 29  begin_date                             64531 non-null   object \n",
      " 30  end_date                               61718 non-null   object \n",
      " 31  year                                   177530 non-null  int64  \n",
      " 32  quarter                                177530 non-null  object \n",
      "dtypes: float64(4), int64(1), object(28)\n",
      "memory usage: 46.1+ MB\n"
     ]
    }
   ],
   "source": [
    "contracts.info()"
   ]
  },
  {
   "cell_type": "code",
   "execution_count": 129,
   "id": "ceb6bac1-f7ef-4c34-91df-13049f037ca1",
   "metadata": {},
   "outputs": [
    {
     "name": "stdout",
     "output_type": "stream",
     "text": [
      "True     122157\n",
      "False     55373\n",
      "Name: point_of_delivery_specific_location, dtype: int64\n"
     ]
    },
    {
     "data": {
      "text/plain": [
       "Singing River EPA - North Lucedale 115 kV           1\n",
       "Jacksonville 46 kV                                  1\n",
       "Gautier                                             5\n",
       "Mile-Hi 115 kV Substation, Lake County, OR         20\n",
       "The ISO Grid at SCE's Victor 115kV Substation      31\n",
       "Cascade - Cottonwood 115 kV Line                    2\n",
       "Kantor, HillTop, Griffith, N Havasu, Blk Mesa +     6\n",
       "Midway-Temblor 115 kV Transmission Line             2\n",
       "BHCE/West Station                                   1\n",
       "115 kV Keene Road Substation                        3\n",
       "Name: point_of_delivery_specific_location, dtype: int64"
      ]
     },
     "execution_count": 129,
     "metadata": {},
     "output_type": "execute_result"
    }
   ],
   "source": [
    "print(contracts.point_of_delivery_specific_location.isna().value_counts())\n",
    "contracts[~contracts.point_of_delivery_specific_location.isna()].point_of_delivery_specific_location.value_counts().sample(10)"
   ]
  },
  {
   "cell_type": "markdown",
   "id": "4acd4335-f232-4b72-93c4-32c9a723ac2a",
   "metadata": {},
   "source": [
    "Some of these might connect to generators in eia860. Seems like they could be substations, transmission lines."
   ]
  },
  {
   "cell_type": "code",
   "execution_count": 136,
   "id": "ee8ca4d5-8742-4b95-abbe-0996ff1d5340",
   "metadata": {},
   "outputs": [
    {
     "name": "stdout",
     "output_type": "stream",
     "text": [
      "True     111101\n",
      "False     66429\n",
      "Name: point_of_delivery_balancing_authority, dtype: int64\n",
      "\n",
      "BPAT    15468\n",
      "CISO    10680\n",
      "ISNE     7399\n",
      "PJM      4148\n",
      "PGE      3031\n",
      "SCL      2830\n",
      "MISO     2769\n",
      "SWPP     2744\n",
      "PACE     2357\n",
      "SOCO     2142\n",
      "Name: point_of_delivery_balancing_authority, dtype: int64\n"
     ]
    }
   ],
   "source": [
    "print(contracts.point_of_delivery_balancing_authority.isna().value_counts())\n",
    "print()\n",
    "print(contracts.point_of_delivery_balancing_authority.value_counts().head(10))"
   ]
  },
  {
   "cell_type": "markdown",
   "id": "a1d5f9be-3115-4652-8e22-fe2a4d6d8e97",
   "metadata": {},
   "source": [
    "Most contracts don't have a balancing authority or point of delivery. Are there other features we could use? \n",
    "- Transaction table has timezone of transaction.\n",
    "- Is there an LLC encoder library we could use to create some additional features?"
   ]
  }
 ],
 "metadata": {
  "kernelspec": {
   "display_name": "Python 3 (ipykernel)",
   "language": "python",
   "name": "python3"
  },
  "language_info": {
   "codemirror_mode": {
    "name": "ipython",
    "version": 3
   },
   "file_extension": ".py",
   "mimetype": "text/x-python",
   "name": "python",
   "nbconvert_exporter": "python",
   "pygments_lexer": "ipython3",
   "version": "3.10.6"
  }
 },
 "nbformat": 4,
 "nbformat_minor": 5
}
