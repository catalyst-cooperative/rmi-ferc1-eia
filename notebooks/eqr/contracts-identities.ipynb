{
 "cells": [
  {
   "cell_type": "markdown",
   "id": "990eb469-cf01-4e81-9634-a2968d407626",
   "metadata": {},
   "source": [
    "# Purpose\n",
    "The the field to link identities and contracts on is the company name field. This isn't ideal because it is a freeform text field. Utilities might report different names across in the identities and contracts table. \n",
    "\n",
    "## TL;DR\n",
    "Luckily there are only 5 of ~2500 contracts that can't be linked to an identity in 2020. TBD if company names and CIDs remain consistent across years. "
   ]
  },
  {
   "cell_type": "code",
   "execution_count": 1,
   "id": "7bd5b880-c99c-4156-9612-438bd5a6d86b",
   "metadata": {},
   "outputs": [],
   "source": [
    "from pudl_rmi.process_eqr import engine, DATE_COLUMNS\n",
    "\n",
    "import pandas as pd\n",
    "\n",
    "year = 2020\n",
    "quarter = 'Q2'"
   ]
  },
  {
   "cell_type": "markdown",
   "id": "49c443e5-64eb-4a00-b861-2c95bc4f54c5",
   "metadata": {
    "tags": []
   },
   "source": [
    "## Get Contracts"
   ]
  },
  {
   "cell_type": "code",
   "execution_count": 2,
   "id": "cd1315ef-f5d7-4846-9965-a1ebd26cd985",
   "metadata": {},
   "outputs": [],
   "source": [
    "with engine.connect() as conn:\n",
    "    all_contracts = pd.read_sql(\"select * from contracts\", conn)"
   ]
  },
  {
   "cell_type": "code",
   "execution_count": 3,
   "id": "21f2a9b1-f88e-4263-8cd8-60d6c21a0f37",
   "metadata": {},
   "outputs": [
    {
     "name": "stdout",
     "output_type": "stream",
     "text": [
      "<class 'pandas.core.frame.DataFrame'>\n",
      "RangeIndex: 778269 entries, 0 to 778268\n",
      "Data columns (total 33 columns):\n",
      " #   Column                                 Non-Null Count   Dtype  \n",
      "---  ------                                 --------------   -----  \n",
      " 0   contract_unique_id                     778269 non-null  object \n",
      " 1   seller_company_name                    778269 non-null  object \n",
      " 2   seller_history_name                    0 non-null       object \n",
      " 3   customer_company_name                  778269 non-null  object \n",
      " 4   contract_affiliate                     778269 non-null  object \n",
      " 5   ferc_tariff_reference                  778241 non-null  object \n",
      " 6   contract_service_agreement_id          778189 non-null  object \n",
      " 7   contract_execution_date                778269 non-null  object \n",
      " 8   commencement_date_of_contract_term     778269 non-null  object \n",
      " 9   contract_termination_date              260131 non-null  object \n",
      " 10  actual_termination_date                15911 non-null   object \n",
      " 11  extension_provision_description        726657 non-null  object \n",
      " 12  class_name                             415554 non-null  object \n",
      " 13  term_name                              621383 non-null  object \n",
      " 14  increment_name                         379625 non-null  object \n",
      " 15  increment_peaking_name                 282761 non-null  object \n",
      " 16  product_type_name                      778269 non-null  object \n",
      " 17  product_name                           778269 non-null  object \n",
      " 18  quantity                               303602 non-null  float64\n",
      " 19  units                                  451958 non-null  object \n",
      " 20  rate                                   439856 non-null  float64\n",
      " 21  rate_minimum                           145595 non-null  float64\n",
      " 22  rate_maximum                           151886 non-null  float64\n",
      " 23  rate_description                       744941 non-null  object \n",
      " 24  rate_units                             433626 non-null  object \n",
      " 25  point_of_receipt_balancing_authority   177629 non-null  object \n",
      " 26  point_of_receipt_specific_location     148712 non-null  object \n",
      " 27  point_of_delivery_balancing_authority  265829 non-null  object \n",
      " 28  point_of_delivery_specific_location    220636 non-null  object \n",
      " 29  begin_date                             318643 non-null  object \n",
      " 30  end_date                               307592 non-null  object \n",
      " 31  year                                   778269 non-null  int64  \n",
      " 32  quarter                                778269 non-null  object \n",
      "dtypes: float64(4), int64(1), object(28)\n",
      "memory usage: 195.9+ MB\n"
     ]
    }
   ],
   "source": [
    "all_contracts.info()"
   ]
  },
  {
   "cell_type": "code",
   "execution_count": 4,
   "id": "93c47388-cc80-427e-b0d1-73dedb2d90d2",
   "metadata": {},
   "outputs": [],
   "source": [
    "contracts = all_contracts.query(\"year == @year & quarter == @quarter\")"
   ]
  },
  {
   "cell_type": "markdown",
   "id": "a3aa1ee5-dd8b-4856-a37b-929b37babaff",
   "metadata": {
    "tags": []
   },
   "source": [
    "## Get Identities"
   ]
  },
  {
   "cell_type": "code",
   "execution_count": 5,
   "id": "465afe28-a2cd-4faa-a4e7-fb5172b76024",
   "metadata": {},
   "outputs": [],
   "source": [
    "with engine.connect() as conn:\n",
    "    all_identities = pd.read_sql_table(\"identities\", conn)"
   ]
  },
  {
   "cell_type": "code",
   "execution_count": 6,
   "id": "7d513f7d-c60c-4c19-9ac1-1d18a37aeebd",
   "metadata": {},
   "outputs": [
    {
     "name": "stdout",
     "output_type": "stream",
     "text": [
      "<class 'pandas.core.frame.DataFrame'>\n",
      "RangeIndex: 22998 entries, 0 to 22997\n",
      "Data columns (total 16 columns):\n",
      " #   Column                                           Non-Null Count  Dtype \n",
      "---  ------                                           --------------  ----- \n",
      " 0   filer_unique_id                                  22998 non-null  object\n",
      " 1   company_name                                     22998 non-null  object\n",
      " 2   company_identifier                               22998 non-null  object\n",
      " 3   contact_name                                     22998 non-null  object\n",
      " 4   contact_title                                    22998 non-null  object\n",
      " 5   contact_address                                  22998 non-null  object\n",
      " 6   contact_city                                     22998 non-null  object\n",
      " 7   contact_state                                    22998 non-null  object\n",
      " 8   contact_zip                                      22998 non-null  object\n",
      " 9   contact_country_name                             22998 non-null  object\n",
      " 10  contact_phone                                    22998 non-null  object\n",
      " 11  contact_email                                    22998 non-null  object\n",
      " 12  transactions_reported_to_index_price_publishers  22998 non-null  object\n",
      " 13  filing_quarter                                   22998 non-null  int64 \n",
      " 14  year                                             22998 non-null  int64 \n",
      " 15  quarter                                          22998 non-null  object\n",
      "dtypes: int64(2), object(14)\n",
      "memory usage: 2.8+ MB\n"
     ]
    }
   ],
   "source": [
    "all_identities.info()"
   ]
  },
  {
   "cell_type": "code",
   "execution_count": 7,
   "id": "d8ec8aab-0975-48f4-80a8-05dcd2096562",
   "metadata": {},
   "outputs": [],
   "source": [
    "identities = all_identities.query(\"year == @year & quarter == @quarter\")"
   ]
  },
  {
   "cell_type": "markdown",
   "id": "3b50ea76-2a05-4935-bcad-842a2331d1ac",
   "metadata": {},
   "source": [
    "## Does every `contracts.seller_company_name` exist in `identities.company_name`?"
   ]
  },
  {
   "cell_type": "code",
   "execution_count": 8,
   "id": "8ca2f567-447b-4aac-93a7-5dfd74809632",
   "metadata": {},
   "outputs": [
    {
     "name": "stdout",
     "output_type": "stream",
     "text": [
      "(2315,)\n",
      "(2810,)\n"
     ]
    }
   ],
   "source": [
    "contract_company_names = pd.Series(contracts.seller_company_name.unique())\n",
    "identity_company_names = pd.Series(identities.company_name.unique())\n",
    "print(contract_company_names.shape)\n",
    "print(identity_company_names.shape)"
   ]
  },
  {
   "cell_type": "code",
   "execution_count": 9,
   "id": "d8f80a29-079d-4e95-94e0-0c3a2fe10bc9",
   "metadata": {},
   "outputs": [
    {
     "name": "stdout",
     "output_type": "stream",
     "text": [
      "True     2314\n",
      "False       1\n",
      "dtype: int64\n"
     ]
    },
    {
     "data": {
      "text/plain": [
       "1224    FirstLight Power Resources Management, LLC\n",
       "dtype: object"
      ]
     },
     "execution_count": 9,
     "metadata": {},
     "output_type": "execute_result"
    }
   ],
   "source": [
    "is_name_in_both = contract_company_names.isin(identity_company_names)\n",
    "print(is_name_in_both.value_counts())\n",
    "\n",
    "contract_company_names[~is_name_in_both]"
   ]
  },
  {
   "cell_type": "code",
   "execution_count": 10,
   "id": "aa0c288a-a657-484c-a343-2ae749281fec",
   "metadata": {},
   "outputs": [
    {
     "data": {
      "text/plain": [
       "1143                  FirstLight CT Housatonic LLC\n",
       "1144                       FirstLight CT Hydro LLC\n",
       "1145                       FirstLight MA Hydro LLC\n",
       "1222                       First Choice Energy LLC\n",
       "1223               FirstLight Power Management LLC\n",
       "1224    FirstLight Power Resources Management, LLC\n",
       "2076                        First Point Power, LLC\n",
       "dtype: object"
      ]
     },
     "execution_count": 10,
     "metadata": {},
     "output_type": "execute_result"
    }
   ],
   "source": [
    "contract_company_names[contract_company_names.str.contains(\"First\")]"
   ]
  },
  {
   "cell_type": "code",
   "execution_count": 11,
   "id": "7782b7e3-482a-4c3a-a907-bc2b98e46e90",
   "metadata": {},
   "outputs": [
    {
     "data": {
      "text/plain": [
       "1449       FirstLight CT Housatonic LLC\n",
       "1450            FirstLight CT Hydro LLC\n",
       "1451            FirstLight MA Hydro LLC\n",
       "1539            First Choice Energy LLC\n",
       "1540    FirstLight Power Management LLC\n",
       "2525             First Point Power, LLC\n",
       "dtype: object"
      ]
     },
     "execution_count": 11,
     "metadata": {},
     "output_type": "execute_result"
    }
   ],
   "source": [
    "identity_company_names[identity_company_names.str.contains(\"First\")]"
   ]
  },
  {
   "cell_type": "markdown",
   "id": "ba572779-c6d8-4675-9d26-13e6be4ac5b0",
   "metadata": {},
   "source": [
    "There is ONE seller company name in the contracts data that does not exist in the identity table. "
   ]
  },
  {
   "cell_type": "markdown",
   "id": "18ade264-a161-4e16-9e6a-635086d28361",
   "metadata": {},
   "source": [
    "## All of 2020"
   ]
  },
  {
   "cell_type": "code",
   "execution_count": 12,
   "id": "e83b1fda-4639-43ff-b2ac-dfff64a6486f",
   "metadata": {},
   "outputs": [
    {
     "name": "stdout",
     "output_type": "stream",
     "text": [
      "(2483,)\n",
      "(3005,)\n"
     ]
    }
   ],
   "source": [
    "contract_company_names = pd.Series(all_contracts.seller_company_name.unique())\n",
    "identity_company_names = pd.Series(all_identities.company_name.unique())\n",
    "print(contract_company_names.shape)\n",
    "print(identity_company_names.shape)"
   ]
  },
  {
   "cell_type": "code",
   "execution_count": 13,
   "id": "d3607dee-e0ae-4137-a322-3a8beb704b5c",
   "metadata": {},
   "outputs": [
    {
     "name": "stdout",
     "output_type": "stream",
     "text": [
      "True     2478\n",
      "False       5\n",
      "dtype: int64\n"
     ]
    },
    {
     "data": {
      "text/plain": [
       "182                  Cayuga Operating Company, LLC\n",
       "1477         Newmont Nevada Energy Investment, LLC\n",
       "1616                Fortistar North Tonawanda Inc.\n",
       "1921    FirstLight Power Resources Management, LLC\n",
       "2467               VESI Pomona Energy Storage Inc.\n",
       "dtype: object"
      ]
     },
     "execution_count": 13,
     "metadata": {},
     "output_type": "execute_result"
    }
   ],
   "source": [
    "is_name_in_both = contract_company_names.isin(identity_company_names)\n",
    "print(is_name_in_both.value_counts())\n",
    "\n",
    "contract_company_names[~is_name_in_both]"
   ]
  },
  {
   "cell_type": "markdown",
   "id": "b49ec29b-85ca-4d37-8f08-11b71b352daf",
   "metadata": {},
   "source": [
    "It looks like there are 5 contracts in 2020 that do not have corresponding identity information. Not too bad?"
   ]
  }
 ],
 "metadata": {
  "kernelspec": {
   "display_name": "Python 3 (ipykernel)",
   "language": "python",
   "name": "python3"
  },
  "language_info": {
   "codemirror_mode": {
    "name": "ipython",
    "version": 3
   },
   "file_extension": ".py",
   "mimetype": "text/x-python",
   "name": "python",
   "nbconvert_exporter": "python",
   "pygments_lexer": "ipython3",
   "version": "3.10.4"
  }
 },
 "nbformat": 4,
 "nbformat_minor": 5
}
